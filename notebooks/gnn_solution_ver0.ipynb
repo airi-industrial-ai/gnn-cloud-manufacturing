{
 "cells": [
  {
   "cell_type": "code",
   "execution_count": 1,
   "id": "d364112f-c2c9-40d8-8267-9a84a62440ef",
   "metadata": {},
   "outputs": [],
   "source": [
    "from gnncloudmanufacturing.data import read_fatahi_dataset\n",
    "from gnncloudmanufacturing.random_solution import random_solve\n",
    "from gnncloudmanufacturing.validation import total_cost_from_graph, check_feasibility, total_cost_from_gamma\n",
    "from gnncloudmanufacturing.utils import delta_from_gamma, graph_from_problem, gamma_from_target, delta_from_gamma\n",
    "from gnncloudmanufacturing.graph_model import GNN\n",
    "\n",
    "import numpy as np\n",
    "from tqdm.auto import trange, tqdm\n",
    "from time import time\n",
    "import pandas as pd"
   ]
  },
  {
   "cell_type": "code",
   "execution_count": 2,
   "id": "f3c51bdf-5a0f-4de3-bd4f-7830d86eda72",
   "metadata": {},
   "outputs": [
    {
     "data": {
      "application/vnd.jupyter.widget-view+json": {
       "model_id": "fbdee79bf0e34f8ca3030b2732046d60",
       "version_major": 2,
       "version_minor": 0
      },
      "text/plain": [
       "  0%|          | 0/18 [00:00<?, ?it/s]"
      ]
     },
     "metadata": {},
     "output_type": "display_data"
    },
    {
     "name": "stdout",
     "output_type": "stream",
     "text": [
      "Problem: 5,10,10-1\n",
      "Problem: 5,10,10-2\n",
      "Problem: 5,10,10-3\n",
      "Problem: 10,10,10-1\n",
      "Problem: 10,10,10-2\n",
      "Problem: 10,10,10-3\n",
      "Problem: 5,10,20-1\n",
      "Problem: 5,10,20-2\n",
      "Problem: 5,10,20-3\n",
      "Problem: 5,20,10-1\n",
      "Problem: 5,20,10-2\n",
      "Problem: 5,20,10-3\n",
      "Problem: 5,20,20-1\n",
      "Problem: 5,20,20-2\n",
      "Problem: 5,20,20-3\n",
      "Problem: 5,5,5-1\n",
      "Problem: 5,5,5-2\n",
      "Problem: 5,5,5-3\n"
     ]
    }
   ],
   "source": [
    "dataset = read_fatahi_dataset('../data/fatahi.xlsx')\n",
    "for problem in dataset:\n",
    "    print(f'Problem: {problem[\"name\"]}')"
   ]
  },
  {
   "cell_type": "code",
   "execution_count": 3,
   "id": "ba96b021-315d-4cc6-9719-50cba5b01a61",
   "metadata": {},
   "outputs": [],
   "source": [
    "model = GNN.load_from_checkpoint(\n",
    "    checkpoint_path=\"gnn_ver0.ckpt\",\n",
    "    ins_dim=1,\n",
    "    ino_dim=12,\n",
    "    out_dim=16,\n",
    "    n_layers=1,\n",
    "    lr=0.001,\n",
    ")"
   ]
  },
  {
   "cell_type": "code",
   "execution_count": 4,
   "id": "3be7d5e5-2890-42f3-88d2-ef43f867807f",
   "metadata": {},
   "outputs": [
    {
     "data": {
      "application/vnd.jupyter.widget-view+json": {
       "model_id": "7847f70b026a41e2bae2c031ccc73d31",
       "version_major": 2,
       "version_minor": 0
      },
      "text/plain": [
       "  0%|          | 0/18 [00:00<?, ?it/s]"
      ]
     },
     "metadata": {},
     "output_type": "display_data"
    }
   ],
   "source": [
    "problem_name = []\n",
    "total_cost = []\n",
    "comp_time = []\n",
    "for problem in tqdm(dataset):\n",
    "    if problem['n_operations'] != 10:\n",
    "        continue\n",
    "    start = time()\n",
    "    total = np.inf\n",
    "    for i in range(10):\n",
    "        graph = graph_from_problem(problem)\n",
    "        pred = model.predict(graph)\n",
    "        gamma = gamma_from_target(pred, graph, problem)\n",
    "        delta = delta_from_gamma(problem, gamma)\n",
    "        check_feasibility(gamma, delta, problem)\n",
    "        _total = total_cost_from_gamma(problem, gamma, delta).item()\n",
    "        if total > _total:\n",
    "            total = _total\n",
    "    total_cost.append(total)\n",
    "    problem_name.append(problem['name'])\n",
    "    comp_time.append(time() - start)"
   ]
  },
  {
   "cell_type": "code",
   "execution_count": 7,
   "id": "3a0d9cf9-01e2-4ae3-9a3e-281c89f11952",
   "metadata": {},
   "outputs": [
    {
     "data": {
      "text/html": [
       "<div>\n",
       "<style scoped>\n",
       "    .dataframe tbody tr th:only-of-type {\n",
       "        vertical-align: middle;\n",
       "    }\n",
       "\n",
       "    .dataframe tbody tr th {\n",
       "        vertical-align: top;\n",
       "    }\n",
       "\n",
       "    .dataframe thead th {\n",
       "        text-align: right;\n",
       "    }\n",
       "</style>\n",
       "<table border=\"1\" class=\"dataframe\">\n",
       "  <thead>\n",
       "    <tr style=\"text-align: right;\">\n",
       "      <th></th>\n",
       "      <th>problem_name</th>\n",
       "      <th>total_cost</th>\n",
       "      <th>comp_time</th>\n",
       "    </tr>\n",
       "  </thead>\n",
       "  <tbody>\n",
       "    <tr>\n",
       "      <th>0</th>\n",
       "      <td>5,10,10-1</td>\n",
       "      <td>13024.02</td>\n",
       "      <td>0.93</td>\n",
       "    </tr>\n",
       "    <tr>\n",
       "      <th>1</th>\n",
       "      <td>5,10,10-2</td>\n",
       "      <td>19176.68</td>\n",
       "      <td>0.77</td>\n",
       "    </tr>\n",
       "    <tr>\n",
       "      <th>2</th>\n",
       "      <td>5,10,10-3</td>\n",
       "      <td>24126.72</td>\n",
       "      <td>0.79</td>\n",
       "    </tr>\n",
       "    <tr>\n",
       "      <th>3</th>\n",
       "      <td>10,10,10-1</td>\n",
       "      <td>38551.73</td>\n",
       "      <td>1.09</td>\n",
       "    </tr>\n",
       "    <tr>\n",
       "      <th>4</th>\n",
       "      <td>10,10,10-2</td>\n",
       "      <td>42619.50</td>\n",
       "      <td>1.12</td>\n",
       "    </tr>\n",
       "    <tr>\n",
       "      <th>5</th>\n",
       "      <td>10,10,10-3</td>\n",
       "      <td>44024.86</td>\n",
       "      <td>1.17</td>\n",
       "    </tr>\n",
       "    <tr>\n",
       "      <th>6</th>\n",
       "      <td>5,10,20-1</td>\n",
       "      <td>13038.87</td>\n",
       "      <td>1.67</td>\n",
       "    </tr>\n",
       "    <tr>\n",
       "      <th>7</th>\n",
       "      <td>5,10,20-2</td>\n",
       "      <td>21067.38</td>\n",
       "      <td>1.85</td>\n",
       "    </tr>\n",
       "    <tr>\n",
       "      <th>8</th>\n",
       "      <td>5,10,20-3</td>\n",
       "      <td>21002.83</td>\n",
       "      <td>1.89</td>\n",
       "    </tr>\n",
       "  </tbody>\n",
       "</table>\n",
       "</div>"
      ],
      "text/plain": [
       "  problem_name  total_cost  comp_time\n",
       "0    5,10,10-1    13024.02       0.93\n",
       "1    5,10,10-2    19176.68       0.77\n",
       "2    5,10,10-3    24126.72       0.79\n",
       "3   10,10,10-1    38551.73       1.09\n",
       "4   10,10,10-2    42619.50       1.12\n",
       "5   10,10,10-3    44024.86       1.17\n",
       "6    5,10,20-1    13038.87       1.67\n",
       "7    5,10,20-2    21067.38       1.85\n",
       "8    5,10,20-3    21002.83       1.89"
      ]
     },
     "execution_count": 7,
     "metadata": {},
     "output_type": "execute_result"
    }
   ],
   "source": [
    "pd.DataFrame({'problem_name': problem_name, 'total_cost': total_cost, 'comp_time': comp_time}).round(2)"
   ]
  },
  {
   "cell_type": "code",
   "execution_count": null,
   "id": "d8bbc4db-f7e1-426c-9563-7a7f1705ec01",
   "metadata": {},
   "outputs": [],
   "source": []
  }
 ],
 "metadata": {
  "kernelspec": {
   "display_name": "Python 3 (ipykernel)",
   "language": "python",
   "name": "python3"
  },
  "language_info": {
   "codemirror_mode": {
    "name": "ipython",
    "version": 3
   },
   "file_extension": ".py",
   "mimetype": "text/x-python",
   "name": "python",
   "nbconvert_exporter": "python",
   "pygments_lexer": "ipython3",
   "version": "3.10.14"
  }
 },
 "nbformat": 4,
 "nbformat_minor": 5
}
