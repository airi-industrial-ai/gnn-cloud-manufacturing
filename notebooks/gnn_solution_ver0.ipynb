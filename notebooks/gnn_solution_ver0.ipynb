{
 "cells": [
  {
   "cell_type": "code",
   "execution_count": 1,
   "id": "330c5dc1",
   "metadata": {},
   "outputs": [],
   "source": [
    "from gnncloudmanufacturing.data import read_fatahi_dataset\n",
    "from gnncloudmanufacturing.random_solution import random_solve\n",
    "from gnncloudmanufacturing.validation import total_cost_from_graph, check_feasibility, total_cost_from_gamma\n",
    "from gnncloudmanufacturing.utils import delta_from_gamma, graph_from_problem, gamma_from_target, delta_from_gamma\n",
    "from gnncloudmanufacturing.graph_model import GNN, os_type, ss_type\n",
    "\n",
    "import numpy as np\n",
    "from tqdm.auto import trange, tqdm\n",
    "from time import time\n",
    "import pandas as pd\n",
    "import torch"
   ]
  },
  {
   "cell_type": "code",
   "execution_count": 2,
   "id": "4a2b8b5b",
   "metadata": {},
   "outputs": [
    {
     "data": {
      "application/vnd.jupyter.widget-view+json": {
       "model_id": "34f0f6353742415c820a66a349c552fa",
       "version_major": 2,
       "version_minor": 0
      },
      "text/plain": [
       "  0%|          | 0/18 [00:00<?, ?it/s]"
      ]
     },
     "metadata": {},
     "output_type": "display_data"
    },
    {
     "name": "stdout",
     "output_type": "stream",
     "text": [
      "Problem: 5,10,10-1\n",
      "Problem: 5,10,10-2\n",
      "Problem: 5,10,10-3\n",
      "Problem: 10,10,10-1\n",
      "Problem: 10,10,10-2\n",
      "Problem: 10,10,10-3\n",
      "Problem: 5,10,20-1\n",
      "Problem: 5,10,20-2\n",
      "Problem: 5,10,20-3\n",
      "Problem: 5,20,10-1\n",
      "Problem: 5,20,10-2\n",
      "Problem: 5,20,10-3\n",
      "Problem: 5,20,20-1\n",
      "Problem: 5,20,20-2\n",
      "Problem: 5,20,20-3\n",
      "Problem: 5,5,5-1\n",
      "Problem: 5,5,5-2\n",
      "Problem: 5,5,5-3\n"
     ]
    }
   ],
   "source": [
    "dataset = read_fatahi_dataset('../data/fatahi.xlsx')\n",
    "for problem in dataset:\n",
    "    print(f'Problem: {problem[\"name\"]}')"
   ]
  },
  {
   "cell_type": "code",
   "execution_count": 14,
   "id": "651596d0",
   "metadata": {},
   "outputs": [],
   "source": [
    "max_operations = 20\n",
    "model = GNN.load_from_checkpoint(\n",
    "    checkpoint_path=\"gnn_ver0.ckpt\",\n",
    "    ins_dim=1,\n",
    "    ino_dim=max_operations,\n",
    "    out_dim=16,\n",
    "    n_layers=2,\n",
    "    lr=0.001,\n",
    ")"
   ]
  },
  {
   "cell_type": "code",
   "execution_count": 15,
   "id": "be501558",
   "metadata": {},
   "outputs": [
    {
     "data": {
      "application/vnd.jupyter.widget-view+json": {
       "model_id": "f1758f05ca654c86a16de295ef2be384",
       "version_major": 2,
       "version_minor": 0
      },
      "text/plain": [
       "  0%|          | 0/18 [00:00<?, ?it/s]"
      ]
     },
     "metadata": {},
     "output_type": "display_data"
    }
   ],
   "source": [
    "problem_name = []\n",
    "total_cost = []\n",
    "comp_time = []\n",
    "for problem in tqdm(dataset):\n",
    "    start = time()\n",
    "    total = np.inf\n",
    "    for i in range(5):\n",
    "        graph = graph_from_problem(problem, max_operations=max_operations)\n",
    "        graph.edata['feat'][os_type][:, 0] /= 10\n",
    "        graph.edata['feat'][ss_type][:] /= 100\n",
    "        pred = model.predict(graph)\n",
    "        gamma = gamma_from_target(pred, graph, problem)\n",
    "        delta = delta_from_gamma(problem, gamma)\n",
    "        check_feasibility(gamma, delta, problem)\n",
    "        _total = total_cost_from_gamma(problem, gamma, delta).item()\n",
    "        if total > _total:\n",
    "            total = _total\n",
    "    total_cost.append(total)\n",
    "    problem_name.append(problem['name'])\n",
    "    comp_time.append(time() - start)"
   ]
  },
  {
   "cell_type": "code",
   "execution_count": 16,
   "id": "8c91b4dc",
   "metadata": {},
   "outputs": [
    {
     "data": {
      "text/html": [
       "<div>\n",
       "<style scoped>\n",
       "    .dataframe tbody tr th:only-of-type {\n",
       "        vertical-align: middle;\n",
       "    }\n",
       "\n",
       "    .dataframe tbody tr th {\n",
       "        vertical-align: top;\n",
       "    }\n",
       "\n",
       "    .dataframe thead th {\n",
       "        text-align: right;\n",
       "    }\n",
       "</style>\n",
       "<table border=\"1\" class=\"dataframe\">\n",
       "  <thead>\n",
       "    <tr style=\"text-align: right;\">\n",
       "      <th></th>\n",
       "      <th>problem_name</th>\n",
       "      <th>total_cost</th>\n",
       "      <th>comp_time</th>\n",
       "    </tr>\n",
       "  </thead>\n",
       "  <tbody>\n",
       "    <tr>\n",
       "      <th>0</th>\n",
       "      <td>5,10,10-1</td>\n",
       "      <td>5086.08</td>\n",
       "      <td>0.12</td>\n",
       "    </tr>\n",
       "    <tr>\n",
       "      <th>1</th>\n",
       "      <td>5,10,10-2</td>\n",
       "      <td>8814.99</td>\n",
       "      <td>0.09</td>\n",
       "    </tr>\n",
       "    <tr>\n",
       "      <th>2</th>\n",
       "      <td>5,10,10-3</td>\n",
       "      <td>9807.67</td>\n",
       "      <td>0.08</td>\n",
       "    </tr>\n",
       "    <tr>\n",
       "      <th>3</th>\n",
       "      <td>10,10,10-1</td>\n",
       "      <td>15853.54</td>\n",
       "      <td>0.12</td>\n",
       "    </tr>\n",
       "    <tr>\n",
       "      <th>4</th>\n",
       "      <td>10,10,10-2</td>\n",
       "      <td>17028.23</td>\n",
       "      <td>0.12</td>\n",
       "    </tr>\n",
       "    <tr>\n",
       "      <th>5</th>\n",
       "      <td>10,10,10-3</td>\n",
       "      <td>16682.86</td>\n",
       "      <td>0.13</td>\n",
       "    </tr>\n",
       "    <tr>\n",
       "      <th>6</th>\n",
       "      <td>5,10,20-1</td>\n",
       "      <td>6091.27</td>\n",
       "      <td>0.19</td>\n",
       "    </tr>\n",
       "    <tr>\n",
       "      <th>7</th>\n",
       "      <td>5,10,20-2</td>\n",
       "      <td>9019.25</td>\n",
       "      <td>0.20</td>\n",
       "    </tr>\n",
       "    <tr>\n",
       "      <th>8</th>\n",
       "      <td>5,10,20-3</td>\n",
       "      <td>9452.16</td>\n",
       "      <td>0.25</td>\n",
       "    </tr>\n",
       "    <tr>\n",
       "      <th>9</th>\n",
       "      <td>5,20,10-1</td>\n",
       "      <td>20492.35</td>\n",
       "      <td>0.13</td>\n",
       "    </tr>\n",
       "    <tr>\n",
       "      <th>10</th>\n",
       "      <td>5,20,10-2</td>\n",
       "      <td>20264.92</td>\n",
       "      <td>0.13</td>\n",
       "    </tr>\n",
       "    <tr>\n",
       "      <th>11</th>\n",
       "      <td>5,20,10-3</td>\n",
       "      <td>21359.68</td>\n",
       "      <td>0.13</td>\n",
       "    </tr>\n",
       "    <tr>\n",
       "      <th>12</th>\n",
       "      <td>5,20,20-1</td>\n",
       "      <td>18368.34</td>\n",
       "      <td>0.37</td>\n",
       "    </tr>\n",
       "    <tr>\n",
       "      <th>13</th>\n",
       "      <td>5,20,20-2</td>\n",
       "      <td>20013.86</td>\n",
       "      <td>0.39</td>\n",
       "    </tr>\n",
       "    <tr>\n",
       "      <th>14</th>\n",
       "      <td>5,20,20-3</td>\n",
       "      <td>22251.25</td>\n",
       "      <td>0.40</td>\n",
       "    </tr>\n",
       "    <tr>\n",
       "      <th>15</th>\n",
       "      <td>5,5,5-1</td>\n",
       "      <td>3058.96</td>\n",
       "      <td>0.04</td>\n",
       "    </tr>\n",
       "    <tr>\n",
       "      <th>16</th>\n",
       "      <td>5,5,5-2</td>\n",
       "      <td>7550.43</td>\n",
       "      <td>0.04</td>\n",
       "    </tr>\n",
       "    <tr>\n",
       "      <th>17</th>\n",
       "      <td>5,5,5-3</td>\n",
       "      <td>8611.76</td>\n",
       "      <td>0.04</td>\n",
       "    </tr>\n",
       "  </tbody>\n",
       "</table>\n",
       "</div>"
      ],
      "text/plain": [
       "   problem_name  total_cost  comp_time\n",
       "0     5,10,10-1     5086.08       0.12\n",
       "1     5,10,10-2     8814.99       0.09\n",
       "2     5,10,10-3     9807.67       0.08\n",
       "3    10,10,10-1    15853.54       0.12\n",
       "4    10,10,10-2    17028.23       0.12\n",
       "5    10,10,10-3    16682.86       0.13\n",
       "6     5,10,20-1     6091.27       0.19\n",
       "7     5,10,20-2     9019.25       0.20\n",
       "8     5,10,20-3     9452.16       0.25\n",
       "9     5,20,10-1    20492.35       0.13\n",
       "10    5,20,10-2    20264.92       0.13\n",
       "11    5,20,10-3    21359.68       0.13\n",
       "12    5,20,20-1    18368.34       0.37\n",
       "13    5,20,20-2    20013.86       0.39\n",
       "14    5,20,20-3    22251.25       0.40\n",
       "15      5,5,5-1     3058.96       0.04\n",
       "16      5,5,5-2     7550.43       0.04\n",
       "17      5,5,5-3     8611.76       0.04"
      ]
     },
     "execution_count": 16,
     "metadata": {},
     "output_type": "execute_result"
    }
   ],
   "source": [
    "pd.DataFrame({'problem_name': problem_name, 'total_cost': total_cost, 'comp_time': comp_time}).round(2)"
   ]
  },
  {
   "cell_type": "code",
   "execution_count": null,
   "id": "4a96f16a",
   "metadata": {},
   "outputs": [],
   "source": []
  }
 ],
 "metadata": {
  "kernelspec": {
   "display_name": "Python 3 (ipykernel)",
   "language": "python",
   "name": "python3"
  },
  "language_info": {
   "codemirror_mode": {
    "name": "ipython",
    "version": 3
   },
   "file_extension": ".py",
   "mimetype": "text/x-python",
   "name": "python",
   "nbconvert_exporter": "python",
   "pygments_lexer": "ipython3",
   "version": "3.10.14"
  }
 },
 "nbformat": 4,
 "nbformat_minor": 5
}
