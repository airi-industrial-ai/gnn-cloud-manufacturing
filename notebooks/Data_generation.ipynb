{
 "cells": [
  {
   "cell_type": "code",
   "execution_count": null,
   "id": "6d34da27",
   "metadata": {},
   "outputs": [],
   "source": [
    "import numpy as np\n",
    "import matplotlib.pyplot as plt\n",
    "import random\n",
    "import openpyxl\n",
    "import os\n",
    "from cloudmanufacturing.data import create_distance_matrix\n",
    "from cloudmanufacturing.data import create_excel_table\n",
    "from cloudmanufacturing.data import solve_excel\n",
    "from cloudmanufacturing.data import read_fatahi_dataset\n",
    "from cloudmanufacturing.mip_solver import mip_solve\n",
    "from cloudmanufacturing.validation import objvalue, construct_delta\n",
    "from cloudmanufacturing.graph import dglgraph_fixed, graph_gamma, os_type, ss_type, so_type, calculate_optimal\n",
    "import logging\n",
    "import pickle"
   ]
  },
  {
   "cell_type": "markdown",
   "id": "8ce89f03",
   "metadata": {},
   "source": [
    "## Генерация тренировочных данных"
   ]
  },
  {
   "cell_type": "markdown",
   "id": "d7a07bb2",
   "metadata": {},
   "source": [
    "### Для генерации данных нужно задать количество задач N в ячейке ниже\n",
    " \n",
    "Число городов, задачи и подзадач берутся из диапазона 3-25"
   ]
  },
  {
   "cell_type": "code",
   "execution_count": null,
   "id": "97243228",
   "metadata": {},
   "outputs": [],
   "source": [
    "# лучше брать больше 80\n",
    "N = 1000\n",
    "stop_count = 100"
   ]
  },
  {
   "cell_type": "code",
   "execution_count": null,
   "id": "cbf66307",
   "metadata": {},
   "outputs": [],
   "source": [
    "# для логирования\n",
    "logger = logging.getLogger(\"../data/TrainDataGeneration\")\n",
    "logger.setLevel(logging.INFO)\n",
    "\n",
    "# create the logging file handler\n",
    "fh = logging.FileHandler(\"../data/TrainDataGeneration.log\")\n",
    "\n",
    "formatter = logging.Formatter('%(asctime)s - %(name)s - %(levelname)s - %(message)s')\n",
    "fh.setFormatter(formatter)\n",
    "\n",
    "# add handler to logger object\n",
    "logger.addHandler(fh)\n",
    "sheets = []\n",
    "try:\n",
    "    \n",
    "\ttrios = []\n",
    "\tfor i in range(N):\n",
    "\t\ttrios.append(tuple((random.randint(3,25),random.randint(3,25),random.randint(3,25))))\n",
    "\ttrios.sort()\n",
    "\n",
    "\tfile_path = '../data/train_data.xlsx'\n",
    "\twb = openpyxl.Workbook()\n",
    "\twb.save(file_path)\n",
    "    \n",
    "    \n",
    "\tfor n_operations, n_suboperations, n_cities in trios:\n",
    "\t\tsheets.append(create_excel_table(n_operations, n_suboperations, n_cities, n_problem=1, filepath=file_path ))\n",
    "\tlogger.info(f\"Created {len(sheets)} train tasks and saved in excel table\") \n",
    " \n",
    "except:\n",
    "\tlogger.exception(\"Train tasks not created\")\n"
   ]
  },
  {
   "cell_type": "markdown",
   "id": "d8e56248",
   "metadata": {},
   "source": [
    "## Расчет оптимальных решений на тренировочных данных\n",
    "\n",
    "В результате будет созданы файлы в папке data:\n",
    "\n",
    "  1. Логи - TrainDataGeneration.log\n",
    "  2. Сгенерированный данные в формате fatahi - train_data.xlsx\n",
    "  3. Решения в том числе неоптимальные - train_data_solved.xlsx\n",
    "  4. Бинарный файл с DGL графами для оптимальеных решений - train_data_solve.pickle\n",
    "  5. Бинарный файл с названиями листов - train_data_sheet_names.pickle\n",
    "  6. Тренировочные данные в формате fatahi, включающие те данных, для которых найдены оптимальные решения-  train_data_OPTIMAL.xlsx"
   ]
  },
  {
   "cell_type": "code",
   "execution_count": null,
   "id": "fa43cf94",
   "metadata": {},
   "outputs": [],
   "source": [
    "train_pth = '../data/train_data.xlsx'\n",
    "train_dataset = read_fatahi_dataset(train_pth, sheets)"
   ]
  },
  {
   "cell_type": "code",
   "execution_count": null,
   "id": "6d6e9810",
   "metadata": {},
   "outputs": [],
   "source": [
    "try:\n",
    "\tlogger.info('Start calculating train dataset')\n",
    "\tcalculate_optimal(train_pth, logger, train_dataset, os_type, ss_type,stop_count)\n",
    "   \t \n",
    "except:\n",
    "\tlogger.exception(\"Failed data solving\")"
   ]
  },
  {
   "cell_type": "code",
   "execution_count": null,
   "id": "4436aac7",
   "metadata": {},
   "outputs": [],
   "source": [
    "fatahi_pth = '../data/fatahi.xlsx'\n",
    "dataset_fatahi = read_fatahi_dataset(fatahi_pth)"
   ]
  },
  {
   "cell_type": "code",
   "execution_count": null,
   "id": "e81c242c",
   "metadata": {},
   "outputs": [],
   "source": [
    "try:\n",
    "\tlogger.info('Start calculating fatahi dataset')\n",
    "\tcalculate_optimal(fatahi_pth, logger, dataset_fatahi, os_type, ss_type)\n",
    "\tlogger.info('End fatahi dataset')\n",
    "except:\n",
    "\tlogger.exception(\"Failed fatahi data solving\")"
   ]
  }
 ],
 "metadata": {
  "kernelspec": {
   "display_name": "Python 3 (ipykernel)",
   "language": "python",
   "name": "python3"
  },
  "language_info": {
   "codemirror_mode": {
    "name": "ipython",
    "version": 3
   },
   "file_extension": ".py",
   "mimetype": "text/x-python",
   "name": "python",
   "nbconvert_exporter": "python",
   "pygments_lexer": "ipython3",
   "version": "3.10.0"
  }
 },
 "nbformat": 4,
 "nbformat_minor": 5
}
