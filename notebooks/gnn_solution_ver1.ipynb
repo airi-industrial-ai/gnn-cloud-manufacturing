{
 "cells": [
  {
   "cell_type": "code",
   "execution_count": 1,
   "id": "aeb1a525",
   "metadata": {},
   "outputs": [],
   "source": [
    "from gnncloudmanufacturing.data import read_fatahi_dataset\n",
    "from gnncloudmanufacturing.random_solution import random_solve\n",
    "from gnncloudmanufacturing.validation import total_cost_from_graph, check_feasibility, total_cost_from_gamma\n",
    "from gnncloudmanufacturing.utils import delta_from_gamma, graph_from_problem, gamma_from_target, delta_from_gamma\n",
    "from gnncloudmanufacturing.graph_model import GNN, os_type, ss_type\n",
    "\n",
    "import numpy as np\n",
    "from tqdm.auto import trange, tqdm\n",
    "from time import time\n",
    "import pandas as pd\n",
    "import torch"
   ]
  },
  {
   "cell_type": "code",
   "execution_count": 2,
   "id": "c40f822a",
   "metadata": {},
   "outputs": [
    {
     "data": {
      "application/vnd.jupyter.widget-view+json": {
       "model_id": "6abae36b79564794acae2054c0630af7",
       "version_major": 2,
       "version_minor": 0
      },
      "text/plain": [
       "  0%|          | 0/18 [00:00<?, ?it/s]"
      ]
     },
     "metadata": {},
     "output_type": "display_data"
    },
    {
     "name": "stdout",
     "output_type": "stream",
     "text": [
      "Problem: 5,10,10-1\n",
      "Problem: 5,10,10-2\n",
      "Problem: 5,10,10-3\n",
      "Problem: 10,10,10-1\n",
      "Problem: 10,10,10-2\n",
      "Problem: 10,10,10-3\n",
      "Problem: 5,10,20-1\n",
      "Problem: 5,10,20-2\n",
      "Problem: 5,10,20-3\n",
      "Problem: 5,20,10-1\n",
      "Problem: 5,20,10-2\n",
      "Problem: 5,20,10-3\n",
      "Problem: 5,20,20-1\n",
      "Problem: 5,20,20-2\n",
      "Problem: 5,20,20-3\n",
      "Problem: 5,5,5-1\n",
      "Problem: 5,5,5-2\n",
      "Problem: 5,5,5-3\n"
     ]
    }
   ],
   "source": [
    "dataset = read_fatahi_dataset('../data/fatahi.xlsx')\n",
    "for problem in dataset:\n",
    "    print(f'Problem: {problem[\"name\"]}')"
   ]
  },
  {
   "cell_type": "code",
   "execution_count": 14,
   "id": "bda0ae4d",
   "metadata": {},
   "outputs": [
    {
     "data": {
      "text/plain": [
       "GNN(\n",
       "  (convs): ModuleList(\n",
       "    (0): AttnConvLayer(\n",
       "      (W_s): Linear(in_features=1, out_features=32, bias=True)\n",
       "      (W_os): Linear(in_features=4, out_features=32, bias=True)\n",
       "      (W_ss): Linear(in_features=2, out_features=32, bias=True)\n",
       "      (attn): Linear(in_features=64, out_features=1, bias=True)\n",
       "      (W_in): Linear(in_features=2, out_features=32, bias=True)\n",
       "      (W_self): Linear(in_features=2, out_features=32, bias=True)\n",
       "      (W_out): Linear(in_features=2, out_features=32, bias=True)\n",
       "      (W_o): Linear(in_features=96, out_features=32, bias=True)\n",
       "    )\n",
       "    (1-2): 2 x AttnConvLayer(\n",
       "      (W_s): Linear(in_features=32, out_features=32, bias=True)\n",
       "      (W_os): Linear(in_features=34, out_features=32, bias=True)\n",
       "      (W_ss): Linear(in_features=33, out_features=32, bias=True)\n",
       "      (attn): Linear(in_features=64, out_features=1, bias=True)\n",
       "      (W_in): Linear(in_features=32, out_features=32, bias=True)\n",
       "      (W_self): Linear(in_features=32, out_features=32, bias=True)\n",
       "      (W_out): Linear(in_features=32, out_features=32, bias=True)\n",
       "      (W_o): Linear(in_features=96, out_features=32, bias=True)\n",
       "    )\n",
       "  )\n",
       "  (dec): DotProductDecoder()\n",
       ")"
      ]
     },
     "execution_count": 14,
     "metadata": {},
     "output_type": "execute_result"
    }
   ],
   "source": [
    "model = GNN.load_from_checkpoint(\n",
    "    checkpoint_path=\"gnn_ver1.ckpt\",\n",
    "    ins_dim=1,\n",
    "    ino_dim=2,\n",
    "    out_dim=32,\n",
    "    n_layers=3,\n",
    "    lr=0.001,\n",
    ")\n",
    "model.eval()"
   ]
  },
  {
   "cell_type": "code",
   "execution_count": 15,
   "id": "b28e7e31",
   "metadata": {},
   "outputs": [
    {
     "data": {
      "application/vnd.jupyter.widget-view+json": {
       "model_id": "d59b9309f3a340a79bd14b516a2369bf",
       "version_major": 2,
       "version_minor": 0
      },
      "text/plain": [
       "  0%|          | 0/18 [00:00<?, ?it/s]"
      ]
     },
     "metadata": {},
     "output_type": "display_data"
    }
   ],
   "source": [
    "problem_name = []\n",
    "total_cost = []\n",
    "comp_time = []\n",
    "for problem in tqdm(dataset):\n",
    "    start = time()\n",
    "    total = np.inf\n",
    "    for i in range(5):\n",
    "        graph = graph_from_problem(problem)\n",
    "        graph.edata['feat'][os_type][:, 0] /= 10\n",
    "        graph.edata['feat'][ss_type][:] /= 100\n",
    "        pred = model.predict(graph)\n",
    "        gamma = gamma_from_target(pred, graph, problem)\n",
    "        delta = delta_from_gamma(problem, gamma)\n",
    "        check_feasibility(gamma, delta, problem)\n",
    "        _total = total_cost_from_gamma(problem, gamma, delta).item()\n",
    "        if total > _total:\n",
    "            total = _total\n",
    "    total_cost.append(total)\n",
    "    problem_name.append(problem['name'])\n",
    "    comp_time.append(time() - start)"
   ]
  },
  {
   "cell_type": "code",
   "execution_count": 16,
   "id": "1a9d1983",
   "metadata": {},
   "outputs": [
    {
     "data": {
      "text/html": [
       "<div>\n",
       "<style scoped>\n",
       "    .dataframe tbody tr th:only-of-type {\n",
       "        vertical-align: middle;\n",
       "    }\n",
       "\n",
       "    .dataframe tbody tr th {\n",
       "        vertical-align: top;\n",
       "    }\n",
       "\n",
       "    .dataframe thead th {\n",
       "        text-align: right;\n",
       "    }\n",
       "</style>\n",
       "<table border=\"1\" class=\"dataframe\">\n",
       "  <thead>\n",
       "    <tr style=\"text-align: right;\">\n",
       "      <th></th>\n",
       "      <th>problem_name</th>\n",
       "      <th>total_cost</th>\n",
       "      <th>comp_time</th>\n",
       "    </tr>\n",
       "  </thead>\n",
       "  <tbody>\n",
       "    <tr>\n",
       "      <th>0</th>\n",
       "      <td>5,10,10-1</td>\n",
       "      <td>5086.08</td>\n",
       "      <td>0.12</td>\n",
       "    </tr>\n",
       "    <tr>\n",
       "      <th>1</th>\n",
       "      <td>5,10,10-2</td>\n",
       "      <td>7811.30</td>\n",
       "      <td>0.10</td>\n",
       "    </tr>\n",
       "    <tr>\n",
       "      <th>2</th>\n",
       "      <td>5,10,10-3</td>\n",
       "      <td>8524.73</td>\n",
       "      <td>0.10</td>\n",
       "    </tr>\n",
       "    <tr>\n",
       "      <th>3</th>\n",
       "      <td>10,10,10-1</td>\n",
       "      <td>14467.01</td>\n",
       "      <td>0.28</td>\n",
       "    </tr>\n",
       "    <tr>\n",
       "      <th>4</th>\n",
       "      <td>10,10,10-2</td>\n",
       "      <td>15125.22</td>\n",
       "      <td>0.15</td>\n",
       "    </tr>\n",
       "    <tr>\n",
       "      <th>5</th>\n",
       "      <td>10,10,10-3</td>\n",
       "      <td>16505.96</td>\n",
       "      <td>0.15</td>\n",
       "    </tr>\n",
       "    <tr>\n",
       "      <th>6</th>\n",
       "      <td>5,10,20-1</td>\n",
       "      <td>6668.16</td>\n",
       "      <td>0.21</td>\n",
       "    </tr>\n",
       "    <tr>\n",
       "      <th>7</th>\n",
       "      <td>5,10,20-2</td>\n",
       "      <td>8973.15</td>\n",
       "      <td>0.23</td>\n",
       "    </tr>\n",
       "    <tr>\n",
       "      <th>8</th>\n",
       "      <td>5,10,20-3</td>\n",
       "      <td>11640.24</td>\n",
       "      <td>0.23</td>\n",
       "    </tr>\n",
       "    <tr>\n",
       "      <th>9</th>\n",
       "      <td>5,20,10-1</td>\n",
       "      <td>22500.07</td>\n",
       "      <td>0.15</td>\n",
       "    </tr>\n",
       "    <tr>\n",
       "      <th>10</th>\n",
       "      <td>5,20,10-2</td>\n",
       "      <td>23411.85</td>\n",
       "      <td>0.15</td>\n",
       "    </tr>\n",
       "    <tr>\n",
       "      <th>11</th>\n",
       "      <td>5,20,10-3</td>\n",
       "      <td>24824.51</td>\n",
       "      <td>0.15</td>\n",
       "    </tr>\n",
       "    <tr>\n",
       "      <th>12</th>\n",
       "      <td>5,20,20-1</td>\n",
       "      <td>24538.31</td>\n",
       "      <td>0.42</td>\n",
       "    </tr>\n",
       "    <tr>\n",
       "      <th>13</th>\n",
       "      <td>5,20,20-2</td>\n",
       "      <td>24811.20</td>\n",
       "      <td>0.44</td>\n",
       "    </tr>\n",
       "    <tr>\n",
       "      <th>14</th>\n",
       "      <td>5,20,20-3</td>\n",
       "      <td>27181.18</td>\n",
       "      <td>0.46</td>\n",
       "    </tr>\n",
       "    <tr>\n",
       "      <th>15</th>\n",
       "      <td>5,5,5-1</td>\n",
       "      <td>4361.04</td>\n",
       "      <td>0.06</td>\n",
       "    </tr>\n",
       "    <tr>\n",
       "      <th>16</th>\n",
       "      <td>5,5,5-2</td>\n",
       "      <td>9247.44</td>\n",
       "      <td>0.06</td>\n",
       "    </tr>\n",
       "    <tr>\n",
       "      <th>17</th>\n",
       "      <td>5,5,5-3</td>\n",
       "      <td>11497.46</td>\n",
       "      <td>0.06</td>\n",
       "    </tr>\n",
       "  </tbody>\n",
       "</table>\n",
       "</div>"
      ],
      "text/plain": [
       "   problem_name  total_cost  comp_time\n",
       "0     5,10,10-1     5086.08       0.12\n",
       "1     5,10,10-2     7811.30       0.10\n",
       "2     5,10,10-3     8524.73       0.10\n",
       "3    10,10,10-1    14467.01       0.28\n",
       "4    10,10,10-2    15125.22       0.15\n",
       "5    10,10,10-3    16505.96       0.15\n",
       "6     5,10,20-1     6668.16       0.21\n",
       "7     5,10,20-2     8973.15       0.23\n",
       "8     5,10,20-3    11640.24       0.23\n",
       "9     5,20,10-1    22500.07       0.15\n",
       "10    5,20,10-2    23411.85       0.15\n",
       "11    5,20,10-3    24824.51       0.15\n",
       "12    5,20,20-1    24538.31       0.42\n",
       "13    5,20,20-2    24811.20       0.44\n",
       "14    5,20,20-3    27181.18       0.46\n",
       "15      5,5,5-1     4361.04       0.06\n",
       "16      5,5,5-2     9247.44       0.06\n",
       "17      5,5,5-3    11497.46       0.06"
      ]
     },
     "execution_count": 16,
     "metadata": {},
     "output_type": "execute_result"
    }
   ],
   "source": [
    "pd.DataFrame({'problem_name': problem_name, 'total_cost': total_cost, 'comp_time': comp_time}).round(2)"
   ]
  },
  {
   "cell_type": "code",
   "execution_count": null,
   "id": "34f4b762",
   "metadata": {},
   "outputs": [],
   "source": []
  }
 ],
 "metadata": {
  "kernelspec": {
   "display_name": "Python 3 (ipykernel)",
   "language": "python",
   "name": "python3"
  },
  "language_info": {
   "codemirror_mode": {
    "name": "ipython",
    "version": 3
   },
   "file_extension": ".py",
   "mimetype": "text/x-python",
   "name": "python",
   "nbconvert_exporter": "python",
   "pygments_lexer": "ipython3",
   "version": "3.10.14"
  }
 },
 "nbformat": 4,
 "nbformat_minor": 5
}
