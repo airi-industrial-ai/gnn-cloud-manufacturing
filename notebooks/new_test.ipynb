{
 "cells": [
  {
   "cell_type": "code",
   "execution_count": 146,
   "id": "d08e4a93",
   "metadata": {
    "metadata": {}
   },
   "outputs": [
    {
     "data": {
      "text/plain": [
       "device(type='cpu')"
      ]
     },
     "execution_count": 146,
     "metadata": {},
     "output_type": "execute_result"
    }
   ],
   "source": [
    "import matplotlib.pyplot as plt\n",
    "import numpy as np\n",
    "import torch\n",
    "import re\n",
    "import torch.nn.functional as F\n",
    "from torch.optim import Adam\n",
    "from tqdm.auto import trange\n",
    "import torch.nn as nn\n",
    "from glob import glob\n",
    "from torch.utils.data import Dataset, DataLoader\n",
    "from sklearn.model_selection import train_test_split\n",
    "from dgl.dataloading import GraphDataLoader\n",
    "\n",
    "from cloudmanufacturing.data import read_fatahi_dataset\n",
    "from cloudmanufacturing.graph import dglgraph, graph_gamma, os_type, so_type, ss_type\n",
    "from cloudmanufacturing.graphconv import GNN\n",
    "from cloudmanufacturing.solvers.mip_solver import mip_solve\n",
    "from cloudmanufacturing.validation import construct_delta, objvalue, construct_delta2\n",
    "\n",
    "device = torch.device('cuda' if torch.cuda.is_available() else 'cpu')\n",
    "device"
   ]
  },
  {
   "cell_type": "code",
   "execution_count": 147,
   "id": "ca03e536",
   "metadata": {
    "metadata": {}
   },
   "outputs": [
    {
     "data": {
      "application/vnd.jupyter.widget-view+json": {
       "model_id": "4e0b2c1065b4441681365278ad035061",
       "version_major": 2,
       "version_minor": 0
      },
      "text/plain": [
       "  0%|          | 0/18 [00:00<?, ?it/s]"
      ]
     },
     "metadata": {},
     "output_type": "display_data"
    }
   ],
   "source": [
    "dataset = read_fatahi_dataset(\"../data/fatahi.xlsx\")"
   ]
  },
  {
   "cell_type": "code",
   "execution_count": 148,
   "id": "513ec52a",
   "metadata": {},
   "outputs": [],
   "source": [
    "def dglgraph_fixed(graph, oper_max=20):\n",
    "        ncolumns = graph.ndata['feat']['o'].shape[1]\n",
    "        graph.ndata['feat'] = {'o': F.pad(graph.ndata['feat']['o'], [0, oper_max - ncolumns])}\n",
    "        return graph"
   ]
  },
  {
   "cell_type": "code",
   "execution_count": 149,
   "id": "5c88788b",
   "metadata": {},
   "outputs": [],
   "source": [
    "class GraphDataset(Dataset):\n",
    "    def __init__(self, problems, gammas, deltas):\n",
    "        self.problems = problems\n",
    "        self.gammas = gammas\n",
    "        self.deltas = deltas\n",
    "\n",
    "    def __len__(self):\n",
    "        return len(self.problems)\n",
    "\n",
    "    def __getitem__(self, idx):\n",
    "        problem = self.problems[idx]\n",
    "        gamma = self.gammas[idx]\n",
    "        delta = self.deltas[idx]\n",
    "\n",
    "        graph = dglgraph(problem, gamma, delta).to(device)\n",
    "        graph = dglgraph_fixed(graph)\n",
    "        # graph.edata[\"feat\"][os_type][:, 0] /= 10\n",
    "        # graph.edata[\"feat\"][ss_type] /= 100\n",
    "        return graph"
   ]
  },
  {
   "cell_type": "code",
   "execution_count": 150,
   "id": "70891ddf",
   "metadata": {},
   "outputs": [],
   "source": [
    "def parse_idx(string):\n",
    "    number = re.search(r'\\d+', string).group()\n",
    "    return int(number)\n",
    "\n",
    "solved_indexes = np.unique([parse_idx(l) for l in glob('solutions/*')])"
   ]
  },
  {
   "cell_type": "code",
   "execution_count": 151,
   "id": "b461a20d",
   "metadata": {},
   "outputs": [],
   "source": [
    "info = {}\n",
    "for idx in solved_indexes:\n",
    "    if f'solutions/gamma_{idx}.npy' in glob('solutions/*'):\n",
    "        info[idx] = {}\n",
    "        info[idx]['gamma'] = np.load(f'solutions/gamma_{idx}.npy')\n",
    "        info[idx]['delta'] = np.load(f'solutions/delta_{idx}.npy')"
   ]
  },
  {
   "cell_type": "code",
   "execution_count": 178,
   "id": "5d4eb378",
   "metadata": {},
   "outputs": [],
   "source": [
    "train_idx, test_idx = train_test_split(solved_indexes,\n",
    "                                       random_state=42,train_size=0.7)"
   ]
  },
  {
   "cell_type": "code",
   "execution_count": 179,
   "id": "afd8f1ee",
   "metadata": {},
   "outputs": [],
   "source": [
    "train_dataset = GraphDataset([dataset[i] for i in train_idx],\n",
    "                             [info[i]['gamma'] for i in train_idx],\n",
    "                             [info[i]['delta'] for i in train_idx])\n",
    "\n",
    "test_dataset = GraphDataset([dataset[i] for i in test_idx],\n",
    "                            [info[i]['gamma'] for i in test_idx],\n",
    "                            [info[i]['delta'] for i in test_idx])"
   ]
  },
  {
   "cell_type": "code",
   "execution_count": 259,
   "id": "3268af1f",
   "metadata": {},
   "outputs": [],
   "source": [
    "train_loader = GraphDataLoader(train_dataset, batch_size=2, shuffle=True)\n",
    "test_loader = GraphDataLoader(test_dataset, batch_size=2, shuffle=True)"
   ]
  },
  {
   "cell_type": "code",
   "execution_count": 260,
   "id": "8aee75b3",
   "metadata": {},
   "outputs": [],
   "source": [
    "def validate_objective(model, dataset):\n",
    "    test_objvalue = []\n",
    "    for i in range(len(dataset.problems)):\n",
    "        pred_gamma, pred_delta = model.predict(dataset.__getitem__(i), dataset.problems[i])\n",
    "        test_objvalue.append(\n",
    "            objvalue(dataset.problems[i], pred_gamma, pred_delta)\n",
    "        )\n",
    "    return np.mean(test_objvalue)"
   ]
  },
  {
   "cell_type": "code",
   "execution_count": 261,
   "id": "bfc09ae1",
   "metadata": {},
   "outputs": [],
   "source": [
    "def plot_loss(losses_info):\n",
    "    keys = [key for key in losses_info.keys() if 'loss' in key]\n",
    "    for key in keys:\n",
    "        plt.plot(losses_info[key], label=key)\n",
    "        print(f'min {key} loss: ', min(losses_info[key]))\n",
    "        plt.legend()\n",
    "    plt.show()\n",
    "\n",
    "def plot_objvalue(losses_info):\n",
    "    keys = [key for key in losses_info.keys() if 'objvalue' in key]\n",
    "    for key in keys:\n",
    "        plt.plot(losses_info[key], label=key)\n",
    "        plt.legend()\n",
    "        print(f'min {key} objvalue: ', min(losses_info[key]))\n",
    "    plt.show()\n",
    "\n",
    "def print_info(info):\n",
    "    plot_loss(info)\n",
    "    plot_objvalue(info)"
   ]
  },
  {
   "cell_type": "code",
   "execution_count": 262,
   "id": "fe22071a",
   "metadata": {},
   "outputs": [],
   "source": [
    "import dgl.function as fn\n",
    "from dgl.sampling import sample_neighbors\n",
    "import torch\n",
    "import torch.nn as nn\n",
    "from torch.nn import functional as F\n",
    "from cloudmanufacturing.graph import ss_type, os_type, so_type\n",
    "import numpy as np\n",
    "\n",
    "def cat_s_ss(edges):\n",
    "    return {'s_ss': torch.cat([edges.src['s_feat'], edges.data['feat']], dim=1)}\n",
    "\n",
    "def cat_o_os(edges):\n",
    "    return {'o_os': torch.cat([edges.src['o_feat'], edges.data['feat']], dim=1)}\n",
    "\n",
    "def cat_h_os_s(edges):\n",
    "    return {'h_os_s': torch.cat([edges.data['h_os'], edges.dst['h_s']], dim=1)}\n",
    "\n",
    "def cat_h_ss_s(edges):\n",
    "    return {'h_ss_s': torch.cat([edges.data['h_ss'], edges.dst['h_s']], dim=1)}\n",
    "\n",
    "def edge_den_os(nodes):\n",
    "    return {'den_os': torch.sum(torch.exp(nodes.mailbox['e_os']), dim=1)}\n",
    "\n",
    "def edge_den_ss(nodes):\n",
    "    return {'den_ss': torch.sum(torch.exp(nodes.mailbox['e_ss']), dim=1)}\n",
    "\n",
    "def sample_so(graph, logits):\n",
    "    with graph.local_scope():\n",
    "        graph.edata['prob'] = {'so': torch.sigmoid(logits)}\n",
    "        subg = sample_neighbors(\n",
    "            graph, \n",
    "            nodes={'o': graph.nodes('o')}, \n",
    "            fanout={'backward': 0, 'forward': 0, 'os': 0, 'so': 1, 'ss': 0},\n",
    "            prob='prob'\n",
    "        )\n",
    "        return subg.edges(etype='so')\n",
    "\n",
    "class AttnConvLayer(nn.Module):\n",
    "    def __init__(self, s_shape, o_shape,\n",
    "                 os_shape, ss_shape, out_dim):\n",
    "        super().__init__()\n",
    "        self.delta = nn.Linear(out_dim, 10)\n",
    "        self.W_s = nn.Linear(s_shape, out_dim)\n",
    "        self.W_os = nn.Linear(os_shape, out_dim)\n",
    "        self.W_ss = nn.Linear(ss_shape, out_dim)\n",
    "        self.attn = nn.Linear(out_dim * 2, 1)\n",
    "        self.W_in = nn.Linear(o_shape, out_dim)\n",
    "        self.W_self = nn.Linear(o_shape, out_dim)\n",
    "        self.W_out = nn.Linear(o_shape, out_dim)\n",
    "        self.W_o = nn.Linear(out_dim*3, out_dim)\n",
    "\n",
    "    def forward(self, graph, s_feat, o_feat):\n",
    "        with graph.local_scope():\n",
    "            z = self._conv_z(graph, s_feat, o_feat)\n",
    "            x = self._conv_x(graph, o_feat)\n",
    "            delta_logits = self._conv_delta(graph)\n",
    "        return z, x, delta_logits\n",
    "\n",
    "    def _conv_delta(self, graph):\n",
    "        return self.delta(torch.relu(graph.edata['h_ss'][ss_type]))\n",
    "\n",
    "    def _conv_z(self, graph, s_feat, o_feat):\n",
    "        graph.ndata['s_feat'] = {'s': s_feat}\n",
    "        graph.ndata['o_feat'] = {'o': o_feat}\n",
    "\n",
    "        graph.apply_edges(cat_s_ss, etype='ss')\n",
    "        graph.apply_edges(cat_o_os, etype='os')\n",
    "\n",
    "        graph.edata['h_ss'] = {'ss': self.W_ss(graph.edata['s_ss'][ss_type])}\n",
    "        graph.edata['h_os'] = {'os': self.W_os(graph.edata['o_os'][os_type])}\n",
    "        \n",
    "        graph.ndata['h_s'] = {'s': self.W_s(s_feat)}\n",
    "\n",
    "        graph.apply_edges(cat_h_ss_s, etype='ss')\n",
    "        graph.apply_edges(cat_h_os_s, etype='os')\n",
    "\n",
    "        graph.edata['e_ss'] = {'ss': F.leaky_relu(self.attn(graph.edata['h_ss_s'][ss_type]))}\n",
    "        graph.edata['e_os'] = {'os': F.leaky_relu(self.attn(graph.edata['h_os_s'][os_type]))}\n",
    "\n",
    "        graph.multi_update_all({\n",
    "            'os': (fn.copy_e('e_os', 'e_os'), edge_den_os),\n",
    "            'ss': (fn.copy_e('e_ss', 'e_ss'), edge_den_ss),\n",
    "        }, 'sum')\n",
    "\n",
    "        graph.edata['nom_os'] = {'os': torch.exp(graph.edata['e_os'][os_type])}\n",
    "        graph.edata['nom_ss'] = {'ss': torch.exp(graph.edata['e_ss'][ss_type])}\n",
    "\n",
    "        graph.apply_edges(fn.e_div_v('nom_os', 'den_os', 'alpha_os'), etype='os')\n",
    "        graph.apply_edges(fn.e_div_v('nom_ss', 'den_ss', 'alpha_ss'), etype='ss')\n",
    "\n",
    "        graph.edata['alpha_h_ss'] = {'ss': graph.edata['alpha_ss'][ss_type] * graph.edata['h_ss'][ss_type]}\n",
    "        graph.edata['alpha_h_os'] = {'os': graph.edata['alpha_os'][os_type] * graph.edata['h_os'][os_type]}\n",
    "\n",
    "        graph.multi_update_all({\n",
    "            'ss': (fn.copy_e('alpha_h_ss', 'alpha_h_ss'), fn.sum('alpha_h_ss', 'z_ss')),\n",
    "            'os': (fn.copy_e('alpha_h_os', 'alpha_h_os'), fn.sum('alpha_h_os', 'z_os')),\n",
    "        }, 'sum')\n",
    "\n",
    "        z = graph.ndata['z_ss']['s'] + graph.ndata['z_os']['s']\n",
    "        return z\n",
    "\n",
    "    def _conv_x(self, graph, o_feat):\n",
    "        graph.ndata['h_in'] = {'o': self.W_in(o_feat)}\n",
    "        graph.ndata['h_self'] = {'o': self.W_self(o_feat)}\n",
    "        graph.ndata['h_out'] = {'o': self.W_out(o_feat)}\n",
    "\n",
    "        graph.multi_update_all({\n",
    "            'forward': (fn.copy_u('h_in', 'h_in'), fn.sum('h_in', 'h_in')),\n",
    "            'backward': (fn.copy_u('h_out', 'h_out'), fn.sum('h_out', 'h_out')),\n",
    "        }, 'sum')\n",
    "\n",
    "        x = torch.cat([\n",
    "            graph.ndata['h_in']['o'],\n",
    "            graph.ndata['h_self']['o'],\n",
    "            graph.ndata['h_out']['o'],\n",
    "        ], dim=1)\n",
    "\n",
    "        x = self.W_o(torch.relu(x))\n",
    "        return x\n",
    "\n",
    "\n",
    "class DotProductDecoder(nn.Module):\n",
    "    def __init__(self):\n",
    "        super().__init__()\n",
    "    \n",
    "    def forward(self, graph, z, x):\n",
    "        with graph.local_scope():\n",
    "            graph.ndata['z'] = {'s': z}\n",
    "            graph.ndata['x'] = {'o': x}\n",
    "            graph.apply_edges(fn.u_dot_v('z', 'x', 'dot'), etype='so')\n",
    "            logits = graph.edata['dot'][so_type]\n",
    "            return logits\n",
    "\n",
    "class GNN(nn.Module):\n",
    "    def __init__(self,s_shape, o_shape, os_shape,\n",
    "                 ss_shape, out_dim, n_layers):\n",
    "        super().__init__()\n",
    "        os_shape_up = o_shape + os_shape\n",
    "        ss_shape_up = s_shape + ss_shape\n",
    "\n",
    "        convs = [AttnConvLayer(s_shape, o_shape,\n",
    "                               os_shape_up, ss_shape_up, out_dim)]\n",
    "        for _ in range(n_layers-1):\n",
    "            os_shape_up = out_dim + os_shape\n",
    "            ss_shape_up = out_dim + ss_shape\n",
    "\n",
    "            convs.append(AttnConvLayer(out_dim, out_dim,\n",
    "                                       os_shape_up, ss_shape_up, out_dim))\n",
    "        self.convs = nn.ModuleList(convs)\n",
    "        self.dec = DotProductDecoder()\n",
    "\n",
    "    def forward(self, graph):\n",
    "        s_feat = graph.ndata['feat']['s']\n",
    "        o_feat = graph.ndata['feat']['o']\n",
    "        s_hid, o_hid, delta_logits = self.convs[0](graph, s_feat, o_feat)\n",
    "        for conv in self.convs[1:]:\n",
    "            s_hid, o_hid, delta_logits = conv(graph, torch.relu(s_hid), torch.relu(o_hid))\n",
    "        logits = self.dec(graph, s_hid, o_hid)\n",
    "        return logits, delta_logits\n",
    "\n",
    "    def predict(self, graph, problem):\n",
    "        logits, delta_logits = self.forward(graph)\n",
    "        s, o = sample_so(graph, logits)\n",
    "        operation_index = graph.ndata['operation_index']['o'][o]\n",
    "        gamma = np.zeros(\n",
    "            (problem['n_suboperations'], problem['n_operations'], problem['n_cities'])\n",
    "        )\n",
    "        for i in range(len(operation_index)):\n",
    "            operation, task, city = operation_index[i, 1], operation_index[i, 0], s[i]\n",
    "            gamma[operation, task, city] = 1\n",
    "\n",
    "        delta = np.zeros(\n",
    "            (problem['n_services'], problem['n_cities'], problem['n_cities'],\n",
    "             problem['n_suboperations'], problem['n_operations'])\n",
    "        )\n",
    "        for i in range(len(operation_index)-1):\n",
    "            if operation_index[i][0] == operation_index[i+1][0]:\n",
    "                edge_idx = graph.edge_ids(s[i],s[i+1],etype=ss_type)\n",
    "                serv = torch.argmax(F.softmax(delta_logits[edge_idx], dim=0))\n",
    "                delta[serv, s[i], s[i+1], operation_index[i+1][1], operation_index[i][0]] = 1\n",
    "        return gamma, delta"
   ]
  },
  {
   "cell_type": "code",
   "execution_count": 273,
   "id": "739abfc0",
   "metadata": {},
   "outputs": [],
   "source": [
    "model = GNN(s_shape=1, o_shape=20, os_shape=2,\n",
    "            ss_shape=10, out_dim=16, n_layers=1).to(device)\n",
    "\n",
    "optim = Adam(model.parameters(), lr=1e-2)"
   ]
  },
  {
   "cell_type": "code",
   "execution_count": 274,
   "id": "0f15a20c",
   "metadata": {},
   "outputs": [
    {
     "data": {
      "application/vnd.jupyter.widget-view+json": {
       "model_id": "bb76ae242ca64b5eae7c7b21f98634dc",
       "version_major": 2,
       "version_minor": 0
      },
      "text/plain": [
       "  0%|          | 0/150 [00:00<?, ?it/s]"
      ]
     },
     "metadata": {},
     "output_type": "display_data"
    }
   ],
   "source": [
    "loss_list_train = []\n",
    "objvalue_train = []\n",
    "loss_list_test = []\n",
    "objvalue_test = []\n",
    "for epoch in trange(150):\n",
    "        ep_loss_train = []\n",
    "        ep_loss_test = []\n",
    "        for graph in train_loader:\n",
    "            optim.zero_grad()\n",
    "            # take initial info\n",
    "            gamma_target = graph.edata[\"target\"][os_type]\n",
    "            delta_target = graph.edata[\"delta_target\"][ss_type]\n",
    "            mask = graph.edata[\"mask\"][ss_type]\n",
    "            # Forward pass\n",
    "            logits, delta_logits = model(graph)\n",
    "            # loss calculation\n",
    "            operation_loss = F.binary_cross_entropy_with_logits(logits, gamma_target)\n",
    "            service_loss = F.cross_entropy(delta_logits[mask], delta_target[mask])\n",
    "            loss = operation_loss + service_loss*0.2\n",
    "            loss.backward()\n",
    "            optim.step()\n",
    "            ep_loss_train.append(loss.item())\n",
    "\n",
    "        for graph in test_loader:\n",
    "            with torch.no_grad():\n",
    "                # take initial info\n",
    "                gamma_target = graph.edata[\"target\"][os_type]\n",
    "                delta_target = graph.edata[\"delta_target\"][ss_type]\n",
    "                mask = graph.edata[\"mask\"][ss_type]\n",
    "                # Forward pass\n",
    "                logits, delta_logits = model(graph)\n",
    "                # loss calculation\n",
    "                operation_loss = F.binary_cross_entropy_with_logits(logits, gamma_target)\n",
    "                service_loss = F.cross_entropy(delta_logits[mask], delta_target[mask])\n",
    "                loss = operation_loss + service_loss*0.2\n",
    "                ep_loss_test.append(loss.item())\n",
    "        \n",
    "        loss_list_train.append(np.mean(ep_loss_train))\n",
    "        loss_list_test.append(np.mean(ep_loss_test))\n",
    "\n",
    "        if (epoch + 1) % 10 == 0:\n",
    "            objvalue_train.append(validate_objective(model, train_dataset))\n",
    "            objvalue_test.append(validate_objective(model, test_dataset))"
   ]
  },
  {
   "cell_type": "code",
   "execution_count": 275,
   "id": "108429f2",
   "metadata": {},
   "outputs": [
    {
     "data": {
      "image/png": "[encoded data removed]",
      "text/plain": [
       "<Figure size 640x480 with 1 Axes>"
      ]
     },
     "metadata": {},
     "output_type": "display_data"
    }
   ],
   "source": [
    "plt.plot(loss_list_train, label='train loss')\n",
    "plt.plot(loss_list_test, label='test loss')\n",
    "plt.legend()\n",
    "plt.show()"
   ]
  },
  {
   "cell_type": "code",
   "execution_count": 277,
   "id": "2dcddf01",
   "metadata": {},
   "outputs": [
    {
     "data": {
      "image/png": "[encoded data removed]",
      "text/plain": [
       "<Figure size 640x480 with 1 Axes>"
      ]
     },
     "metadata": {},
     "output_type": "display_data"
    }
   ],
   "source": [
    "plt.plot(objvalue_train, label='train objective')\n",
    "plt.plot(objvalue_test, label='test objective')\n",
    "plt.legend()\n",
    "plt.show()"
   ]
  },
  {
   "cell_type": "code",
   "execution_count": 134,
   "id": "afe21865",
   "metadata": {},
   "outputs": [],
   "source": [
    "def train_model(graph_loader, dataset, model, num_epoch,\n",
    "                info={}, suffix='train', train=True):\n",
    "    loss_list = []\n",
    "    objvalue = []\n",
    "    for epoch in range(num_epoch):\n",
    "        ep_loss = []\n",
    "        for graph in graph_loader:\n",
    "            optim.zero_grad()\n",
    "            # take initial info\n",
    "            gamma_target = graph.edata[\"target\"][os_type]\n",
    "            delta_target = graph.edata[\"delta_target\"][ss_type]\n",
    "            mask = graph.edata[\"mask\"][ss_type]\n",
    "            # Forward pass\n",
    "            logits, delta_logits = model(graph)\n",
    "            # loss calculation\n",
    "            operation_loss = F.binary_cross_entropy_with_logits(logits, gamma_target)\n",
    "            service_loss = F.cross_entropy(delta_logits[mask], delta_target[mask])\n",
    "            loss = operation_loss + service_loss\n",
    "            loss.backward()\n",
    "            optim.step()\n",
    "            ep_loss.append(loss.item())\n",
    "        loss_list.append(np.mean(ep_loss))\n",
    "        \n",
    "\n",
    "        if (epoch + 1) % 10 == 0:\n",
    "            objvalue.append(validate_objective(model, dataset))\n",
    "    info[f'{suffix}_loss'] = loss_list\n",
    "    info[f'{suffix}_objvalue'] = objvalue\n",
    "    return info"
   ]
  },
  {
   "cell_type": "code",
   "execution_count": 135,
   "id": "aa918309",
   "metadata": {},
   "outputs": [
    {
     "name": "stderr",
     "output_type": "stream",
     "text": [
      "/Users/fomindmitry/miniconda3/envs/graph/lib/python3.11/site-packages/torch/cuda/amp/grad_scaler.py:125: UserWarning: torch.cuda.amp.GradScaler is enabled, but CUDA is not available.  Disabling.\n",
      "  warnings.warn(\n"
     ]
    },
    {
     "data": {
      "application/vnd.jupyter.widget-view+json": {
       "model_id": "f8d9e8525df9428087513766956a8e54",
       "version_major": 2,
       "version_minor": 0
      },
      "text/plain": [
       "  0%|          | 0/10 [00:00<?, ?it/s]"
      ]
     },
     "metadata": {},
     "output_type": "display_data"
    },
    {
     "name": "stderr",
     "output_type": "stream",
     "text": [
      "/Users/fomindmitry/miniconda3/envs/graph/lib/python3.11/site-packages/torch/cuda/amp/grad_scaler.py:125: UserWarning: torch.cuda.amp.GradScaler is enabled, but CUDA is not available.  Disabling.\n",
      "  warnings.warn(\n"
     ]
    },
    {
     "data": {
      "application/vnd.jupyter.widget-view+json": {
       "model_id": "c6926be86d3d411db60089ac33d79a27",
       "version_major": 2,
       "version_minor": 0
      },
      "text/plain": [
       "  0%|          | 0/10 [00:00<?, ?it/s]"
      ]
     },
     "metadata": {},
     "output_type": "display_data"
    },
    {
     "name": "stderr",
     "output_type": "stream",
     "text": [
      "/Users/fomindmitry/miniconda3/envs/graph/lib/python3.11/site-packages/torch/cuda/amp/grad_scaler.py:125: UserWarning: torch.cuda.amp.GradScaler is enabled, but CUDA is not available.  Disabling.\n",
      "  warnings.warn(\n"
     ]
    },
    {
     "data": {
      "application/vnd.jupyter.widget-view+json": {
       "model_id": "07ee40d7c8b845c59edfa48b568b704c",
       "version_major": 2,
       "version_minor": 0
      },
      "text/plain": [
       "  0%|          | 0/10 [00:00<?, ?it/s]"
      ]
     },
     "metadata": {},
     "output_type": "display_data"
    },
    {
     "name": "stderr",
     "output_type": "stream",
     "text": [
      "/Users/fomindmitry/miniconda3/envs/graph/lib/python3.11/site-packages/torch/cuda/amp/grad_scaler.py:125: UserWarning: torch.cuda.amp.GradScaler is enabled, but CUDA is not available.  Disabling.\n",
      "  warnings.warn(\n"
     ]
    },
    {
     "data": {
      "application/vnd.jupyter.widget-view+json": {
       "model_id": "a056eea385804b43aed1d82127cd99b9",
       "version_major": 2,
       "version_minor": 0
      },
      "text/plain": [
       "  0%|          | 0/10 [00:00<?, ?it/s]"
      ]
     },
     "metadata": {},
     "output_type": "display_data"
    },
    {
     "name": "stderr",
     "output_type": "stream",
     "text": [
      "/Users/fomindmitry/miniconda3/envs/graph/lib/python3.11/site-packages/torch/cuda/amp/grad_scaler.py:125: UserWarning: torch.cuda.amp.GradScaler is enabled, but CUDA is not available.  Disabling.\n",
      "  warnings.warn(\n"
     ]
    },
    {
     "data": {
      "application/vnd.jupyter.widget-view+json": {
       "model_id": "9070ca89a1eb492ba27650c86d3831b6",
       "version_major": 2,
       "version_minor": 0
      },
      "text/plain": [
       "  0%|          | 0/10 [00:00<?, ?it/s]"
      ]
     },
     "metadata": {},
     "output_type": "display_data"
    },
    {
     "name": "stderr",
     "output_type": "stream",
     "text": [
      "/Users/fomindmitry/miniconda3/envs/graph/lib/python3.11/site-packages/torch/cuda/amp/grad_scaler.py:125: UserWarning: torch.cuda.amp.GradScaler is enabled, but CUDA is not available.  Disabling.\n",
      "  warnings.warn(\n"
     ]
    },
    {
     "data": {
      "application/vnd.jupyter.widget-view+json": {
       "model_id": "03e53fe6895049a88234078702c71570",
       "version_major": 2,
       "version_minor": 0
      },
      "text/plain": [
       "  0%|          | 0/10 [00:00<?, ?it/s]"
      ]
     },
     "metadata": {},
     "output_type": "display_data"
    },
    {
     "name": "stderr",
     "output_type": "stream",
     "text": [
      "/Users/fomindmitry/miniconda3/envs/graph/lib/python3.11/site-packages/torch/cuda/amp/grad_scaler.py:125: UserWarning: torch.cuda.amp.GradScaler is enabled, but CUDA is not available.  Disabling.\n",
      "  warnings.warn(\n"
     ]
    },
    {
     "data": {
      "application/vnd.jupyter.widget-view+json": {
       "model_id": "c3e640e038ad4f149f1ea43b269992a8",
       "version_major": 2,
       "version_minor": 0
      },
      "text/plain": [
       "  0%|          | 0/10 [00:00<?, ?it/s]"
      ]
     },
     "metadata": {},
     "output_type": "display_data"
    },
    {
     "name": "stderr",
     "output_type": "stream",
     "text": [
      "/Users/fomindmitry/miniconda3/envs/graph/lib/python3.11/site-packages/torch/cuda/amp/grad_scaler.py:125: UserWarning: torch.cuda.amp.GradScaler is enabled, but CUDA is not available.  Disabling.\n",
      "  warnings.warn(\n"
     ]
    },
    {
     "data": {
      "application/vnd.jupyter.widget-view+json": {
       "model_id": "93260cf5d7554742a8d32321b4277efc",
       "version_major": 2,
       "version_minor": 0
      },
      "text/plain": [
       "  0%|          | 0/10 [00:00<?, ?it/s]"
      ]
     },
     "metadata": {},
     "output_type": "display_data"
    },
    {
     "name": "stderr",
     "output_type": "stream",
     "text": [
      "/Users/fomindmitry/miniconda3/envs/graph/lib/python3.11/site-packages/torch/cuda/amp/grad_scaler.py:125: UserWarning: torch.cuda.amp.GradScaler is enabled, but CUDA is not available.  Disabling.\n",
      "  warnings.warn(\n"
     ]
    },
    {
     "data": {
      "application/vnd.jupyter.widget-view+json": {
       "model_id": "a032797dbe39466a9531adf63861d80c",
       "version_major": 2,
       "version_minor": 0
      },
      "text/plain": [
       "  0%|          | 0/10 [00:00<?, ?it/s]"
      ]
     },
     "metadata": {},
     "output_type": "display_data"
    },
    {
     "name": "stderr",
     "output_type": "stream",
     "text": [
      "/Users/fomindmitry/miniconda3/envs/graph/lib/python3.11/site-packages/torch/cuda/amp/grad_scaler.py:125: UserWarning: torch.cuda.amp.GradScaler is enabled, but CUDA is not available.  Disabling.\n",
      "  warnings.warn(\n"
     ]
    },
    {
     "data": {
      "application/vnd.jupyter.widget-view+json": {
       "model_id": "0f1a65e338ac4886b50df88ee1160467",
       "version_major": 2,
       "version_minor": 0
      },
      "text/plain": [
       "  0%|          | 0/10 [00:00<?, ?it/s]"
      ]
     },
     "metadata": {},
     "output_type": "display_data"
    },
    {
     "name": "stderr",
     "output_type": "stream",
     "text": [
      "/Users/fomindmitry/miniconda3/envs/graph/lib/python3.11/site-packages/torch/cuda/amp/grad_scaler.py:125: UserWarning: torch.cuda.amp.GradScaler is enabled, but CUDA is not available.  Disabling.\n",
      "  warnings.warn(\n"
     ]
    },
    {
     "data": {
      "application/vnd.jupyter.widget-view+json": {
       "model_id": "6ffe5af1df2c415b8c6423edfde12a20",
       "version_major": 2,
       "version_minor": 0
      },
      "text/plain": [
       "  0%|          | 0/10 [00:00<?, ?it/s]"
      ]
     },
     "metadata": {},
     "output_type": "display_data"
    },
    {
     "name": "stderr",
     "output_type": "stream",
     "text": [
      "/Users/fomindmitry/miniconda3/envs/graph/lib/python3.11/site-packages/torch/cuda/amp/grad_scaler.py:125: UserWarning: torch.cuda.amp.GradScaler is enabled, but CUDA is not available.  Disabling.\n",
      "  warnings.warn(\n"
     ]
    },
    {
     "data": {
      "application/vnd.jupyter.widget-view+json": {
       "model_id": "0821fb3685db4d35bf0a40a55dd166cb",
       "version_major": 2,
       "version_minor": 0
      },
      "text/plain": [
       "  0%|          | 0/10 [00:00<?, ?it/s]"
      ]
     },
     "metadata": {},
     "output_type": "display_data"
    },
    {
     "name": "stderr",
     "output_type": "stream",
     "text": [
      "/Users/fomindmitry/miniconda3/envs/graph/lib/python3.11/site-packages/torch/cuda/amp/grad_scaler.py:125: UserWarning: torch.cuda.amp.GradScaler is enabled, but CUDA is not available.  Disabling.\n",
      "  warnings.warn(\n"
     ]
    },
    {
     "data": {
      "application/vnd.jupyter.widget-view+json": {
       "model_id": "686b47a3a90748429d468e7342ed5721",
       "version_major": 2,
       "version_minor": 0
      },
      "text/plain": [
       "  0%|          | 0/10 [00:00<?, ?it/s]"
      ]
     },
     "metadata": {},
     "output_type": "display_data"
    },
    {
     "name": "stderr",
     "output_type": "stream",
     "text": [
      "/Users/fomindmitry/miniconda3/envs/graph/lib/python3.11/site-packages/torch/cuda/amp/grad_scaler.py:125: UserWarning: torch.cuda.amp.GradScaler is enabled, but CUDA is not available.  Disabling.\n",
      "  warnings.warn(\n"
     ]
    },
    {
     "data": {
      "application/vnd.jupyter.widget-view+json": {
       "model_id": "35bc6bbb0cd94277812c9fe2da40ef4b",
       "version_major": 2,
       "version_minor": 0
      },
      "text/plain": [
       "  0%|          | 0/10 [00:00<?, ?it/s]"
      ]
     },
     "metadata": {},
     "output_type": "display_data"
    },
    {
     "name": "stderr",
     "output_type": "stream",
     "text": [
      "/Users/fomindmitry/miniconda3/envs/graph/lib/python3.11/site-packages/torch/cuda/amp/grad_scaler.py:125: UserWarning: torch.cuda.amp.GradScaler is enabled, but CUDA is not available.  Disabling.\n",
      "  warnings.warn(\n"
     ]
    },
    {
     "data": {
      "application/vnd.jupyter.widget-view+json": {
       "model_id": "631b8457d31a48dcb9be3043caf8b6bc",
       "version_major": 2,
       "version_minor": 0
      },
      "text/plain": [
       "  0%|          | 0/10 [00:00<?, ?it/s]"
      ]
     },
     "metadata": {},
     "output_type": "display_data"
    },
    {
     "name": "stderr",
     "output_type": "stream",
     "text": [
      "/Users/fomindmitry/miniconda3/envs/graph/lib/python3.11/site-packages/torch/cuda/amp/grad_scaler.py:125: UserWarning: torch.cuda.amp.GradScaler is enabled, but CUDA is not available.  Disabling.\n",
      "  warnings.warn(\n"
     ]
    },
    {
     "data": {
      "application/vnd.jupyter.widget-view+json": {
       "model_id": "d45529db237a4b49891e4dadfdff66c6",
       "version_major": 2,
       "version_minor": 0
      },
      "text/plain": [
       "  0%|          | 0/10 [00:00<?, ?it/s]"
      ]
     },
     "metadata": {},
     "output_type": "display_data"
    },
    {
     "name": "stderr",
     "output_type": "stream",
     "text": [
      "/Users/fomindmitry/miniconda3/envs/graph/lib/python3.11/site-packages/torch/cuda/amp/grad_scaler.py:125: UserWarning: torch.cuda.amp.GradScaler is enabled, but CUDA is not available.  Disabling.\n",
      "  warnings.warn(\n"
     ]
    },
    {
     "data": {
      "application/vnd.jupyter.widget-view+json": {
       "model_id": "251ab01db9054296b4ae69dd6a5a77eb",
       "version_major": 2,
       "version_minor": 0
      },
      "text/plain": [
       "  0%|          | 0/10 [00:00<?, ?it/s]"
      ]
     },
     "metadata": {},
     "output_type": "display_data"
    },
    {
     "name": "stderr",
     "output_type": "stream",
     "text": [
      "/Users/fomindmitry/miniconda3/envs/graph/lib/python3.11/site-packages/torch/cuda/amp/grad_scaler.py:125: UserWarning: torch.cuda.amp.GradScaler is enabled, but CUDA is not available.  Disabling.\n",
      "  warnings.warn(\n"
     ]
    },
    {
     "data": {
      "application/vnd.jupyter.widget-view+json": {
       "model_id": "0034b0ad74964544b17e879d5b535fc8",
       "version_major": 2,
       "version_minor": 0
      },
      "text/plain": [
       "  0%|          | 0/10 [00:00<?, ?it/s]"
      ]
     },
     "metadata": {},
     "output_type": "display_data"
    },
    {
     "name": "stderr",
     "output_type": "stream",
     "text": [
      "/Users/fomindmitry/miniconda3/envs/graph/lib/python3.11/site-packages/torch/cuda/amp/grad_scaler.py:125: UserWarning: torch.cuda.amp.GradScaler is enabled, but CUDA is not available.  Disabling.\n",
      "  warnings.warn(\n"
     ]
    },
    {
     "data": {
      "application/vnd.jupyter.widget-view+json": {
       "model_id": "5cd166068b344d33810feb8d7ed07039",
       "version_major": 2,
       "version_minor": 0
      },
      "text/plain": [
       "  0%|          | 0/10 [00:00<?, ?it/s]"
      ]
     },
     "metadata": {},
     "output_type": "display_data"
    },
    {
     "name": "stderr",
     "output_type": "stream",
     "text": [
      "/Users/fomindmitry/miniconda3/envs/graph/lib/python3.11/site-packages/torch/cuda/amp/grad_scaler.py:125: UserWarning: torch.cuda.amp.GradScaler is enabled, but CUDA is not available.  Disabling.\n",
      "  warnings.warn(\n"
     ]
    },
    {
     "data": {
      "application/vnd.jupyter.widget-view+json": {
       "model_id": "588f0707a9e84baab00e2d831d0f3dca",
       "version_major": 2,
       "version_minor": 0
      },
      "text/plain": [
       "  0%|          | 0/10 [00:00<?, ?it/s]"
      ]
     },
     "metadata": {},
     "output_type": "display_data"
    },
    {
     "name": "stderr",
     "output_type": "stream",
     "text": [
      "/Users/fomindmitry/miniconda3/envs/graph/lib/python3.11/site-packages/torch/cuda/amp/grad_scaler.py:125: UserWarning: torch.cuda.amp.GradScaler is enabled, but CUDA is not available.  Disabling.\n",
      "  warnings.warn(\n"
     ]
    },
    {
     "data": {
      "application/vnd.jupyter.widget-view+json": {
       "model_id": "32d2d7b2bc1d423f8050bc5bcbca6b07",
       "version_major": 2,
       "version_minor": 0
      },
      "text/plain": [
       "  0%|          | 0/10 [00:00<?, ?it/s]"
      ]
     },
     "metadata": {},
     "output_type": "display_data"
    },
    {
     "name": "stderr",
     "output_type": "stream",
     "text": [
      "/Users/fomindmitry/miniconda3/envs/graph/lib/python3.11/site-packages/torch/cuda/amp/grad_scaler.py:125: UserWarning: torch.cuda.amp.GradScaler is enabled, but CUDA is not available.  Disabling.\n",
      "  warnings.warn(\n"
     ]
    },
    {
     "data": {
      "application/vnd.jupyter.widget-view+json": {
       "model_id": "2cb70a9b24bc4a7a86a9f270069ee4e1",
       "version_major": 2,
       "version_minor": 0
      },
      "text/plain": [
       "  0%|          | 0/10 [00:00<?, ?it/s]"
      ]
     },
     "metadata": {},
     "output_type": "display_data"
    },
    {
     "name": "stderr",
     "output_type": "stream",
     "text": [
      "/Users/fomindmitry/miniconda3/envs/graph/lib/python3.11/site-packages/torch/cuda/amp/grad_scaler.py:125: UserWarning: torch.cuda.amp.GradScaler is enabled, but CUDA is not available.  Disabling.\n",
      "  warnings.warn(\n"
     ]
    },
    {
     "data": {
      "application/vnd.jupyter.widget-view+json": {
       "model_id": "55a5f0c93a7d489fbbb719c63cce4791",
       "version_major": 2,
       "version_minor": 0
      },
      "text/plain": [
       "  0%|          | 0/10 [00:00<?, ?it/s]"
      ]
     },
     "metadata": {},
     "output_type": "display_data"
    },
    {
     "name": "stderr",
     "output_type": "stream",
     "text": [
      "/Users/fomindmitry/miniconda3/envs/graph/lib/python3.11/site-packages/torch/cuda/amp/grad_scaler.py:125: UserWarning: torch.cuda.amp.GradScaler is enabled, but CUDA is not available.  Disabling.\n",
      "  warnings.warn(\n"
     ]
    },
    {
     "data": {
      "application/vnd.jupyter.widget-view+json": {
       "model_id": "770211a565c24248a9be4937cd10548f",
       "version_major": 2,
       "version_minor": 0
      },
      "text/plain": [
       "  0%|          | 0/10 [00:00<?, ?it/s]"
      ]
     },
     "metadata": {},
     "output_type": "display_data"
    },
    {
     "name": "stderr",
     "output_type": "stream",
     "text": [
      "/Users/fomindmitry/miniconda3/envs/graph/lib/python3.11/site-packages/torch/cuda/amp/grad_scaler.py:125: UserWarning: torch.cuda.amp.GradScaler is enabled, but CUDA is not available.  Disabling.\n",
      "  warnings.warn(\n"
     ]
    },
    {
     "data": {
      "application/vnd.jupyter.widget-view+json": {
       "model_id": "74293b549292463894bd67ff19ab1643",
       "version_major": 2,
       "version_minor": 0
      },
      "text/plain": [
       "  0%|          | 0/10 [00:00<?, ?it/s]"
      ]
     },
     "metadata": {},
     "output_type": "display_data"
    },
    {
     "name": "stderr",
     "output_type": "stream",
     "text": [
      "/Users/fomindmitry/miniconda3/envs/graph/lib/python3.11/site-packages/torch/cuda/amp/grad_scaler.py:125: UserWarning: torch.cuda.amp.GradScaler is enabled, but CUDA is not available.  Disabling.\n",
      "  warnings.warn(\n"
     ]
    },
    {
     "data": {
      "application/vnd.jupyter.widget-view+json": {
       "model_id": "fa08e272afa14c7abaceb22830089adc",
       "version_major": 2,
       "version_minor": 0
      },
      "text/plain": [
       "  0%|          | 0/10 [00:00<?, ?it/s]"
      ]
     },
     "metadata": {},
     "output_type": "display_data"
    },
    {
     "name": "stderr",
     "output_type": "stream",
     "text": [
      "/Users/fomindmitry/miniconda3/envs/graph/lib/python3.11/site-packages/torch/cuda/amp/grad_scaler.py:125: UserWarning: torch.cuda.amp.GradScaler is enabled, but CUDA is not available.  Disabling.\n",
      "  warnings.warn(\n"
     ]
    },
    {
     "data": {
      "application/vnd.jupyter.widget-view+json": {
       "model_id": "1b6c5b0980db4064a4d7cba92695d666",
       "version_major": 2,
       "version_minor": 0
      },
      "text/plain": [
       "  0%|          | 0/10 [00:00<?, ?it/s]"
      ]
     },
     "metadata": {},
     "output_type": "display_data"
    },
    {
     "name": "stderr",
     "output_type": "stream",
     "text": [
      "/Users/fomindmitry/miniconda3/envs/graph/lib/python3.11/site-packages/torch/cuda/amp/grad_scaler.py:125: UserWarning: torch.cuda.amp.GradScaler is enabled, but CUDA is not available.  Disabling.\n",
      "  warnings.warn(\n"
     ]
    },
    {
     "data": {
      "application/vnd.jupyter.widget-view+json": {
       "model_id": "b0133d496c93459ab6423a7289b58f9f",
       "version_major": 2,
       "version_minor": 0
      },
      "text/plain": [
       "  0%|          | 0/10 [00:00<?, ?it/s]"
      ]
     },
     "metadata": {},
     "output_type": "display_data"
    },
    {
     "name": "stderr",
     "output_type": "stream",
     "text": [
      "/Users/fomindmitry/miniconda3/envs/graph/lib/python3.11/site-packages/torch/cuda/amp/grad_scaler.py:125: UserWarning: torch.cuda.amp.GradScaler is enabled, but CUDA is not available.  Disabling.\n",
      "  warnings.warn(\n"
     ]
    },
    {
     "data": {
      "application/vnd.jupyter.widget-view+json": {
       "model_id": "2c3cb99fa5b747b09243cd58cb33076e",
       "version_major": 2,
       "version_minor": 0
      },
      "text/plain": [
       "  0%|          | 0/10 [00:00<?, ?it/s]"
      ]
     },
     "metadata": {},
     "output_type": "display_data"
    },
    {
     "name": "stderr",
     "output_type": "stream",
     "text": [
      "/Users/fomindmitry/miniconda3/envs/graph/lib/python3.11/site-packages/torch/cuda/amp/grad_scaler.py:125: UserWarning: torch.cuda.amp.GradScaler is enabled, but CUDA is not available.  Disabling.\n",
      "  warnings.warn(\n"
     ]
    },
    {
     "data": {
      "application/vnd.jupyter.widget-view+json": {
       "model_id": "117acc6b311b45c1b2c23c2f9e325c00",
       "version_major": 2,
       "version_minor": 0
      },
      "text/plain": [
       "  0%|          | 0/10 [00:00<?, ?it/s]"
      ]
     },
     "metadata": {},
     "output_type": "display_data"
    }
   ],
   "source": [
    "for i in trange(15):\n",
    "    model.train()\n",
    "    info = train_model(train_loader, train_dataset, model, 10)\n",
    "    model.eval()\n",
    "    with torch.no_grad():\n",
    "        info = train_model(test_loader, test_dataset, model, 10,\n",
    "                        info=info, suffix='test', train=False)"
   ]
  },
  {
   "cell_type": "code",
   "execution_count": 136,
   "id": "a6bdd863",
   "metadata": {},
   "outputs": [
    {
     "name": "stdout",
     "output_type": "stream",
     "text": [
      "min train_loss loss:  0.7410446660859245\n",
      "min test_loss loss:  0.742159515619278\n"
     ]
    },
    {
     "data": {
      "image/png": "[encoded data removed]",
      "text/plain": [
       "<Figure size 640x480 with 1 Axes>"
      ]
     },
     "metadata": {},
     "output_type": "display_data"
    },
    {
     "name": "stdout",
     "output_type": "stream",
     "text": [
      "min train_objvalue objvalue:  8389833.790370595\n",
      "min test_objvalue objvalue:  6670260.831722477\n"
     ]
    },
    {
     "data": {
      "image/png": "[encoded data removed]",
      "text/plain": [
       "<Figure size 640x480 with 1 Axes>"
      ]
     },
     "metadata": {},
     "output_type": "display_data"
    }
   ],
   "source": [
    "print_info(info)"
   ]
  }
 ],
 "metadata": {
  "kernelspec": {
   "display_name": "Python 3 (ipykernel)",
   "language": "python",
   "name": "python3"
  },
  "language_info": {
   "codemirror_mode": {
    "name": "ipython",
    "version": 3
   },
   "file_extension": ".py",
   "mimetype": "text/x-python",
   "name": "python",
   "nbconvert_exporter": "python",
   "pygments_lexer": "ipython3",
   "version": "3.11.5"
  }
 },
 "nbformat": 4,
 "nbformat_minor": 5
}
