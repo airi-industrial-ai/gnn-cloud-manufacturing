{
 "cells": [
  {
   "cell_type": "code",
   "execution_count": 1,
   "id": "d08e4a93",
   "metadata": {
    "metadata": {}
   },
   "outputs": [
    {
     "name": "stderr",
     "output_type": "stream",
     "text": [
      "c:\\Users\\z004w9ze\\AppData\\Local\\miniconda3\\envs\\graph\\lib\\site-packages\\tqdm\\auto.py:21: TqdmWarning: IProgress not found. Please update jupyter and ipywidgets. See https://ipywidgets.readthedocs.io/en/stable/user_install.html\n",
      "  from .autonotebook import tqdm as notebook_tqdm\n"
     ]
    },
    {
     "data": {
      "text/plain": [
       "device(type='cpu')"
      ]
     },
     "execution_count": 1,
     "metadata": {},
     "output_type": "execute_result"
    }
   ],
   "source": [
    "import matplotlib.pyplot as plt\n",
    "import numpy as np\n",
    "import torch\n",
    "import re\n",
    "import torch.nn.functional as F\n",
    "from torch.optim import Adam\n",
    "from tqdm.auto import trange\n",
    "import torch.nn as nn\n",
    "from glob import glob\n",
    "from torch.utils.data import Dataset, DataLoader\n",
    "from sklearn.model_selection import train_test_split\n",
    "from dgl.dataloading import GraphDataLoader\n",
    "\n",
    "from cloudmanufacturing.data import read_fatahi_dataset\n",
    "from cloudmanufacturing.graph import dglgraph, graph_gamma, os_type, so_type, ss_type\n",
    "from cloudmanufacturing.graphconv import GNN\n",
    "from cloudmanufacturing.solvers.mip_solver import mip_solve\n",
    "from cloudmanufacturing.validation import construct_delta, objvalue, construct_delta2\n",
    "\n",
    "device = torch.device('cuda' if torch.cuda.is_available() else 'cpu')\n",
    "device"
   ]
  },
  {
   "cell_type": "code",
   "execution_count": 2,
   "id": "ca03e536",
   "metadata": {
    "metadata": {}
   },
   "outputs": [
    {
     "name": "stderr",
     "output_type": "stream",
     "text": [
      "100%|██████████| 100/100 [02:22<00:00,  1.43s/it]\n"
     ]
    }
   ],
   "source": [
    "dataset = read_fatahi_dataset(\"../data/train_data.xlsx\")"
   ]
  },
  {
   "cell_type": "code",
   "execution_count": 3,
   "id": "513ec52a",
   "metadata": {},
   "outputs": [],
   "source": [
    "def dglgraph_fixed(graph, oper_max=20):\n",
    "        ncolumns = graph.ndata['feat']['o'].shape[1]\n",
    "        graph.ndata['feat'] = {'o': F.pad(graph.ndata['feat']['o'], [0, oper_max - ncolumns])}\n",
    "        return graph"
   ]
  },
  {
   "cell_type": "code",
   "execution_count": 4,
   "id": "5c88788b",
   "metadata": {},
   "outputs": [],
   "source": [
    "class GraphDataset(Dataset):\n",
    "    def __init__(self, problems, gammas, deltas):\n",
    "        self.problems = problems\n",
    "        self.gammas = gammas\n",
    "        self.deltas = deltas\n",
    "\n",
    "    def __len__(self):\n",
    "        return len(self.problems)\n",
    "\n",
    "    def __getitem__(self, idx):\n",
    "        problem = self.problems[idx]\n",
    "        gamma = self.gammas[idx]\n",
    "        delta = self.deltas[idx]\n",
    "        graph = dglgraph(problem, gamma, delta).to(device)\n",
    "        graph = dglgraph_fixed(graph)\n",
    "        # graph.edata[\"feat\"][os_type][:, 0] /= 10\n",
    "        # graph.edata[\"feat\"][ss_type] /= 100\n",
    "        return graph"
   ]
  },
  {
   "cell_type": "code",
   "execution_count": 5,
   "id": "6ca3b251",
   "metadata": {},
   "outputs": [],
   "source": [
    "info = {}\n",
    "for delta, gamma, idx in zip([i for i in glob('train_solutions/*') if 'delta' in i],\n",
    "                             [i for i in glob('train_solutions/*') if 'gamma' in i],\n",
    "                             [int(i.split('_')[-2]) for i in glob('train_solutions/*') if 'gamma' in i]):\n",
    "    if idx < 20:\n",
    "        info[idx] = {}\n",
    "        info[idx]['gamma'] = np.load(gamma)\n",
    "        info[idx]['delta'] = np.load(delta)\n",
    "        info[idx]['problem'] = dataset[idx]"
   ]
  },
  {
   "cell_type": "code",
   "execution_count": 6,
   "id": "5d4eb378",
   "metadata": {},
   "outputs": [],
   "source": [
    "train_idx, test_idx = train_test_split(list(info.keys()),\n",
    "                                       random_state=42,train_size=0.7)"
   ]
  },
  {
   "cell_type": "code",
   "execution_count": 7,
   "id": "afd8f1ee",
   "metadata": {},
   "outputs": [],
   "source": [
    "train_dataset = GraphDataset([info[i]['problem'] for i in train_idx],\n",
    "                             [info[i]['gamma'] for i in train_idx],\n",
    "                             [info[i]['delta'] for i in train_idx])\n",
    "\n",
    "test_dataset = GraphDataset([info[i]['problem'] for i in test_idx],\n",
    "                            [info[i]['gamma'] for i in test_idx],\n",
    "                            [info[i]['delta'] for i in test_idx])"
   ]
  },
  {
   "cell_type": "code",
   "execution_count": 8,
   "id": "3268af1f",
   "metadata": {},
   "outputs": [],
   "source": [
    "train_loader = GraphDataLoader(train_dataset, batch_size=2, shuffle=True)\n",
    "test_loader = GraphDataLoader(test_dataset, batch_size=2, shuffle=True)"
   ]
  },
  {
   "cell_type": "code",
   "execution_count": 9,
   "id": "8aee75b3",
   "metadata": {},
   "outputs": [],
   "source": [
    "def validate_objective(model, dataset):\n",
    "    test_objvalue = []\n",
    "    for i in range(len(dataset.problems)):\n",
    "        pred_gamma, pred_delta = model.predict(dataset.__getitem__(i), dataset.problems[i])\n",
    "        test_objvalue.append(\n",
    "            objvalue(dataset.problems[i], pred_gamma, pred_delta)\n",
    "        )\n",
    "    return np.mean(test_objvalue)"
   ]
  },
  {
   "cell_type": "code",
   "execution_count": 10,
   "id": "bfc09ae1",
   "metadata": {},
   "outputs": [],
   "source": [
    "def plot_loss(losses_info):\n",
    "    keys = [key for key in losses_info.keys() if 'loss' in key]\n",
    "    for key in keys:\n",
    "        plt.plot(losses_info[key], label=key)\n",
    "        print(f'min {key} loss: ', min(losses_info[key]))\n",
    "        plt.legend()\n",
    "    plt.show()\n",
    "\n",
    "def plot_objvalue(losses_info):\n",
    "    keys = [key for key in losses_info.keys() if 'objvalue' in key]\n",
    "    for key in keys:\n",
    "        plt.plot(losses_info[key], label=key)\n",
    "        plt.legend()\n",
    "        print(f'min {key} objvalue: ', min(losses_info[key]))\n",
    "    plt.show()\n",
    "\n",
    "def print_info(info):\n",
    "    plot_loss(info)\n",
    "    plot_objvalue(info)"
   ]
  },
  {
   "cell_type": "code",
   "execution_count": 11,
   "id": "739abfc0",
   "metadata": {},
   "outputs": [],
   "source": [
    "model = GNN(s_shape=1, o_shape=20, os_shape=2,\n",
    "            ss_shape=10, out_dim=16, n_layers=1).to(device)\n",
    "\n",
    "optim = Adam(model.parameters(), lr=1e-4)"
   ]
  },
  {
   "cell_type": "code",
   "execution_count": 12,
   "id": "344740ef",
   "metadata": {},
   "outputs": [
    {
     "name": "stdout",
     "output_type": "stream",
     "text": [
      "[[0. 1. 0. 1. 1.]\n",
      " [0. 0. 1. 0. 0.]\n",
      " [1. 0. 0. 0. 0.]\n",
      " [1. 1. 0. 0. 0.]\n",
      " [0. 0. 1. 0. 0.]\n",
      " [0. 1. 0. 0. 1.]\n",
      " [1. 0. 1. 0. 1.]\n",
      " [1. 0. 0. 1. 1.]\n",
      " [0. 0. 1. 1. 0.]\n",
      " [1. 1. 0. 0. 0.]]\n",
      "20.0\n",
      "20.0\n"
     ]
    }
   ],
   "source": [
    "i=0\n",
    "gamma = info[i]['gamma']\n",
    "delta = info[i]['delta']\n",
    "problem = dataset[i]\n",
    "\n",
    "print(problem['operations'])\n",
    "print(gamma.sum())\n",
    "print(delta.sum())"
   ]
  },
  {
   "cell_type": "code",
   "execution_count": 14,
   "id": "000966d2",
   "metadata": {},
   "outputs": [
    {
     "data": {
      "text/plain": [
       "(array([0, 0, 0, 0, 0, 0, 0, 0, 0, 0, 0, 0, 0, 0, 0, 0, 0, 0, 0, 0],\n",
       "       dtype=int64),\n",
       " array([4, 4, 4, 4, 4, 4, 4, 4, 4, 4, 4, 4, 4, 4, 4, 4, 4, 4, 4, 4],\n",
       "       dtype=int64),\n",
       " array([0, 0, 0, 0, 0, 0, 0, 0, 0, 0, 0, 0, 0, 0, 0, 0, 0, 0, 0, 0],\n",
       "       dtype=int64),\n",
       " array([4, 5, 5, 5, 5, 5, 6, 6, 6, 6, 6, 7, 7, 7, 7, 7, 8, 8, 9, 9],\n",
       "       dtype=int64),\n",
       " array([2, 0, 1, 2, 3, 4, 0, 1, 2, 3, 4, 0, 1, 2, 3, 4, 2, 3, 0, 1],\n",
       "       dtype=int64))"
      ]
     },
     "execution_count": 14,
     "metadata": {},
     "output_type": "execute_result"
    }
   ],
   "source": [
    "np.nonzero(delta)"
   ]
  },
  {
   "cell_type": "code",
   "execution_count": 15,
   "id": "af0bdb3b",
   "metadata": {},
   "outputs": [
    {
     "data": {
      "text/plain": [
       "(array([0, 0, 0, 1, 2, 3, 3, 4, 5, 5, 6, 6, 6, 7, 7, 7, 8, 8, 9, 9],\n",
       "       dtype=int64),\n",
       " array([1, 3, 4, 2, 0, 0, 1, 2, 1, 4, 0, 2, 4, 0, 3, 4, 2, 3, 0, 1],\n",
       "       dtype=int64),\n",
       " array([4, 2, 1, 8, 0, 0, 4, 8, 4, 1, 0, 8, 1, 0, 2, 1, 8, 2, 0, 0],\n",
       "       dtype=int64))"
      ]
     },
     "execution_count": 15,
     "metadata": {},
     "output_type": "execute_result"
    }
   ],
   "source": [
    "np.nonzero(gamma)"
   ]
  },
  {
   "cell_type": "code",
   "execution_count": 13,
   "id": "c3b3673d",
   "metadata": {},
   "outputs": [
    {
     "name": "stdout",
     "output_type": "stream",
     "text": [
      "task: 0\n",
      "[0] [0]\n",
      "[0. 0. 0. 0. 0. 0. 0. 0. 0. 0.]\n",
      "[0] [0]\n",
      "[0. 0. 0. 0. 0. 0. 0. 0. 0. 0.]\n",
      "[0] [0]\n",
      "[0. 0. 0. 0. 0. 0. 0. 0. 0. 0.]\n",
      "[0] [0]\n",
      "[0. 0. 0. 0. 0. 0. 0. 0. 0. 0.]\n",
      "\n",
      "\n",
      "task: 1\n",
      "[4] [4]\n",
      "[0. 0. 0. 0. 0. 0. 0. 0. 0. 0.]\n",
      "[4] [4]\n",
      "[0. 0. 0. 0. 0. 0. 0. 0. 0. 0.]\n",
      "[4] [0]\n",
      "[1. 0. 0. 0. 0. 0. 0. 0. 0. 0.]\n",
      "\n",
      "\n",
      "task: 2\n",
      "[8] [8]\n",
      "[0. 0. 0. 0. 0. 0. 0. 0. 0. 0.]\n",
      "[8] [8]\n",
      "[0. 0. 0. 0. 0. 0. 0. 0. 0. 0.]\n",
      "[8] [8]\n",
      "[0. 0. 0. 0. 0. 0. 0. 0. 0. 0.]\n",
      "\n",
      "\n",
      "task: 3\n",
      "[2] [2]\n",
      "[0. 0. 0. 0. 0. 0. 0. 0. 0. 0.]\n",
      "[2] [2]\n",
      "[0. 0. 0. 0. 0. 0. 0. 0. 0. 0.]\n",
      "\n",
      "\n",
      "task: 4\n",
      "[1] [1]\n",
      "[0. 0. 0. 0. 0. 0. 0. 0. 0. 0.]\n",
      "[1] [1]\n",
      "[0. 0. 0. 0. 0. 0. 0. 0. 0. 0.]\n",
      "[1] [1]\n",
      "[0. 0. 0. 0. 0. 0. 0. 0. 0. 0.]\n",
      "\n",
      "\n"
     ]
    }
   ],
   "source": [
    "idx=0\n",
    "gamma = info[idx]['gamma']\n",
    "delta = info[idx]['delta']\n",
    "for op_num in range(dataset[idx]['operations'].shape[1]):\n",
    "    print('task:', op_num)\n",
    "    city_list = []\n",
    "    for i, sub_op in enumerate(np.nonzero(dataset[idx]['operations'][:,op_num])[0]):\n",
    "        c = np.nonzero(gamma[sub_op, op_num,:])\n",
    "        city_list.append(c)\n",
    "        if i != 0:\n",
    "            print(city_list[i-1][0], c[0])\n",
    "            print(delta[:,city_list[i-1],c,sub_op,op_num].reshape(-1))\n",
    "    print('\\n')"
   ]
  },
  {
   "cell_type": "code",
   "execution_count": 17,
   "id": "0f15a20c",
   "metadata": {},
   "outputs": [
    {
     "name": "stderr",
     "output_type": "stream",
     "text": [
      "100%|██████████| 50/50 [01:50<00:00,  2.21s/it]\n"
     ]
    }
   ],
   "source": [
    "loss_list_train = []\n",
    "objvalue_train = []\n",
    "loss_list_test = []\n",
    "objvalue_test = []\n",
    "for epoch in trange(50):\n",
    "        ep_loss_train = []\n",
    "        ep_loss_test = []\n",
    "        for graph in train_loader:\n",
    "            optim.zero_grad()\n",
    "            # take initial info\n",
    "            gamma_target = graph.edata[\"target\"][os_type]\n",
    "            delta_target = graph.edata[\"delta_target\"][ss_type]\n",
    "            mask = graph.edata[\"mask\"][ss_type]\n",
    "            # Forward pass\n",
    "            logits, delta_logits = model(graph)\n",
    "            # loss calculation\n",
    "            operation_loss = F.binary_cross_entropy_with_logits(logits, gamma_target)\n",
    "            service_loss = F.cross_entropy(delta_logits[mask], delta_target[mask])\n",
    "            loss = operation_loss + service_loss\n",
    "            loss.backward()\n",
    "            optim.step()\n",
    "            ep_loss_train.append(loss.item())\n",
    "\n",
    "        for graph in test_loader:\n",
    "            with torch.no_grad():\n",
    "                # take initial info\n",
    "                gamma_target = graph.edata[\"target\"][os_type]\n",
    "                delta_target = graph.edata[\"delta_target\"][ss_type]\n",
    "                mask = graph.edata[\"mask\"][ss_type]\n",
    "                # Forward pass\n",
    "                logits, delta_logits = model(graph)\n",
    "                # loss calculation\n",
    "                operation_loss = F.binary_cross_entropy_with_logits(logits, gamma_target)\n",
    "                service_loss = F.cross_entropy(delta_logits[mask], delta_target[mask])\n",
    "                loss = operation_loss + service_loss*0.2\n",
    "                ep_loss_test.append(loss.item())\n",
    "\n",
    "        loss_list_train.append(np.mean(ep_loss_train))\n",
    "        loss_list_test.append(np.mean(ep_loss_test))\n",
    "\n",
    "        if (epoch + 1) % 10 == 0:\n",
    "            objvalue_train.append(validate_objective(model, train_dataset))\n",
    "            objvalue_test.append(validate_objective(model, test_dataset))"
   ]
  },
  {
   "cell_type": "code",
   "execution_count": 18,
   "id": "108429f2",
   "metadata": {},
   "outputs": [
    {
     "data": {
      "image/png": "[encoded data removed]",
      "text/plain": [
       "<Figure size 640x480 with 1 Axes>"
      ]
     },
     "metadata": {},
     "output_type": "display_data"
    }
   ],
   "source": [
    "plt.plot(loss_list_train, label='train loss')\n",
    "plt.plot(loss_list_test, label='test loss')\n",
    "plt.legend()\n",
    "plt.show()"
   ]
  },
  {
   "cell_type": "code",
   "execution_count": 19,
   "id": "2dcddf01",
   "metadata": {},
   "outputs": [
    {
     "data": {
      "image/png": "[encoded data removed]",
      "text/plain": [
       "<Figure size 640x480 with 1 Axes>"
      ]
     },
     "metadata": {},
     "output_type": "display_data"
    }
   ],
   "source": [
    "plt.plot(objvalue_train, label='train objective')\n",
    "plt.plot(objvalue_test, label='test objective')\n",
    "plt.legend()\n",
    "plt.show()"
   ]
  },
  {
   "cell_type": "code",
   "execution_count": null,
   "id": "afe21865",
   "metadata": {},
   "outputs": [],
   "source": [
    "def train_model(graph_loader, dataset, model, num_epoch,\n",
    "                info={}, suffix='train', train=True):\n",
    "    loss_list = []\n",
    "    objvalue = []\n",
    "    for epoch in range(num_epoch):\n",
    "        ep_loss = []\n",
    "        for graph in graph_loader:\n",
    "            optim.zero_grad()\n",
    "            # take initial info\n",
    "            gamma_target = graph.edata[\"target\"][os_type]\n",
    "            delta_target = graph.edata[\"delta_target\"][ss_type]\n",
    "            mask = graph.edata[\"mask\"][ss_type]\n",
    "            # Forward pass\n",
    "            logits, delta_logits = model(graph)\n",
    "            # loss calculation\n",
    "            operation_loss = F.binary_cross_entropy_with_logits(logits, gamma_target)\n",
    "            service_loss = F.cross_entropy(delta_logits[mask], delta_target[mask])\n",
    "            loss = operation_loss + service_loss\n",
    "            loss.backward()\n",
    "            optim.step()\n",
    "            ep_loss.append(loss.item())\n",
    "        loss_list.append(np.mean(ep_loss))\n",
    "        \n",
    "\n",
    "        if (epoch + 1) % 10 == 0:\n",
    "            objvalue.append(validate_objective(model, dataset))\n",
    "    info[f'{suffix}_loss'] = loss_list\n",
    "    info[f'{suffix}_objvalue'] = objvalue\n",
    "    return info"
   ]
  },
  {
   "cell_type": "code",
   "execution_count": null,
   "id": "aa918309",
   "metadata": {},
   "outputs": [],
   "source": [
    "for i in trange(15):\n",
    "    model.train()\n",
    "    info = train_model(train_loader, train_dataset, model, 10)\n",
    "    model.eval()\n",
    "    with torch.no_grad():\n",
    "        info = train_model(test_loader, test_dataset, model, 10,\n",
    "                        info=info, suffix='test', train=False)"
   ]
  },
  {
   "cell_type": "code",
   "execution_count": null,
   "id": "a6bdd863",
   "metadata": {},
   "outputs": [],
   "source": [
    "print_info(info)"
   ]
  },
  {
   "cell_type": "code",
   "execution_count": 50,
   "id": "52863f61",
   "metadata": {},
   "outputs": [],
   "source": [
    "# problem = dataset[0]\n",
    "# a = generate_tariff_matrix(problem['n_services'],\n",
    "#                        problem['dist'],\n",
    "#                        problem['productivity']/100,\n",
    "#                        problem['op_cost'])"
   ]
  },
  {
   "cell_type": "code",
   "execution_count": null,
   "id": "20d8b2f4",
   "metadata": {},
   "outputs": [],
   "source": []
  }
 ],
 "metadata": {
  "kernelspec": {
   "display_name": "Python 3 (ipykernel)",
   "language": "python",
   "name": "python3"
  },
  "language_info": {
   "codemirror_mode": {
    "name": "ipython",
    "version": 3
   },
   "file_extension": ".py",
   "mimetype": "text/x-python",
   "name": "python",
   "nbconvert_exporter": "python",
   "pygments_lexer": "ipython3",
   "version": "3.9.19"
  }
 },
 "nbformat": 4,
 "nbformat_minor": 5
}
