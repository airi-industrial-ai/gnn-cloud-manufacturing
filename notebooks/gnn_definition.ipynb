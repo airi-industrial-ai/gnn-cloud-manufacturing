{
 "cells": [
  {
   "cell_type": "markdown",
   "id": "ab8154b4",
   "metadata": {},
   "source": [
    "### Энкодер"
   ]
  },
  {
   "cell_type": "markdown",
   "id": "dd35019f",
   "metadata": {},
   "source": [
    "Cвертка в вершины S\n",
    "* $h^{s}_{i} = W^s S_i $\n",
    "* $h^{ss}_{ij} = W^{ss} \\left[ S_i \\Vert SS_{ij}\\right]$\n",
    "* $h^{os}_{ij} = W^{os} \\left[O_i \\Vert OS_{ij} \\right]$\n",
    "* $e^{os}_{ij} = \\text{LeakyReLU}\\left(a^\\top\\left[ h^{os}_{ij} \\Vert h^s_j \\right]\\right)$\n",
    "* $ e^{ss}_{ij} = \\text{LeakyReLU}\\left(a^\\top\\left[h^{ss}_{ij} \\Vert h^s_j \\right]\\right)$\n",
    "* $\\alpha^{os}_i = \\text{Softmax}_{(i,j) \\in E_{os}} e^{os}_{ij}$\n",
    "* $\\alpha^{ss}_i = \\text{Softmax}_{(i,j) \\in E_{ss}} e^{ss}_{ij}$\n",
    "* $z_j = \\sum_{(i,j) \\in E_{ss}} \\alpha^{ss}_i h_{ij}^{ss} + \\sum_{(i,j) \\in E_{os}}\\alpha^{os}_i h^{os}_{ij} $"
   ]
  },
  {
   "cell_type": "markdown",
   "id": "acd2e6cd",
   "metadata": {},
   "source": [
    "свертка в вершины O\n",
    "\n",
    "* $x_j = W^\\text{o}\\text{ReLU}\\left[\\sum_{(i,j) \\in E_{oo}} W^\\text{in} O_i \\Vert W^\\text{self} O_j \\Vert \\sum_{(j,i) \\in E_{oo}} W^\\text{out} O_i \\right]$"
   ]
  },
  {
   "cell_type": "markdown",
   "id": "74e271d1",
   "metadata": {},
   "source": [
    "### Декодер"
   ]
  },
  {
   "cell_type": "markdown",
   "id": "9a7d24e4",
   "metadata": {},
   "source": [
    "Софтмакс на ребрах\n",
    "\n",
    "$p_{ij} = \\sigma(z_i^\\top x_j)$\n"
   ]
  }
 ],
 "metadata": {
  "kernelspec": {
   "display_name": "Python 3 (ipykernel)",
   "language": "python",
   "name": "python3"
  },
  "language_info": {
   "codemirror_mode": {
    "name": "ipython",
    "version": 3
   },
   "file_extension": ".py",
   "mimetype": "text/x-python",
   "name": "python",
   "nbconvert_exporter": "python",
   "pygments_lexer": "ipython3",
   "version": "3.10.14"
  }
 },
 "nbformat": 4,
 "nbformat_minor": 5
}
