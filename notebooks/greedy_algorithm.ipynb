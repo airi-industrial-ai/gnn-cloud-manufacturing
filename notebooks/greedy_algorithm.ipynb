{
 "cells": [
  {
   "cell_type": "code",
   "execution_count": 1,
   "id": "3c14b40a-f0dd-4863-bbfc-2abfa50f2fb7",
   "metadata": {},
   "outputs": [],
   "source": [
    "from gnncloudmanufacturing.data import read_fatahi_dataset\n",
    "from gnncloudmanufacturing.greedy_algorithm import greedy_solve\n",
    "from gnncloudmanufacturing.validation import total_cost_from_gamma\n",
    "from gnncloudmanufacturing.utils import delta_from_gamma\n",
    "\n",
    "import numpy as np"
   ]
  },
  {
   "cell_type": "code",
   "execution_count": 2,
   "id": "3ad596fd-91d9-4382-8eb1-91f157534374",
   "metadata": {},
   "outputs": [
    {
     "data": {
      "application/vnd.jupyter.widget-view+json": {
       "model_id": "8dac78a79979411a809de14d57aaa078",
       "version_major": 2,
       "version_minor": 0
      },
      "text/plain": [
       "  0%|          | 0/18 [00:00<?, ?it/s]"
      ]
     },
     "metadata": {},
     "output_type": "display_data"
    },
    {
     "name": "stdout",
     "output_type": "stream",
     "text": [
      "Problem: 5,10,10-1\n",
      "Problem: 5,10,10-2\n",
      "Problem: 5,10,10-3\n",
      "Problem: 10,10,10-1\n",
      "Problem: 10,10,10-2\n",
      "Problem: 10,10,10-3\n",
      "Problem: 5,10,20-1\n",
      "Problem: 5,10,20-2\n",
      "Problem: 5,10,20-3\n",
      "Problem: 5,20,10-1\n",
      "Problem: 5,20,10-2\n",
      "Problem: 5,20,10-3\n",
      "Problem: 5,20,20-1\n",
      "Problem: 5,20,20-2\n",
      "Problem: 5,20,20-3\n",
      "Problem: 5,5,5-1\n",
      "Problem: 5,5,5-2\n",
      "Problem: 5,5,5-3\n"
     ]
    }
   ],
   "source": [
    "dataset = read_fatahi_dataset('../data/fatahi.xlsx')\n",
    "for problem in dataset:\n",
    "    print(f'Problem: {problem[\"name\"]}')"
   ]
  },
  {
   "cell_type": "code",
   "execution_count": 3,
   "id": "62fedcd6-a864-4c34-bf3f-b455822a8f6e",
   "metadata": {},
   "outputs": [
    {
     "data": {
      "text/plain": [
       "12521.69494508654"
      ]
     },
     "execution_count": 3,
     "metadata": {},
     "output_type": "execute_result"
    }
   ],
   "source": [
    "problem = dataset[2]\n",
    "gamma = greedy_solve(problem)\n",
    "delta = delta_from_gamma(problem, gamma)\n",
    "total_cost_from_gamma(problem, gamma, delta)"
   ]
  },
  {
   "cell_type": "code",
   "execution_count": null,
   "id": "966e3628-b320-4022-a1c7-ce98fa9f941c",
   "metadata": {},
   "outputs": [],
   "source": []
  }
 ],
 "metadata": {
  "kernelspec": {
   "display_name": "Python 3 (ipykernel)",
   "language": "python",
   "name": "python3"
  },
  "language_info": {
   "codemirror_mode": {
    "name": "ipython",
    "version": 3
   },
   "file_extension": ".py",
   "mimetype": "text/x-python",
   "name": "python",
   "nbconvert_exporter": "python",
   "pygments_lexer": "ipython3",
   "version": "3.10.14"
  }
 },
 "nbformat": 4,
 "nbformat_minor": 5
}
