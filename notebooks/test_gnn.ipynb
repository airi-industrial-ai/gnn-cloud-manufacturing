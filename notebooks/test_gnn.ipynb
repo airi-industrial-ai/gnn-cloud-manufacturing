{
 "cells": [
  {
   "cell_type": "code",
   "execution_count": 1,
   "id": "d08e4a93",
   "metadata": {
    "metadata": {}
   },
   "outputs": [],
   "source": [
    "import matplotlib.pyplot as plt\n",
    "import numpy as np\n",
    "import torch\n",
    "import torch.nn.functional as F\n",
    "from torch.optim import Adam\n",
    "from tqdm.auto import trange\n",
    "import torch.nn as nn\n",
    "\n",
    "from cloudmanufacturing.data import read_fatahi_dataset\n",
    "from cloudmanufacturing.graph import dglgraph, graph_gamma, os_type, so_type, ss_type\n",
    "from cloudmanufacturing.graphconv import GNN\n",
    "from cloudmanufacturing.solvers.mip_solver import mip_solve\n",
    "from cloudmanufacturing.validation import construct_delta, objvalue"
   ]
  },
  {
   "cell_type": "code",
   "execution_count": 2,
   "id": "ca03e536",
   "metadata": {
    "metadata": {}
   },
   "outputs": [
    {
     "data": {
      "application/vnd.jupyter.widget-view+json": {
       "model_id": "05cc063467c049128a6bec738c20bd48",
       "version_major": 2,
       "version_minor": 0
      },
      "text/plain": [
       "  0%|          | 0/18 [00:00<?, ?it/s]"
      ]
     },
     "metadata": {},
     "output_type": "display_data"
    },
    {
     "data": {
      "text/plain": [
       "18"
      ]
     },
     "execution_count": 2,
     "metadata": {},
     "output_type": "execute_result"
    }
   ],
   "source": [
    "dataset = read_fatahi_dataset(\"../data/fatahi.xlsx\")\n",
    "len(dataset)"
   ]
  },
  {
   "cell_type": "code",
   "execution_count": 3,
   "id": "6c29356a",
   "metadata": {
    "metadata": {}
   },
   "outputs": [
    {
     "data": {
      "text/plain": [
       "('5,10,10-1', '5,10,10-3')"
      ]
     },
     "execution_count": 3,
     "metadata": {},
     "output_type": "execute_result"
    }
   ],
   "source": [
    "train_problem = dataset[0]\n",
    "test_problem = dataset[2]\n",
    "train_problem[\"name\"], test_problem[\"name\"]"
   ]
  },
  {
   "cell_type": "code",
   "execution_count": 4,
   "id": "16ffba1c",
   "metadata": {
    "metadata": {}
   },
   "outputs": [],
   "source": [
    "# train_delta, train_gamma, status, value = mip_solve(train_problem)\n",
    "# print(f'Problem {train_problem[\"name\"]}: {value:.2f}, {status}')\n",
    "\n",
    "# np.save('gamma_0.npy', train_gamma)\n",
    "# np.save('delta_0.npy', train_delta)\n",
    "\n",
    "train_gamma = np.load('gamma_0.npy')\n",
    "train_delta = np.load('delta_0.npy')"
   ]
  },
  {
   "cell_type": "code",
   "execution_count": 5,
   "id": "c1980c51",
   "metadata": {
    "metadata": {}
   },
   "outputs": [],
   "source": [
    "# test_delta, test_gamma, status, value = mip_solve(test_problem)\n",
    "# print(f'Problem {test_problem[\"name\"]}: {value:.2f}, {status}')\n",
    "\n",
    "# np.save('gamma_1.npy', test_gamma)\n",
    "# np.save('delta_1.npy', test_delta)\n",
    "\n",
    "test_gamma = np.load('gamma_1.npy')\n",
    "test_delta = np.load('delta_1.npy')"
   ]
  },
  {
   "cell_type": "code",
   "execution_count": 6,
   "id": "c6b83d54",
   "metadata": {
    "metadata": {}
   },
   "outputs": [],
   "source": [
    "train_graph = dglgraph(train_problem, train_gamma, train_delta)\n",
    "train_target = train_graph.edata[\"target\"][os_type]\n",
    "train_graph.edata[\"feat\"][os_type][:, 0] /= 10\n",
    "train_graph.edata[\"feat\"][ss_type][:] /= 100\n",
    "\n",
    "test_graph = dglgraph(test_problem, test_gamma, test_delta)\n",
    "test_target = test_graph.edata[\"target\"][os_type]\n",
    "test_graph.edata[\"feat\"][os_type][:, 0] /= 10\n",
    "test_graph.edata[\"feat\"][ss_type][:] /= 100"
   ]
  },
  {
   "cell_type": "code",
   "execution_count": 12,
   "id": "be923b75",
   "metadata": {
    "metadata": {}
   },
   "outputs": [],
   "source": []
  },
  {
   "cell_type": "code",
   "execution_count": 28,
   "id": "40d50308",
   "metadata": {
    "metadata": {}
   },
   "outputs": [
    {
     "data": {
      "text/plain": [
       "tensor([10.,  0.,  0.,  0.,  0.,  0.,  0.,  0.,  0.,  7.,  0.,  0.,  1.,  0.,\n",
       "         0.,  0.,  0.,  0.,  0.,  0.,  0.,  0.,  0.,  0.,  0.,  0.,  4.,  0.,\n",
       "         0.,  0.,  0.,  0.,  0.,  0.,  0.,  1.,  0.,  0.,  4.,  0.,  0.,  0.,\n",
       "         0.,  0.,  0.,  0.,  0.,  7.,  0.,  0.,  0.,  0.,  0.,  0.,  3.,  0.,\n",
       "         0.,  0.,  0.,  0.,  0.,  0.,  1.,  0.,  0.,  0.,  0.,  0.,  0.,  0.,\n",
       "         0.,  0.,  0.,  0.,  0.,  0.,  0.,  0.,  2.,  0.,  0.,  0.,  0.,  0.,\n",
       "         0.,  1.,  0.,  0.,  0.,  0.,  5.,  0.,  0.,  0.,  0.,  0.,  4.,  0.,\n",
       "         0.,  0.,  0.,  0.,  0.,  0.,  8.,  0.,  0.,  0.,  0.,  1.,  0.,  0.,\n",
       "         0.,  0.,  0.,  0.,  0.,  7.,  0.,  0.,  0.,  0.,  0., 10.,  0.,  0.,\n",
       "         0.,  0.,  0.,  0.,  0., 10.,  0.,  0.,  0.,  0.,  0.,  0.,  0.,  0.,\n",
       "         7.,  0.,  0.,  0.,  0.,  0.,  0.,  0.,  0.,  8.,  0.,  0.,  0.,  0.,\n",
       "         0.,  0.,  0.,  0.,  5.,  0.,  0.,  0.,  1.,  0.,  0.,  0.,  0.,  0.,\n",
       "         0.,  4.,  0.,  0.,  0.,  0.,  0.,  0.,  0.,  0.,  1.,  0.,  0.,  0.,\n",
       "         0.,  0.,  0.,  0.,  7.,  0.,  0.,  1.,  0.,  0.,  0.,  0.,  0.,  0.,\n",
       "         0.,  0.,  0.,  0.,  0.,  0.,  0.,  6.,  0.,  0.,  0.,  0.,  0.,  0.,\n",
       "         0.,  0.,  1.,  0.,  0.])"
      ]
     },
     "execution_count": 28,
     "metadata": {},
     "output_type": "execute_result"
    }
   ],
   "source": [
    "train_target"
   ]
  },
  {
   "cell_type": "code",
   "execution_count": 35,
   "id": "64d68915",
   "metadata": {
    "metadata": {}
   },
   "outputs": [
    {
     "data": {
      "text/plain": [
       "array([ 0,  0,  0,  0,  0,  0,  0,  7,  7,  7,  7,  7,  0,  0,  0,  0,  0,\n",
       "        0,  0,  0,  0,  0,  0,  0,  0,  0,  0,  0,  0,  0,  0,  0,  0,  0,\n",
       "        0,  0,  0,  0,  0,  0,  0,  0,  0,  0,  0,  4,  7,  0,  0,  0,  0,\n",
       "        0,  0,  7,  0,  0,  0,  0,  0,  0,  0,  0,  0,  0,  0,  0,  0,  0,\n",
       "        0,  0,  0,  0,  0,  0,  0,  0,  0,  0,  0,  0,  0,  1,  0,  0,  0,\n",
       "        1,  0,  5,  0,  0,  0,  0,  0,  0,  0,  0,  0,  0,  0,  0,  0,  0,\n",
       "        0,  0,  0,  0,  0,  0,  0,  0,  1,  0,  0,  0,  1,  1,  0,  0,  0,\n",
       "        0,  0,  0,  7,  0,  0,  0,  0,  0,  0,  0, 10,  0, 10,  0,  0,  0,\n",
       "       10,  0,  7,  0,  0,  7,  0,  0,  0,  0,  0,  0,  0,  0,  0,  0,  0,\n",
       "        0,  0,  0,  0,  0,  0,  0,  0,  0,  0,  1,  0,  0,  0,  1,  1,  0,\n",
       "        0,  0,  0,  0,  0,  0,  0,  0,  0,  1,  0,  0,  0,  1,  7,  7,  7,\n",
       "        7,  7,  0,  0,  0,  0,  0,  0,  0,  0,  0,  0,  0,  0,  0,  0,  0,\n",
       "        0,  0,  0,  0,  0,  0,  0,  0,  0,  0,  0])"
      ]
     },
     "execution_count": 35,
     "metadata": {},
     "output_type": "execute_result"
    }
   ],
   "source": [
    "np.argmax(F.softmax(logits, dim=-1).detach().numpy(), axis=1)"
   ]
  },
  {
   "cell_type": "code",
   "execution_count": 33,
   "id": "d985e647",
   "metadata": {
    "metadata": {}
   },
   "outputs": [
    {
     "data": {
      "application/vnd.jupyter.widget-view+json": {
       "model_id": "83733fce1d704dc3b6958361c5e4e17e",
       "version_major": 2,
       "version_minor": 0
      },
      "text/plain": [
       "  0%|          | 0/302 [00:00<?, ?it/s]"
      ]
     },
     "metadata": {},
     "output_type": "display_data"
    }
   ],
   "source": [
    "model = GNN(1,\n",
    "            train_problem[\"n_suboperations\"] + 2,\n",
    "            12,\n",
    "            1)\n",
    "\n",
    "train_loss = []\n",
    "test_loss = []\n",
    "train_objvalue = []\n",
    "test_objvalue = []\n",
    "\n",
    "optim = Adam(model.parameters(), lr=0.0005)\n",
    "weights = torch.tensor([0.2]+[1 for i in range(11)])\n",
    "criterion = nn.CrossEntropyLoss(weight=weights)\n",
    "for i in trange(302):\n",
    "    logits = model(train_graph)\n",
    "    loss = criterion(logits, train_target.long())\n",
    "    optim.zero_grad()\n",
    "    loss.backward()\n",
    "    optim.step()\n",
    "\n",
    "    if i % 10 == 0:\n",
    "        with torch.no_grad():\n",
    "            train_loss.append(loss.item())\n",
    "            pred_gamma_train = model.predict(train_graph, train_problem)\n",
    "            train_objvalue.append(\n",
    "                objvalue(\n",
    "                    train_problem,\n",
    "                    pred_gamma_train,\n",
    "                    construct_delta(train_problem, pred_gamma_train),\n",
    "                )\n",
    "            )\n",
    "            logits = model(test_graph)\n",
    "            loss = criterion(logits, test_target.long())\n",
    "            test_loss.append(loss.item())\n",
    "            pred_gamma_test = model.predict(test_graph, test_problem)\n",
    "            test_objvalue.append(\n",
    "                objvalue(\n",
    "                    test_problem, pred_gamma_test, construct_delta(test_problem, pred_gamma_test)\n",
    "                )\n",
    "            )"
   ]
  },
  {
   "cell_type": "code",
   "execution_count": 34,
   "id": "4bd54cb8",
   "metadata": {
    "metadata": {}
   },
   "outputs": [
    {
     "data": {
      "image/png": "[encoded data removed]",
      "text/plain": [
       "<Figure size 640x480 with 1 Axes>"
      ]
     },
     "metadata": {},
     "output_type": "display_data"
    }
   ],
   "source": [
    "plt.plot(train_loss, label=\"train loss\")\n",
    "plt.plot(test_loss, label=\"test loss\")\n",
    "plt.legend()\n",
    "plt.show()"
   ]
  },
  {
   "cell_type": "code",
   "execution_count": 36,
   "id": "72f9e6b1",
   "metadata": {
    "metadata": {}
   },
   "outputs": [
    {
     "data": {
      "image/png": "[encoded data removed]",
      "text/plain": [
       "<Figure size 640x480 with 1 Axes>"
      ]
     },
     "metadata": {},
     "output_type": "display_data"
    }
   ],
   "source": [
    "plt.plot(train_objvalue, label=\"train objvalue\")\n",
    "plt.plot(test_objvalue, label=\"test objvalue\")\n",
    "plt.legend()\n",
    "plt.show()"
   ]
  },
  {
   "cell_type": "code",
   "execution_count": 13,
   "id": "6ae42a8b",
   "metadata": {
    "metadata": {}
   },
   "outputs": [
    {
     "data": {
      "text/plain": [
       "33927.213390050485"
      ]
     },
     "execution_count": 13,
     "metadata": {},
     "output_type": "execute_result"
    }
   ],
   "source": [
    "min(test_objvalue)"
   ]
  },
  {
   "cell_type": "markdown",
   "id": "7dea9f9d",
   "metadata": {},
   "source": [
    "## Delta constructing demonstration"
   ]
  },
  {
   "cell_type": "code",
   "execution_count": 14,
   "id": "58c8edb1",
   "metadata": {
    "metadata": {}
   },
   "outputs": [],
   "source": [
    "graph = train_graph\n",
    "gamma = graph_gamma(graph, train_problem)"
   ]
  },
  {
   "cell_type": "markdown",
   "id": "06323677",
   "metadata": {},
   "source": [
    "Our target:"
   ]
  },
  {
   "cell_type": "code",
   "execution_count": 24,
   "id": "0c4b2155",
   "metadata": {
    "metadata": {}
   },
   "outputs": [
    {
     "data": {
      "text/plain": [
       "tensor([11.,  0.,  0.,  0.,  0.,  0.,  0.,  0.,  0.,  8.,  0.,  0.,  2.,  0.,\n",
       "         0.,  0.,  0.,  0.,  0.,  0.,  0.,  0.,  0.,  0.,  0.,  0.,  5.,  0.,\n",
       "         0.,  0.,  0.,  0.,  0.,  0.,  0.,  1.,  0.,  0.,  5.,  0.,  0.,  0.,\n",
       "         0.,  0.,  0.,  0.,  0.,  8.,  0.,  0.,  0.,  0.,  0.,  0.,  4.,  0.,\n",
       "         0.,  0.,  0.,  0.,  0.,  0.,  1.,  0.,  0.,  0.,  0.,  0.,  0.,  0.,\n",
       "         0.,  0.,  0.,  0.,  0.,  0.,  0.,  0.,  3.,  0.,  0.,  0.,  0.,  0.,\n",
       "         0.,  2.,  0.,  0.,  0.,  0.,  6.,  0.,  0.,  0.,  0.,  0.,  5.,  0.,\n",
       "         0.,  0.,  0.,  0.,  0.,  0.,  9.,  0.,  0.,  0.,  0.,  1.,  0.,  0.,\n",
       "         0.,  0.,  0.,  0.,  0.,  8.,  0.,  0.,  0.,  0.,  0., 11.,  0.,  0.,\n",
       "         0.,  0.,  0.,  0.,  0., 11.,  0.,  0.,  0.,  0.,  0.,  0.,  0.,  0.,\n",
       "         8.,  0.,  0.,  0.,  0.,  0.,  0.,  0.,  0.,  9.,  0.,  0.,  0.,  0.,\n",
       "         0.,  0.,  0.,  0.,  6.,  0.,  0.,  0.,  1.,  0.,  0.,  0.,  0.,  0.,\n",
       "         0.,  5.,  0.,  0.,  0.,  0.,  0.,  0.,  0.,  0.,  2.,  0.,  0.,  0.,\n",
       "         0.,  0.,  0.,  0.,  8.,  0.,  0.,  2.,  0.,  0.,  0.,  0.,  0.,  0.,\n",
       "         0.,  0.,  0.,  0.,  0.,  0.,  0.,  7.,  0.,  0.,  0.,  0.,  0.,  0.,\n",
       "         0.,  0.,  1.,  0.,  0.])"
      ]
     },
     "execution_count": 24,
     "metadata": {},
     "output_type": "execute_result"
    }
   ],
   "source": [
    "graph.edata[\"target\"][os_type]"
   ]
  },
  {
   "cell_type": "code",
   "execution_count": 21,
   "id": "11d1dc27",
   "metadata": {
    "metadata": {}
   },
   "outputs": [
    {
     "data": {
      "text/plain": [
       "array([0., 0., 0., 1., 0., 0., 0., 0., 0., 0.])"
      ]
     },
     "execution_count": 21,
     "metadata": {},
     "output_type": "execute_result"
    }
   ],
   "source": []
  },
  {
   "cell_type": "code",
   "execution_count": 23,
   "id": "4dab89ae",
   "metadata": {
    "metadata": {}
   },
   "outputs": [
    {
     "data": {
      "text/plain": [
       "array([0., 0., 0., 0., 0., 0., 1., 0., 0., 0.])"
      ]
     },
     "execution_count": 23,
     "metadata": {},
     "output_type": "execute_result"
    }
   ],
   "source": [
    "train_delta[:,3,0,5,0]"
   ]
  },
  {
   "cell_type": "code",
   "execution_count": 54,
   "id": "8c9cfd52",
   "metadata": {
    "metadata": {}
   },
   "outputs": [
    {
     "name": "stdout",
     "output_type": "stream",
     "text": [
      "Init gamma [1. 0. 0. 0. 0. 0. 0. 0. 0. 0.]\n",
      "The the initial point: op-0, supob-2, city-0 \n",
      "\n",
      "Cur Gamma [0. 0. 0. 1. 0. 0. 0. 0. 0. 0.]\n",
      "The the next point: op-0, supob-4, city-3 \n",
      "\n",
      "Current value target  11.0\n",
      "Current company  10.0\n",
      "Delta [0. 0. 0. 0. 0. 0. 0. 0. 0. 1.]\n",
      "------------------------------------------------ \n",
      " \n",
      " \n",
      "Init gamma [0. 0. 0. 1. 0. 0. 0. 0. 0. 0.]\n",
      "The the initial point: op-0, supob-4, city-3 \n",
      "\n",
      "Cur Gamma [1. 0. 0. 0. 0. 0. 0. 0. 0. 0.]\n",
      "The the next point: op-0, supob-5, city-0 \n",
      "\n",
      "Current value target  8.0\n",
      "Current company  7.0\n",
      "Delta [0. 0. 0. 0. 0. 0. 1. 0. 0. 0.]\n",
      "------------------------------------------------ \n",
      " \n",
      " \n",
      "Init gamma [1. 0. 0. 0. 0. 0. 0. 0. 0. 0.]\n",
      "The the initial point: op-0, supob-5, city-0 \n",
      "\n",
      "Cur Gamma [0. 0. 0. 0. 0. 0. 0. 1. 0. 0.]\n",
      "The the next point: op-0, supob-6, city-7 \n",
      "\n",
      "Current value target  2.0\n",
      "Current company  1.0\n",
      "Delta [1. 0. 0. 0. 0. 0. 0. 0. 0. 0.]\n",
      "------------------------------------------------ \n",
      " \n",
      " \n",
      "Init gamma [0. 0. 0. 0. 0. 0. 0. 1. 0. 0.]\n",
      "The the initial point: op-0, supob-6, city-7 \n",
      "\n",
      "Cur Gamma [0. 0. 0. 0. 0. 0. 0. 1. 0. 0.]\n",
      "The the next point: op-0, supob-7, city-7 \n",
      "\n",
      "Current value target  5.0\n",
      "Current company  4.0\n",
      "Delta [0. 0. 0. 1. 0. 0. 0. 0. 0. 0.]\n",
      "------------------------------------------------ \n",
      " \n",
      " \n",
      "Init gamma [0. 0. 0. 0. 0. 0. 0. 0. 0. 0.]\n",
      "The the initial point: op-1, supob-7, city-7 \n",
      "\n",
      "Cur Gamma [0. 1. 0. 0. 0. 0. 0. 0. 0. 0.]\n",
      "The the next point: op-1, supob-0, city-1 \n",
      "\n",
      "Current value target  1.0\n",
      "Current company  0.0\n",
      "Delta [0. 0. 0. 0. 0. 0. 0. 0. 0. 0.]\n",
      "------------------------------------------------ \n",
      " \n",
      " \n",
      "Init gamma [0. 1. 0. 0. 0. 0. 0. 0. 0. 0.]\n",
      "The the initial point: op-1, supob-0, city-1 \n",
      "\n",
      "Cur Gamma [0. 0. 0. 1. 0. 0. 0. 0. 0. 0.]\n",
      "The the next point: op-1, supob-3, city-3 \n",
      "\n",
      "Current value target  5.0\n",
      "Current company  4.0\n",
      "Delta [0. 0. 0. 1. 0. 0. 0. 0. 0. 0.]\n",
      "------------------------------------------------ \n",
      " \n",
      " \n",
      "Init gamma [0. 0. 0. 1. 0. 0. 0. 0. 0. 0.]\n",
      "The the initial point: op-1, supob-3, city-3 \n",
      "\n",
      "Cur Gamma [1. 0. 0. 0. 0. 0. 0. 0. 0. 0.]\n",
      "The the next point: op-1, supob-5, city-0 \n",
      "\n",
      "Current value target  8.0\n",
      "Current company  7.0\n",
      "Delta [0. 0. 0. 0. 0. 0. 1. 0. 0. 0.]\n",
      "------------------------------------------------ \n",
      " \n",
      " \n",
      "Init gamma [1. 0. 0. 0. 0. 0. 0. 0. 0. 0.]\n",
      "The the initial point: op-1, supob-5, city-0 \n",
      "\n",
      "Cur Gamma [1. 0. 0. 0. 0. 0. 0. 0. 0. 0.]\n",
      "The the next point: op-1, supob-6, city-0 \n",
      "\n",
      "Current value target  4.0\n",
      "Current company  3.0\n",
      "Delta [0. 0. 1. 0. 0. 0. 0. 0. 0. 0.]\n",
      "------------------------------------------------ \n",
      " \n",
      " \n",
      "Init gamma [0. 0. 0. 0. 0. 0. 0. 0. 0. 0.]\n",
      "The the initial point: op-2, supob-6, city-0 \n",
      "\n",
      "Cur Gamma [0. 0. 0. 0. 0. 0. 0. 0. 0. 1.]\n",
      "The the next point: op-2, supob-0, city-9 \n",
      "\n",
      "Current value target  1.0\n",
      "Current company  0.0\n",
      "Delta [0. 0. 0. 0. 0. 0. 0. 0. 0. 0.]\n",
      "------------------------------------------------ \n",
      " \n",
      " \n",
      "Init gamma [0. 0. 0. 0. 0. 0. 0. 0. 0. 1.]\n",
      "The the initial point: op-2, supob-0, city-9 \n",
      "\n",
      "Cur Gamma [0. 0. 0. 0. 0. 0. 0. 0. 0. 1.]\n",
      "The the next point: op-2, supob-1, city-9 \n",
      "\n",
      "Current value target  3.0\n",
      "Current company  2.0\n",
      "Delta [0. 1. 0. 0. 0. 0. 0. 0. 0. 0.]\n",
      "------------------------------------------------ \n",
      " \n",
      " \n",
      "Init gamma [0. 0. 0. 0. 0. 0. 0. 0. 0. 1.]\n",
      "The the initial point: op-2, supob-1, city-9 \n",
      "\n",
      "Cur Gamma [0. 0. 0. 0. 0. 1. 0. 0. 0. 0.]\n",
      "The the next point: op-2, supob-4, city-5 \n",
      "\n",
      "Current value target  2.0\n",
      "Current company  1.0\n",
      "Delta [1. 0. 0. 0. 0. 0. 0. 0. 0. 0.]\n",
      "------------------------------------------------ \n",
      " \n",
      " \n",
      "Init gamma [0. 0. 0. 0. 0. 1. 0. 0. 0. 0.]\n",
      "The the initial point: op-2, supob-4, city-5 \n",
      "\n",
      "Cur Gamma [0. 0. 0. 0. 0. 0. 1. 0. 0. 0.]\n",
      "The the next point: op-2, supob-7, city-6 \n",
      "\n",
      "Current value target  6.0\n",
      "Current company  5.0\n",
      "Delta [0. 0. 0. 0. 1. 0. 0. 0. 0. 0.]\n",
      "------------------------------------------------ \n",
      " \n",
      " \n",
      "Init gamma [0. 0. 0. 0. 0. 0. 1. 0. 0. 0.]\n",
      "The the initial point: op-2, supob-7, city-6 \n",
      "\n",
      "Cur Gamma [0. 0. 0. 0. 0. 0. 1. 0. 0. 0.]\n",
      "The the next point: op-2, supob-8, city-6 \n",
      "\n",
      "Current value target  5.0\n",
      "Current company  4.0\n",
      "Delta [0. 0. 0. 1. 0. 0. 0. 0. 0. 0.]\n",
      "------------------------------------------------ \n",
      " \n",
      " \n",
      "Init gamma [0. 0. 0. 0. 0. 0. 1. 0. 0. 0.]\n",
      "The the initial point: op-2, supob-8, city-6 \n",
      "\n",
      "Cur Gamma [0. 0. 0. 1. 0. 0. 0. 0. 0. 0.]\n",
      "The the next point: op-2, supob-9, city-3 \n",
      "\n",
      "Current value target  9.0\n",
      "Current company  8.0\n",
      "Delta [0. 0. 0. 0. 0. 0. 0. 1. 0. 0.]\n",
      "------------------------------------------------ \n",
      " \n",
      " \n",
      "Init gamma [0. 0. 0. 1. 0. 0. 0. 0. 0. 0.]\n",
      "The the initial point: op-3, supob-9, city-3 \n",
      "\n",
      "Cur Gamma [0. 0. 0. 1. 0. 0. 0. 0. 0. 0.]\n",
      "The the next point: op-3, supob-1, city-3 \n",
      "\n",
      "Current value target  1.0\n",
      "Current company  0.0\n",
      "Delta [0. 0. 0. 0. 0. 0. 0. 0. 0. 0.]\n",
      "------------------------------------------------ \n",
      " \n",
      " \n",
      "Init gamma [0. 0. 0. 1. 0. 0. 0. 0. 0. 0.]\n",
      "The the initial point: op-3, supob-1, city-3 \n",
      "\n",
      "Cur Gamma [1. 0. 0. 0. 0. 0. 0. 0. 0. 0.]\n",
      "The the next point: op-3, supob-2, city-0 \n",
      "\n",
      "Current value target  8.0\n",
      "Current company  7.0\n",
      "Delta [0. 0. 0. 0. 0. 0. 1. 0. 0. 0.]\n",
      "------------------------------------------------ \n",
      " \n",
      " \n",
      "Init gamma [1. 0. 0. 0. 0. 0. 0. 0. 0. 0.]\n",
      "The the initial point: op-3, supob-2, city-0 \n",
      "\n",
      "Cur Gamma [0. 0. 0. 1. 0. 0. 0. 0. 0. 0.]\n",
      "The the next point: op-3, supob-3, city-3 \n",
      "\n",
      "Current value target  11.0\n",
      "Current company  10.0\n",
      "Delta [0. 0. 0. 0. 0. 0. 0. 0. 0. 1.]\n",
      "------------------------------------------------ \n",
      " \n",
      " \n",
      "Init gamma [0. 0. 0. 1. 0. 0. 0. 0. 0. 0.]\n",
      "The the initial point: op-3, supob-3, city-3 \n",
      "\n",
      "Cur Gamma [0. 0. 0. 1. 0. 0. 0. 0. 0. 0.]\n",
      "The the next point: op-3, supob-4, city-3 \n",
      "\n",
      "Current value target  11.0\n",
      "Current company  10.0\n",
      "Delta [0. 0. 0. 0. 0. 0. 0. 0. 0. 1.]\n",
      "------------------------------------------------ \n",
      " \n",
      " \n",
      "Init gamma [0. 0. 0. 1. 0. 0. 0. 0. 0. 0.]\n",
      "The the initial point: op-3, supob-4, city-3 \n",
      "\n",
      "Cur Gamma [0. 0. 0. 0. 0. 0. 0. 1. 0. 0.]\n",
      "The the next point: op-3, supob-6, city-7 \n",
      "\n",
      "Current value target  8.0\n",
      "Current company  7.0\n",
      "Delta [0. 0. 0. 0. 0. 0. 1. 0. 0. 0.]\n",
      "------------------------------------------------ \n",
      " \n",
      " \n",
      "Init gamma [0. 0. 0. 0. 0. 0. 0. 1. 0. 0.]\n",
      "The the initial point: op-3, supob-6, city-7 \n",
      "\n",
      "Cur Gamma [0. 0. 0. 0. 0. 0. 0. 1. 0. 0.]\n",
      "The the next point: op-3, supob-7, city-7 \n",
      "\n",
      "Current value target  9.0\n",
      "Current company  8.0\n",
      "Delta [0. 0. 0. 0. 0. 0. 0. 1. 0. 0.]\n",
      "------------------------------------------------ \n",
      " \n",
      " \n",
      "Init gamma [0. 0. 0. 0. 0. 0. 0. 1. 0. 0.]\n",
      "The the initial point: op-3, supob-7, city-7 \n",
      "\n",
      "Cur Gamma [0. 0. 0. 1. 0. 0. 0. 0. 0. 0.]\n",
      "The the next point: op-3, supob-9, city-3 \n",
      "\n",
      "Current value target  6.0\n",
      "Current company  5.0\n",
      "Delta [0. 0. 0. 0. 1. 0. 0. 0. 0. 0.]\n",
      "------------------------------------------------ \n",
      " \n",
      " \n",
      "Init gamma [0. 0. 0. 0. 0. 0. 0. 0. 0. 0.]\n",
      "The the initial point: op-4, supob-9, city-3 \n",
      "\n",
      "Cur Gamma [0. 1. 0. 0. 0. 0. 0. 0. 0. 0.]\n",
      "The the next point: op-4, supob-0, city-1 \n",
      "\n",
      "Current value target  1.0\n",
      "Current company  0.0\n",
      "Delta [0. 0. 0. 0. 0. 0. 0. 0. 0. 0.]\n",
      "------------------------------------------------ \n",
      " \n",
      " \n",
      "Init gamma [0. 1. 0. 0. 0. 0. 0. 0. 0. 0.]\n",
      "The the initial point: op-4, supob-0, city-1 \n",
      "\n",
      "Cur Gamma [0. 0. 0. 1. 0. 0. 0. 0. 0. 0.]\n",
      "The the next point: op-4, supob-1, city-3 \n",
      "\n",
      "Current value target  5.0\n",
      "Current company  4.0\n",
      "Delta [0. 0. 0. 1. 0. 0. 0. 0. 0. 0.]\n",
      "------------------------------------------------ \n",
      " \n",
      " \n",
      "Init gamma [0. 0. 0. 1. 0. 0. 0. 0. 0. 0.]\n",
      "The the initial point: op-4, supob-1, city-3 \n",
      "\n",
      "Cur Gamma [0. 0. 0. 1. 0. 0. 0. 0. 0. 0.]\n",
      "The the next point: op-4, supob-4, city-3 \n",
      "\n",
      "Current value target  2.0\n",
      "Current company  1.0\n",
      "Delta [1. 0. 0. 0. 0. 0. 0. 0. 0. 0.]\n",
      "------------------------------------------------ \n",
      " \n",
      " \n",
      "Init gamma [0. 0. 0. 1. 0. 0. 0. 0. 0. 0.]\n",
      "The the initial point: op-4, supob-4, city-3 \n",
      "\n",
      "Cur Gamma [1. 0. 0. 0. 0. 0. 0. 0. 0. 0.]\n",
      "The the next point: op-4, supob-5, city-0 \n",
      "\n",
      "Current value target  8.0\n",
      "Current company  7.0\n",
      "Delta [0. 0. 0. 0. 0. 0. 1. 0. 0. 0.]\n",
      "------------------------------------------------ \n",
      " \n",
      " \n",
      "Init gamma [1. 0. 0. 0. 0. 0. 0. 0. 0. 0.]\n",
      "The the initial point: op-4, supob-5, city-0 \n",
      "\n",
      "Cur Gamma [0. 0. 0. 0. 0. 0. 0. 1. 0. 0.]\n",
      "The the next point: op-4, supob-6, city-7 \n",
      "\n",
      "Current value target  2.0\n",
      "Current company  1.0\n",
      "Delta [1. 0. 0. 0. 0. 0. 0. 0. 0. 0.]\n",
      "------------------------------------------------ \n",
      " \n",
      " \n",
      "Init gamma [0. 0. 0. 0. 0. 0. 0. 1. 0. 0.]\n",
      "The the initial point: op-4, supob-6, city-7 \n",
      "\n",
      "Cur Gamma [0. 0. 0. 0. 0. 0. 0. 1. 0. 0.]\n",
      "The the next point: op-4, supob-7, city-7 \n",
      "\n",
      "Current value target  7.0\n",
      "Current company  6.0\n",
      "Delta [0. 0. 0. 0. 0. 1. 0. 0. 0. 0.]\n",
      "------------------------------------------------ \n",
      " \n",
      " \n"
     ]
    }
   ],
   "source": [
    "# Non zero target mask\n",
    "target_mask = graph.edata[\"target\"][os_type] != 0\n",
    "# take only non zero targets\n",
    "apl_targ = graph.edata[\"target\"][os_type][target_mask]\n",
    "# Operations matrix\n",
    "operations = train_problem['operations']\n",
    "# Return source and destination nodes from graph\n",
    "u, v = graph.edges(\n",
    "    etype=os_type,\n",
    ")\n",
    "# Mask applying\n",
    "u, v = u[target_mask], v[target_mask]\n",
    "\n",
    "# Create future delta\n",
    "new_delta = np.zeros((train_problem['n_services'], train_problem['n_cities'], train_problem['n_cities'],\n",
    "                      train_problem['n_suboperations'], train_problem['n_operations']))\n",
    "\n",
    "# Demonstration how it works:\n",
    "# Iterate through all operation index based on source (operations) nodes\n",
    "for i,(operation, sub_op) in enumerate(graph.ndata[\"operation_index\"][\"o\"][u]):\n",
    "        if i != 0:\n",
    "            sub_op = sub_op.item()\n",
    "            operation = operation.item()\n",
    "            # print the initial point:\n",
    "            prev_sub_op = graph.ndata[\"operation_index\"][\"o\"][u][i-1][1].item()\n",
    "            prev_city = v[i-1].item()\n",
    "            cur_city = v[i].item()\n",
    "            print('Init gamma', train_gamma[prev_sub_op, operation,:])\n",
    "            print(f'The the initial point: op-{operation}, supob-{prev_sub_op}, city-{prev_city} \\n')\n",
    "\n",
    "            # Print the next point:\n",
    "            print('Cur Gamma', train_gamma[sub_op, operation, :])\n",
    "            print(f'The the next point: op-{operation}, supob-{sub_op}, city-{cur_city} \\n')\n",
    "\n",
    "            # Print the current target value\n",
    "            print('Current value target ', apl_targ[i-1].item())\n",
    "            print('Current company ', apl_targ[i-1].item()-1)\n",
    "            \n",
    "            print('Delta', train_delta[:, prev_city, cur_city, sub_op, operation])\n",
    "            print('------------------------------------------------ \\n \\n ')\n",
    "            new_delta[int(apl_targ[i-1]-2),\n",
    "                        v[i-1],\n",
    "                        v[i],\n",
    "                        sub_op,\n",
    "                        operation] = 1"
   ]
  },
  {
   "cell_type": "markdown",
   "id": "731b1e13",
   "metadata": {},
   "source": [
    "## Restoring delta using gamma"
   ]
  },
  {
   "cell_type": "code",
   "execution_count": 60,
   "id": "ca998f2d",
   "metadata": {
    "metadata": {}
   },
   "outputs": [],
   "source": [
    "recons_delta = construct_delta(train_problem, pred_gamma_train)"
   ]
  },
  {
   "cell_type": "code",
   "execution_count": 81,
   "id": "cea9507e",
   "metadata": {
    "metadata": {}
   },
   "outputs": [
    {
     "data": {
      "text/plain": [
       "array([[0., 0., 0., 0., 0., 0., 0., 0., 0., 1.],\n",
       "       [0., 0., 0., 0., 0., 0., 0., 0., 0., 1.],\n",
       "       [0., 0., 0., 0., 0., 0., 0., 0., 0., 0.],\n",
       "       [0., 0., 0., 0., 0., 0., 0., 0., 0., 0.],\n",
       "       [0., 0., 0., 1., 0., 0., 0., 0., 0., 0.],\n",
       "       [1., 0., 0., 0., 0., 0., 0., 0., 0., 0.],\n",
       "       [0., 0., 0., 0., 0., 0., 0., 1., 0., 0.],\n",
       "       [0., 0., 0., 0., 0., 0., 0., 1., 0., 0.],\n",
       "       [0., 0., 0., 0., 0., 0., 0., 0., 0., 0.],\n",
       "       [0., 0., 0., 0., 0., 0., 0., 0., 0., 0.]])"
      ]
     },
     "execution_count": 81,
     "metadata": {},
     "output_type": "execute_result"
    }
   ],
   "source": [
    "pred_gamma_train[:, 4]"
   ]
  },
  {
   "cell_type": "code",
   "execution_count": 76,
   "id": "590c7f2c",
   "metadata": {
    "metadata": {}
   },
   "outputs": [
    {
     "data": {
      "text/plain": [
       "(array([2, 4, 5, 6, 7]), array([0, 3, 0, 7, 0]))"
      ]
     },
     "execution_count": 76,
     "metadata": {},
     "output_type": "execute_result"
    }
   ],
   "source": [
    "\n",
    "np.where(pred_gamma_train[:, 0] > 0)"
   ]
  },
  {
   "cell_type": "code",
   "execution_count": 71,
   "id": "66ca815c",
   "metadata": {
    "metadata": {}
   },
   "outputs": [
    {
     "data": {
      "text/plain": [
       "array([0., 0., 0., 0., 0., 0., 0., 0., 0., 0.])"
      ]
     },
     "execution_count": 71,
     "metadata": {},
     "output_type": "execute_result"
    }
   ],
   "source": [
    "recons_delta[:,0,3,4,0]"
   ]
  }
 ],
 "metadata": {
  "kernelspec": {
   "display_name": "Python 3 (ipykernel)",
   "language": "python",
   "name": "python3"
  },
  "language_info": {
   "codemirror_mode": {
    "name": "ipython",
    "version": 3
   },
   "file_extension": ".py",
   "mimetype": "text/x-python",
   "name": "python",
   "nbconvert_exporter": "python",
   "pygments_lexer": "ipython3",
   "version": "3.11.5"
  }
 },
 "nbformat": 4,
 "nbformat_minor": 5
}
