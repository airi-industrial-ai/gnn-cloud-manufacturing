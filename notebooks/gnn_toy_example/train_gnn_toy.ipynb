{
 "cells": [
  {
   "cell_type": "code",
   "execution_count": 24,
   "id": "a80f6c8c",
   "metadata": {},
   "outputs": [],
   "source": [
    "import torch\n",
    "from torch.optim import Adam\n",
    "import torch.nn.functional as F\n",
    "from tqdm.auto import trange\n",
    "import numpy as np\n",
    "import matplotlib.pyplot as plt\n",
    "from dgl.dataloading import GraphDataLoader\n",
    "from pytorch_lightning.loggers import CSVLogger\n",
    "from pytorch_lightning import Trainer\n",
    "import pandas as pd\n",
    "\n",
    "from gnncloudmanufacturing.data import read_fatahi_dataset\n",
    "from gnncloudmanufacturing.mip_solver import mip_solve\n",
    "from gnncloudmanufacturing.validation import total_cost_from_graph, total_cost_from_gamma, check_feasibility\n",
    "from gnncloudmanufacturing.utils import GraphDataset, delta_from_gamma, graph_from_problem, gamma_from_target, os_type, ss_type, so_type\n",
    "from gnncloudmanufacturing.graph_model import GNN"
   ]
  },
  {
   "cell_type": "code",
   "execution_count": 2,
   "id": "c1bc4be0",
   "metadata": {},
   "outputs": [
    {
     "data": {
      "application/vnd.jupyter.widget-view+json": {
       "model_id": "903b575fcc2047179264960c479db936",
       "version_major": 2,
       "version_minor": 0
      },
      "text/plain": [
       "  0%|          | 0/1 [00:00<?, ?it/s]"
      ]
     },
     "metadata": {},
     "output_type": "display_data"
    },
    {
     "data": {
      "text/plain": [
       "1"
      ]
     },
     "execution_count": 2,
     "metadata": {},
     "output_type": "execute_result"
    }
   ],
   "source": [
    "dataset = read_fatahi_dataset('toy.xlsx', sheet_names=['1,4,5-1'])\n",
    "len(dataset)"
   ]
  },
  {
   "cell_type": "code",
   "execution_count": 3,
   "id": "7217d69a",
   "metadata": {},
   "outputs": [
    {
     "data": {
      "text/plain": [
       "('1,4,5-1', '1,4,5-1')"
      ]
     },
     "execution_count": 3,
     "metadata": {},
     "output_type": "execute_result"
    }
   ],
   "source": [
    "train_problem = dataset[0]\n",
    "train_name = train_problem['name']\n",
    "\n",
    "val_problem = dataset[0]\n",
    "val_name = val_problem['name']\n",
    "\n",
    "train_name, val_name"
   ]
  },
  {
   "cell_type": "code",
   "execution_count": 4,
   "id": "9d853c76",
   "metadata": {},
   "outputs": [
    {
     "name": "stdout",
     "output_type": "stream",
     "text": [
      "Problem 1,4,5-1: 6.34\n"
     ]
    }
   ],
   "source": [
    "train_delta = np.load(f'delta.npy')\n",
    "train_gamma = np.load(f'gamma.npy')\n",
    "total_cost = total_cost_from_gamma(train_problem, train_gamma, train_delta)\n",
    "print(f'Problem {train_problem[\"name\"]}: {total_cost:.2f}')"
   ]
  },
  {
   "cell_type": "code",
   "execution_count": 5,
   "id": "78729b92",
   "metadata": {},
   "outputs": [
    {
     "name": "stdout",
     "output_type": "stream",
     "text": [
      "Problem 1,4,5-1: 6.34\n"
     ]
    }
   ],
   "source": [
    "val_delta = np.load(f'delta.npy')\n",
    "val_gamma = np.load(f'gamma.npy')\n",
    "total_cost = total_cost_from_gamma(val_problem, val_gamma, val_delta)\n",
    "print(f'Problem {val_problem[\"name\"]}: {total_cost:.2f}')"
   ]
  },
  {
   "cell_type": "code",
   "execution_count": 6,
   "id": "90f98ba0",
   "metadata": {},
   "outputs": [],
   "source": [
    "train_graph = graph_from_problem(train_problem, train_gamma)\n",
    "train_graph.edata['feat'][os_type][:, 0] /= 10\n",
    "train_graph.edata['feat'][ss_type][:] /= 100\n",
    "\n",
    "val_graph = graph_from_problem(val_problem, val_gamma)\n",
    "val_graph.edata['feat'][os_type][:, 0] /= 10\n",
    "val_graph.edata['feat'][ss_type][:] /= 100"
   ]
  },
  {
   "cell_type": "code",
   "execution_count": 7,
   "id": "35c50984",
   "metadata": {},
   "outputs": [],
   "source": [
    "train_dataset = GraphDataset([train_graph])\n",
    "val_dataset = GraphDataset([val_graph])"
   ]
  },
  {
   "cell_type": "code",
   "execution_count": 8,
   "id": "895f9f87",
   "metadata": {},
   "outputs": [],
   "source": [
    "train_dataloader = GraphDataLoader(train_dataset, batch_size=1)\n",
    "val_dataloader = GraphDataLoader(val_dataset, batch_size=1)"
   ]
  },
  {
   "cell_type": "code",
   "execution_count": 9,
   "id": "90746ddc",
   "metadata": {},
   "outputs": [
    {
     "data": {
      "text/plain": [
       "GNN(\n",
       "  (convs): ModuleList(\n",
       "    (0): AttnConvLayer(\n",
       "      (W_s): Linear(in_features=1, out_features=16, bias=True)\n",
       "      (W_os): Linear(in_features=6, out_features=16, bias=True)\n",
       "      (W_ss): Linear(in_features=2, out_features=16, bias=True)\n",
       "      (attn): Linear(in_features=32, out_features=1, bias=True)\n",
       "      (W_in): Linear(in_features=4, out_features=16, bias=True)\n",
       "      (W_self): Linear(in_features=4, out_features=16, bias=True)\n",
       "      (W_out): Linear(in_features=4, out_features=16, bias=True)\n",
       "      (W_o): Linear(in_features=48, out_features=16, bias=True)\n",
       "    )\n",
       "  )\n",
       "  (dec): DotProductDecoder()\n",
       ")"
      ]
     },
     "execution_count": 9,
     "metadata": {},
     "output_type": "execute_result"
    }
   ],
   "source": [
    "model = GNN(\n",
    "    ins_dim=1,\n",
    "    ino_dim=train_problem['n_operations'],\n",
    "    out_dim=16,\n",
    "    n_layers=1,\n",
    "    lr=0.001,\n",
    ")\n",
    "model"
   ]
  },
  {
   "cell_type": "code",
   "execution_count": 10,
   "id": "00e34a59",
   "metadata": {},
   "outputs": [
    {
     "name": "stderr",
     "output_type": "stream",
     "text": [
      "GPU available: True (mps), used: False\n",
      "TPU available: False, using: 0 TPU cores\n",
      "HPU available: False, using: 0 HPUs\n",
      "/Users/vitaliypozdnyakov/miniconda3/envs/gnn/lib/python3.10/site-packages/pytorch_lightning/trainer/setup.py:177: GPU available but not used. You can set it by doing `Trainer(accelerator='gpu')`.\n"
     ]
    }
   ],
   "source": [
    "trainer = Trainer(\n",
    "    enable_progress_bar=False,\n",
    "    max_epochs=1000,\n",
    "    log_every_n_steps=1,\n",
    "    logger=CSVLogger('.'),\n",
    "    accelerator='cpu',\n",
    ")"
   ]
  },
  {
   "cell_type": "code",
   "execution_count": 11,
   "id": "e9a454b9",
   "metadata": {
    "scrolled": false
   },
   "outputs": [
    {
     "name": "stderr",
     "output_type": "stream",
     "text": [
      "\n",
      "  | Name  | Type              | Params | Mode \n",
      "----------------------------------------------------\n",
      "0 | convs | ModuleList        | 1.2 K  | train\n",
      "1 | dec   | DotProductDecoder | 0      | train\n",
      "----------------------------------------------------\n",
      "1.2 K     Trainable params\n",
      "0         Non-trainable params\n",
      "1.2 K     Total params\n",
      "0.005     Total estimated model params size (MB)\n",
      "11        Modules in train mode\n",
      "0         Modules in eval mode\n",
      "/Users/vitaliypozdnyakov/miniconda3/envs/gnn/lib/python3.10/site-packages/pytorch_lightning/trainer/connectors/data_connector.py:424: The 'val_dataloader' does not have many workers which may be a bottleneck. Consider increasing the value of the `num_workers` argument` to `num_workers=7` in the `DataLoader` to improve performance.\n",
      "/Users/vitaliypozdnyakov/miniconda3/envs/gnn/lib/python3.10/site-packages/pytorch_lightning/trainer/connectors/data_connector.py:424: The 'train_dataloader' does not have many workers which may be a bottleneck. Consider increasing the value of the `num_workers` argument` to `num_workers=7` in the `DataLoader` to improve performance.\n",
      "`Trainer.fit` stopped: `max_epochs=1000` reached.\n"
     ]
    }
   ],
   "source": [
    "trainer.fit(\n",
    "    model=model, \n",
    "    train_dataloaders=train_dataloader,\n",
    "    val_dataloaders=val_dataloader,\n",
    ")"
   ]
  },
  {
   "cell_type": "code",
   "execution_count": 12,
   "id": "baf304b8",
   "metadata": {},
   "outputs": [
    {
     "data": {
      "image/png": "[encoded data removed]",
      "text/plain": [
       "<Figure size 640x480 with 1 Axes>"
      ]
     },
     "metadata": {},
     "output_type": "display_data"
    }
   ],
   "source": [
    "metrics = pd.read_csv(f'lightning_logs/version_{trainer.logger.version}/metrics.csv')\n",
    "plt.plot(metrics.train_loss.dropna(), label='train loss')\n",
    "plt.plot(metrics.val_loss.dropna(), label='val loss')\n",
    "plt.legend()\n",
    "plt.show()"
   ]
  },
  {
   "cell_type": "code",
   "execution_count": 13,
   "id": "d943c25b",
   "metadata": {},
   "outputs": [
    {
     "data": {
      "image/png": "[encoded data removed]",
      "text/plain": [
       "<Figure size 640x480 with 1 Axes>"
      ]
     },
     "metadata": {},
     "output_type": "display_data"
    }
   ],
   "source": [
    "plt.plot(metrics.val_total_cost.dropna(), label='val_total_cost')\n",
    "plt.legend()\n",
    "plt.show()"
   ]
  },
  {
   "cell_type": "code",
   "execution_count": 31,
   "id": "e1fa6aa0",
   "metadata": {
    "scrolled": false
   },
   "outputs": [],
   "source": [
    "with torch.no_grad():\n",
    "    logits = model(val_graph)\n",
    "target = val_graph.edata['target'][os_type]\n",
    "pred = model.predict(val_graph)"
   ]
  },
  {
   "cell_type": "code",
   "execution_count": 32,
   "id": "4bd1ddbf",
   "metadata": {},
   "outputs": [
    {
     "data": {
      "image/png": "[encoded data removed]",
      "text/plain": [
       "<Figure size 2000x100 with 1 Axes>"
      ]
     },
     "metadata": {},
     "output_type": "display_data"
    }
   ],
   "source": [
    "plt.figure(figsize=(20, 1))\n",
    "plt.bar(np.arange(len(logits)), torch.sigmoid(logits)[:, 0], alpha=0.4)\n",
    "plt.bar(np.arange(len(logits)), target[:, 0], alpha=0.4)\n",
    "plt.show()"
   ]
  },
  {
   "cell_type": "code",
   "execution_count": 33,
   "id": "b830d51f",
   "metadata": {},
   "outputs": [
    {
     "data": {
      "image/png": "[encoded data removed]",
      "text/plain": [
       "<Figure size 2000x100 with 1 Axes>"
      ]
     },
     "metadata": {},
     "output_type": "display_data"
    }
   ],
   "source": [
    "plt.figure(figsize=(20, 1))\n",
    "plt.bar(np.arange(len(logits)), pred[:, 0], alpha=0.4)\n",
    "plt.bar(np.arange(len(logits)), target[:, 0], alpha=0.4)\n",
    "plt.show()"
   ]
  },
  {
   "cell_type": "code",
   "execution_count": 34,
   "id": "d17415d1",
   "metadata": {},
   "outputs": [],
   "source": [
    "gamma = gamma_from_target(pred, val_graph, val_problem)\n",
    "delta = delta_from_gamma(val_problem, gamma)\n",
    "check_feasibility(gamma, delta, val_problem)"
   ]
  },
  {
   "cell_type": "code",
   "execution_count": null,
   "id": "d806717d",
   "metadata": {},
   "outputs": [],
   "source": []
  }
 ],
 "metadata": {
  "kernelspec": {
   "display_name": "Python 3 (ipykernel)",
   "language": "python",
   "name": "python3"
  },
  "language_info": {
   "codemirror_mode": {
    "name": "ipython",
    "version": 3
   },
   "file_extension": ".py",
   "mimetype": "text/x-python",
   "name": "python",
   "nbconvert_exporter": "python",
   "pygments_lexer": "ipython3",
   "version": "3.10.14"
  }
 },
 "nbformat": 4,
 "nbformat_minor": 5
}
