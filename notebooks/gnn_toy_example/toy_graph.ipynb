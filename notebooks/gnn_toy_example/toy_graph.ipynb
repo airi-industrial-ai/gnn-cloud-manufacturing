{
 "cells": [
  {
   "cell_type": "code",
   "execution_count": 26,
   "id": "b25b615d",
   "metadata": {},
   "outputs": [],
   "source": [
    "from gnncloudmanufacturing.data import read_fatahi_dataset\n",
    "from gnncloudmanufacturing.mip_solver import mip_solve\n",
    "from gnncloudmanufacturing.validation import total_cost_from_gamma, check_feasibility\n",
    "from gnncloudmanufacturing.utils import delta_from_gamma\n",
    "\n",
    "import networkx as nx\n",
    "import numpy as np\n",
    "import pandas as pd\n",
    "from sklearn.preprocessing import OneHotEncoder\n",
    "import matplotlib.pyplot as plt"
   ]
  },
  {
   "cell_type": "code",
   "execution_count": 59,
   "id": "33fc3c8b",
   "metadata": {},
   "outputs": [
    {
     "data": {
      "image/png": "[encoded data removed]",
      "text/plain": [
       "<Figure size 640x480 with 1 Axes>"
      ]
     },
     "metadata": {},
     "output_type": "display_data"
    }
   ],
   "source": [
    "X = np.array([\n",
    "    [-1.0,  0.0],\n",
    "    [-0.5,  0.5],\n",
    "    [-0.2, -1.0],\n",
    "    [ 0.5, -0.5],\n",
    "    [ 1.0,  0.5],\n",
    "])\n",
    "plt.scatter(X[:, 0], X[:, 1]);"
   ]
  },
  {
   "cell_type": "code",
   "execution_count": 60,
   "id": "02f816ac",
   "metadata": {},
   "outputs": [
    {
     "name": "stdout",
     "output_type": "stream",
     "text": [
      "[[0.         0.70710678 1.28062485 1.58113883 2.06155281]\n",
      " [0.70710678 0.         1.52970585 1.41421356 1.5       ]\n",
      " [1.28062485 1.52970585 0.         0.86023253 1.92093727]\n",
      " [1.58113883 1.41421356 0.86023253 0.         1.11803399]\n",
      " [2.06155281 1.5        1.92093727 1.11803399 0.        ]]\n"
     ]
    }
   ],
   "source": [
    "dist = np.sum((X[:, None, :] - X[None, :, :])**2, axis=2)**0.5\n",
    "print(dist)"
   ]
  },
  {
   "cell_type": "code",
   "execution_count": 61,
   "id": "32043ff1",
   "metadata": {},
   "outputs": [],
   "source": [
    "pd.DataFrame(dist).to_excel('dist.xlsx')"
   ]
  },
  {
   "cell_type": "code",
   "execution_count": 62,
   "id": "9025d0e3",
   "metadata": {},
   "outputs": [
    {
     "data": {
      "application/vnd.jupyter.widget-view+json": {
       "model_id": "0f0113c7246742069fc9deeddfea57cf",
       "version_major": 2,
       "version_minor": 0
      },
      "text/plain": [
       "  0%|          | 0/1 [00:00<?, ?it/s]"
      ]
     },
     "metadata": {},
     "output_type": "display_data"
    },
    {
     "data": {
      "text/plain": [
       "dict_keys(['name', 'n_tasks', 'n_operations', 'n_cities', 'n_services', 'operation', 'dist', 'time_cost', 'op_cost', 'productivity', 'transportation_cost'])"
      ]
     },
     "execution_count": 62,
     "metadata": {},
     "output_type": "execute_result"
    }
   ],
   "source": [
    "dataset = read_fatahi_dataset('toy.xlsx', sheet_names=['1,4,5-1'])\n",
    "problem = dataset[0]\n",
    "problem.keys()"
   ]
  },
  {
   "cell_type": "code",
   "execution_count": 63,
   "id": "8b810a23",
   "metadata": {},
   "outputs": [],
   "source": [
    "n_tasks = problem['n_tasks']\n",
    "n_operations = problem['n_operations']\n",
    "n_cities = problem['n_cities']\n",
    "n_services = problem['n_services']\n",
    "operation = problem['operation']\n",
    "dist = problem['dist']\n",
    "time_cost = problem['time_cost']\n",
    "op_cost = problem['op_cost']\n",
    "productivity = problem['productivity']\n",
    "transportation_cost = problem['transportation_cost']"
   ]
  },
  {
   "cell_type": "code",
   "execution_count": 64,
   "id": "3df54c86",
   "metadata": {},
   "outputs": [
    {
     "data": {
      "text/plain": [
       "(1, 4, 5, 1)"
      ]
     },
     "execution_count": 64,
     "metadata": {},
     "output_type": "execute_result"
    }
   ],
   "source": [
    "problem['n_tasks'], problem['n_operations'], problem['n_cities'], problem['n_services']"
   ]
  },
  {
   "cell_type": "code",
   "execution_count": 65,
   "id": "62ab78a3",
   "metadata": {},
   "outputs": [
    {
     "name": "stdout",
     "output_type": "stream",
     "text": [
      "operation:\n"
     ]
    },
    {
     "data": {
      "text/html": [
       "<div>\n",
       "<style scoped>\n",
       "    .dataframe tbody tr th:only-of-type {\n",
       "        vertical-align: middle;\n",
       "    }\n",
       "\n",
       "    .dataframe tbody tr th {\n",
       "        vertical-align: top;\n",
       "    }\n",
       "\n",
       "    .dataframe thead th {\n",
       "        text-align: right;\n",
       "    }\n",
       "</style>\n",
       "<table border=\"1\" class=\"dataframe\">\n",
       "  <thead>\n",
       "    <tr style=\"text-align: right;\">\n",
       "      <th></th>\n",
       "      <th>task 1</th>\n",
       "    </tr>\n",
       "  </thead>\n",
       "  <tbody>\n",
       "    <tr>\n",
       "      <th>operation 1</th>\n",
       "      <td>1</td>\n",
       "    </tr>\n",
       "    <tr>\n",
       "      <th>operation 2</th>\n",
       "      <td>1</td>\n",
       "    </tr>\n",
       "    <tr>\n",
       "      <th>operation 3</th>\n",
       "      <td>1</td>\n",
       "    </tr>\n",
       "    <tr>\n",
       "      <th>operation 4</th>\n",
       "      <td>1</td>\n",
       "    </tr>\n",
       "  </tbody>\n",
       "</table>\n",
       "</div>"
      ],
      "text/plain": [
       "             task 1\n",
       "operation 1       1\n",
       "operation 2       1\n",
       "operation 3       1\n",
       "operation 4       1"
      ]
     },
     "metadata": {},
     "output_type": "display_data"
    },
    {
     "name": "stdout",
     "output_type": "stream",
     "text": [
      "distance:\n"
     ]
    },
    {
     "data": {
      "text/html": [
       "<div>\n",
       "<style scoped>\n",
       "    .dataframe tbody tr th:only-of-type {\n",
       "        vertical-align: middle;\n",
       "    }\n",
       "\n",
       "    .dataframe tbody tr th {\n",
       "        vertical-align: top;\n",
       "    }\n",
       "\n",
       "    .dataframe thead th {\n",
       "        text-align: right;\n",
       "    }\n",
       "</style>\n",
       "<table border=\"1\" class=\"dataframe\">\n",
       "  <thead>\n",
       "    <tr style=\"text-align: right;\">\n",
       "      <th></th>\n",
       "      <th>city 0</th>\n",
       "      <th>city 1</th>\n",
       "      <th>city 2</th>\n",
       "      <th>city 3</th>\n",
       "      <th>city 4</th>\n",
       "    </tr>\n",
       "  </thead>\n",
       "  <tbody>\n",
       "    <tr>\n",
       "      <th>city 0</th>\n",
       "      <td>0.00</td>\n",
       "      <td>0.71</td>\n",
       "      <td>1.28</td>\n",
       "      <td>1.58</td>\n",
       "      <td>2.06</td>\n",
       "    </tr>\n",
       "    <tr>\n",
       "      <th>city 1</th>\n",
       "      <td>0.71</td>\n",
       "      <td>0.00</td>\n",
       "      <td>1.53</td>\n",
       "      <td>1.41</td>\n",
       "      <td>1.50</td>\n",
       "    </tr>\n",
       "    <tr>\n",
       "      <th>city 2</th>\n",
       "      <td>1.28</td>\n",
       "      <td>1.53</td>\n",
       "      <td>0.00</td>\n",
       "      <td>0.86</td>\n",
       "      <td>1.92</td>\n",
       "    </tr>\n",
       "    <tr>\n",
       "      <th>city 3</th>\n",
       "      <td>1.58</td>\n",
       "      <td>1.41</td>\n",
       "      <td>0.86</td>\n",
       "      <td>0.00</td>\n",
       "      <td>1.12</td>\n",
       "    </tr>\n",
       "    <tr>\n",
       "      <th>city 4</th>\n",
       "      <td>2.06</td>\n",
       "      <td>1.50</td>\n",
       "      <td>1.92</td>\n",
       "      <td>1.12</td>\n",
       "      <td>0.00</td>\n",
       "    </tr>\n",
       "  </tbody>\n",
       "</table>\n",
       "</div>"
      ],
      "text/plain": [
       "        city 0  city 1  city 2  city 3  city 4\n",
       "city 0    0.00    0.71    1.28    1.58    2.06\n",
       "city 1    0.71    0.00    1.53    1.41    1.50\n",
       "city 2    1.28    1.53    0.00    0.86    1.92\n",
       "city 3    1.58    1.41    0.86    0.00    1.12\n",
       "city 4    2.06    1.50    1.92    1.12    0.00"
      ]
     },
     "metadata": {},
     "output_type": "display_data"
    },
    {
     "name": "stdout",
     "output_type": "stream",
     "text": [
      "time cost:\n"
     ]
    },
    {
     "data": {
      "text/html": [
       "<div>\n",
       "<style scoped>\n",
       "    .dataframe tbody tr th:only-of-type {\n",
       "        vertical-align: middle;\n",
       "    }\n",
       "\n",
       "    .dataframe tbody tr th {\n",
       "        vertical-align: top;\n",
       "    }\n",
       "\n",
       "    .dataframe thead th {\n",
       "        text-align: right;\n",
       "    }\n",
       "</style>\n",
       "<table border=\"1\" class=\"dataframe\">\n",
       "  <thead>\n",
       "    <tr style=\"text-align: right;\">\n",
       "      <th></th>\n",
       "      <th>city 0</th>\n",
       "      <th>city 1</th>\n",
       "      <th>city 2</th>\n",
       "      <th>city 3</th>\n",
       "      <th>city 4</th>\n",
       "    </tr>\n",
       "  </thead>\n",
       "  <tbody>\n",
       "    <tr>\n",
       "      <th>operation 1</th>\n",
       "      <td>1.0</td>\n",
       "      <td>99.0</td>\n",
       "      <td>1.0</td>\n",
       "      <td>99.0</td>\n",
       "      <td>99.0</td>\n",
       "    </tr>\n",
       "    <tr>\n",
       "      <th>operation 2</th>\n",
       "      <td>1.0</td>\n",
       "      <td>1.0</td>\n",
       "      <td>99.0</td>\n",
       "      <td>99.0</td>\n",
       "      <td>99.0</td>\n",
       "    </tr>\n",
       "    <tr>\n",
       "      <th>operation 3</th>\n",
       "      <td>1.0</td>\n",
       "      <td>99.0</td>\n",
       "      <td>1.0</td>\n",
       "      <td>99.0</td>\n",
       "      <td>99.0</td>\n",
       "    </tr>\n",
       "    <tr>\n",
       "      <th>operation 4</th>\n",
       "      <td>99.0</td>\n",
       "      <td>1.0</td>\n",
       "      <td>99.0</td>\n",
       "      <td>1.0</td>\n",
       "      <td>1.0</td>\n",
       "    </tr>\n",
       "  </tbody>\n",
       "</table>\n",
       "</div>"
      ],
      "text/plain": [
       "             city 0  city 1  city 2  city 3  city 4\n",
       "operation 1     1.0    99.0     1.0    99.0    99.0\n",
       "operation 2     1.0     1.0    99.0    99.0    99.0\n",
       "operation 3     1.0    99.0     1.0    99.0    99.0\n",
       "operation 4    99.0     1.0    99.0     1.0     1.0"
      ]
     },
     "metadata": {},
     "output_type": "display_data"
    },
    {
     "name": "stdout",
     "output_type": "stream",
     "text": [
      "operation cost:\n"
     ]
    },
    {
     "data": {
      "text/html": [
       "<div>\n",
       "<style scoped>\n",
       "    .dataframe tbody tr th:only-of-type {\n",
       "        vertical-align: middle;\n",
       "    }\n",
       "\n",
       "    .dataframe tbody tr th {\n",
       "        vertical-align: top;\n",
       "    }\n",
       "\n",
       "    .dataframe thead th {\n",
       "        text-align: right;\n",
       "    }\n",
       "</style>\n",
       "<table border=\"1\" class=\"dataframe\">\n",
       "  <thead>\n",
       "    <tr style=\"text-align: right;\">\n",
       "      <th></th>\n",
       "      <th>city 0</th>\n",
       "      <th>city 1</th>\n",
       "      <th>city 2</th>\n",
       "      <th>city 3</th>\n",
       "      <th>city 4</th>\n",
       "    </tr>\n",
       "  </thead>\n",
       "  <tbody>\n",
       "    <tr>\n",
       "      <th>operation 1</th>\n",
       "      <td>2.0</td>\n",
       "      <td>999.0</td>\n",
       "      <td>1.0</td>\n",
       "      <td>999.0</td>\n",
       "      <td>999.0</td>\n",
       "    </tr>\n",
       "    <tr>\n",
       "      <th>operation 2</th>\n",
       "      <td>2.0</td>\n",
       "      <td>2.0</td>\n",
       "      <td>999.0</td>\n",
       "      <td>999.0</td>\n",
       "      <td>999.0</td>\n",
       "    </tr>\n",
       "    <tr>\n",
       "      <th>operation 3</th>\n",
       "      <td>2.0</td>\n",
       "      <td>999.0</td>\n",
       "      <td>1.0</td>\n",
       "      <td>999.0</td>\n",
       "      <td>999.0</td>\n",
       "    </tr>\n",
       "    <tr>\n",
       "      <th>operation 4</th>\n",
       "      <td>999.0</td>\n",
       "      <td>2.0</td>\n",
       "      <td>999.0</td>\n",
       "      <td>2.0</td>\n",
       "      <td>1.0</td>\n",
       "    </tr>\n",
       "  </tbody>\n",
       "</table>\n",
       "</div>"
      ],
      "text/plain": [
       "             city 0  city 1  city 2  city 3  city 4\n",
       "operation 1     2.0   999.0     1.0   999.0   999.0\n",
       "operation 2     2.0     2.0   999.0   999.0   999.0\n",
       "operation 3     2.0   999.0     1.0   999.0   999.0\n",
       "operation 4   999.0     2.0   999.0     2.0     1.0"
      ]
     },
     "metadata": {},
     "output_type": "display_data"
    },
    {
     "name": "stdout",
     "output_type": "stream",
     "text": [
      "productivity:\n"
     ]
    },
    {
     "data": {
      "text/html": [
       "<div>\n",
       "<style scoped>\n",
       "    .dataframe tbody tr th:only-of-type {\n",
       "        vertical-align: middle;\n",
       "    }\n",
       "\n",
       "    .dataframe tbody tr th {\n",
       "        vertical-align: top;\n",
       "    }\n",
       "\n",
       "    .dataframe thead th {\n",
       "        text-align: right;\n",
       "    }\n",
       "</style>\n",
       "<table border=\"1\" class=\"dataframe\">\n",
       "  <thead>\n",
       "    <tr style=\"text-align: right;\">\n",
       "      <th></th>\n",
       "      <th>city 0</th>\n",
       "      <th>city 1</th>\n",
       "      <th>city 2</th>\n",
       "      <th>city 3</th>\n",
       "      <th>city 4</th>\n",
       "    </tr>\n",
       "  </thead>\n",
       "  <tbody>\n",
       "    <tr>\n",
       "      <th>0</th>\n",
       "      <td>1.0</td>\n",
       "      <td>1.0</td>\n",
       "      <td>1.0</td>\n",
       "      <td>1.0</td>\n",
       "      <td>1.0</td>\n",
       "    </tr>\n",
       "  </tbody>\n",
       "</table>\n",
       "</div>"
      ],
      "text/plain": [
       "   city 0  city 1  city 2  city 3  city 4\n",
       "0     1.0     1.0     1.0     1.0     1.0"
      ]
     },
     "metadata": {},
     "output_type": "display_data"
    },
    {
     "name": "stdout",
     "output_type": "stream",
     "text": [
      "transportation cost:  [0.3]\n"
     ]
    }
   ],
   "source": [
    "city_names = [f'city {i}' for i in range(n_cities)]\n",
    "op_names = [f'operation {i+1}' for i in range(n_operations)]\n",
    "tasks = [f'task {i+1}' for i in range(n_tasks)]\n",
    "print('operation:')\n",
    "display(pd.DataFrame(operation.astype(int), index=op_names, columns=tasks))\n",
    "print('distance:')\n",
    "display(pd.DataFrame(dist.round(2), index=city_names, columns=city_names))\n",
    "print('time cost:')\n",
    "display(pd.DataFrame(time_cost.round(2), index=op_names, columns=city_names))\n",
    "print('operation cost:')\n",
    "display(pd.DataFrame(op_cost.round(2), index=op_names, columns=city_names))\n",
    "print('productivity:')\n",
    "display(pd.DataFrame(productivity[None, :].round(2), columns=city_names))\n",
    "print('transportation cost: ', transportation_cost)"
   ]
  },
  {
   "cell_type": "code",
   "execution_count": 66,
   "id": "7e68d3d2",
   "metadata": {},
   "outputs": [
    {
     "data": {
      "text/plain": [
       "array([[0, 0],\n",
       "       [0, 1],\n",
       "       [0, 2],\n",
       "       [0, 3]])"
      ]
     },
     "execution_count": 66,
     "metadata": {},
     "output_type": "execute_result"
    }
   ],
   "source": [
    "operation_index = []\n",
    "for i in range(n_tasks):\n",
    "    for j in range(n_operations):\n",
    "        if operation[j, i] == 1:\n",
    "            operation_index.append((i, j))\n",
    "operation_index = np.array(operation_index)\n",
    "operation_index"
   ]
  },
  {
   "cell_type": "code",
   "execution_count": 67,
   "id": "d330a802",
   "metadata": {},
   "outputs": [],
   "source": [
    "full_op_names = [f'{i}_{j}' for (i, j) in operation_index]"
   ]
  },
  {
   "cell_type": "code",
   "execution_count": 68,
   "id": "b0fa09a5",
   "metadata": {},
   "outputs": [
    {
     "data": {
      "text/html": [
       "<div>\n",
       "<style scoped>\n",
       "    .dataframe tbody tr th:only-of-type {\n",
       "        vertical-align: middle;\n",
       "    }\n",
       "\n",
       "    .dataframe tbody tr th {\n",
       "        vertical-align: top;\n",
       "    }\n",
       "\n",
       "    .dataframe thead th {\n",
       "        text-align: right;\n",
       "    }\n",
       "</style>\n",
       "<table border=\"1\" class=\"dataframe\">\n",
       "  <thead>\n",
       "    <tr style=\"text-align: right;\">\n",
       "      <th></th>\n",
       "      <th>0_0</th>\n",
       "      <th>0_1</th>\n",
       "      <th>0_2</th>\n",
       "      <th>0_3</th>\n",
       "    </tr>\n",
       "  </thead>\n",
       "  <tbody>\n",
       "    <tr>\n",
       "      <th>0_0</th>\n",
       "      <td>0</td>\n",
       "      <td>1</td>\n",
       "      <td>0</td>\n",
       "      <td>0</td>\n",
       "    </tr>\n",
       "    <tr>\n",
       "      <th>0_1</th>\n",
       "      <td>0</td>\n",
       "      <td>0</td>\n",
       "      <td>1</td>\n",
       "      <td>0</td>\n",
       "    </tr>\n",
       "    <tr>\n",
       "      <th>0_2</th>\n",
       "      <td>0</td>\n",
       "      <td>0</td>\n",
       "      <td>0</td>\n",
       "      <td>1</td>\n",
       "    </tr>\n",
       "    <tr>\n",
       "      <th>0_3</th>\n",
       "      <td>0</td>\n",
       "      <td>0</td>\n",
       "      <td>0</td>\n",
       "      <td>0</td>\n",
       "    </tr>\n",
       "  </tbody>\n",
       "</table>\n",
       "</div>"
      ],
      "text/plain": [
       "     0_0  0_1  0_2  0_3\n",
       "0_0    0    1    0    0\n",
       "0_1    0    0    1    0\n",
       "0_2    0    0    0    1\n",
       "0_3    0    0    0    0"
      ]
     },
     "metadata": {},
     "output_type": "display_data"
    }
   ],
   "source": [
    "adj_operation = np.zeros((operation_index.shape[0], operation_index.shape[0]))\n",
    "for i in range(operation.shape[1]):\n",
    "    col_i = operation[:, i]\n",
    "    path = np.where(col_i > 0)[0]\n",
    "    for j in range(len(path) - 1):\n",
    "        u = operation_index.tolist().index([i, path[j]])\n",
    "        v = operation_index.tolist().index([i, path[j+1]])\n",
    "        adj_operation[u, v] = 1\n",
    "display(pd.DataFrame(adj_operation, index=full_op_names, columns=full_op_names).astype(int))"
   ]
  },
  {
   "cell_type": "code",
   "execution_count": 69,
   "id": "75382ac8",
   "metadata": {},
   "outputs": [
    {
     "data": {
      "text/html": [
       "<div>\n",
       "<style scoped>\n",
       "    .dataframe tbody tr th:only-of-type {\n",
       "        vertical-align: middle;\n",
       "    }\n",
       "\n",
       "    .dataframe tbody tr th {\n",
       "        vertical-align: top;\n",
       "    }\n",
       "\n",
       "    .dataframe thead th {\n",
       "        text-align: right;\n",
       "    }\n",
       "</style>\n",
       "<table border=\"1\" class=\"dataframe\">\n",
       "  <thead>\n",
       "    <tr style=\"text-align: right;\">\n",
       "      <th></th>\n",
       "      <th>city 0</th>\n",
       "      <th>city 1</th>\n",
       "      <th>city 2</th>\n",
       "      <th>city 3</th>\n",
       "      <th>city 4</th>\n",
       "    </tr>\n",
       "  </thead>\n",
       "  <tbody>\n",
       "    <tr>\n",
       "      <th>0_0</th>\n",
       "      <td>1.0</td>\n",
       "      <td>99.0</td>\n",
       "      <td>1.0</td>\n",
       "      <td>99.0</td>\n",
       "      <td>99.0</td>\n",
       "    </tr>\n",
       "    <tr>\n",
       "      <th>0_1</th>\n",
       "      <td>1.0</td>\n",
       "      <td>1.0</td>\n",
       "      <td>99.0</td>\n",
       "      <td>99.0</td>\n",
       "      <td>99.0</td>\n",
       "    </tr>\n",
       "    <tr>\n",
       "      <th>0_2</th>\n",
       "      <td>1.0</td>\n",
       "      <td>99.0</td>\n",
       "      <td>1.0</td>\n",
       "      <td>99.0</td>\n",
       "      <td>99.0</td>\n",
       "    </tr>\n",
       "    <tr>\n",
       "      <th>0_3</th>\n",
       "      <td>99.0</td>\n",
       "      <td>1.0</td>\n",
       "      <td>99.0</td>\n",
       "      <td>1.0</td>\n",
       "      <td>1.0</td>\n",
       "    </tr>\n",
       "  </tbody>\n",
       "</table>\n",
       "</div>"
      ],
      "text/plain": [
       "     city 0  city 1  city 2  city 3  city 4\n",
       "0_0     1.0    99.0     1.0    99.0    99.0\n",
       "0_1     1.0     1.0    99.0    99.0    99.0\n",
       "0_2     1.0    99.0     1.0    99.0    99.0\n",
       "0_3    99.0     1.0    99.0     1.0     1.0"
      ]
     },
     "metadata": {},
     "output_type": "display_data"
    }
   ],
   "source": [
    "full_time_cost = np.tile(time_cost, (operation.shape[1], 1))\n",
    "full_time_cost = full_time_cost[operation.T.reshape(-1).astype(bool)]\n",
    "display(pd.DataFrame(full_time_cost, index=full_op_names, columns=city_names))"
   ]
  },
  {
   "cell_type": "code",
   "execution_count": 96,
   "id": "b8dc9dc8",
   "metadata": {},
   "outputs": [
    {
     "data": {
      "text/html": [
       "<div>\n",
       "<style scoped>\n",
       "    .dataframe tbody tr th:only-of-type {\n",
       "        vertical-align: middle;\n",
       "    }\n",
       "\n",
       "    .dataframe tbody tr th {\n",
       "        vertical-align: top;\n",
       "    }\n",
       "\n",
       "    .dataframe thead th {\n",
       "        text-align: right;\n",
       "    }\n",
       "</style>\n",
       "<table border=\"1\" class=\"dataframe\">\n",
       "  <thead>\n",
       "    <tr style=\"text-align: right;\">\n",
       "      <th></th>\n",
       "      <th>city 0</th>\n",
       "      <th>city 1</th>\n",
       "      <th>city 2</th>\n",
       "      <th>city 3</th>\n",
       "      <th>city 4</th>\n",
       "    </tr>\n",
       "  </thead>\n",
       "  <tbody>\n",
       "    <tr>\n",
       "      <th>0_0</th>\n",
       "      <td>2.0</td>\n",
       "      <td>999.0</td>\n",
       "      <td>1.0</td>\n",
       "      <td>999.0</td>\n",
       "      <td>999.0</td>\n",
       "    </tr>\n",
       "    <tr>\n",
       "      <th>0_1</th>\n",
       "      <td>2.0</td>\n",
       "      <td>2.0</td>\n",
       "      <td>999.0</td>\n",
       "      <td>999.0</td>\n",
       "      <td>999.0</td>\n",
       "    </tr>\n",
       "    <tr>\n",
       "      <th>0_2</th>\n",
       "      <td>2.0</td>\n",
       "      <td>999.0</td>\n",
       "      <td>1.0</td>\n",
       "      <td>999.0</td>\n",
       "      <td>999.0</td>\n",
       "    </tr>\n",
       "    <tr>\n",
       "      <th>0_3</th>\n",
       "      <td>999.0</td>\n",
       "      <td>2.0</td>\n",
       "      <td>999.0</td>\n",
       "      <td>2.0</td>\n",
       "      <td>1.0</td>\n",
       "    </tr>\n",
       "  </tbody>\n",
       "</table>\n",
       "</div>"
      ],
      "text/plain": [
       "     city 0  city 1  city 2  city 3  city 4\n",
       "0_0     2.0   999.0     1.0   999.0   999.0\n",
       "0_1     2.0     2.0   999.0   999.0   999.0\n",
       "0_2     2.0   999.0     1.0   999.0   999.0\n",
       "0_3   999.0     2.0   999.0     2.0     1.0"
      ]
     },
     "metadata": {},
     "output_type": "display_data"
    }
   ],
   "source": [
    "full_op_cost = np.tile(op_cost, (operation.shape[1], 1))\n",
    "full_op_cost = full_op_cost[operation.T.reshape(-1).astype(bool)]\n",
    "display(pd.DataFrame(full_op_cost, index=full_op_names, columns=city_names))"
   ]
  },
  {
   "cell_type": "code",
   "execution_count": 71,
   "id": "f99a2e8e",
   "metadata": {},
   "outputs": [],
   "source": [
    "city_to_op = [(city_names[i], full_op_names[j]) for i, j in zip(*np.where(full_op_cost < 999)[::-1])]\n",
    "op_to_op = [(full_op_names[i], full_op_names[j]) for i, j in zip(*np.where(adj_operation > 0))]\n",
    "city_to_city = [(city_names[i], city_names[j]) for i, j in zip(*np.where(dist > 0))]"
   ]
  },
  {
   "cell_type": "code",
   "execution_count": 81,
   "id": "b1ac87f1",
   "metadata": {},
   "outputs": [],
   "source": [
    "G = nx.DiGraph()\n",
    "G.add_nodes_from(full_op_names)\n",
    "G.add_nodes_from(city_names)\n",
    "G.add_edges_from(city_to_op)\n",
    "G.add_edges_from(op_to_op)\n",
    "G.add_edges_from(city_to_city)\n",
    "pos = dict()\n",
    "for i, oname in enumerate(full_op_names):\n",
    "    pos[oname] = list(operation_index[i][::-1])\n",
    "for i in range(n_cities):\n",
    "    pos[f'city {i}'] = X[i] + [1.5, 2.5]"
   ]
  },
  {
   "cell_type": "code",
   "execution_count": 82,
   "id": "8d1b71c5",
   "metadata": {},
   "outputs": [
    {
     "data": {
      "image/png": "[encoded data removed]",
      "text/plain": [
       "<Figure size 600x400 with 1 Axes>"
      ]
     },
     "metadata": {},
     "output_type": "display_data"
    }
   ],
   "source": [
    "plt.figure(figsize=(6, 4))\n",
    "nx.draw_networkx_nodes(\n",
    "    G,\n",
    "    pos=pos,\n",
    "    nodelist=full_op_names,\n",
    "    node_size=200,\n",
    "    node_color='tab:purple',\n",
    ")\n",
    "nx.draw_networkx_nodes(\n",
    "    G,\n",
    "    pos=pos,\n",
    "    nodelist=city_names,\n",
    "    node_size=200,\n",
    "    node_color='tab:orange',\n",
    ")\n",
    "nx.draw_networkx_labels(\n",
    "    G, \n",
    "    pos,\n",
    "    labels={node: node for node in full_op_names},\n",
    "    font_color='white', \n",
    "    font_size=7,\n",
    ")\n",
    "nx.draw_networkx_labels(\n",
    "    G, \n",
    "    pos,\n",
    "    labels={node: node[5:] for node in city_names},\n",
    "    font_color='white', \n",
    "    font_size=7,\n",
    ")\n",
    "nx.draw_networkx_edges(\n",
    "    G,\n",
    "    pos=pos,\n",
    "    edgelist=op_to_op,\n",
    "    edge_color='tab:purple',\n",
    ")\n",
    "nx.draw_networkx_edges(\n",
    "    G,\n",
    "    pos=pos,\n",
    "    edgelist=city_to_city,\n",
    "    edge_color='tab:orange',\n",
    "    arrows=False,\n",
    "    alpha=0.5,\n",
    ")\n",
    "nx.draw_networkx_edges(\n",
    "    G,\n",
    "    pos=pos,\n",
    "    edgelist=city_to_op,\n",
    "    edge_color='tab:pink',\n",
    "    arrows=False,\n",
    "    alpha=0.5,\n",
    ")\n",
    "plt.axis('equal')\n",
    "plt.axis('off')\n",
    "plt.show()"
   ]
  },
  {
   "cell_type": "code",
   "execution_count": 86,
   "id": "7f594662",
   "metadata": {},
   "outputs": [
    {
     "name": "stdout",
     "output_type": "stream",
     "text": [
      "Problem 1,4,5-1: 6.34\n"
     ]
    }
   ],
   "source": [
    "gamma = np.array([\n",
    "    [0., 0., 1., 0., 0.],\n",
    "    [1., 0., 0., 0., 0.],\n",
    "    [0., 0., 1., 0., 0.],\n",
    "    [0., 0., 0., 0., 1.],\n",
    "])[:, None, :]\n",
    "delta = delta_from_gamma(problem, gamma)\n",
    "check_feasibility(gamma, delta, problem)\n",
    "total_cost = total_cost_from_gamma(problem, gamma, delta)\n",
    "\n",
    "print(f'Problem {problem[\"name\"]}: {total_cost:.2f}')"
   ]
  },
  {
   "cell_type": "code",
   "execution_count": 87,
   "id": "6b40055d",
   "metadata": {},
   "outputs": [],
   "source": [
    "city_to_op_solution = []\n",
    "for o, t, c in zip(*np.where(gamma == 1)):\n",
    "    city_to_op_solution.append((f'city {c}', f'{t}_{o}'))"
   ]
  },
  {
   "cell_type": "code",
   "execution_count": 88,
   "id": "f1a25e3e",
   "metadata": {},
   "outputs": [
    {
     "data": {
      "image/png": "[encoded data removed]",
      "text/plain": [
       "<Figure size 600x400 with 1 Axes>"
      ]
     },
     "metadata": {},
     "output_type": "display_data"
    }
   ],
   "source": [
    "plt.figure(figsize=(6, 4))\n",
    "nx.draw_networkx_nodes(\n",
    "    G,\n",
    "    pos=pos,\n",
    "    nodelist=full_op_names,\n",
    "    node_size=200,\n",
    "    node_color='tab:purple',\n",
    ")\n",
    "nx.draw_networkx_nodes(\n",
    "    G,\n",
    "    pos=pos,\n",
    "    nodelist=city_names,\n",
    "    node_size=200,\n",
    "    node_color='tab:orange',\n",
    ")\n",
    "nx.draw_networkx_labels(\n",
    "    G, \n",
    "    pos,\n",
    "    labels={node: node for node in full_op_names},\n",
    "    font_color='white', \n",
    "    font_size=7,\n",
    ")\n",
    "nx.draw_networkx_labels(\n",
    "    G, \n",
    "    pos,\n",
    "    labels={node: node[5:] for node in city_names},\n",
    "    font_color='white', \n",
    "    font_size=7,\n",
    ")\n",
    "nx.draw_networkx_edges(\n",
    "    G,\n",
    "    pos=pos,\n",
    "    edgelist=op_to_op,\n",
    "    edge_color='tab:purple',\n",
    ")\n",
    "nx.draw_networkx_edges(\n",
    "    G,\n",
    "    pos=pos,\n",
    "    edgelist=city_to_city,\n",
    "    edge_color='tab:orange',\n",
    "    arrows=False,\n",
    "    alpha=0.5,\n",
    ")\n",
    "nx.draw_networkx_edges(\n",
    "    G,\n",
    "    pos=pos,\n",
    "    edgelist=city_to_op_solution,\n",
    "    edge_color='tab:pink',\n",
    "    arrows=False,\n",
    ")\n",
    "plt.axis('equal')\n",
    "plt.axis('off')\n",
    "plt.show()"
   ]
  },
  {
   "cell_type": "code",
   "execution_count": null,
   "id": "4aab24d6",
   "metadata": {},
   "outputs": [],
   "source": []
  }
 ],
 "metadata": {
  "kernelspec": {
   "display_name": "Python 3 (ipykernel)",
   "language": "python",
   "name": "python3"
  },
  "language_info": {
   "codemirror_mode": {
    "name": "ipython",
    "version": 3
   },
   "file_extension": ".py",
   "mimetype": "text/x-python",
   "name": "python",
   "nbconvert_exporter": "python",
   "pygments_lexer": "ipython3",
   "version": "3.10.14"
  }
 },
 "nbformat": 4,
 "nbformat_minor": 5
}
