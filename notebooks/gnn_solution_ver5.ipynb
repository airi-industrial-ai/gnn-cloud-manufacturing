{
 "cells": [
  {
   "cell_type": "code",
   "execution_count": 1,
   "id": "79528287",
   "metadata": {},
   "outputs": [],
   "source": [
    "from gnncloudmanufacturing.data import read_fatahi_dataset\n",
    "from gnncloudmanufacturing.random_solution import random_solve\n",
    "from gnncloudmanufacturing.validation import total_cost_from_graph, check_feasibility, total_cost_from_gamma\n",
    "from gnncloudmanufacturing.utils import delta_from_gamma, graph_from_problem, gamma_from_target, delta_from_gamma\n",
    "from gnncloudmanufacturing.graph_model import GNN, os_type, ss_type\n",
    "\n",
    "import numpy as np\n",
    "from tqdm.auto import trange, tqdm\n",
    "from time import time\n",
    "import pandas as pd\n",
    "import torch"
   ]
  },
  {
   "cell_type": "code",
   "execution_count": 2,
   "id": "18b42377",
   "metadata": {},
   "outputs": [
    {
     "data": {
      "application/vnd.jupyter.widget-view+json": {
       "model_id": "e9682cfbc9ff4d80a7ba08d98047810c",
       "version_major": 2,
       "version_minor": 0
      },
      "text/plain": [
       "  0%|          | 0/18 [00:00<?, ?it/s]"
      ]
     },
     "metadata": {},
     "output_type": "display_data"
    },
    {
     "name": "stdout",
     "output_type": "stream",
     "text": [
      "Problem: 5,10,10-1\n",
      "Problem: 5,10,10-2\n",
      "Problem: 5,10,10-3\n",
      "Problem: 10,10,10-1\n",
      "Problem: 10,10,10-2\n",
      "Problem: 10,10,10-3\n",
      "Problem: 5,10,20-1\n",
      "Problem: 5,10,20-2\n",
      "Problem: 5,10,20-3\n",
      "Problem: 5,20,10-1\n",
      "Problem: 5,20,10-2\n",
      "Problem: 5,20,10-3\n",
      "Problem: 5,20,20-1\n",
      "Problem: 5,20,20-2\n",
      "Problem: 5,20,20-3\n",
      "Problem: 5,5,5-1\n",
      "Problem: 5,5,5-2\n",
      "Problem: 5,5,5-3\n"
     ]
    }
   ],
   "source": [
    "dataset = read_fatahi_dataset('../data/fatahi.xlsx')\n",
    "for problem in dataset:\n",
    "    print(f'Problem: {problem[\"name\"]}')"
   ]
  },
  {
   "cell_type": "code",
   "execution_count": 8,
   "id": "03ccbe15",
   "metadata": {},
   "outputs": [],
   "source": [
    "max_operations = 20\n",
    "model = GNN.load_from_checkpoint(\n",
    "    checkpoint_path=\"gnn_ver5.ckpt\",\n",
    "    ins_dim=1,\n",
    "    ino_dim=max_operations,\n",
    "    out_dim=16,\n",
    "    n_layers=2,\n",
    "    lr=0.001,\n",
    ")"
   ]
  },
  {
   "cell_type": "code",
   "execution_count": 9,
   "id": "b1172049",
   "metadata": {},
   "outputs": [
    {
     "data": {
      "application/vnd.jupyter.widget-view+json": {
       "model_id": "d0e4a118b2b3433594d8250ea74ceb6a",
       "version_major": 2,
       "version_minor": 0
      },
      "text/plain": [
       "  0%|          | 0/18 [00:00<?, ?it/s]"
      ]
     },
     "metadata": {},
     "output_type": "display_data"
    }
   ],
   "source": [
    "problem_name = []\n",
    "total_cost = []\n",
    "comp_time = []\n",
    "for problem in tqdm(dataset):\n",
    "    start = time()\n",
    "    total = np.inf\n",
    "    for i in range(5):\n",
    "        graph = graph_from_problem(problem, max_operations=max_operations)\n",
    "        graph.edata['feat'][os_type][:, 0] /= 10\n",
    "        graph.edata['feat'][ss_type][:] /= 100\n",
    "        pred = model.predict(graph)\n",
    "        gamma = gamma_from_target(pred, graph, problem)\n",
    "        delta = delta_from_gamma(problem, gamma)\n",
    "        check_feasibility(gamma, delta, problem)\n",
    "        _total = total_cost_from_gamma(problem, gamma, delta).item()\n",
    "        if total > _total:\n",
    "            total = _total\n",
    "    total_cost.append(total)\n",
    "    problem_name.append(problem['name'])\n",
    "    comp_time.append(time() - start)"
   ]
  },
  {
   "cell_type": "code",
   "execution_count": 10,
   "id": "42224220",
   "metadata": {},
   "outputs": [
    {
     "data": {
      "text/html": [
       "<div>\n",
       "<style scoped>\n",
       "    .dataframe tbody tr th:only-of-type {\n",
       "        vertical-align: middle;\n",
       "    }\n",
       "\n",
       "    .dataframe tbody tr th {\n",
       "        vertical-align: top;\n",
       "    }\n",
       "\n",
       "    .dataframe thead th {\n",
       "        text-align: right;\n",
       "    }\n",
       "</style>\n",
       "<table border=\"1\" class=\"dataframe\">\n",
       "  <thead>\n",
       "    <tr style=\"text-align: right;\">\n",
       "      <th></th>\n",
       "      <th>problem_name</th>\n",
       "      <th>total_cost</th>\n",
       "      <th>comp_time</th>\n",
       "    </tr>\n",
       "  </thead>\n",
       "  <tbody>\n",
       "    <tr>\n",
       "      <th>0</th>\n",
       "      <td>5,10,10-1</td>\n",
       "      <td>8295.03</td>\n",
       "      <td>0.53</td>\n",
       "    </tr>\n",
       "    <tr>\n",
       "      <th>1</th>\n",
       "      <td>5,10,10-2</td>\n",
       "      <td>16305.10</td>\n",
       "      <td>0.60</td>\n",
       "    </tr>\n",
       "    <tr>\n",
       "      <th>2</th>\n",
       "      <td>5,10,10-3</td>\n",
       "      <td>14223.86</td>\n",
       "      <td>0.59</td>\n",
       "    </tr>\n",
       "    <tr>\n",
       "      <th>3</th>\n",
       "      <td>10,10,10-1</td>\n",
       "      <td>22307.27</td>\n",
       "      <td>0.71</td>\n",
       "    </tr>\n",
       "    <tr>\n",
       "      <th>4</th>\n",
       "      <td>10,10,10-2</td>\n",
       "      <td>25265.64</td>\n",
       "      <td>0.75</td>\n",
       "    </tr>\n",
       "    <tr>\n",
       "      <th>5</th>\n",
       "      <td>10,10,10-3</td>\n",
       "      <td>25035.42</td>\n",
       "      <td>0.80</td>\n",
       "    </tr>\n",
       "    <tr>\n",
       "      <th>6</th>\n",
       "      <td>5,10,20-1</td>\n",
       "      <td>8420.59</td>\n",
       "      <td>1.04</td>\n",
       "    </tr>\n",
       "    <tr>\n",
       "      <th>7</th>\n",
       "      <td>5,10,20-2</td>\n",
       "      <td>13279.76</td>\n",
       "      <td>1.13</td>\n",
       "    </tr>\n",
       "    <tr>\n",
       "      <th>8</th>\n",
       "      <td>5,10,20-3</td>\n",
       "      <td>14028.36</td>\n",
       "      <td>1.19</td>\n",
       "    </tr>\n",
       "    <tr>\n",
       "      <th>9</th>\n",
       "      <td>5,20,10-1</td>\n",
       "      <td>18525.58</td>\n",
       "      <td>0.73</td>\n",
       "    </tr>\n",
       "    <tr>\n",
       "      <th>10</th>\n",
       "      <td>5,20,10-2</td>\n",
       "      <td>22794.89</td>\n",
       "      <td>0.78</td>\n",
       "    </tr>\n",
       "    <tr>\n",
       "      <th>11</th>\n",
       "      <td>5,20,10-3</td>\n",
       "      <td>24472.87</td>\n",
       "      <td>0.81</td>\n",
       "    </tr>\n",
       "    <tr>\n",
       "      <th>12</th>\n",
       "      <td>5,20,20-1</td>\n",
       "      <td>17508.54</td>\n",
       "      <td>1.76</td>\n",
       "    </tr>\n",
       "    <tr>\n",
       "      <th>13</th>\n",
       "      <td>5,20,20-2</td>\n",
       "      <td>22559.18</td>\n",
       "      <td>1.80</td>\n",
       "    </tr>\n",
       "    <tr>\n",
       "      <th>14</th>\n",
       "      <td>5,20,20-3</td>\n",
       "      <td>21460.58</td>\n",
       "      <td>1.88</td>\n",
       "    </tr>\n",
       "    <tr>\n",
       "      <th>15</th>\n",
       "      <td>5,5,5-1</td>\n",
       "      <td>3988.39</td>\n",
       "      <td>0.35</td>\n",
       "    </tr>\n",
       "    <tr>\n",
       "      <th>16</th>\n",
       "      <td>5,5,5-2</td>\n",
       "      <td>8367.98</td>\n",
       "      <td>0.36</td>\n",
       "    </tr>\n",
       "    <tr>\n",
       "      <th>17</th>\n",
       "      <td>5,5,5-3</td>\n",
       "      <td>9576.42</td>\n",
       "      <td>0.36</td>\n",
       "    </tr>\n",
       "  </tbody>\n",
       "</table>\n",
       "</div>"
      ],
      "text/plain": [
       "   problem_name  total_cost  comp_time\n",
       "0     5,10,10-1     8295.03       0.53\n",
       "1     5,10,10-2    16305.10       0.60\n",
       "2     5,10,10-3    14223.86       0.59\n",
       "3    10,10,10-1    22307.27       0.71\n",
       "4    10,10,10-2    25265.64       0.75\n",
       "5    10,10,10-3    25035.42       0.80\n",
       "6     5,10,20-1     8420.59       1.04\n",
       "7     5,10,20-2    13279.76       1.13\n",
       "8     5,10,20-3    14028.36       1.19\n",
       "9     5,20,10-1    18525.58       0.73\n",
       "10    5,20,10-2    22794.89       0.78\n",
       "11    5,20,10-3    24472.87       0.81\n",
       "12    5,20,20-1    17508.54       1.76\n",
       "13    5,20,20-2    22559.18       1.80\n",
       "14    5,20,20-3    21460.58       1.88\n",
       "15      5,5,5-1     3988.39       0.35\n",
       "16      5,5,5-2     8367.98       0.36\n",
       "17      5,5,5-3     9576.42       0.36"
      ]
     },
     "execution_count": 10,
     "metadata": {},
     "output_type": "execute_result"
    }
   ],
   "source": [
    "pd.DataFrame({'problem_name': problem_name, 'total_cost': total_cost, 'comp_time': comp_time}).round(2)"
   ]
  },
  {
   "cell_type": "code",
   "execution_count": null,
   "id": "e443fe62",
   "metadata": {},
   "outputs": [],
   "source": []
  }
 ],
 "metadata": {
  "kernelspec": {
   "display_name": "Python 3 (ipykernel)",
   "language": "python",
   "name": "python3"
  },
  "language_info": {
   "codemirror_mode": {
    "name": "ipython",
    "version": 3
   },
   "file_extension": ".py",
   "mimetype": "text/x-python",
   "name": "python",
   "nbconvert_exporter": "python",
   "pygments_lexer": "ipython3",
   "version": "3.10.14"
  }
 },
 "nbformat": 4,
 "nbformat_minor": 5
}
