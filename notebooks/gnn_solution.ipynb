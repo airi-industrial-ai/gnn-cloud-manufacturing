{
 "cells": [
  {
   "cell_type": "code",
   "execution_count": 1,
   "id": "dd310198",
   "metadata": {},
   "outputs": [],
   "source": [
    "import dgl\n",
    "import matplotlib.pyplot as plt\n",
    "import numpy as np\n",
    "import torch\n",
    "import torch.nn as nn\n",
    "import torch.nn.functional as F\n",
    "from torch.optim import Adam\n",
    "from tqdm.auto import trange\n",
    "\n",
    "from cloudmanufacturing.data import read_fatahi_dataset\n",
    "from cloudmanufacturing.graph import dglgraph\n",
    "from cloudmanufacturing.graphconv import AttnConvLayer, DotProductDecoder\n",
    "from cloudmanufacturing.solvers.mip_solver import mip_solve\n",
    "from cloudmanufacturing.validation import construct_delta, objvalue"
   ]
  },
  {
   "cell_type": "code",
   "execution_count": 2,
   "id": "023c2b53",
   "metadata": {},
   "outputs": [],
   "source": [
    "ss_type = (\"s\", \"ss\", \"s\")\n",
    "os_type = (\"o\", \"os\", \"s\")\n",
    "so_type = (\"s\", \"so\", \"o\")"
   ]
  },
  {
   "cell_type": "code",
   "execution_count": 3,
   "id": "45d6068d",
   "metadata": {},
   "outputs": [
    {
     "data": {
      "application/vnd.jupyter.widget-view+json": {
       "model_id": "bf90e0f1372844c8ac6e66781bf7eb35",
       "version_major": 2,
       "version_minor": 0
      },
      "text/plain": [
       "  0%|          | 0/18 [00:00<?, ?it/s]"
      ]
     },
     "metadata": {},
     "output_type": "display_data"
    }
   ],
   "source": [
    "dataset = read_fatahi_dataset(\"../data/fatahi.xlsx\")\n",
    "problem = dataset[0]\n",
    "problem[\"name\"]"
   ]
  },
  {
   "cell_type": "code",
   "execution_count": null,
   "id": "ccfca1e5",
   "metadata": {},
   "outputs": [],
   "source": [
    "delta, gamma, status, value = mip_solve(problem)\n",
    "print(f'Problem {problem[\"name\"]}: {value:.2f}, {status}')"
   ]
  },
  {
   "cell_type": "code",
   "execution_count": null,
   "id": "4fb79745",
   "metadata": {},
   "outputs": [],
   "source": [
    "graph = dglgraph(problem, gamma)\n",
    "target_mask = graph.edata[\"target\"][os_type][:, 0] == 1\n",
    "u, v = graph.edges(\n",
    "    etype=os_type,\n",
    ")\n",
    "u, v = u[target_mask], v[target_mask]\n",
    "u = graph.ndata[\"operation_index\"][\"o\"][u]\n",
    "gamma = np.zeros((problem[\"n_operations\"], problem[\"n_tasks\"], problem[\"n_cities\"]))\n",
    "for i in range(len(u)):\n",
    "    operation, task, city = u[i, 1], u[i, 0], v[i]\n",
    "    gamma[operation, task, city] = 1\n",
    "objvalue(problem, gamma, construct_delta(problem, gamma))"
   ]
  },
  {
   "cell_type": "markdown",
   "id": "a2c8ac86",
   "metadata": {},
   "source": [
    "### Encoder"
   ]
  },
  {
   "cell_type": "markdown",
   "id": "e8a9b4b3",
   "metadata": {},
   "source": [
    "Convolution in node S\n",
    "* $h^{s}_{i} = W^s S_i $\n",
    "* $h^{ss}_{ij} = W^{ss} \\left[ S_i \\Vert SS_{ij}\\right]$\n",
    "* $h^{os}_{ij} = W^{os} \\left[O_i \\Vert OS_{ij} \\right]$\n",
    "* $e^{os}_{ij} = \\text{LeakyReLU}\\left(a^\\top\\left[ h^{os}_{ij} \\Vert h^s_j \\right]\\right)$\n",
    "* $ e^{ss}_{ij} = \\text{LeakyReLU}\\left(a^\\top\\left[h^{ss}_{ij} \\Vert h^s_j \\right]\\right)$\n",
    "* $\\alpha^{os}_i = \\text{Softmax}_{(i,j) \\in E_{os}} e^{os}_{ij}$\n",
    "* $\\alpha^{ss}_i = \\text{Softmax}_{(i,j) \\in E_{ss}} e^{ss}_{ij}$\n",
    "* $z_j = \\sum_{(i,j) \\in E_{ss}} \\alpha^{ss}_i h_{ij}^{ss} + \\sum_{(i,j) \\in E_{os}}\\alpha^{os}_i h^{os}_{ij} $"
   ]
  },
  {
   "cell_type": "markdown",
   "id": "fd053e6b",
   "metadata": {},
   "source": [
    "Convolution in a node O\n",
    "\n",
    "* $x_j = W^\\text{o}\\text{ReLU}\\left[\\sum_{(i,j) \\in E_{oo}} W^\\text{in} O_i \\Vert W^\\text{self} O_j \\Vert \\sum_{(j,i) \\in E_{oo}} W^\\text{out} O_i \\right]$"
   ]
  },
  {
   "cell_type": "markdown",
   "id": "86a25dda",
   "metadata": {},
   "source": [
    "### Decoder"
   ]
  },
  {
   "cell_type": "markdown",
   "id": "c4b0cab4",
   "metadata": {},
   "source": [
    "Softmax using edges\n",
    "\n",
    "$p_{ij} = \\sigma(z_i^\\top x_j)$\n"
   ]
  },
  {
   "cell_type": "code",
   "execution_count": null,
   "id": "9e6c11b8",
   "metadata": {},
   "outputs": [],
   "source": [
    "class GNN(nn.Module):\n",
    "    def __init__(self, ins_dim, ino_dim, out_dim, n_layers):\n",
    "        super().__init__()\n",
    "        convs = [AttnConvLayer(ins_dim, ino_dim, out_dim)]\n",
    "        for i in range(n_layers - 1):\n",
    "            convs.append(AttnConvLayer(out_dim, out_dim, out_dim))\n",
    "        self.convs = nn.ModuleList(convs)\n",
    "        self.dec = DotProductDecoder()\n",
    "\n",
    "    def forward(self, graph):\n",
    "        s_feat = graph.ndata[\"feat\"][\"s\"]\n",
    "        o_feat = graph.ndata[\"feat\"][\"o\"]\n",
    "        s_hid, o_hid = self.convs[0](graph, s_feat, o_feat)\n",
    "        for conv in self.convs[1:]:\n",
    "            s_hid, o_hid = torch.relu(s_hid), torch.relu(o_hid)\n",
    "            s_hid, o_hid = conv(graph, s_hid, o_hid)\n",
    "        prob = self.dec(graph, s_hid, o_hid)\n",
    "        return prob"
   ]
  },
  {
   "cell_type": "code",
   "execution_count": null,
   "id": "e98d4fa4",
   "metadata": {},
   "outputs": [],
   "source": [
    "model = GNN(1, problem[\"n_operations\"] + 2, 16, 1)"
   ]
  },
  {
   "cell_type": "code",
   "execution_count": null,
   "id": "446ea647",
   "metadata": {},
   "outputs": [],
   "source": [
    "problem[\"n_operations\"]"
   ]
  },
  {
   "cell_type": "code",
   "execution_count": null,
   "id": "66d4b0d7",
   "metadata": {},
   "outputs": [],
   "source": [
    "optim = Adam(model.parameters(), lr=0.001)\n",
    "\n",
    "graph.edata[\"feat\"][(\"o\", \"os\", \"s\")][:, 0] = (\n",
    "    graph.edata[\"feat\"][(\"o\", \"os\", \"s\")][:, 0] / 10\n",
    ")\n",
    "graph.edata[\"feat\"][(\"s\", \"ss\", \"s\")][:] = graph.edata[\"feat\"][(\"s\", \"ss\", \"s\")] / 100\n",
    "target = graph.edata[\"target\"][(\"o\", \"os\", \"s\")]\n",
    "for i in trange(1000):\n",
    "    prob = model(graph)\n",
    "    loss = F.binary_cross_entropy_with_logits(prob, target)\n",
    "    optim.zero_grad()\n",
    "    loss.backward()\n",
    "    optim.step()\n",
    "    print(loss.item())"
   ]
  },
  {
   "cell_type": "code",
   "execution_count": null,
   "id": "94fa50af",
   "metadata": {
    "scrolled": false
   },
   "outputs": [],
   "source": [
    "with torch.no_grad():\n",
    "    prob = model(graph)\n",
    "plt.figure(figsize=(20, 3))\n",
    "plt.bar(np.arange(len(prob)), torch.sigmoid(prob[:, 0]))\n",
    "plt.bar(np.arange(len(prob)), target[:, 0], alpha=0.5);"
   ]
  },
  {
   "cell_type": "code",
   "execution_count": null,
   "id": "fa7972f7",
   "metadata": {},
   "outputs": [],
   "source": [
    "with torch.no_grad():\n",
    "    prob = model(graph)\n",
    "    v, u = model.dec.sample(graph, prob)\n",
    "u = graph.ndata[\"operation_index\"][\"o\"][u]\n",
    "gamma_shape = (problem[\"n_operations\"], problem[\"n_tasks\"], problem[\"n_cities\"])\n",
    "gamma = np.zeros(gamma_shape)\n",
    "for i in range(len(u)):\n",
    "    operation, task, city = u[i, 1], u[i, 0], v[i]\n",
    "    gamma[operation, task, city] = 1\n",
    "objvalue(problem, gamma, construct_delta(problem, gamma))"
   ]
  }
 ],
 "metadata": {
  "kernelspec": {
   "display_name": "Python 3 (ipykernel)",
   "language": "python",
   "name": "python3"
  },
  "language_info": {
   "codemirror_mode": {
    "name": "ipython",
    "version": 3
   },
   "file_extension": ".py",
   "mimetype": "text/x-python",
   "name": "python",
   "nbconvert_exporter": "python",
   "pygments_lexer": "ipython3",
   "version": "3.1.-1"
  }
 },
 "nbformat": 4,
 "nbformat_minor": 5
}
