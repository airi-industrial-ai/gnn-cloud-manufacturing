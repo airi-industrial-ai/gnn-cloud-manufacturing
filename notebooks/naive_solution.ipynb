{
 "cells": [
  {
   "cell_type": "markdown",
   "metadata": {},
   "source": [
    "# Libs"
   ]
  },
  {
   "cell_type": "code",
   "execution_count": 1,
   "metadata": {},
   "outputs": [
    {
     "name": "stderr",
     "output_type": "stream",
     "text": [
      "c:\\Users\\dmitrii\\miniconda3\\envs\\graph\\lib\\site-packages\\tqdm\\auto.py:21: TqdmWarning: IProgress not found. Please update jupyter and ipywidgets. See https://ipywidgets.readthedocs.io/en/stable/user_install.html\n",
      "  from .autonotebook import tqdm as notebook_tqdm\n"
     ]
    }
   ],
   "source": [
    "import numpy as np\n",
    "import pandas as pd\n",
    "\n",
    "from cloudmanufacturing.data import read_fatahi_dataset\n",
    "from cloudmanufacturing.solvers.naive_solver import NaiveSolver\n",
    "from cloudmanufacturing.validation import construct_delta, objvalue"
   ]
  },
  {
   "cell_type": "markdown",
   "metadata": {},
   "source": [
    "# Loading data"
   ]
  },
  {
   "cell_type": "code",
   "execution_count": 2,
   "metadata": {},
   "outputs": [
    {
     "name": "stderr",
     "output_type": "stream",
     "text": [
      "100%|██████████| 18/18 [00:00<00:00, 237.23it/s]\n"
     ]
    }
   ],
   "source": [
    "problems = read_fatahi_dataset(\"../data/fatahi.xlsx\")"
   ]
  },
  {
   "cell_type": "markdown",
   "metadata": {},
   "source": [
    "# Solving problem"
   ]
  },
  {
   "cell_type": "code",
   "execution_count": 12,
   "metadata": {},
   "outputs": [
    {
     "data": {
      "text/plain": [
       "{'path': {'suboperation_0': array([0., 3., 0., 7., 7.]),\n",
       "  'suboperation_1': array([9., 3., 0., 7.]),\n",
       "  'suboperation_2': array([9., 9., 5., 6., 6., 3.]),\n",
       "  'suboperation_3': array([3., 0., 3., 3., 7., 7., 3.]),\n",
       "  'suboperation_4': array([9., 9., 5., 0., 7., 7.])},\n",
       " 'cost': 4479.270689783497}"
      ]
     },
     "execution_count": 12,
     "metadata": {},
     "output_type": "execute_result"
    }
   ],
   "source": [
    "naive_solver = NaiveSolver(problems)\n",
    "\n",
    "info_problem, gamma, delta = naive_solver.solve_problem(0)\n",
    "info_problem"
   ]
  },
  {
   "cell_type": "code",
   "execution_count": 13,
   "metadata": {},
   "outputs": [
    {
     "data": {
      "text/plain": [
       "23151.787228616486"
      ]
     },
     "execution_count": 13,
     "metadata": {},
     "output_type": "execute_result"
    }
   ],
   "source": [
    "objvalue(problems[0], gamma, delta)"
   ]
  },
  {
   "cell_type": "code",
   "execution_count": 14,
   "metadata": {},
   "outputs": [
    {
     "data": {
      "text/plain": [
       "23151.787228616482"
      ]
     },
     "execution_count": 14,
     "metadata": {},
     "output_type": "execute_result"
    }
   ],
   "source": [
    "objvalue(problems[0], gamma, construct_delta(problems[0], gamma))"
   ]
  },
  {
   "cell_type": "markdown",
   "metadata": {},
   "source": [
    "### Solve all the problems"
   ]
  },
  {
   "cell_type": "code",
   "execution_count": 6,
   "metadata": {},
   "outputs": [
    {
     "data": {
      "text/plain": [
       "18"
      ]
     },
     "execution_count": 6,
     "metadata": {},
     "output_type": "execute_result"
    }
   ],
   "source": [
    "len(problems)"
   ]
  },
  {
   "cell_type": "code",
   "execution_count": 15,
   "metadata": {},
   "outputs": [],
   "source": [
    "from glob import glob\n",
    "info_test = {}\n",
    "for delta, gamma, idx in zip([i for i in glob('fatahi_solutions/*') if 'delta' in i],\n",
    "                             [i for i in glob('fatahi_solutions/*') if 'gamma' in i],\n",
    "                             [int(i.split('_')[-2]) for i in glob('fatahi_solutions/*') if 'gamma' in i]):\n",
    "    info_test[idx] = {}\n",
    "    info_test[idx]['gamma'] = np.load(gamma)\n",
    "    info_test[idx]['delta'] = np.load(delta)\n",
    "    info_test[idx]['problem'] = problems[idx]"
   ]
  },
  {
   "cell_type": "code",
   "execution_count": 26,
   "metadata": {},
   "outputs": [
    {
     "data": {
      "text/plain": [
       "13502.766967317712"
      ]
     },
     "execution_count": 26,
     "metadata": {},
     "output_type": "execute_result"
    }
   ],
   "source": [
    "obj_sum = []\n",
    "for i in info_test.keys():\n",
    "    obj_sum.append([objvalue(info_test[i]['problem'],\n",
    "                            info_test[i]['gamma'],\n",
    "                            info_test[i]['delta']),i])\n",
    "np.mean(obj_sum)"
   ]
  },
  {
   "cell_type": "code",
   "execution_count": 27,
   "metadata": {},
   "outputs": [
    {
     "data": {
      "text/plain": [
       "4286.165639950032"
      ]
     },
     "execution_count": 27,
     "metadata": {},
     "output_type": "execute_result"
    }
   ],
   "source": [
    "naive_solver = NaiveSolver(problems)\n",
    "obj_sum = []\n",
    "for i in info_test.keys():\n",
    "        info_problem, gamma, delta = naive_solver.solve_problem(i)\n",
    "        obj_sum.append([objvalue(problems[i], gamma, delta),i])\n",
    "np.mean(obj_sum)"
   ]
  }
 ],
 "metadata": {
  "kernelspec": {
   "display_name": "graph",
   "language": "python",
   "name": "python3"
  },
  "language_info": {
   "codemirror_mode": {
    "name": "ipython",
    "version": 3
   },
   "file_extension": ".py",
   "mimetype": "text/x-python",
   "name": "python",
   "nbconvert_exporter": "python",
   "pygments_lexer": "ipython3",
   "version": "3.9.19"
  }
 },
 "nbformat": 4,
 "nbformat_minor": 2
}
