{
 "cells": [
  {
   "cell_type": "markdown",
   "metadata": {},
   "source": [
    "# Libs"
   ]
  },
  {
   "cell_type": "code",
   "execution_count": 1,
   "metadata": {},
   "outputs": [
    {
     "name": "stderr",
     "output_type": "stream",
     "text": [
      "/Users/fomindmitry/miniconda3/envs/graph/lib/python3.11/site-packages/tqdm/auto.py:21: TqdmWarning: IProgress not found. Please update jupyter and ipywidgets. See https://ipywidgets.readthedocs.io/en/stable/user_install.html\n",
      "  from .autonotebook import tqdm as notebook_tqdm\n"
     ]
    }
   ],
   "source": [
    "import numpy as np\n",
    "import pandas as pd\n",
    "\n",
    "from cloudmanufacturing.data import read_fatahi_dataset\n",
    "from cloudmanufacturing.solvers.naive_solver import NaiveSolver"
   ]
  },
  {
   "cell_type": "markdown",
   "metadata": {},
   "source": [
    "# Loading data"
   ]
  },
  {
   "cell_type": "code",
   "execution_count": 2,
   "metadata": {},
   "outputs": [
    {
     "name": "stderr",
     "output_type": "stream",
     "text": [
      "  0%|          | 0/18 [00:00<?, ?it/s]"
     ]
    },
    {
     "name": "stderr",
     "output_type": "stream",
     "text": [
      "100%|██████████| 18/18 [00:03<00:00,  5.21it/s]\n"
     ]
    }
   ],
   "source": [
    "dataset = read_fatahi_dataset(\"../data/fatahi.xlsx\")"
   ]
  },
  {
   "cell_type": "markdown",
   "metadata": {},
   "source": [
    "# Solving problem"
   ]
  },
  {
   "cell_type": "code",
   "execution_count": 3,
   "metadata": {},
   "outputs": [
    {
     "data": {
      "text/plain": [
       "{'path': {'suboperation_0': array([0., 3., 0., 0., 3.]),\n",
       "  'suboperation_1': array([9., 9., 9., 9.]),\n",
       "  'suboperation_2': array([9., 9., 5., 5., 6., 6.]),\n",
       "  'suboperation_3': array([3., 0., 3., 3., 0., 3., 3.]),\n",
       "  'suboperation_4': array([9., 9., 5., 5., 7., 7.])},\n",
       " 'cost': 6325.046463556215}"
      ]
     },
     "execution_count": 3,
     "metadata": {},
     "output_type": "execute_result"
    }
   ],
   "source": [
    "naive_solver = NaiveSolver(dataset)\n",
    "info_problem = naive_solver.solve_problem(0)\n",
    "info_problem"
   ]
  },
  {
   "cell_type": "code",
   "execution_count": 4,
   "metadata": {},
   "outputs": [
    {
     "name": "stdout",
     "output_type": "stream",
     "text": [
      "total_cost: 239778.25824428024\n"
     ]
    },
    {
     "data": {
      "text/plain": [
       "{'problem_0': {'path': {'suboperation_0': array([0., 3., 0., 0., 3.]),\n",
       "   'suboperation_1': array([9., 9., 9., 9.]),\n",
       "   'suboperation_2': array([9., 9., 5., 5., 6., 6.]),\n",
       "   'suboperation_3': array([3., 0., 3., 3., 0., 3., 3.]),\n",
       "   'suboperation_4': array([9., 9., 5., 5., 7., 7.])},\n",
       "  'cost': 6325.046463556215},\n",
       " 'problem_1': {'path': {'suboperation_0': array([9., 9., 9., 5., 5., 7., 7., 6., 6.]),\n",
       "   'suboperation_1': array([9., 9., 9., 5., 5., 7., 7., 6., 6.]),\n",
       "   'suboperation_2': array([0., 3., 0., 3., 6.]),\n",
       "   'suboperation_3': array([9., 9., 9., 5., 5., 7., 6.]),\n",
       "   'suboperation_4': array([0., 3., 0., 3., 6., 6.])},\n",
       "  'cost': 10974.04987662026},\n",
       " 'problem_2': {'path': {'suboperation_0': array([9., 9., 9., 9., 5., 5., 7., 7., 6., 6.]),\n",
       "   'suboperation_1': array([9., 9., 9., 9., 5., 5., 5.]),\n",
       "   'suboperation_2': array([9., 9., 9., 9., 5., 5., 7., 7., 6., 6.]),\n",
       "   'suboperation_3': array([9., 9., 9., 9., 5., 5., 5., 6.]),\n",
       "   'suboperation_4': array([3., 3., 3., 0., 0., 6.])},\n",
       "  'cost': 12521.69494508654},\n",
       " 'problem_3': {'path': {'suboperation_0': array([0., 3., 0., 0., 3.]),\n",
       "   'suboperation_1': array([9., 9., 9., 9.]),\n",
       "   'suboperation_2': array([9., 9., 5., 5., 6., 6.]),\n",
       "   'suboperation_3': array([3., 0., 3., 3., 0., 3., 3.]),\n",
       "   'suboperation_4': array([9., 9., 5., 5., 7., 7.]),\n",
       "   'suboperation_5': array([9., 9., 9., 9., 5., 5., 5., 6., 6.]),\n",
       "   'suboperation_6': array([3., 0., 3., 0., 3., 6., 6.]),\n",
       "   'suboperation_7': array([3., 3., 0., 0., 3., 6., 6.]),\n",
       "   'suboperation_8': array([9., 9., 9., 9., 9., 9.]),\n",
       "   'suboperation_9': array([9., 9., 9., 9., 9., 9., 9., 9.])},\n",
       "  'cost': 14849.085513600738},\n",
       " 'problem_4': {'path': {'suboperation_0': array([9., 9., 9., 5., 5., 7., 7., 6., 6.]),\n",
       "   'suboperation_1': array([9., 9., 9., 5., 5., 7., 7., 6., 6.]),\n",
       "   'suboperation_2': array([0., 3., 0., 3., 6.]),\n",
       "   'suboperation_3': array([9., 9., 9., 5., 5., 7., 6.]),\n",
       "   'suboperation_4': array([0., 3., 0., 3., 6., 6.]),\n",
       "   'suboperation_5': array([9., 9., 9., 9., 5., 5., 7., 7., 6., 6.]),\n",
       "   'suboperation_6': array([9., 9., 9., 9., 5., 5., 7., 7., 3.]),\n",
       "   'suboperation_7': array([3., 0., 3., 0., 3.]),\n",
       "   'suboperation_8': array([3., 3., 3., 0., 6., 6.]),\n",
       "   'suboperation_9': array([9., 9., 9., 5., 5., 5., 6., 6.])},\n",
       "  'cost': 21835.968282442453},\n",
       " 'problem_5': {'path': {'suboperation_0': array([9., 9., 9., 9., 5., 5., 7., 7., 6., 6.]),\n",
       "   'suboperation_1': array([9., 9., 9., 9., 5., 5., 5.]),\n",
       "   'suboperation_2': array([9., 9., 9., 9., 5., 5., 7., 7., 6., 6.]),\n",
       "   'suboperation_3': array([9., 9., 9., 9., 5., 5., 5., 6.]),\n",
       "   'suboperation_4': array([3., 3., 3., 0., 0., 6.]),\n",
       "   'suboperation_5': array([9., 9., 9., 5., 5., 7., 7.]),\n",
       "   'suboperation_6': array([3., 3., 3., 0., 0., 3., 3.]),\n",
       "   'suboperation_7': array([9., 9., 9., 9., 9., 9., 9.]),\n",
       "   'suboperation_8': array([9., 9., 9., 9., 5., 5., 7., 7., 3.]),\n",
       "   'suboperation_9': array([9., 9., 9., 5., 5., 7., 7., 6.])},\n",
       "  'cost': 23082.482160090916},\n",
       " 'problem_6': {'path': {'suboperation_0': array([12.,  4., 19., 12., 12.]),\n",
       "   'suboperation_1': array([ 9., 17., 17., 17.]),\n",
       "   'suboperation_2': array([ 9.,  9., 11.,  9.,  9.,  9.]),\n",
       "   'suboperation_3': array([3., 0., 3., 3., 0., 3., 3.]),\n",
       "   'suboperation_4': array([ 9.,  9., 11., 17., 17., 17.])},\n",
       "  'cost': 6091.687292953309},\n",
       " 'problem_7': {'path': {'suboperation_0': array([ 9.,  9., 17., 17., 17., 17., 17., 11., 11.]),\n",
       "   'suboperation_1': array([ 9.,  9.,  9., 11., 17., 17., 17., 11., 11.]),\n",
       "   'suboperation_2': array([12.,  3.,  0.,  3., 14.]),\n",
       "   'suboperation_3': array([ 9.,  9., 17., 17., 17., 17., 11.]),\n",
       "   'suboperation_4': array([12.,  4., 19., 19., 12., 13.])},\n",
       "  'cost': 9377.161437044226},\n",
       " 'problem_8': {'path': {'suboperation_0': array([ 9.,  9.,  9., 17., 17., 17., 17., 17., 11., 11.]),\n",
       "   'suboperation_1': array([ 9.,  9.,  9., 17., 17., 17., 17.]),\n",
       "   'suboperation_2': array([ 9.,  9.,  9., 17., 17., 17., 17., 17., 11., 11.]),\n",
       "   'suboperation_3': array([ 9.,  9.,  9., 17., 17., 17., 17., 11.]),\n",
       "   'suboperation_4': array([ 3.,  3.,  3.,  0.,  0., 14.])},\n",
       "  'cost': 9414.351626503398},\n",
       " 'problem_9': {'path': {'suboperation_0': array([6., 8., 8., 6., 6., 6., 6., 6., 3.]),\n",
       "   'suboperation_1': array([6., 8., 8., 7., 7., 7., 7., 6., 6., 6., 3., 3., 7.]),\n",
       "   'suboperation_2': array([6., 8., 8., 8., 6., 6., 6., 7., 6., 6., 6., 6., 6., 5., 5.]),\n",
       "   'suboperation_3': array([1., 0., 7., 7., 7., 7., 7., 7., 3., 0., 3., 3., 7., 7.]),\n",
       "   'suboperation_4': array([6., 6., 8., 8., 8., 8., 8., 8., 6., 6., 3., 3., 7., 7.])},\n",
       "  'cost': 15446.19375452305},\n",
       " 'problem_10': {'path': {'suboperation_0': array([6., 6., 8., 8., 8., 6., 6., 6., 8., 8., 8., 6., 6., 6., 3., 3., 7.,\n",
       "          7.]),\n",
       "   'suboperation_1': array([6., 8., 6., 6., 6., 6., 7., 3., 8., 8., 3., 7.]),\n",
       "   'suboperation_2': array([6., 8., 8., 7., 7., 7., 0., 7., 6., 6., 6., 6., 3., 3., 7., 7.]),\n",
       "   'suboperation_3': array([6., 8., 8., 8., 8., 8., 6., 6., 8., 8., 6., 6., 6., 6.]),\n",
       "   'suboperation_4': array([1., 9., 9., 9., 9., 9., 0., 6., 6., 6., 6., 6., 5., 5.])},\n",
       "  'cost': 19195.71136431103},\n",
       " 'problem_11': {'path': {'suboperation_0': array([6., 8., 8., 8., 8., 8., 6., 6., 6., 8., 8., 8., 6., 6., 6., 6., 6.]),\n",
       "   'suboperation_1': array([6., 8., 8., 8., 8., 8., 6., 6., 6., 8., 8., 8., 6., 6., 6., 6., 6.,\n",
       "          5.]),\n",
       "   'suboperation_2': array([1., 9., 9., 9., 9., 9., 0., 7., 6., 6., 6., 3., 3.]),\n",
       "   'suboperation_3': array([1., 9., 9., 9., 9., 9., 9., 0., 7., 6., 6., 3., 3., 7.]),\n",
       "   'suboperation_4': array([6., 8., 8., 8., 8., 8., 6., 6., 8., 8., 8., 8., 8., 8., 3., 3., 7.])},\n",
       "  'cost': 20396.126552545255},\n",
       " 'problem_12': {'path': {'suboperation_0': array([ 6.,  8.,  8.,  6.,  6., 14., 14., 14.,  3.]),\n",
       "   'suboperation_1': array([14.,  3., 16.,  3.,  3.,  3.,  7., 16., 14.,  8.,  3.,  3.,  7.]),\n",
       "   'suboperation_2': array([14.,  3., 16.,  0.,  0.,  3.,  0.,  7., 16., 14.,  8.,  8., 13.,\n",
       "           4.,  4.]),\n",
       "   'suboperation_3': array([ 1., 15., 15.,  5., 11., 11., 11., 11., 11., 11., 11., 11., 11.,\n",
       "          11.]),\n",
       "   'suboperation_4': array([14.,  0., 15., 15., 18.,  7.,  0.,  7., 16., 16.,  3.,  3., 10.,\n",
       "          19.])},\n",
       "  'cost': 14002.05151955923},\n",
       " 'problem_13': {'path': {'suboperation_0': array([14.,  0., 15., 18.,  7.,  7.,  7.,  7.,  7.,  0.,  7., 16., 16.,\n",
       "          16.,  3.,  3., 10., 19.]),\n",
       "   'suboperation_1': array([ 6.,  8.,  6.,  6.,  6., 14., 14., 14.,  8.,  8.,  3., 10.]),\n",
       "   'suboperation_2': array([ 6.,  8.,  8.,  7.,  7.,  7.,  0.,  7., 16., 14.,  8.,  8.,  3.,\n",
       "           3., 10., 19.]),\n",
       "   'suboperation_3': array([14.,  3.,  0., 15., 18.,  7.,  7.,  7.,  7.,  7., 16., 16., 16.,\n",
       "          16.]),\n",
       "   'suboperation_4': array([ 1., 11., 17., 17., 17.,  9., 17., 17., 17., 11., 11., 11., 11.,\n",
       "          11.])},\n",
       "  'cost': 17038.349588542445},\n",
       " 'problem_14': {'path': {'suboperation_0': array([14.,  3.,  0., 15., 18.,  7.,  7.,  7.,  7.,  7.,  0.,  7., 16.,\n",
       "          14.,  8., 13., 13.]),\n",
       "   'suboperation_1': array([14.,  3.,  0., 15., 18.,  7.,  7.,  7.,  7.,  7.,  0.,  7., 16.,\n",
       "          14.,  8.,  8., 13.,  4.]),\n",
       "   'suboperation_2': array([ 1., 11., 17., 17., 17., 17., 17., 11., 11., 11., 11., 11., 11.]),\n",
       "   'suboperation_3': array([ 1., 11., 17., 17., 17., 11., 11., 11., 11., 11., 11., 11., 11.,\n",
       "          11.]),\n",
       "   'suboperation_4': array([14.,  3.,  0., 15., 18.,  7.,  7.,  7.,  7.,  0.,  7., 14.,  8.,\n",
       "           8.,  3.,  3., 10.])},\n",
       "  'cost': 18597.853631083515},\n",
       " 'problem_15': {'path': {'suboperation_0': array([0., 0.]),\n",
       "   'suboperation_1': array([1., 1., 1.]),\n",
       "   'suboperation_2': array([1., 2.]),\n",
       "   'suboperation_3': array([1., 1.]),\n",
       "   'suboperation_4': array([1., 1., 0.])},\n",
       "  'cost': 3495.437794653481},\n",
       " 'problem_16': {'path': {'suboperation_0': array([1., 1., 2., 0.]),\n",
       "   'suboperation_1': array([1., 1., 1., 2., 0.]),\n",
       "   'suboperation_2': array([1., 1., 1., 0.]),\n",
       "   'suboperation_3': array([1., 1., 1., 2., 0.]),\n",
       "   'suboperation_4': array([0., 2.])},\n",
       "  'cost': 8266.234067012088},\n",
       " 'problem_17': {'path': {'suboperation_0': array([1., 1., 1., 2., 0.]),\n",
       "   'suboperation_1': array([1., 1., 1., 2., 0.]),\n",
       "   'suboperation_2': array([1., 1., 1., 2., 0.]),\n",
       "   'suboperation_3': array([0., 0.]),\n",
       "   'suboperation_4': array([1., 1., 1., 2., 0.])},\n",
       "  'cost': 8868.77237415206}}"
      ]
     },
     "execution_count": 4,
     "metadata": {},
     "output_type": "execute_result"
    }
   ],
   "source": [
    "info = naive_solver.solve_all()\n",
    "print(\"total_cost:\", naive_solver.total_cost)\n",
    "info"
   ]
  },
  {
   "cell_type": "code",
   "execution_count": 5,
   "metadata": {},
   "outputs": [],
   "source": [
    "def softmax(x):\n",
    "    reciprocal_x = 1 / x\n",
    "    exp_reciprocal_x = np.exp(reciprocal_x - np.max(reciprocal_x))\n",
    "    return exp_reciprocal_x / np.sum(exp_reciprocal_x)"
   ]
  },
  {
   "cell_type": "code",
   "execution_count": 96,
   "metadata": {},
   "outputs": [],
   "source": [
    "import numpy as np\n",
    "\n",
    "\n",
    "class NaiveSolver_plus:\n",
    "    def __init__(self, dataset, n_bests=1, step_forward=1, skip_step=1):\n",
    "        self.problems = dataset\n",
    "        self.total_cost = 0\n",
    "        self.n_best = n_bests\n",
    "        self.step_forward = step_forward\n",
    "        self.cost_operations = None\n",
    "        self.trans_cost = None\n",
    "        self.skip_step = skip_step\n",
    "\n",
    "    def look_forward(self, horizon, start_city=None, cost=0):\n",
    "        visited_cities = []\n",
    "        for stage in horizon:\n",
    "            if start_city is None:\n",
    "                reverse_probabilities = 1 / self.cost_operations[stage]\n",
    "                reverse_probabilities /= np.sum(reverse_probabilities)\n",
    "\n",
    "                city = np.random.choice(\n",
    "                    np.argsort(self.cost_operations[stage]), p=reverse_probabilities\n",
    "                )\n",
    "\n",
    "                visited_cities.append(city)\n",
    "                cost += self.cost_operations[stage][city]\n",
    "            else:\n",
    "                cost_total = self.cost_operations[stage] + self.trans_cost[start_city]\n",
    "                variants = np.argsort(cost_total)[: self.n_best]\n",
    "\n",
    "                reverse_probabilities = 1 / cost_total[variants]\n",
    "                reverse_probabilities /= np.sum(reverse_probabilities)\n",
    "\n",
    "                city = np.random.choice(variants, p=reverse_probabilities)\n",
    "\n",
    "                visited_cities.append(city)\n",
    "                cost += cost_total[city]\n",
    "        return cost, visited_cities\n",
    "\n",
    "    def sample_forward(self, horizon, init_city, num):\n",
    "        rand_walk = [self.look_forward(horizon, init_city) for _ in range(num)]\n",
    "        return rand_walk\n",
    "\n",
    "    def solve_suboperaion(self, available_operations):\n",
    "        \"\"\"\n",
    "        Solve problem for one suboperation\n",
    "        \"\"\"\n",
    "        sub_problem_data = []\n",
    "        city = None\n",
    "        skip_list = []\n",
    "        for i, stage in enumerate(available_operations):\n",
    "            horizon = available_operations[i : i + self.step_forward]\n",
    "\n",
    "            if len(skip_list) == 0:\n",
    "                rand_walk = self.sample_forward(horizon, city, 500)\n",
    "                min_index = np.argmin([item[0] for item in rand_walk])\n",
    "                skip_list = rand_walk[min_index][1][: self.skip_step]\n",
    "\n",
    "            if city is None:\n",
    "                # city = rand_walk[min_index][1][0]\n",
    "                city = skip_list.pop(0)\n",
    "                sub_problem_data.append([city, self.cost_operations[stage, city]])\n",
    "            else:\n",
    "                # new_city = rand_walk[min_index][1][0]\n",
    "                new_city = skip_list.pop(0)\n",
    "                cost_total = self.cost_operations[stage] + self.trans_cost[city]\n",
    "                city = new_city\n",
    "                sub_problem_data.append([city, cost_total[city]])\n",
    "\n",
    "        return np.array(sub_problem_data)[:, 0], np.sum(\n",
    "            np.array(sub_problem_data)[:, 1]\n",
    "        )\n",
    "\n",
    "    def solve_problem(self, num_problem, save_costs=False):\n",
    "        \"\"\"\n",
    "        Solve operation\n",
    "        \"\"\"\n",
    "        n_tasks = self.problems[num_problem][\"n_tasks\"]\n",
    "        operation = self.problems[num_problem][\"operation\"]\n",
    "        dist = self.problems[num_problem][\"dist\"]\n",
    "        time_cost = self.problems[num_problem][\"time_cost\"]\n",
    "        op_cost = self.problems[num_problem][\"op_cost\"]\n",
    "        productivity = self.problems[num_problem][\"productivity\"]\n",
    "        transportation_cost = self.problems[num_problem][\"transportation_cost\"]\n",
    "\n",
    "        self.cost_operations = time_cost * op_cost / productivity\n",
    "        self.trans_cost = dist * transportation_cost\n",
    "\n",
    "        problem_cost = 0\n",
    "        problem_path = {}\n",
    "\n",
    "        for n_sub in range(n_tasks):\n",
    "            available_operations = np.nonzero(operation[:, n_sub])[0]\n",
    "            path, cost = self.solve_suboperaion(available_operations)\n",
    "\n",
    "            problem_cost += cost\n",
    "            problem_path[f\"suboperation_{n_sub}\"] = path\n",
    "        if save_costs:\n",
    "            self.total_cost += problem_cost\n",
    "        return {\"path\": problem_path, \"cost\": problem_cost}"
   ]
  },
  {
   "cell_type": "code",
   "execution_count": 103,
   "metadata": {},
   "outputs": [],
   "source": [
    "naive_solver_plus = NaiveSolver_plus(dataset, n_bests=3, step_forward=3, skip_step=1)"
   ]
  },
  {
   "cell_type": "code",
   "execution_count": 105,
   "metadata": {},
   "outputs": [
    {
     "data": {
      "text/plain": [
       "{'path': {'suboperation_0': array([0., 3., 0., 0., 3.]),\n",
       "  'suboperation_1': array([1., 1., 1., 1.]),\n",
       "  'suboperation_2': array([1., 9., 5., 5., 6., 6.]),\n",
       "  'suboperation_3': array([2., 0., 3., 3., 0., 3., 3.]),\n",
       "  'suboperation_4': array([1., 9., 5., 5., 7., 7.])},\n",
       " 'cost': 7138.936050572123}"
      ]
     },
     "execution_count": 105,
     "metadata": {},
     "output_type": "execute_result"
    }
   ],
   "source": [
    "naive_solver_plus.solve_problem(0)"
   ]
  },
  {
   "cell_type": "code",
   "execution_count": 9,
   "metadata": {},
   "outputs": [
    {
     "data": {
      "text/plain": [
       "{'path': {'suboperation_0': array([0., 3., 0., 0., 3.]),\n",
       "  'suboperation_1': array([9., 9., 9., 9.]),\n",
       "  'suboperation_2': array([9., 9., 5., 5., 6., 6.]),\n",
       "  'suboperation_3': array([3., 0., 3., 3., 0., 3., 3.]),\n",
       "  'suboperation_4': array([9., 9., 5., 5., 7., 7.])},\n",
       " 'cost': 6325.046463556215}"
      ]
     },
     "execution_count": 9,
     "metadata": {},
     "output_type": "execute_result"
    }
   ],
   "source": [
    "naive_solver = NaiveSolver(dataset)\n",
    "info_problem = naive_solver.solve_problem(0)\n",
    "info_problem"
   ]
  },
  {
   "cell_type": "code",
   "execution_count": 10,
   "metadata": {},
   "outputs": [],
   "source": [
    "n_tasks = dataset[0][\"n_tasks\"]\n",
    "operation = dataset[0][\"operation\"]\n",
    "dist = dataset[0][\"dist\"]\n",
    "time_cost = dataset[0][\"time_cost\"]\n",
    "op_cost = dataset[0][\"op_cost\"]\n",
    "productivity = dataset[0][\"productivity\"]\n",
    "transportation_cost = dataset[0][\"transportation_cost\"]\n",
    "\n",
    "# Create cost matrices\n",
    "cost_operations = time_cost * op_cost / productivity\n",
    "trans_cost = dist * transportation_cost"
   ]
  },
  {
   "cell_type": "code",
   "execution_count": 11,
   "metadata": {},
   "outputs": [
    {
     "data": {
      "text/plain": [
       "array([   183.69096349,    750.51627815,    838.78758119,    483.14460627,\n",
       "          639.96857167, 135989.59530569,    737.59866504,    227.40822959,\n",
       "          776.1957413 ,   1031.29260476])"
      ]
     },
     "execution_count": 11,
     "metadata": {},
     "output_type": "execute_result"
    }
   ],
   "source": [
    "trans_cost[0] + cost_operations[6]"
   ]
  }
 ],
 "metadata": {
  "kernelspec": {
   "display_name": "graph",
   "language": "python",
   "name": "python3"
  },
  "language_info": {
   "codemirror_mode": {
    "name": "ipython",
    "version": 3
   },
   "file_extension": ".py",
   "mimetype": "text/x-python",
   "name": "python",
   "nbconvert_exporter": "python",
   "pygments_lexer": "ipython3",
   "version": "3.11.5"
  }
 },
 "nbformat": 4,
 "nbformat_minor": 2
}
