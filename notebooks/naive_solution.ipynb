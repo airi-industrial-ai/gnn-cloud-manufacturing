{
 "cells": [
  {
   "cell_type": "markdown",
   "metadata": {},
   "source": [
    "# Libs"
   ]
  },
  {
   "cell_type": "code",
   "execution_count": 1,
   "metadata": {},
   "outputs": [
    {
     "name": "stderr",
     "output_type": "stream",
     "text": [
      "/Users/fomindmitry/miniconda3/envs/graph/lib/python3.11/site-packages/tqdm/auto.py:21: TqdmWarning: IProgress not found. Please update jupyter and ipywidgets. See https://ipywidgets.readthedocs.io/en/stable/user_install.html\n",
      "  from .autonotebook import tqdm as notebook_tqdm\n"
     ]
    }
   ],
   "source": [
    "import numpy as np\n",
    "import pandas as pd\n",
    "\n",
    "from cloudmanufacturing.data import read_fatahi_dataset\n",
    "from cloudmanufacturing.solvers.naive_solver import naive_solver"
   ]
  },
  {
   "cell_type": "markdown",
   "metadata": {},
   "source": [
    "# Loading data"
   ]
  },
  {
   "cell_type": "code",
   "execution_count": 2,
   "metadata": {},
   "outputs": [
    {
     "name": "stderr",
     "output_type": "stream",
     "text": [
      "  0%|          | 0/18 [00:00<?, ?it/s]"
     ]
    },
    {
     "name": "stderr",
     "output_type": "stream",
     "text": [
      "100%|██████████| 18/18 [00:03<00:00,  5.20it/s]\n"
     ]
    }
   ],
   "source": [
    "dataset = read_fatahi_dataset(\"../data/fatahi.xlsx\")"
   ]
  },
  {
   "cell_type": "markdown",
   "metadata": {},
   "source": [
    "# Solving problem"
   ]
  },
  {
   "cell_type": "code",
   "execution_count": 3,
   "metadata": {},
   "outputs": [],
   "source": [
    "naive_solver = naive_solver(dataset)"
   ]
  },
  {
   "cell_type": "code",
   "execution_count": 4,
   "metadata": {},
   "outputs": [
    {
     "data": {
      "text/plain": [
       "{'path': {'suboperation_0': array([0., 3., 0., 0., 3.]),\n",
       "  'suboperation_1': array([9., 9., 9., 9.]),\n",
       "  'suboperation_2': array([9., 9., 5., 5., 6., 6.]),\n",
       "  'suboperation_3': array([3., 0., 3., 3., 0., 3., 3.]),\n",
       "  'suboperation_4': array([9., 9., 5., 5., 7., 7.])},\n",
       " 'cost': 4566.2429278397885}"
      ]
     },
     "execution_count": 4,
     "metadata": {},
     "output_type": "execute_result"
    }
   ],
   "source": [
    "info_problem = naive_solver.solve_problem(0)\n",
    "info_problem"
   ]
  },
  {
   "cell_type": "code",
   "execution_count": 7,
   "metadata": {},
   "outputs": [
    {
     "name": "stdout",
     "output_type": "stream",
     "text": [
      "total_cost: 332458.6029500123\n"
     ]
    },
    {
     "data": {
      "text/plain": [
       "{'problem_0': {'path': {'suboperation_0': array([0., 3., 0., 0., 3.]),\n",
       "   'suboperation_1': array([9., 9., 9., 9.]),\n",
       "   'suboperation_2': array([9., 9., 5., 5., 6., 6.]),\n",
       "   'suboperation_3': array([3., 0., 3., 3., 0., 3., 3.]),\n",
       "   'suboperation_4': array([9., 9., 5., 5., 7., 7.])},\n",
       "  'cost': 4566.2429278397885},\n",
       " 'problem_1': {'path': {'suboperation_0': array([9., 9., 9., 5., 5., 7., 7., 6., 6.]),\n",
       "   'suboperation_1': array([9., 9., 9., 5., 5., 7., 7., 6., 6.]),\n",
       "   'suboperation_2': array([0., 3., 0., 3., 6.]),\n",
       "   'suboperation_3': array([9., 9., 9., 5., 5., 7., 6.]),\n",
       "   'suboperation_4': array([0., 3., 0., 3., 6., 6.])},\n",
       "  'cost': 7032.218963333427},\n",
       " 'problem_2': {'path': {'suboperation_0': array([9., 9., 9., 9., 5., 5., 7., 7., 6., 6.]),\n",
       "   'suboperation_1': array([9., 9., 9., 9., 5., 5., 5.]),\n",
       "   'suboperation_2': array([9., 9., 9., 9., 5., 5., 7., 7., 6., 6.]),\n",
       "   'suboperation_3': array([9., 9., 9., 9., 5., 5., 5., 6.]),\n",
       "   'suboperation_4': array([3., 3., 3., 0., 0., 6.])},\n",
       "  'cost': 8817.362559652982},\n",
       " 'problem_3': {'path': {'suboperation_0': array([0., 3., 0., 0., 3.]),\n",
       "   'suboperation_1': array([9., 9., 9., 9.]),\n",
       "   'suboperation_2': array([9., 9., 5., 5., 6., 6.]),\n",
       "   'suboperation_3': array([3., 0., 3., 3., 0., 3., 3.]),\n",
       "   'suboperation_4': array([9., 9., 5., 5., 7., 7.]),\n",
       "   'suboperation_5': array([9., 9., 9., 9., 5., 5., 5., 6., 6.]),\n",
       "   'suboperation_6': array([3., 0., 3., 0., 3., 6., 6.]),\n",
       "   'suboperation_7': array([3., 3., 0., 0., 3., 6., 6.]),\n",
       "   'suboperation_8': array([9., 9., 9., 9., 9., 9.]),\n",
       "   'suboperation_9': array([9., 9., 9., 9., 9., 9., 9., 9.])},\n",
       "  'cost': 11566.649370215811},\n",
       " 'problem_4': {'path': {'suboperation_0': array([9., 9., 9., 5., 5., 7., 7., 6., 6.]),\n",
       "   'suboperation_1': array([9., 9., 9., 5., 5., 7., 7., 6., 6.]),\n",
       "   'suboperation_2': array([0., 3., 0., 3., 6.]),\n",
       "   'suboperation_3': array([9., 9., 9., 5., 5., 7., 6.]),\n",
       "   'suboperation_4': array([0., 3., 0., 3., 6., 6.]),\n",
       "   'suboperation_5': array([9., 9., 9., 9., 5., 5., 7., 7., 6., 6.]),\n",
       "   'suboperation_6': array([9., 9., 9., 9., 5., 5., 7., 7., 3.]),\n",
       "   'suboperation_7': array([3., 0., 3., 0., 3.]),\n",
       "   'suboperation_8': array([3., 3., 3., 0., 6., 6.]),\n",
       "   'suboperation_9': array([9., 9., 9., 5., 5., 5., 6., 6.])},\n",
       "  'cost': 14749.532507136633},\n",
       " 'problem_5': {'path': {'suboperation_0': array([9., 9., 9., 9., 5., 5., 7., 7., 6., 6.]),\n",
       "   'suboperation_1': array([9., 9., 9., 9., 5., 5., 5.]),\n",
       "   'suboperation_2': array([9., 9., 9., 9., 5., 5., 7., 7., 6., 6.]),\n",
       "   'suboperation_3': array([9., 9., 9., 9., 5., 5., 5., 6.]),\n",
       "   'suboperation_4': array([3., 3., 3., 0., 0., 6.]),\n",
       "   'suboperation_5': array([9., 9., 9., 5., 5., 7., 7.]),\n",
       "   'suboperation_6': array([3., 3., 3., 0., 0., 3., 3.]),\n",
       "   'suboperation_7': array([9., 9., 9., 9., 9., 9., 9.]),\n",
       "   'suboperation_8': array([9., 9., 9., 9., 5., 5., 7., 7., 3.]),\n",
       "   'suboperation_9': array([9., 9., 9., 5., 5., 7., 7., 6.])},\n",
       "  'cost': 16560.14747037571},\n",
       " 'problem_6': {'path': {'suboperation_0': array([12.,  4., 19., 12., 12.]),\n",
       "   'suboperation_1': array([ 9., 17., 17., 17.]),\n",
       "   'suboperation_2': array([ 9.,  9., 11.,  9.,  9.,  9.]),\n",
       "   'suboperation_3': array([3., 0., 3., 3., 0., 3., 3.]),\n",
       "   'suboperation_4': array([ 9.,  9., 11., 17., 17., 17.])},\n",
       "  'cost': 4391.599884619644},\n",
       " 'problem_7': {'path': {'suboperation_0': array([ 9.,  9., 17., 17., 17., 17., 17., 11., 11.]),\n",
       "   'suboperation_1': array([ 9.,  9.,  9., 11., 17., 17., 17., 11., 11.]),\n",
       "   'suboperation_2': array([12.,  3.,  0.,  3., 14.]),\n",
       "   'suboperation_3': array([ 9.,  9., 17., 17., 17., 17., 11.]),\n",
       "   'suboperation_4': array([12.,  4., 19., 19., 12., 13.])},\n",
       "  'cost': 6546.307191324442},\n",
       " 'problem_8': {'path': {'suboperation_0': array([ 9.,  9.,  9., 17., 17., 17., 17., 17., 11., 11.]),\n",
       "   'suboperation_1': array([ 9.,  9.,  9., 17., 17., 17., 17.]),\n",
       "   'suboperation_2': array([ 9.,  9.,  9., 17., 17., 17., 17., 17., 11., 11.]),\n",
       "   'suboperation_3': array([ 9.,  9.,  9., 17., 17., 17., 17., 11.]),\n",
       "   'suboperation_4': array([ 3.,  3.,  3.,  0.,  0., 14.])},\n",
       "  'cost': 7438.256842399175},\n",
       " 'problem_9': {'path': {'suboperation_0': array([6., 8., 8., 6., 6., 6., 6., 6., 3.]),\n",
       "   'suboperation_1': array([6., 8., 8., 7., 7., 7., 7., 6., 6., 6., 3., 3., 7.]),\n",
       "   'suboperation_2': array([6., 8., 8., 8., 6., 6., 6., 7., 6., 6., 6., 6., 6., 5., 5.]),\n",
       "   'suboperation_3': array([1., 0., 7., 7., 7., 7., 7., 7., 3., 0., 3., 3., 7., 7.]),\n",
       "   'suboperation_4': array([6., 6., 8., 8., 8., 8., 8., 8., 6., 6., 3., 3., 7., 7.])},\n",
       "  'cost': 10997.42774886404},\n",
       " 'problem_10': {'path': {'suboperation_0': array([6., 6., 8., 8., 8., 6., 6., 6., 8., 8., 8., 6., 6., 6., 3., 3., 7.,\n",
       "          7.]),\n",
       "   'suboperation_1': array([6., 8., 6., 6., 6., 6., 7., 3., 8., 8., 3., 7.]),\n",
       "   'suboperation_2': array([6., 8., 8., 7., 7., 7., 0., 7., 6., 6., 6., 6., 3., 3., 7., 7.]),\n",
       "   'suboperation_3': array([6., 8., 8., 8., 8., 8., 6., 6., 8., 8., 6., 6., 6., 6.]),\n",
       "   'suboperation_4': array([1., 9., 9., 9., 9., 9., 0., 6., 6., 6., 6., 6., 5., 5.])},\n",
       "  'cost': 13034.998043712456},\n",
       " 'problem_11': {'path': {'suboperation_0': array([6., 8., 8., 8., 8., 8., 6., 6., 6., 8., 8., 8., 6., 6., 6., 6., 6.]),\n",
       "   'suboperation_1': array([6., 8., 8., 8., 8., 8., 6., 6., 6., 8., 8., 8., 6., 6., 6., 6., 6.,\n",
       "          5.]),\n",
       "   'suboperation_2': array([1., 9., 9., 9., 9., 9., 0., 7., 6., 6., 6., 3., 3.]),\n",
       "   'suboperation_3': array([1., 9., 9., 9., 9., 9., 9., 0., 7., 6., 6., 3., 3., 7.]),\n",
       "   'suboperation_4': array([6., 8., 8., 8., 8., 8., 6., 6., 8., 8., 8., 8., 8., 8., 3., 3., 7.])},\n",
       "  'cost': 14077.611209713352},\n",
       " 'problem_12': {'path': {'suboperation_0': array([ 6.,  8.,  8.,  6.,  6., 14., 14., 14.,  3.]),\n",
       "   'suboperation_1': array([14.,  3., 16.,  3.,  3.,  3.,  7., 16., 14.,  8.,  3.,  3.,  7.]),\n",
       "   'suboperation_2': array([14.,  3., 16.,  0.,  0.,  3.,  0.,  7., 16., 14.,  8.,  8., 13.,\n",
       "           4.,  4.]),\n",
       "   'suboperation_3': array([ 1., 15., 15.,  5., 11., 11., 11., 11., 11., 11., 11., 11., 11.,\n",
       "          11.]),\n",
       "   'suboperation_4': array([14.,  0., 15., 15., 18.,  7.,  0.,  7., 16., 16.,  3.,  3., 10.,\n",
       "          19.])},\n",
       "  'cost': 8950.72581571487},\n",
       " 'problem_13': {'path': {'suboperation_0': array([14.,  0., 15., 18.,  7.,  7.,  7.,  7.,  7.,  0.,  7., 16., 16.,\n",
       "          16.,  3.,  3., 10., 19.]),\n",
       "   'suboperation_1': array([ 6.,  8.,  6.,  6.,  6., 14., 14., 14.,  8.,  8.,  3., 10.]),\n",
       "   'suboperation_2': array([ 6.,  8.,  8.,  7.,  7.,  7.,  0.,  7., 16., 14.,  8.,  8.,  3.,\n",
       "           3., 10., 19.]),\n",
       "   'suboperation_3': array([14.,  3.,  0., 15., 18.,  7.,  7.,  7.,  7.,  7., 16., 16., 16.,\n",
       "          16.]),\n",
       "   'suboperation_4': array([ 1., 11., 17., 17., 17.,  9., 17., 17., 17., 11., 11., 11., 11.,\n",
       "          11.])},\n",
       "  'cost': 10950.433119614863},\n",
       " 'problem_14': {'path': {'suboperation_0': array([14.,  3.,  0., 15., 18.,  7.,  7.,  7.,  7.,  7.,  0.,  7., 16.,\n",
       "          14.,  8., 13., 13.]),\n",
       "   'suboperation_1': array([14.,  3.,  0., 15., 18.,  7.,  7.,  7.,  7.,  7.,  0.,  7., 16.,\n",
       "          14.,  8.,  8., 13.,  4.]),\n",
       "   'suboperation_2': array([ 1., 11., 17., 17., 17., 17., 17., 11., 11., 11., 11., 11., 11.]),\n",
       "   'suboperation_3': array([ 1., 11., 17., 17., 17., 11., 11., 11., 11., 11., 11., 11., 11.,\n",
       "          11.]),\n",
       "   'suboperation_4': array([14.,  3.,  0., 15., 18.,  7.,  7.,  7.,  7.,  0.,  7., 14.,  8.,\n",
       "           8.,  3.,  3., 10.])},\n",
       "  'cost': 12542.396029593485},\n",
       " 'problem_15': {'path': {'suboperation_0': array([0., 0.]),\n",
       "   'suboperation_1': array([1., 1., 1.]),\n",
       "   'suboperation_2': array([1., 2.]),\n",
       "   'suboperation_3': array([1., 1.]),\n",
       "   'suboperation_4': array([1., 1., 0.])},\n",
       "  'cost': 2483.4524922331566},\n",
       " 'problem_16': {'path': {'suboperation_0': array([1., 1., 2., 0.]),\n",
       "   'suboperation_1': array([1., 1., 1., 2., 0.]),\n",
       "   'suboperation_2': array([1., 1., 1., 0.]),\n",
       "   'suboperation_3': array([1., 1., 1., 2., 0.]),\n",
       "   'suboperation_4': array([0., 2.])},\n",
       "  'cost': 5476.540268735191},\n",
       " 'problem_17': {'path': {'suboperation_0': array([1., 1., 1., 2., 0.]),\n",
       "   'suboperation_1': array([1., 1., 1., 2., 0.]),\n",
       "   'suboperation_2': array([1., 1., 1., 2., 0.]),\n",
       "   'suboperation_3': array([0., 0.]),\n",
       "   'suboperation_4': array([1., 1., 1., 2., 0.])},\n",
       "  'cost': 6047.399029927172}}"
      ]
     },
     "execution_count": 7,
     "metadata": {},
     "output_type": "execute_result"
    }
   ],
   "source": [
    "info = naive_solver.solve_all()\n",
    "print(\"total_cost:\", naive_solver.total_cost)\n",
    "info"
   ]
  }
 ],
 "metadata": {
  "kernelspec": {
   "display_name": "graph",
   "language": "python",
   "name": "python3"
  },
  "language_info": {
   "codemirror_mode": {
    "name": "ipython",
    "version": 3
   },
   "file_extension": ".py",
   "mimetype": "text/x-python",
   "name": "python",
   "nbconvert_exporter": "python",
   "pygments_lexer": "ipython3",
   "version": "3.11.5"
  }
 },
 "nbformat": 4,
 "nbformat_minor": 2
}
