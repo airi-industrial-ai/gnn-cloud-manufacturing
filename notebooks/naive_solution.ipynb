{
 "cells": [
  {
   "cell_type": "markdown",
   "metadata": {},
   "source": [
    "# Libs"
   ]
  },
  {
   "cell_type": "code",
   "execution_count": 1,
   "metadata": {},
   "outputs": [
    {
     "name": "stderr",
     "output_type": "stream",
     "text": [
      "/Users/fomindmitry/miniconda3/envs/graph/lib/python3.11/site-packages/tqdm/auto.py:21: TqdmWarning: IProgress not found. Please update jupyter and ipywidgets. See https://ipywidgets.readthedocs.io/en/stable/user_install.html\n",
      "  from .autonotebook import tqdm as notebook_tqdm\n"
     ]
    }
   ],
   "source": [
    "import numpy as np\n",
    "import pandas as pd\n",
    "\n",
    "from cloudmanufacturing.data import read_fatahi_dataset\n",
    "from cloudmanufacturing.solvers.naive_solver import NaiveSolver"
   ]
  },
  {
   "cell_type": "markdown",
   "metadata": {},
   "source": [
    "# Loading data"
   ]
  },
  {
   "cell_type": "code",
   "execution_count": 2,
   "metadata": {},
   "outputs": [
    {
     "name": "stderr",
     "output_type": "stream",
     "text": [
      "  0%|          | 0/18 [00:00<?, ?it/s]"
     ]
    },
    {
     "name": "stderr",
     "output_type": "stream",
     "text": [
      "100%|██████████| 18/18 [00:04<00:00,  3.73it/s]\n"
     ]
    }
   ],
   "source": [
    "dataset = read_fatahi_dataset(\"../data/fatahi.xlsx\")"
   ]
  },
  {
   "cell_type": "markdown",
   "metadata": {},
   "source": [
    "# Solving problem"
   ]
  },
  {
   "cell_type": "code",
   "execution_count": 3,
   "metadata": {},
   "outputs": [],
   "source": [
    "naive_solver = NaiveSolver(dataset)"
   ]
  },
  {
   "cell_type": "code",
   "execution_count": 4,
   "metadata": {},
   "outputs": [
    {
     "data": {
      "text/plain": [
       "{'path': {'suboperation_0': array([0., 3., 0., 0., 3.]),\n",
       "  'suboperation_1': array([3., 3., 0., 0.]),\n",
       "  'suboperation_2': array([8., 3., 3., 3., 6., 6.]),\n",
       "  'suboperation_3': array([6., 6., 3., 3., 0., 3., 3.]),\n",
       "  'suboperation_4': array([3., 3., 3., 0., 0., 3.])},\n",
       " 'cost': 6141.712220372922}"
      ]
     },
     "execution_count": 4,
     "metadata": {},
     "output_type": "execute_result"
    }
   ],
   "source": [
    "info_problem = naive_solver.solve_problem(0)\n",
    "info_problem"
   ]
  },
  {
   "cell_type": "code",
   "execution_count": 5,
   "metadata": {},
   "outputs": [
    {
     "name": "stdout",
     "output_type": "stream",
     "text": [
      "total_cost: 224420.56560195843\n"
     ]
    },
    {
     "data": {
      "text/plain": [
       "{'problem_0': {'path': {'suboperation_0': array([0., 3., 0., 0., 3.]),\n",
       "   'suboperation_1': array([3., 3., 0., 0.]),\n",
       "   'suboperation_2': array([8., 3., 3., 3., 6., 6.]),\n",
       "   'suboperation_3': array([6., 6., 3., 3., 0., 3., 3.]),\n",
       "   'suboperation_4': array([3., 3., 3., 0., 0., 3.])},\n",
       "  'cost': 6141.712220372922},\n",
       " 'problem_1': {'path': {'suboperation_0': array([9., 9., 9., 5., 5., 7., 7., 6., 6.]),\n",
       "   'suboperation_1': array([8., 3., 0., 3., 0., 0., 3., 6., 6.]),\n",
       "   'suboperation_2': array([6., 3., 0., 3., 6.]),\n",
       "   'suboperation_3': array([8., 3., 3., 3., 0., 0., 6.]),\n",
       "   'suboperation_4': array([6., 5., 5., 5., 6., 6.])},\n",
       "  'cost': 10863.98114111436},\n",
       " 'problem_2': {'path': {'suboperation_0': array([9., 9., 9., 9., 5., 5., 7., 7., 6., 6.]),\n",
       "   'suboperation_1': array([8., 3., 0., 3., 3., 3., 3.]),\n",
       "   'suboperation_2': array([3., 3., 0., 3., 3., 0., 0., 3., 6., 6.]),\n",
       "   'suboperation_3': array([8., 3., 0., 3., 3., 0., 3., 6.]),\n",
       "   'suboperation_4': array([6., 3., 3., 0., 0., 6.])},\n",
       "  'cost': 10072.681025487782},\n",
       " 'problem_3': {'path': {'suboperation_0': array([0., 3., 0., 0., 3.]),\n",
       "   'suboperation_1': array([3., 3., 0., 0.]),\n",
       "   'suboperation_2': array([8., 3., 3., 3., 6., 6.]),\n",
       "   'suboperation_3': array([6., 6., 3., 3., 0., 3., 3.]),\n",
       "   'suboperation_4': array([3., 3., 3., 0., 0., 3.]),\n",
       "   'suboperation_5': array([3., 3., 0., 3., 3., 0., 3., 6., 6.]),\n",
       "   'suboperation_6': array([6., 6., 3., 0., 3., 6., 6.]),\n",
       "   'suboperation_7': array([6., 3., 0., 0., 3., 6., 6.]),\n",
       "   'suboperation_8': array([8., 8., 3., 0., 6., 6.]),\n",
       "   'suboperation_9': array([8., 3., 0., 0., 0., 3., 6., 6.])},\n",
       "  'cost': 15837.635704578843},\n",
       " 'problem_4': {'path': {'suboperation_0': array([9., 9., 9., 5., 5., 7., 7., 6., 6.]),\n",
       "   'suboperation_1': array([8., 3., 0., 3., 0., 0., 3., 6., 6.]),\n",
       "   'suboperation_2': array([6., 3., 0., 3., 6.]),\n",
       "   'suboperation_3': array([8., 3., 3., 3., 0., 0., 6.]),\n",
       "   'suboperation_4': array([6., 5., 5., 5., 6., 6.]),\n",
       "   'suboperation_5': array([8., 3., 0., 3., 3., 0., 0., 3., 6., 6.]),\n",
       "   'suboperation_6': array([8., 3., 0., 3., 3., 0., 0., 3., 3.]),\n",
       "   'suboperation_7': array([3., 0., 3., 0., 3.]),\n",
       "   'suboperation_8': array([3., 3., 3., 0., 6., 6.]),\n",
       "   'suboperation_9': array([8., 8., 3., 3., 0., 3., 6., 6.])},\n",
       "  'cost': 18855.825460193242},\n",
       " 'problem_5': {'path': {'suboperation_0': array([9., 9., 9., 9., 5., 5., 7., 7., 6., 6.]),\n",
       "   'suboperation_1': array([8., 3., 0., 3., 3., 3., 3.]),\n",
       "   'suboperation_2': array([3., 3., 0., 3., 3., 0., 0., 3., 6., 6.]),\n",
       "   'suboperation_3': array([8., 3., 0., 3., 3., 0., 3., 6.]),\n",
       "   'suboperation_4': array([6., 3., 3., 0., 0., 6.]),\n",
       "   'suboperation_5': array([8., 3., 0., 3., 0., 0., 3.]),\n",
       "   'suboperation_6': array([3., 3., 3., 0., 0., 3., 3.]),\n",
       "   'suboperation_7': array([3., 3., 0., 3., 0., 3., 3.]),\n",
       "   'suboperation_8': array([3., 3., 0., 3., 3., 0., 0., 3., 3.]),\n",
       "   'suboperation_9': array([3., 3., 3., 3., 0., 0., 3., 6.])},\n",
       "  'cost': 16934.97344231278},\n",
       " 'problem_6': {'path': {'suboperation_0': array([12.,  4., 19., 12., 12.]),\n",
       "   'suboperation_1': array([12.,  3.,  0.,  0.]),\n",
       "   'suboperation_2': array([10.,  3.,  3.,  3., 14., 14.]),\n",
       "   'suboperation_3': array([3., 0., 3., 3., 0., 3., 3.]),\n",
       "   'suboperation_4': array([10.,  3.,  3.,  0.,  0.,  3.])},\n",
       "  'cost': 5361.834843216493},\n",
       " 'problem_7': {'path': {'suboperation_0': array([ 9.,  9., 17., 17., 17., 17., 17., 11., 11.]),\n",
       "   'suboperation_1': array([11., 11., 11., 11., 17., 17., 17., 11., 11.]),\n",
       "   'suboperation_2': array([11., 17., 17., 17., 11.]),\n",
       "   'suboperation_3': array([11., 11., 17., 17., 17., 17., 11.]),\n",
       "   'suboperation_4': array([11., 11., 17., 17., 11., 11.])},\n",
       "  'cost': 9574.472986947781},\n",
       " 'problem_8': {'path': {'suboperation_0': array([ 9.,  9.,  9., 17., 17., 17., 17., 17., 11., 11.]),\n",
       "   'suboperation_1': array([11., 11., 11., 17., 17., 17., 17.]),\n",
       "   'suboperation_2': array([17., 17., 11., 17., 17., 17., 17., 17., 11., 11.]),\n",
       "   'suboperation_3': array([11., 11., 11., 17., 17., 17., 17., 11.]),\n",
       "   'suboperation_4': array([11., 17., 17., 17., 17., 11.])},\n",
       "  'cost': 9748.319174245154},\n",
       " 'problem_9': {'path': {'suboperation_0': array([6., 8., 8., 6., 6., 6., 6., 6., 3.]),\n",
       "   'suboperation_1': array([6., 8., 8., 7., 7., 7., 7., 6., 6., 6., 3., 3., 7.]),\n",
       "   'suboperation_2': array([6., 8., 8., 8., 6., 6., 6., 7., 6., 6., 6., 6., 6., 5., 5.]),\n",
       "   'suboperation_3': array([2., 6., 8., 6., 6., 6., 8., 8., 8., 8., 3., 3., 7., 7.]),\n",
       "   'suboperation_4': array([6., 6., 8., 8., 8., 8., 8., 8., 6., 6., 3., 3., 7., 7.])},\n",
       "  'cost': 17006.64475498498},\n",
       " 'problem_10': {'path': {'suboperation_0': array([6., 6., 8., 8., 8., 6., 6., 6., 8., 8., 8., 6., 6., 6., 3., 3., 7.,\n",
       "          7.]),\n",
       "   'suboperation_1': array([0., 7., 7., 7., 7., 0., 7., 3., 8., 8., 3., 7.]),\n",
       "   'suboperation_2': array([0., 7., 7., 7., 7., 7., 0., 7., 6., 6., 6., 6., 3., 3., 7., 7.]),\n",
       "   'suboperation_3': array([6., 8., 8., 8., 8., 8., 6., 6., 8., 8., 6., 6., 6., 6.]),\n",
       "   'suboperation_4': array([8., 8., 8., 6., 6., 8., 8., 6., 6., 6., 6., 6., 5., 5.])},\n",
       "  'cost': 17693.0466550626},\n",
       " 'problem_11': {'path': {'suboperation_0': array([6., 8., 8., 8., 8., 8., 6., 6., 6., 8., 8., 8., 6., 6., 6., 6., 6.]),\n",
       "   'suboperation_1': array([6., 8., 8., 8., 8., 8., 6., 6., 6., 8., 8., 8., 6., 6., 6., 6., 6.,\n",
       "          5.]),\n",
       "   'suboperation_2': array([2., 7., 7., 7., 7., 7., 0., 7., 6., 6., 6., 3., 3.]),\n",
       "   'suboperation_3': array([3., 7., 7., 7., 7., 7., 7., 0., 7., 6., 6., 3., 3., 7.]),\n",
       "   'suboperation_4': array([6., 8., 8., 8., 8., 8., 6., 6., 8., 8., 8., 8., 8., 8., 3., 3., 7.])},\n",
       "  'cost': 18729.360192180724},\n",
       " 'problem_12': {'path': {'suboperation_0': array([ 6.,  8.,  8.,  6.,  6., 14., 14., 14.,  3.]),\n",
       "   'suboperation_1': array([14.,  3., 16.,  3.,  3.,  3.,  7., 16., 14.,  8.,  3.,  3.,  7.]),\n",
       "   'suboperation_2': array([14.,  3., 16.,  0.,  0.,  3.,  0.,  7., 16., 14.,  8.,  8., 13.,\n",
       "           4.,  4.]),\n",
       "   'suboperation_3': array([12.,  8.,  8.,  6.,  6.,  6.,  8.,  8.,  8.,  8.,  3.,  3., 10.,\n",
       "          19.]),\n",
       "   'suboperation_4': array([19.,  0., 15., 15., 18.,  7.,  0.,  7., 16., 16.,  3.,  3., 10.,\n",
       "          19.])},\n",
       "  'cost': 14339.096193754367},\n",
       " 'problem_13': {'path': {'suboperation_0': array([14.,  0., 15., 18.,  7.,  7.,  7.,  7.,  7.,  0.,  7., 16., 16.,\n",
       "          16.,  3.,  3., 10., 19.]),\n",
       "   'suboperation_1': array([ 0., 15.,  5., 11., 11., 11., 11., 11., 11., 11., 11., 11.]),\n",
       "   'suboperation_2': array([11., 17., 17., 11., 11., 11., 11., 11., 11., 11., 11., 11., 11.,\n",
       "          11., 11., 11.]),\n",
       "   'suboperation_3': array([11.,  9., 17., 11., 17., 17., 17., 11., 11., 11., 11., 11., 11.,\n",
       "          11.]),\n",
       "   'suboperation_4': array([ 9.,  9.,  9.,  9., 11., 11., 11., 11., 11., 11., 11., 11., 11.,\n",
       "          11.])},\n",
       "  'cost': 19071.828098711412},\n",
       " 'problem_14': {'path': {'suboperation_0': array([14.,  3.,  0., 15., 18.,  7.,  7.,  7.,  7.,  7.,  0.,  7., 16.,\n",
       "          14.,  8., 13., 13.]),\n",
       "   'suboperation_1': array([13.,  3.,  0., 15., 18.,  7.,  7.,  7.,  7.,  7.,  0.,  7., 16.,\n",
       "          14.,  8.,  8., 13.,  4.]),\n",
       "   'suboperation_2': array([12., 12.,  8.,  8.,  6.,  6., 14., 14., 16., 16., 16.,  3.,  3.]),\n",
       "   'suboperation_3': array([ 3., 19., 16.,  0.,  0.,  3.,  3.,  0.,  7., 16., 14.,  3.,  3.,\n",
       "           7.]),\n",
       "   'suboperation_4': array([14.,  3.,  0., 15., 18.,  7.,  7.,  7.,  7.,  0.,  7., 14.,  8.,\n",
       "           8.,  3.,  3., 10.])},\n",
       "  'cost': 16581.869878093392},\n",
       " 'problem_15': {'path': {'suboperation_0': array([0., 0.]),\n",
       "   'suboperation_1': array([3., 3., 0.]),\n",
       "   'suboperation_2': array([3., 3.]),\n",
       "   'suboperation_3': array([3., 3.]),\n",
       "   'suboperation_4': array([3., 3., 0.])},\n",
       "  'cost': 2965.581698771082},\n",
       " 'problem_16': {'path': {'suboperation_0': array([1., 1., 2., 0.]),\n",
       "   'suboperation_1': array([3., 3., 0., 2., 0.]),\n",
       "   'suboperation_2': array([3., 3., 0., 0.]),\n",
       "   'suboperation_3': array([3., 3., 0., 2., 0.]),\n",
       "   'suboperation_4': array([0., 2.])},\n",
       "  'cost': 6943.666229433233},\n",
       " 'problem_17': {'path': {'suboperation_0': array([1., 1., 1., 2., 0.]),\n",
       "   'suboperation_1': array([3., 3., 0., 2., 0.]),\n",
       "   'suboperation_2': array([3., 3., 0., 2., 0.]),\n",
       "   'suboperation_3': array([0., 0.]),\n",
       "   'suboperation_4': array([3., 3., 0., 2., 0.])},\n",
       "  'cost': 7698.035902497279}}"
      ]
     },
     "execution_count": 5,
     "metadata": {},
     "output_type": "execute_result"
    }
   ],
   "source": [
    "info = naive_solver.solve_all()\n",
    "print(\"total_cost:\", naive_solver.total_cost)\n",
    "info"
   ]
  }
 ],
 "metadata": {
  "kernelspec": {
   "display_name": "graph",
   "language": "python",
   "name": "python3"
  },
  "language_info": {
   "codemirror_mode": {
    "name": "ipython",
    "version": 3
   },
   "file_extension": ".py",
   "mimetype": "text/x-python",
   "name": "python",
   "nbconvert_exporter": "python",
   "pygments_lexer": "ipython3",
   "version": "3.11.5"
  }
 },
 "nbformat": 4,
 "nbformat_minor": 2
}
