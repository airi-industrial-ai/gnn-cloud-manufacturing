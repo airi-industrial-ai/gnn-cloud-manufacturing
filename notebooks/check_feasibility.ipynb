{
 "cells": [
  {
   "cell_type": "code",
   "execution_count": 1,
   "id": "5f7e76de-2665-4ce5-9bed-3c83a96a2520",
   "metadata": {},
   "outputs": [],
   "source": [
    "from gnncloudmanufacturing.data import read_fatahi_dataset\n",
    "from gnncloudmanufacturing.greedy_algorithm import greedy_solve\n",
    "from gnncloudmanufacturing.validation import total_cost_from_gamma, check_feasibility\n",
    "from gnncloudmanufacturing.utils import delta_from_gamma\n",
    "\n",
    "import numpy as np"
   ]
  },
  {
   "cell_type": "code",
   "execution_count": 2,
   "id": "0197db7e-1c96-4711-a253-8a764c27406e",
   "metadata": {},
   "outputs": [
    {
     "data": {
      "application/vnd.jupyter.widget-view+json": {
       "model_id": "afa4de09e3dc4e83855e3c1df4d3db19",
       "version_major": 2,
       "version_minor": 0
      },
      "text/plain": [
       "  0%|          | 0/18 [00:00<?, ?it/s]"
      ]
     },
     "metadata": {},
     "output_type": "display_data"
    },
    {
     "name": "stdout",
     "output_type": "stream",
     "text": [
      "Problem: 5,10,10-1\n",
      "Problem: 5,10,10-2\n",
      "Problem: 5,10,10-3\n",
      "Problem: 10,10,10-1\n",
      "Problem: 10,10,10-2\n",
      "Problem: 10,10,10-3\n",
      "Problem: 5,10,20-1\n",
      "Problem: 5,10,20-2\n",
      "Problem: 5,10,20-3\n",
      "Problem: 5,20,10-1\n",
      "Problem: 5,20,10-2\n",
      "Problem: 5,20,10-3\n",
      "Problem: 5,20,20-1\n",
      "Problem: 5,20,20-2\n",
      "Problem: 5,20,20-3\n",
      "Problem: 5,5,5-1\n",
      "Problem: 5,5,5-2\n",
      "Problem: 5,5,5-3\n"
     ]
    }
   ],
   "source": [
    "dataset = read_fatahi_dataset('../data/fatahi.xlsx')\n",
    "for problem in dataset:\n",
    "    print(f'Problem: {problem[\"name\"]}')"
   ]
  },
  {
   "cell_type": "code",
   "execution_count": 4,
   "id": "a255d66b-2b96-4343-87d8-f6a2b9730493",
   "metadata": {},
   "outputs": [],
   "source": [
    "problem = dataset[2]\n",
    "gamma = greedy_solve(problem)\n",
    "delta = delta_from_gamma(problem, gamma)\n",
    "check_feasibility(gamma, delta, problem)"
   ]
  },
  {
   "cell_type": "code",
   "execution_count": 5,
   "id": "dc074648-16e4-4ddc-b2dd-ac16756bdbf7",
   "metadata": {},
   "outputs": [
    {
     "ename": "AssertionError",
     "evalue": "",
     "output_type": "error",
     "traceback": [
      "\u001b[1;31m---------------------------------------------------------------------------\u001b[0m",
      "\u001b[1;31mAssertionError\u001b[0m                            Traceback (most recent call last)",
      "Cell \u001b[1;32mIn[5], line 3\u001b[0m\n\u001b[0;32m      1\u001b[0m gamma[\u001b[38;5;241m0\u001b[39m, \u001b[38;5;241m0\u001b[39m, \u001b[38;5;241m0\u001b[39m] \u001b[38;5;241m=\u001b[39m \u001b[38;5;241m1\u001b[39m\n\u001b[0;32m      2\u001b[0m delta \u001b[38;5;241m=\u001b[39m delta_from_gamma(problem, gamma)\n\u001b[1;32m----> 3\u001b[0m \u001b[43mcheck_feasibility\u001b[49m\u001b[43m(\u001b[49m\u001b[43mgamma\u001b[49m\u001b[43m,\u001b[49m\u001b[43m \u001b[49m\u001b[43mdelta\u001b[49m\u001b[43m,\u001b[49m\u001b[43m \u001b[49m\u001b[43mproblem\u001b[49m\u001b[43m)\u001b[49m\n",
      "File \u001b[1;32m~\\YandexDisk\\Data Science\\gnn-cloud-manufacturing\\gnncloudmanufacturing\\validation.py:48\u001b[0m, in \u001b[0;36mcheck_feasibility\u001b[1;34m(gamma, delta, problem)\u001b[0m\n\u001b[0;32m     46\u001b[0m n_cities \u001b[38;5;241m=\u001b[39m problem[\u001b[38;5;124m'\u001b[39m\u001b[38;5;124mn_cities\u001b[39m\u001b[38;5;124m'\u001b[39m]\n\u001b[0;32m     47\u001b[0m \u001b[38;5;28;01mfor\u001b[39;00m i, k \u001b[38;5;129;01min\u001b[39;00m product(\u001b[38;5;28mrange\u001b[39m(n_operations), \u001b[38;5;28mrange\u001b[39m(n_tasks)):\n\u001b[1;32m---> 48\u001b[0m     \u001b[38;5;28;01massert\u001b[39;00m \u001b[38;5;28msum\u001b[39m(gamma[i, k]) \u001b[38;5;241m==\u001b[39m operation[i, k]\n\u001b[0;32m     49\u001b[0m \u001b[38;5;28;01mfor\u001b[39;00m i, k, m, m_ \u001b[38;5;129;01min\u001b[39;00m product(\n\u001b[0;32m     50\u001b[0m     \u001b[38;5;28mrange\u001b[39m(n_operations\u001b[38;5;241m-\u001b[39m\u001b[38;5;241m1\u001b[39m), \u001b[38;5;28mrange\u001b[39m(n_tasks), \u001b[38;5;28mrange\u001b[39m(n_cities), \u001b[38;5;28mrange\u001b[39m(n_cities)):\n\u001b[0;32m     51\u001b[0m     seq \u001b[38;5;241m=\u001b[39m np\u001b[38;5;241m.\u001b[39mwhere(operation[i:, k] \u001b[38;5;241m==\u001b[39m \u001b[38;5;241m1\u001b[39m)[\u001b[38;5;241m0\u001b[39m]\n",
      "\u001b[1;31mAssertionError\u001b[0m: "
     ]
    }
   ],
   "source": [
    "gamma[0, 0, 0] = 1\n",
    "delta = delta_from_gamma(problem, gamma)\n",
    "check_feasibility(gamma, delta, problem)"
   ]
  },
  {
   "cell_type": "code",
   "execution_count": null,
   "id": "bf65939a-cff9-46b9-a75a-9d3211e2afee",
   "metadata": {},
   "outputs": [],
   "source": []
  }
 ],
 "metadata": {
  "kernelspec": {
   "display_name": "Python 3 (ipykernel)",
   "language": "python",
   "name": "python3"
  },
  "language_info": {
   "codemirror_mode": {
    "name": "ipython",
    "version": 3
   },
   "file_extension": ".py",
   "mimetype": "text/x-python",
   "name": "python",
   "nbconvert_exporter": "python",
   "pygments_lexer": "ipython3",
   "version": "3.10.14"
  }
 },
 "nbformat": 4,
 "nbformat_minor": 5
}
