{
 "cells": [
  {
   "cell_type": "code",
   "execution_count": 29,
   "metadata": {
    "id": "vXbDAGQuenW4"
   },
   "outputs": [],
   "source": [
    "from gnncloudmanufacturing.data import sample_dataset, sample_problem\n",
    "from gnncloudmanufacturing.mip_solver import mip_solve\n",
    "from gnncloudmanufacturing.validation import total_cost_from_gamma\n",
    "import numpy as np\n",
    "import os"
   ]
  },
  {
   "cell_type": "code",
   "execution_count": 27,
   "metadata": {
    "id": "9IsbEm7afB23"
   },
   "outputs": [],
   "source": [
    "train_dataset = sample_dataset(100, [5, 5], [10, 10], [10, 10],\n",
    "                               dirpath='./', random_seed=0)"
   ]
  },
  {
   "cell_type": "code",
   "execution_count": 37,
   "metadata": {
    "colab": {
     "base_uri": "https://localhost:8080/"
    },
    "id": "iGmwni0NgiLa",
    "outputId": "6c0980e7-86b8-49cf-9523-df0006ccb36b"
   },
   "outputs": [
    {
     "name": "stdout",
     "output_type": "stream",
     "text": [
      "5,10,10-1 OptimizationStatus.OPTIMAL 6298.971729222136\n",
      "5,10,10-2 OptimizationStatus.OPTIMAL 3627.4141867693693\n",
      "5,10,10-3 OptimizationStatus.OPTIMAL 6958.428535128465\n",
      "5,10,10-4 OptimizationStatus.OPTIMAL 4703.768491868191\n",
      "5,10,10-5 OptimizationStatus.OPTIMAL 3865.78185846176\n",
      "5,10,10-6 OptimizationStatus.OPTIMAL 5347.558481978384\n",
      "5,10,10-7 OptimizationStatus.OPTIMAL 3625.961715815468\n",
      "5,10,10-8 OptimizationStatus.OPTIMAL 5546.05824347662\n",
      "5,10,10-9 OptimizationStatus.OPTIMAL 4167.133178323589\n",
      "5,10,10-10 OptimizationStatus.OPTIMAL 4763.550784175086\n",
      "5,10,10-11 OptimizationStatus.OPTIMAL 4668.752260435943\n",
      "5,10,10-12 OptimizationStatus.OPTIMAL 5848.202164155728\n",
      "5,10,10-13 OptimizationStatus.OPTIMAL 4728.696520982016\n",
      "5,10,10-14 OptimizationStatus.OPTIMAL 4205.880802565996\n",
      "5,10,10-15 OptimizationStatus.OPTIMAL 3611.254817402935\n",
      "5,10,10-16 OptimizationStatus.OPTIMAL 3879.323859195085\n",
      "5,10,10-17 OptimizationStatus.OPTIMAL 4470.4717252011\n",
      "5,10,10-18 OptimizationStatus.OPTIMAL 5015.734360224813\n",
      "5,10,10-19 OptimizationStatus.OPTIMAL 3942.2650276217732\n",
      "5,10,10-20 OptimizationStatus.OPTIMAL 5072.102179448663\n",
      "5,10,10-21 OptimizationStatus.OPTIMAL 4616.514217682698\n",
      "5,10,10-22 OptimizationStatus.OPTIMAL 4903.526882899663\n",
      "5,10,10-23 OptimizationStatus.OPTIMAL 4995.530053036949\n",
      "5,10,10-24 OptimizationStatus.OPTIMAL 4964.924591450621\n",
      "5,10,10-25 OptimizationStatus.OPTIMAL 5219.038801988401\n",
      "5,10,10-26 OptimizationStatus.OPTIMAL 5580.26280356623\n",
      "5,10,10-27 OptimizationStatus.OPTIMAL 6272.158802654563\n",
      "5,10,10-28 OptimizationStatus.OPTIMAL 6265.170074915221\n",
      "5,10,10-29 OptimizationStatus.OPTIMAL 3127.1721049509215\n",
      "5,10,10-30 OptimizationStatus.OPTIMAL 5683.3853114386475\n",
      "5,10,10-31 OptimizationStatus.OPTIMAL 5906.631269423213\n",
      "5,10,10-32 OptimizationStatus.OPTIMAL 5086.605971570372\n",
      "5,10,10-33 OptimizationStatus.OPTIMAL 5217.799691292992\n",
      "5,10,10-34 OptimizationStatus.OPTIMAL 5047.634811945306\n",
      "5,10,10-35 OptimizationStatus.OPTIMAL 4020.720561381427\n",
      "5,10,10-36 OptimizationStatus.OPTIMAL 5609.077888183376\n",
      "5,10,10-37 OptimizationStatus.OPTIMAL 5257.739365913702\n",
      "5,10,10-38 OptimizationStatus.OPTIMAL 4649.085729619212\n",
      "5,10,10-39 OptimizationStatus.OPTIMAL 5182.518165269045\n",
      "5,10,10-40 OptimizationStatus.OPTIMAL 5028.127059529435\n",
      "5,10,10-41 OptimizationStatus.OPTIMAL 4262.6973544646935\n",
      "5,10,10-42 OptimizationStatus.OPTIMAL 4783.0874756244675\n",
      "5,10,10-43 OptimizationStatus.OPTIMAL 4971.282988393447\n",
      "5,10,10-44 OptimizationStatus.OPTIMAL 5890.5318729271785\n",
      "5,10,10-45 OptimizationStatus.OPTIMAL 4736.410062063226\n",
      "5,10,10-46 OptimizationStatus.OPTIMAL 5601.4711263853\n",
      "5,10,10-47 OptimizationStatus.OPTIMAL 5890.443646968002\n",
      "5,10,10-48 OptimizationStatus.OPTIMAL 2843.7814339602987\n",
      "5,10,10-49 OptimizationStatus.OPTIMAL 4418.441017118573\n",
      "5,10,10-50 OptimizationStatus.OPTIMAL 5665.297398265918\n",
      "5,10,10-51 OptimizationStatus.OPTIMAL 6105.931214270656\n",
      "5,10,10-52 OptimizationStatus.OPTIMAL 4524.155797237659\n",
      "5,10,10-53 OptimizationStatus.OPTIMAL 5744.6393806479755\n",
      "5,10,10-54 OptimizationStatus.OPTIMAL 5341.933450768056\n",
      "5,10,10-55 OptimizationStatus.OPTIMAL 4652.123609099836\n",
      "5,10,10-56 OptimizationStatus.OPTIMAL 3413.2508125225963\n",
      "5,10,10-57 OptimizationStatus.OPTIMAL 3579.228882409705\n",
      "5,10,10-58 OptimizationStatus.OPTIMAL 4905.78993642591\n",
      "5,10,10-59 OptimizationStatus.OPTIMAL 4994.0872978339885\n",
      "5,10,10-60 OptimizationStatus.OPTIMAL 4235.227322366706\n",
      "5,10,10-61 OptimizationStatus.OPTIMAL 5201.713649404379\n",
      "5,10,10-62 OptimizationStatus.OPTIMAL 5147.267760408248\n",
      "5,10,10-63 OptimizationStatus.OPTIMAL 5533.322040650153\n",
      "5,10,10-64 OptimizationStatus.OPTIMAL 5281.870159791274\n",
      "5,10,10-65 OptimizationStatus.OPTIMAL 4761.594995172663\n",
      "5,10,10-66 OptimizationStatus.OPTIMAL 4601.727883172067\n",
      "5,10,10-67 OptimizationStatus.OPTIMAL 4419.311687719347\n",
      "5,10,10-68 OptimizationStatus.OPTIMAL 5002.5496399971125\n",
      "5,10,10-69 OptimizationStatus.OPTIMAL 3562.7771542813766\n",
      "5,10,10-70 OptimizationStatus.OPTIMAL 4429.24686315386\n",
      "5,10,10-71 OptimizationStatus.OPTIMAL 4499.610329878254\n",
      "5,10,10-72 OptimizationStatus.OPTIMAL 4723.8291285193545\n",
      "5,10,10-73 OptimizationStatus.OPTIMAL 4978.784472656063\n",
      "5,10,10-74 OptimizationStatus.OPTIMAL 4130.141013259984\n",
      "5,10,10-75 OptimizationStatus.OPTIMAL 3812.4823543600787\n",
      "5,10,10-76 OptimizationStatus.OPTIMAL 5574.537421179726\n",
      "5,10,10-77 OptimizationStatus.OPTIMAL 4238.159162429421\n",
      "5,10,10-78 OptimizationStatus.OPTIMAL 5133.4862282114955\n",
      "5,10,10-79 OptimizationStatus.OPTIMAL 3074.97509145414\n",
      "5,10,10-80 OptimizationStatus.OPTIMAL 3340.2544604994187\n",
      "5,10,10-81 OptimizationStatus.OPTIMAL 4186.929060040925\n",
      "5,10,10-82 OptimizationStatus.OPTIMAL 4886.041034308486\n",
      "5,10,10-83 OptimizationStatus.OPTIMAL 5843.990599708265\n",
      "5,10,10-84 OptimizationStatus.OPTIMAL 4558.874642476852\n",
      "5,10,10-85 OptimizationStatus.OPTIMAL 5284.904612215195\n",
      "5,10,10-86 OptimizationStatus.OPTIMAL 5012.6044241019545\n",
      "5,10,10-87 OptimizationStatus.OPTIMAL 4830.582732436081\n",
      "5,10,10-88 OptimizationStatus.OPTIMAL 4067.4580594809504\n",
      "5,10,10-89 OptimizationStatus.OPTIMAL 3433.565125669237\n",
      "5,10,10-90 OptimizationStatus.OPTIMAL 6343.882343376137\n",
      "5,10,10-91 OptimizationStatus.OPTIMAL 4966.502899656284\n",
      "5,10,10-92 OptimizationStatus.OPTIMAL 4638.071913155292\n",
      "5,10,10-93 OptimizationStatus.OPTIMAL 5215.447671245363\n",
      "5,10,10-94 OptimizationStatus.OPTIMAL 3207.2776872911\n",
      "5,10,10-95 OptimizationStatus.OPTIMAL 4582.089256178294\n",
      "5,10,10-96 OptimizationStatus.OPTIMAL 4955.24704163253\n",
      "5,10,10-97 OptimizationStatus.OPTIMAL 3468.015545120937\n",
      "5,10,10-98 OptimizationStatus.OPTIMAL 5415.360247488144\n",
      "5,10,10-99 OptimizationStatus.OPTIMAL 4444.160738446838\n",
      "5,10,10-100 OptimizationStatus.OPTIMAL 3745.1241969229923\n"
     ]
    }
   ],
   "source": [
    "for problem in train_dataset:\n",
    "    delta, gamma, status, value = mip_solve(problem, max_seconds=200)\n",
    "    if not os.path.exists('optimal/'+problem['name']):\n",
    "        os.makedirs('optimal/'+problem['name'])\n",
    "    np.save('optimal/'+problem['name']+'/delta', delta)\n",
    "    np.save('optimal/'+problem['name']+'/gamma', gamma)\n",
    "    print(problem['name'], status, value)"
   ]
  },
  {
   "cell_type": "code",
   "execution_count": 38,
   "metadata": {
    "colab": {
     "base_uri": "https://localhost:8080/",
     "height": 35
    },
    "id": "LRQy0n5riYqO",
    "outputId": "762ec723-4854-4d9e-9707-89fb8c76fcdc"
   },
   "outputs": [
    {
     "data": {
      "application/vnd.google.colaboratory.intrinsic+json": {
       "type": "string"
      },
      "text/plain": [
       "'/content/optimal.zip'"
      ]
     },
     "execution_count": 38,
     "metadata": {},
     "output_type": "execute_result"
    }
   ],
   "source": [
    "import shutil\n",
    "shutil.make_archive('optimal', 'zip', 'optimal')"
   ]
  },
  {
   "cell_type": "code",
   "execution_count": null,
   "metadata": {
    "id": "qRIufR7cqhSF"
   },
   "outputs": [],
   "source": []
  }
 ],
 "metadata": {
  "colab": {
   "provenance": []
  },
  "kernelspec": {
   "display_name": "Python 3 (ipykernel)",
   "language": "python",
   "name": "python3"
  },
  "language_info": {
   "codemirror_mode": {
    "name": "ipython",
    "version": 3
   },
   "file_extension": ".py",
   "mimetype": "text/x-python",
   "name": "python",
   "nbconvert_exporter": "python",
   "pygments_lexer": "ipython3",
   "version": "3.10.14"
  }
 },
 "nbformat": 4,
 "nbformat_minor": 1
}
