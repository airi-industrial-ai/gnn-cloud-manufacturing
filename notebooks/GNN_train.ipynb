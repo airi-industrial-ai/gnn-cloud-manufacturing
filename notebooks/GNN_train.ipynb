{
 "cells": [
  {
   "cell_type": "code",
   "execution_count": null,
   "id": "ea964685",
   "metadata": {},
   "outputs": [],
   "source": [
    "import torch\n",
    "from torch.optim import Adam\n",
    "from tqdm.auto import trange\n",
    "import numpy as np\n",
    "import matplotlib.pyplot as plt\n",
    "from tqdm.auto import trange, tqdm\n",
    "from cloudmanufacturing.data import read_fatahi_dataset\n",
    "from cloudmanufacturing.mip_solver import mip_solve\n",
    "from cloudmanufacturing.validation import objvalue, construct_delta\n",
    "from cloudmanufacturing.graph import dglgraph_fixed, graph_gamma, os_type, ss_type, so_type\n",
    "from cloudmanufacturing.graphconv import GNN\n",
    "import dgl\n",
    "from dgl.dataloading import GraphDataLoader\n",
    "from sklearn.preprocessing import OneHotEncoder\n",
    "from sklearn.metrics import precision_recall_curve, auc\n",
    "import pickle\n",
    "import torch.nn.functional as F\n",
    "import logging"
   ]
  },
  {
   "cell_type": "markdown",
   "id": "4662068e",
   "metadata": {},
   "source": [
    "## Загрузка данных и оптимальных решений"
   ]
  },
  {
   "cell_type": "code",
   "execution_count": null,
   "id": "193189ec",
   "metadata": {},
   "outputs": [],
   "source": [
    "with open('../data/train_data_sheet_names.pickle' , 'rb') as s:\n",
    "    sheet_names = pickle.load(s)\n",
    "dataset = read_fatahi_dataset('../data/train_data_OPTIMAL.xlsx', sheet_names)"
   ]
  },
  {
   "cell_type": "code",
   "execution_count": null,
   "id": "dd4748c4",
   "metadata": {},
   "outputs": [],
   "source": [
    "with open('../data/train_data_solve.pickle' , 'rb') as f:\n",
    "    # Загружаем dgl графы в список\n",
    "    DGList = pickle.load(f)"
   ]
  },
  {
   "cell_type": "markdown",
   "id": "0ccbb463",
   "metadata": {},
   "source": [
    "## Настройка обучения\n",
    "Пока нет полноценных тренировочных и тестовых данных смотрим, что обучение запускается, параметры batch_s и n_epochs - число задач в батче и число эпох обучения"
   ]
  },
  {
   "cell_type": "code",
   "execution_count": null,
   "id": "c9562657",
   "metadata": {},
   "outputs": [],
   "source": [
    "batch_s = 2\n",
    "n_epochs = 20\n",
    "model_path = '../data/GNNmodel.pth'"
   ]
  },
  {
   "cell_type": "code",
   "execution_count": null,
   "id": "593dc3b5",
   "metadata": {},
   "outputs": [],
   "source": [
    "loader = GraphDataLoader(\n",
    "    DGList,\n",
    "    batch_size=batch_s,\n",
    "    drop_last=True,\n",
    "    shuffle=True\n",
    ")"
   ]
  },
  {
   "cell_type": "code",
   "execution_count": null,
   "id": "351692d9",
   "metadata": {},
   "outputs": [],
   "source": [
    "logger = logging.getLogger(\"../data/GNN_run\")\n",
    "logger.setLevel(logging.INFO)\n",
    "\n",
    "# create the logging file handler\n",
    "fh = logging.FileHandler(\"../data/GNN_run.log\")\n",
    "\n",
    "formatter = logging.Formatter('%(asctime)s - %(name)s - %(levelname)s - %(message)s')\n",
    "fh.setFormatter(formatter)\n",
    "\n",
    "# add handler to logger object\n",
    "logger.addHandler(fh)"
   ]
  },
  {
   "cell_type": "code",
   "execution_count": null,
   "id": "833bc0b0",
   "metadata": {
    "scrolled": true
   },
   "outputs": [],
   "source": [
    "num_batches = len(loader)\n",
    "epoch_train_loss =0\n",
    "train_loss = []\n",
    "train_objvalue = []\n",
    "oper_max = 20\n",
    "model = GNN(ins_dim=1, ino_dim=oper_max, out_dim=16, n_layers=1)\n",
    "optim = Adam(model.parameters(), lr=0.01)\n",
    "\n",
    "try:\n",
    "    logger.info('Start training')\n",
    "    for i in range(n_epochs):\n",
    "        for example_graph in tqdm(loader):\n",
    "            logits = model(example_graph)\n",
    "            example_target = example_graph.edata['target'][os_type]\n",
    "            loss = F.binary_cross_entropy_with_logits(logits, example_target)\n",
    "            batch_loss = loss.item()\n",
    "            optim.zero_grad()\n",
    "            batch_loss /= batch_s\n",
    "            print(batch_loss)\n",
    "            loss.backward()\n",
    "            optim.step()\n",
    "            logger.info(f\"{i} epoch batch loss is {batch_loss}\")\n",
    "        \n",
    "        train_loss.append(epoch_train_loss / num_batches)\n",
    "        #train_objvalue.append(epoch_train_objvalue / num_batches)\n",
    "        \n",
    "    torch.save(model.state_dict(), model_path)\n",
    "except:\n",
    "    logger.exception('GNN training was not successful')"
   ]
  }
 ],
 "metadata": {
  "kernelspec": {
   "display_name": "Python 3 (ipykernel)",
   "language": "python",
   "name": "python3"
  },
  "language_info": {
   "codemirror_mode": {
    "name": "ipython",
    "version": 3
   },
   "file_extension": ".py",
   "mimetype": "text/x-python",
   "name": "python",
   "nbconvert_exporter": "python",
   "pygments_lexer": "ipython3",
   "version": "3.10.0"
  }
 },
 "nbformat": 4,
 "nbformat_minor": 5
}
