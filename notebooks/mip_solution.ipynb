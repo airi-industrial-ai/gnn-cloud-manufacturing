{
 "cells": [
  {
   "cell_type": "code",
   "execution_count": 6,
   "id": "fb6de5b1",
   "metadata": {
    "metadata": {}
   },
   "outputs": [],
   "source": [
    "from cloudmanufacturing.data import read_fatahi_dataset\n",
    "from cloudmanufacturing.solvers.mip_solver import mip_solve\n",
    "from cloudmanufacturing.validation import construct_delta, objvalue\n",
    "\n",
    "import pandas as pd\n",
    "from tqdm import trange\n",
    "import numpy as np"
   ]
  },
  {
   "cell_type": "code",
   "execution_count": 7,
   "id": "8152f915",
   "metadata": {
    "metadata": {},
    "scrolled": false
   },
   "outputs": [
    {
     "name": "stderr",
     "output_type": "stream",
     "text": [
      "100%|██████████| 18/18 [00:00<00:00, 212.60it/s]\n"
     ]
    },
    {
     "name": "stdout",
     "output_type": "stream",
     "text": [
      "Problem: 5,10,10-1\n",
      "Problem: 5,10,10-2\n",
      "Problem: 5,10,10-3\n",
      "Problem: 10,10,10-1\n",
      "Problem: 10,10,10-2\n",
      "Problem: 10,10,10-3\n",
      "Problem: 5,10,20-1\n",
      "Problem: 5,10,20-2\n",
      "Problem: 5,10,20-3\n",
      "Problem: 5,20,10-1\n",
      "Problem: 5,20,10-2\n",
      "Problem: 5,20,10-3\n",
      "Problem: 5,20,20-1\n",
      "Problem: 5,20,20-2\n",
      "Problem: 5,20,20-3\n",
      "Problem: 5,5,5-1\n",
      "Problem: 5,5,5-2\n",
      "Problem: 5,5,5-3\n"
     ]
    }
   ],
   "source": [
    "dataset = read_fatahi_dataset(\"../data/fatahi.xlsx\")\n",
    "for problem in dataset:\n",
    "    print(f'Problem: {problem[\"name\"]}')"
   ]
  },
  {
   "cell_type": "code",
   "execution_count": null,
   "id": "2afc3247",
   "metadata": {
    "metadata": {},
    "scrolled": false
   },
   "outputs": [],
   "source": [
    "problem = dataset[2]\n",
    "delta, gamma, status, value = mip_solve(problem)\n",
    "print(f'Problem {problem[\"name\"]}: {value:.2f}, {status}')"
   ]
  },
  {
   "cell_type": "code",
   "execution_count": null,
   "id": "4da4f40d",
   "metadata": {
    "metadata": {}
   },
   "outputs": [],
   "source": [
    "objvalue(problem, gamma, delta)"
   ]
  },
  {
   "cell_type": "code",
   "execution_count": null,
   "id": "7f0e64e9",
   "metadata": {
    "metadata": {}
   },
   "outputs": [],
   "source": [
    "objvalue(problem, gamma, construct_delta(problem, gamma))"
   ]
  },
  {
   "cell_type": "markdown",
   "id": "abae1778",
   "metadata": {},
   "source": [
    "## Running all problems"
   ]
  },
  {
   "cell_type": "code",
   "execution_count": 2,
   "id": "c6a88056",
   "metadata": {},
   "outputs": [
    {
     "name": "stderr",
     "output_type": "stream",
     "text": [
      "100%|██████████| 1000/1000 [26:56<00:00,  1.62s/it]\n"
     ]
    }
   ],
   "source": [
    "dataset = read_fatahi_dataset(\"../data/train_data.xlsx\")"
   ]
  },
  {
   "cell_type": "code",
   "execution_count": 8,
   "id": "7a8f3c03",
   "metadata": {},
   "outputs": [],
   "source": [
    "from joblib import Parallel, delayed\n",
    "from tqdm import trange\n",
    "\n",
    "def process_problem(i, problem):\n",
    "    delta, gamma, status, value = mip_solve(problem)\n",
    "\n",
    "    if status.name == 'OPTIMAL':\n",
    "        np.save(f'./solutions/delta_{i}_op.npy', delta)\n",
    "        np.save(f'./solutions/gamma_{i}_op.npy', gamma)\n",
    "        return {'i':i,\n",
    "                'value': value,\n",
    "                'objvalue': objvalue(problem, gamma, delta),\n",
    "                'status': status.name}\n",
    "    if status.name == 'FEASIBLE':\n",
    "        np.save(f'./solutions/delta_{i}_fb.npy', delta)\n",
    "        np.save(f'./solutions/gamma_{i}_fb.npy', gamma)\n",
    "        return {'i':i,\n",
    "                'value': value,\n",
    "                'objvalue': objvalue(problem, gamma, delta),\n",
    "                'status': status.name}\n",
    "    \n",
    "    print(i,\" wasn't solved\")\n",
    "    return None"
   ]
  },
  {
   "cell_type": "code",
   "execution_count": 9,
   "id": "2261a60a",
   "metadata": {},
   "outputs": [
    {
     "name": "stderr",
     "output_type": "stream",
     "text": [
      "100%|██████████| 18/18 [00:00<00:00, 8998.51it/s]\n"
     ]
    }
   ],
   "source": [
    "sum_info = Parallel(n_jobs=-1)(delayed(process_problem)(i, dataset[i]) for i in trange(len(dataset)))\n",
    "sum_info = [info for info in sum_info if info is not None]\n",
    "\n",
    "pd.DataFrame(sum_info).to_csv('./mip_solutions/info.csv', index=False)"
   ]
  },
  {
   "cell_type": "code",
   "execution_count": 5,
   "id": "f38b3e43",
   "metadata": {},
   "outputs": [
    {
     "data": {
      "text/html": [
       "<div>\n",
       "<style scoped>\n",
       "    .dataframe tbody tr th:only-of-type {\n",
       "        vertical-align: middle;\n",
       "    }\n",
       "\n",
       "    .dataframe tbody tr th {\n",
       "        vertical-align: top;\n",
       "    }\n",
       "\n",
       "    .dataframe thead th {\n",
       "        text-align: right;\n",
       "    }\n",
       "</style>\n",
       "<table border=\"1\" class=\"dataframe\">\n",
       "  <thead>\n",
       "    <tr style=\"text-align: right;\">\n",
       "      <th></th>\n",
       "      <th>i</th>\n",
       "      <th>value</th>\n",
       "      <th>objvalue</th>\n",
       "      <th>status</th>\n",
       "    </tr>\n",
       "  </thead>\n",
       "  <tbody>\n",
       "    <tr>\n",
       "      <th>0</th>\n",
       "      <td>0</td>\n",
       "      <td>-5.869061e+08</td>\n",
       "      <td>-5.869061e+08</td>\n",
       "      <td>OPTIMAL</td>\n",
       "    </tr>\n",
       "    <tr>\n",
       "      <th>1</th>\n",
       "      <td>1</td>\n",
       "      <td>-2.866272e+09</td>\n",
       "      <td>-2.866272e+09</td>\n",
       "      <td>OPTIMAL</td>\n",
       "    </tr>\n",
       "    <tr>\n",
       "      <th>2</th>\n",
       "      <td>2</td>\n",
       "      <td>-2.603758e+09</td>\n",
       "      <td>-2.603758e+09</td>\n",
       "      <td>OPTIMAL</td>\n",
       "    </tr>\n",
       "    <tr>\n",
       "      <th>3</th>\n",
       "      <td>3</td>\n",
       "      <td>-1.361310e+09</td>\n",
       "      <td>-1.361310e+09</td>\n",
       "      <td>OPTIMAL</td>\n",
       "    </tr>\n",
       "    <tr>\n",
       "      <th>4</th>\n",
       "      <td>4</td>\n",
       "      <td>-2.234574e+09</td>\n",
       "      <td>-2.234574e+09</td>\n",
       "      <td>OPTIMAL</td>\n",
       "    </tr>\n",
       "    <tr>\n",
       "      <th>...</th>\n",
       "      <td>...</td>\n",
       "      <td>...</td>\n",
       "      <td>...</td>\n",
       "      <td>...</td>\n",
       "    </tr>\n",
       "    <tr>\n",
       "      <th>793</th>\n",
       "      <td>988</td>\n",
       "      <td>-4.517290e+10</td>\n",
       "      <td>-4.517290e+10</td>\n",
       "      <td>FEASIBLE</td>\n",
       "    </tr>\n",
       "    <tr>\n",
       "      <th>794</th>\n",
       "      <td>990</td>\n",
       "      <td>-2.343572e+10</td>\n",
       "      <td>-2.343572e+10</td>\n",
       "      <td>FEASIBLE</td>\n",
       "    </tr>\n",
       "    <tr>\n",
       "      <th>795</th>\n",
       "      <td>994</td>\n",
       "      <td>-2.567149e+10</td>\n",
       "      <td>-2.567149e+10</td>\n",
       "      <td>OPTIMAL</td>\n",
       "    </tr>\n",
       "    <tr>\n",
       "      <th>796</th>\n",
       "      <td>995</td>\n",
       "      <td>-5.411509e+10</td>\n",
       "      <td>-5.411509e+10</td>\n",
       "      <td>OPTIMAL</td>\n",
       "    </tr>\n",
       "    <tr>\n",
       "      <th>797</th>\n",
       "      <td>996</td>\n",
       "      <td>-3.071902e+10</td>\n",
       "      <td>-3.071902e+10</td>\n",
       "      <td>OPTIMAL</td>\n",
       "    </tr>\n",
       "  </tbody>\n",
       "</table>\n",
       "<p>798 rows × 4 columns</p>\n",
       "</div>"
      ],
      "text/plain": [
       "       i         value      objvalue    status\n",
       "0      0 -5.869061e+08 -5.869061e+08   OPTIMAL\n",
       "1      1 -2.866272e+09 -2.866272e+09   OPTIMAL\n",
       "2      2 -2.603758e+09 -2.603758e+09   OPTIMAL\n",
       "3      3 -1.361310e+09 -1.361310e+09   OPTIMAL\n",
       "4      4 -2.234574e+09 -2.234574e+09   OPTIMAL\n",
       "..   ...           ...           ...       ...\n",
       "793  988 -4.517290e+10 -4.517290e+10  FEASIBLE\n",
       "794  990 -2.343572e+10 -2.343572e+10  FEASIBLE\n",
       "795  994 -2.567149e+10 -2.567149e+10   OPTIMAL\n",
       "796  995 -5.411509e+10 -5.411509e+10   OPTIMAL\n",
       "797  996 -3.071902e+10 -3.071902e+10   OPTIMAL\n",
       "\n",
       "[798 rows x 4 columns]"
      ]
     },
     "execution_count": 5,
     "metadata": {},
     "output_type": "execute_result"
    }
   ],
   "source": [
    "pd.DataFrame(sum_info)"
   ]
  },
  {
   "cell_type": "code",
   "execution_count": null,
   "id": "955cc1de",
   "metadata": {},
   "outputs": [],
   "source": [
    "# sum_info = []\n",
    "# for i in trange(len(dataset)):\n",
    "#     problem = dataset[i]\n",
    "#     delta, gamma, status, value = mip_solve(problem)\n",
    "#     if status.name == 'OPTIMAL':\n",
    "#         np.save(f'./mip_solutions/delta_{i}_opt.npy', delta)\n",
    "#         np.save(f'./mip_solutions/gamma_{i}_opt.npy', gamma)\n",
    "#         sum_info.append({'value':value,\n",
    "#                         'objvalue':objvalue(problem, gamma, delta),\n",
    "#                         'status':status\n",
    "#                         })\n",
    "#     if status.name == 'FEASIBLE':\n",
    "#         np.save(f'./mip_solutions/delta_{i}_opt.npy', delta)\n",
    "#         np.save(f'./mip_solutions/gamma_{i}_opt.npy', gamma)\n",
    "#         sum_info.append({'value':value,\n",
    "#                         'objvalue':objvalue(problem, gamma, delta),\n",
    "#                         'status':status\n",
    "#                         })\n",
    "# pd.DataFrame(sum_info).to_csv('./mip_solutions/info.csv',index=False)"
   ]
  }
 ],
 "metadata": {
  "kernelspec": {
   "display_name": "Python 3 (ipykernel)",
   "language": "python",
   "name": "python3"
  },
  "language_info": {
   "codemirror_mode": {
    "name": "ipython",
    "version": 3
   },
   "file_extension": ".py",
   "mimetype": "text/x-python",
   "name": "python",
   "nbconvert_exporter": "python",
   "pygments_lexer": "ipython3",
   "version": "3.9.19"
  }
 },
 "nbformat": 4,
 "nbformat_minor": 5
}
