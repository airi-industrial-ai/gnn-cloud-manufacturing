{
 "cells": [
  {
   "cell_type": "code",
   "execution_count": 1,
   "id": "fb6de5b1",
   "metadata": {
    "metadata": {}
   },
   "outputs": [
    {
     "name": "stderr",
     "output_type": "stream",
     "text": [
      "c:\\Users\\dmitrii\\miniconda3\\envs\\graph\\lib\\site-packages\\tqdm\\auto.py:21: TqdmWarning: IProgress not found. Please update jupyter and ipywidgets. See https://ipywidgets.readthedocs.io/en/stable/user_install.html\n",
      "  from .autonotebook import tqdm as notebook_tqdm\n"
     ]
    }
   ],
   "source": [
    "from cloudmanufacturing.data import read_fatahi_dataset\n",
    "from cloudmanufacturing.solvers.mip_solver import mip_solve\n",
    "from cloudmanufacturing.validation import construct_delta, objvalue\n",
    "\n",
    "from joblib import Parallel, delayed\n",
    "from tqdm import trange\n",
    "import pandas as pd\n",
    "import numpy as np\n",
    "import random\n",
    "import openpyxl\n",
    "from cloudmanufacturing.data_generation import create_excel_table\n",
    "random.seed(42)"
   ]
  },
  {
   "cell_type": "markdown",
   "id": "abae1778",
   "metadata": {},
   "source": [
    "#### Fatahi"
   ]
  },
  {
   "cell_type": "code",
   "execution_count": 9,
   "id": "c6a88056",
   "metadata": {},
   "outputs": [
    {
     "name": "stderr",
     "output_type": "stream",
     "text": [
      "100%|██████████| 18/18 [00:00<00:00, 244.52it/s]\n"
     ]
    }
   ],
   "source": [
    "dataset = read_fatahi_dataset(\"../data/fatahi.xlsx\")"
   ]
  },
  {
   "cell_type": "code",
   "execution_count": 10,
   "id": "7a8f3c03",
   "metadata": {},
   "outputs": [],
   "source": [
    "def fatahi_problem(i, problem):\n",
    "    print(problem['n_operations'])\n",
    "    print(problem['n_suboperations'])\n",
    "    print(problem['n_cities'])\n",
    "    delta, gamma, status, value = mip_solve(problem)\n",
    "\n",
    "    if status.name == 'OPTIMAL':\n",
    "        np.save(f'./fatahi_solutions/delta_{i}_op.npy', delta)\n",
    "        np.save(f'./fatahi_solutions/gamma_{i}_op.npy', gamma)\n",
    "        return {'i':i,\n",
    "                'value': value,\n",
    "                'objvalue': objvalue(problem, gamma, delta),\n",
    "                'status': status.name}\n",
    "    if status.name == 'FEASIBLE':\n",
    "        np.save(f'./fatahi_solutions/delta_{i}_fb.npy', delta)\n",
    "        np.save(f'./fatahi_solutions/gamma_{i}_fb.npy', gamma)\n",
    "        return {'i':i,\n",
    "                'value': value,\n",
    "                'objvalue': objvalue(problem, gamma, delta),\n",
    "                'status': status.name}\n",
    "    print(i,\" wasn't solved\")\n",
    "    return None"
   ]
  },
  {
   "cell_type": "code",
   "execution_count": 11,
   "id": "2261a60a",
   "metadata": {},
   "outputs": [
    {
     "name": "stderr",
     "output_type": "stream",
     "text": [
      "100%|██████████| 18/18 [00:00<?, ?it/s]\n"
     ]
    }
   ],
   "source": [
    "sum_info = Parallel(n_jobs=-1)(\n",
    "    delayed(fatahi_problem)(i, dataset[i]) for i in trange(len(dataset))\n",
    ")\n",
    "sum_info = [info for info in sum_info if info is not None]"
   ]
  },
  {
   "cell_type": "code",
   "execution_count": 12,
   "id": "f38b3e43",
   "metadata": {},
   "outputs": [
    {
     "data": {
      "text/html": [
       "<div>\n",
       "<style scoped>\n",
       "    .dataframe tbody tr th:only-of-type {\n",
       "        vertical-align: middle;\n",
       "    }\n",
       "\n",
       "    .dataframe tbody tr th {\n",
       "        vertical-align: top;\n",
       "    }\n",
       "\n",
       "    .dataframe thead th {\n",
       "        text-align: right;\n",
       "    }\n",
       "</style>\n",
       "<table border=\"1\" class=\"dataframe\">\n",
       "  <thead>\n",
       "    <tr style=\"text-align: right;\">\n",
       "      <th></th>\n",
       "      <th>i</th>\n",
       "      <th>value</th>\n",
       "      <th>objvalue</th>\n",
       "      <th>status</th>\n",
       "    </tr>\n",
       "  </thead>\n",
       "  <tbody>\n",
       "    <tr>\n",
       "      <th>0</th>\n",
       "      <td>0</td>\n",
       "      <td>4030.331095</td>\n",
       "      <td>4030.331095</td>\n",
       "      <td>OPTIMAL</td>\n",
       "    </tr>\n",
       "    <tr>\n",
       "      <th>1</th>\n",
       "      <td>1</td>\n",
       "      <td>5560.953381</td>\n",
       "      <td>5560.953381</td>\n",
       "      <td>OPTIMAL</td>\n",
       "    </tr>\n",
       "    <tr>\n",
       "      <th>2</th>\n",
       "      <td>2</td>\n",
       "      <td>5794.687894</td>\n",
       "      <td>5794.687894</td>\n",
       "      <td>OPTIMAL</td>\n",
       "    </tr>\n",
       "    <tr>\n",
       "      <th>3</th>\n",
       "      <td>3</td>\n",
       "      <td>9691.854167</td>\n",
       "      <td>9691.854167</td>\n",
       "      <td>OPTIMAL</td>\n",
       "    </tr>\n",
       "    <tr>\n",
       "      <th>4</th>\n",
       "      <td>4</td>\n",
       "      <td>10895.243418</td>\n",
       "      <td>10895.243418</td>\n",
       "      <td>OPTIMAL</td>\n",
       "    </tr>\n",
       "    <tr>\n",
       "      <th>5</th>\n",
       "      <td>5</td>\n",
       "      <td>10866.234192</td>\n",
       "      <td>10866.234192</td>\n",
       "      <td>OPTIMAL</td>\n",
       "    </tr>\n",
       "    <tr>\n",
       "      <th>6</th>\n",
       "      <td>6</td>\n",
       "      <td>3304.323814</td>\n",
       "      <td>3304.323814</td>\n",
       "      <td>FEASIBLE</td>\n",
       "    </tr>\n",
       "    <tr>\n",
       "      <th>7</th>\n",
       "      <td>7</td>\n",
       "      <td>4208.375428</td>\n",
       "      <td>4208.375428</td>\n",
       "      <td>OPTIMAL</td>\n",
       "    </tr>\n",
       "    <tr>\n",
       "      <th>8</th>\n",
       "      <td>8</td>\n",
       "      <td>4701.340722</td>\n",
       "      <td>4701.340722</td>\n",
       "      <td>FEASIBLE</td>\n",
       "    </tr>\n",
       "    <tr>\n",
       "      <th>9</th>\n",
       "      <td>9</td>\n",
       "      <td>10390.543328</td>\n",
       "      <td>10390.543328</td>\n",
       "      <td>FEASIBLE</td>\n",
       "    </tr>\n",
       "    <tr>\n",
       "      <th>10</th>\n",
       "      <td>10</td>\n",
       "      <td>12241.237940</td>\n",
       "      <td>12241.237940</td>\n",
       "      <td>FEASIBLE</td>\n",
       "    </tr>\n",
       "    <tr>\n",
       "      <th>11</th>\n",
       "      <td>11</td>\n",
       "      <td>18172.228322</td>\n",
       "      <td>18172.228322</td>\n",
       "      <td>FEASIBLE</td>\n",
       "    </tr>\n",
       "    <tr>\n",
       "      <th>12</th>\n",
       "      <td>12</td>\n",
       "      <td>21986.469075</td>\n",
       "      <td>21986.469075</td>\n",
       "      <td>FEASIBLE</td>\n",
       "    </tr>\n",
       "    <tr>\n",
       "      <th>13</th>\n",
       "      <td>13</td>\n",
       "      <td>121193.311706</td>\n",
       "      <td>121193.311706</td>\n",
       "      <td>FEASIBLE</td>\n",
       "    </tr>\n",
       "    <tr>\n",
       "      <th>14</th>\n",
       "      <td>15</td>\n",
       "      <td>2608.101729</td>\n",
       "      <td>2608.101729</td>\n",
       "      <td>OPTIMAL</td>\n",
       "    </tr>\n",
       "    <tr>\n",
       "      <th>15</th>\n",
       "      <td>16</td>\n",
       "      <td>5651.116872</td>\n",
       "      <td>5651.116872</td>\n",
       "      <td>OPTIMAL</td>\n",
       "    </tr>\n",
       "    <tr>\n",
       "      <th>16</th>\n",
       "      <td>17</td>\n",
       "      <td>6372.688277</td>\n",
       "      <td>6372.688277</td>\n",
       "      <td>OPTIMAL</td>\n",
       "    </tr>\n",
       "  </tbody>\n",
       "</table>\n",
       "</div>"
      ],
      "text/plain": [
       "     i          value       objvalue    status\n",
       "0    0    4030.331095    4030.331095   OPTIMAL\n",
       "1    1    5560.953381    5560.953381   OPTIMAL\n",
       "2    2    5794.687894    5794.687894   OPTIMAL\n",
       "3    3    9691.854167    9691.854167   OPTIMAL\n",
       "4    4   10895.243418   10895.243418   OPTIMAL\n",
       "5    5   10866.234192   10866.234192   OPTIMAL\n",
       "6    6    3304.323814    3304.323814  FEASIBLE\n",
       "7    7    4208.375428    4208.375428   OPTIMAL\n",
       "8    8    4701.340722    4701.340722  FEASIBLE\n",
       "9    9   10390.543328   10390.543328  FEASIBLE\n",
       "10  10   12241.237940   12241.237940  FEASIBLE\n",
       "11  11   18172.228322   18172.228322  FEASIBLE\n",
       "12  12   21986.469075   21986.469075  FEASIBLE\n",
       "13  13  121193.311706  121193.311706  FEASIBLE\n",
       "14  15    2608.101729    2608.101729   OPTIMAL\n",
       "15  16    5651.116872    5651.116872   OPTIMAL\n",
       "16  17    6372.688277    6372.688277   OPTIMAL"
      ]
     },
     "execution_count": 12,
     "metadata": {},
     "output_type": "execute_result"
    }
   ],
   "source": [
    "pd.DataFrame(sum_info)"
   ]
  },
  {
   "cell_type": "markdown",
   "id": "3c72e216",
   "metadata": {},
   "source": [
    "### Train dataset"
   ]
  },
  {
   "cell_type": "code",
   "execution_count": 4,
   "id": "a455109e",
   "metadata": {},
   "outputs": [
    {
     "name": "stderr",
     "output_type": "stream",
     "text": [
      "100%|██████████| 100/100 [00:10<00:00,  9.13it/s]\n"
     ]
    }
   ],
   "source": [
    "dataset_train = read_fatahi_dataset(\"../data/train_data.xlsx\")"
   ]
  },
  {
   "cell_type": "code",
   "execution_count": 7,
   "id": "41bbdcc1",
   "metadata": {},
   "outputs": [],
   "source": [
    "def train_problem(i, problem):\n",
    "    delta, gamma, status, value = mip_solve(problem)\n",
    "\n",
    "    if status.name == 'OPTIMAL':\n",
    "        np.save(f'./train_solutions/delta_{i}_op.npy', delta)\n",
    "        np.save(f'./train_solutions/gamma_{i}_op.npy', gamma)\n",
    "        return {'i':i,\n",
    "                'value': value,\n",
    "                'objvalue': objvalue(problem, gamma, delta),\n",
    "                'status': status.name}\n",
    "    if status.name == 'FEASIBLE':\n",
    "        np.save(f'./train_solutions/delta_{i}_fb.npy', delta)\n",
    "        np.save(f'./train_solutions/gamma_{i}_fb.npy', gamma)\n",
    "        return {'i':i,\n",
    "                'value': value,\n",
    "                'objvalue': objvalue(problem, gamma, delta),\n",
    "                'status': status.name}\n",
    "    print(i,\" wasn't solved\")\n",
    "    return None"
   ]
  },
  {
   "cell_type": "code",
   "execution_count": 8,
   "id": "5f803272",
   "metadata": {},
   "outputs": [
    {
     "name": "stderr",
     "output_type": "stream",
     "text": [
      "100%|██████████| 100/100 [04:41<00:00,  2.81s/it]\n"
     ]
    }
   ],
   "source": [
    "sum_info_train = Parallel(n_jobs=-1)(\n",
    "    delayed(train_problem)(i, dataset_train[i]) for i in trange(len(dataset_train))\n",
    ")\n",
    "sum_info_train = [info for info in sum_info_train if info is not None]"
   ]
  },
  {
   "cell_type": "markdown",
   "id": "b463c0a3",
   "metadata": {},
   "source": [
    "#### Data generation"
   ]
  },
  {
   "cell_type": "code",
   "execution_count": 2,
   "id": "081a7515",
   "metadata": {},
   "outputs": [],
   "source": [
    "N = 100\n",
    "stop_count = 100"
   ]
  },
  {
   "cell_type": "code",
   "execution_count": 3,
   "id": "7540407f",
   "metadata": {},
   "outputs": [],
   "source": [
    "file_path = '../data/train_data.xlsx'\n",
    "\n",
    "trios = []\n",
    "for i in range(N):\n",
    "    trios.append(tuple((random.randint(5,10),random.randint(10,15),random.randint(10,15))))\n",
    "trios.sort()\n",
    "\n",
    "wb = openpyxl.Workbook()\n",
    "del wb['Sheet']\n",
    "\n",
    "for n_operations, n_suboperations, n_cities in trios:\n",
    "    wb = create_excel_table(wb, n_operations, n_suboperations, n_cities, n_problem=1)\n",
    "\n",
    "wb.save(file_path)"
   ]
  },
  {
   "cell_type": "markdown",
   "id": "9e2283fa",
   "metadata": {},
   "source": [
    "### junk"
   ]
  },
  {
   "cell_type": "code",
   "execution_count": null,
   "id": "955cc1de",
   "metadata": {},
   "outputs": [],
   "source": [
    "# sum_info = []\n",
    "# for i in trange(len(dataset)):\n",
    "#     problem = dataset[i]\n",
    "#     delta, gamma, status, value = mip_solve(problem)\n",
    "#     if status.name == 'OPTIMAL':\n",
    "#         np.save(f'./mip_solutions/delta_{i}_opt.npy', delta)\n",
    "#         np.save(f'./mip_solutions/gamma_{i}_opt.npy', gamma)\n",
    "#         sum_info.append({'value':value,\n",
    "#                         'objvalue':objvalue(problem, gamma, delta),\n",
    "#                         'status':status\n",
    "#                         })\n",
    "#     if status.name == 'FEASIBLE':\n",
    "#         np.save(f'./mip_solutions/delta_{i}_opt.npy', delta)\n",
    "#         np.save(f'./mip_solutions/gamma_{i}_opt.npy', gamma)\n",
    "#         sum_info.append({'value':value,\n",
    "#                         'objvalue':objvalue(problem, gamma, delta),\n",
    "#                         'status':status\n",
    "#                         })\n",
    "# pd.DataFrame(sum_info).to_csv('./mip_solutions/info.csv',index=False)"
   ]
  }
 ],
 "metadata": {
  "kernelspec": {
   "display_name": "Python 3 (ipykernel)",
   "language": "python",
   "name": "python3"
  },
  "language_info": {
   "codemirror_mode": {
    "name": "ipython",
    "version": 3
   },
   "file_extension": ".py",
   "mimetype": "text/x-python",
   "name": "python",
   "nbconvert_exporter": "python",
   "pygments_lexer": "ipython3",
   "version": "3.9.19"
  }
 },
 "nbformat": 4,
 "nbformat_minor": 5
}
