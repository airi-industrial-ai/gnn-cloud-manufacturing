{
 "cells": [
  {
   "cell_type": "code",
   "execution_count": 5,
   "id": "fb6de5b1",
   "metadata": {
    "metadata": {}
   },
   "outputs": [
    {
     "name": "stderr",
     "output_type": "stream",
     "text": [
      "c:\\Users\\z004w9ze\\AppData\\Local\\miniconda3\\envs\\graph\\lib\\site-packages\\tqdm\\auto.py:21: TqdmWarning: IProgress not found. Please update jupyter and ipywidgets. See https://ipywidgets.readthedocs.io/en/stable/user_install.html\n",
      "  from .autonotebook import tqdm as notebook_tqdm\n"
     ]
    }
   ],
   "source": [
    "from cloudmanufacturing.data import read_fatahi_dataset\n",
    "from cloudmanufacturing.solvers.mip_solver import mip_solve\n",
    "from cloudmanufacturing.validation import construct_delta, objvalue\n",
    "\n",
    "from joblib import Parallel, delayed\n",
    "from tqdm import trange\n",
    "import pandas as pd\n",
    "import numpy as np"
   ]
  },
  {
   "cell_type": "markdown",
   "id": "abae1778",
   "metadata": {},
   "source": [
    "#### Fatahi"
   ]
  },
  {
   "cell_type": "code",
   "execution_count": 5,
   "id": "c6a88056",
   "metadata": {},
   "outputs": [
    {
     "name": "stderr",
     "output_type": "stream",
     "text": [
      "100%|██████████| 18/18 [00:00<?, ?it/s]\n"
     ]
    }
   ],
   "source": [
    "dataset = read_fatahi_dataset(\"../data/fatahi.xlsx\")"
   ]
  },
  {
   "cell_type": "code",
   "execution_count": 6,
   "id": "7a8f3c03",
   "metadata": {},
   "outputs": [],
   "source": [
    "def fatahi_problem(i, problem):\n",
    "    print(problem['n_operations'])\n",
    "    print(problem['n_suboperations'])\n",
    "    print(problem['n_cities'])\n",
    "    delta, gamma, status, value = mip_solve(problem)\n",
    "\n",
    "    if status.name == 'OPTIMAL':\n",
    "        np.save(f'./fatahi_solutions/delta_{i}_op.npy', delta)\n",
    "        np.save(f'./fatahi_solutions/gamma_{i}_op.npy', gamma)\n",
    "        return {'i':i,\n",
    "                'value': value,\n",
    "                'objvalue': objvalue(problem, gamma, delta),\n",
    "                'status': status.name}\n",
    "    if status.name == 'FEASIBLE':\n",
    "        np.save(f'./fatahi_solutions/delta_{i}_fb.npy', delta)\n",
    "        np.save(f'./fatahi_solutions/gamma_{i}_fb.npy', gamma)\n",
    "        return {'i':i,\n",
    "                'value': value,\n",
    "                'objvalue': objvalue(problem, gamma, delta),\n",
    "                'status': status.name}\n",
    "    print(i,\" wasn't solved\")\n",
    "    return None"
   ]
  },
  {
   "cell_type": "code",
   "execution_count": 7,
   "id": "2261a60a",
   "metadata": {},
   "outputs": [
    {
     "name": "stderr",
     "output_type": "stream",
     "text": [
      "100%|██████████| 18/18 [00:00<00:00, 19533.63it/s]\n"
     ]
    }
   ],
   "source": [
    "sum_info = Parallel(n_jobs=-1)(\n",
    "    delayed(fatahi_problem)(i, dataset[i]) for i in trange(len(dataset))\n",
    ")\n",
    "sum_info = [info for info in sum_info if info is not None]\n",
    "\n",
    "pd.DataFrame(sum_info).to_csv('fatahi_info.csv', index=False)"
   ]
  },
  {
   "cell_type": "code",
   "execution_count": 8,
   "id": "f38b3e43",
   "metadata": {},
   "outputs": [
    {
     "data": {
      "text/html": [
       "<div>\n",
       "<style scoped>\n",
       "    .dataframe tbody tr th:only-of-type {\n",
       "        vertical-align: middle;\n",
       "    }\n",
       "\n",
       "    .dataframe tbody tr th {\n",
       "        vertical-align: top;\n",
       "    }\n",
       "\n",
       "    .dataframe thead th {\n",
       "        text-align: right;\n",
       "    }\n",
       "</style>\n",
       "<table border=\"1\" class=\"dataframe\">\n",
       "  <thead>\n",
       "    <tr style=\"text-align: right;\">\n",
       "      <th></th>\n",
       "      <th>i</th>\n",
       "      <th>value</th>\n",
       "      <th>objvalue</th>\n",
       "      <th>status</th>\n",
       "    </tr>\n",
       "  </thead>\n",
       "  <tbody>\n",
       "    <tr>\n",
       "      <th>0</th>\n",
       "      <td>0</td>\n",
       "      <td>4.405050e+05</td>\n",
       "      <td>4.405050e+05</td>\n",
       "      <td>FEASIBLE</td>\n",
       "    </tr>\n",
       "    <tr>\n",
       "      <th>1</th>\n",
       "      <td>1</td>\n",
       "      <td>1.439140e+05</td>\n",
       "      <td>1.439140e+05</td>\n",
       "      <td>FEASIBLE</td>\n",
       "    </tr>\n",
       "    <tr>\n",
       "      <th>2</th>\n",
       "      <td>2</td>\n",
       "      <td>1.736413e+05</td>\n",
       "      <td>1.736413e+05</td>\n",
       "      <td>FEASIBLE</td>\n",
       "    </tr>\n",
       "    <tr>\n",
       "      <th>3</th>\n",
       "      <td>3</td>\n",
       "      <td>1.260019e+05</td>\n",
       "      <td>1.260019e+05</td>\n",
       "      <td>FEASIBLE</td>\n",
       "    </tr>\n",
       "    <tr>\n",
       "      <th>4</th>\n",
       "      <td>4</td>\n",
       "      <td>1.287558e+06</td>\n",
       "      <td>1.287558e+06</td>\n",
       "      <td>FEASIBLE</td>\n",
       "    </tr>\n",
       "    <tr>\n",
       "      <th>5</th>\n",
       "      <td>5</td>\n",
       "      <td>7.724917e+05</td>\n",
       "      <td>7.724917e+05</td>\n",
       "      <td>FEASIBLE</td>\n",
       "    </tr>\n",
       "    <tr>\n",
       "      <th>6</th>\n",
       "      <td>7</td>\n",
       "      <td>6.290782e+05</td>\n",
       "      <td>6.290782e+05</td>\n",
       "      <td>FEASIBLE</td>\n",
       "    </tr>\n",
       "    <tr>\n",
       "      <th>7</th>\n",
       "      <td>10</td>\n",
       "      <td>9.242748e+05</td>\n",
       "      <td>9.242748e+05</td>\n",
       "      <td>FEASIBLE</td>\n",
       "    </tr>\n",
       "    <tr>\n",
       "      <th>8</th>\n",
       "      <td>11</td>\n",
       "      <td>1.973185e+06</td>\n",
       "      <td>1.973185e+06</td>\n",
       "      <td>FEASIBLE</td>\n",
       "    </tr>\n",
       "    <tr>\n",
       "      <th>9</th>\n",
       "      <td>12</td>\n",
       "      <td>3.322294e+06</td>\n",
       "      <td>3.322294e+06</td>\n",
       "      <td>FEASIBLE</td>\n",
       "    </tr>\n",
       "    <tr>\n",
       "      <th>10</th>\n",
       "      <td>14</td>\n",
       "      <td>3.171057e+06</td>\n",
       "      <td>3.171057e+06</td>\n",
       "      <td>FEASIBLE</td>\n",
       "    </tr>\n",
       "    <tr>\n",
       "      <th>11</th>\n",
       "      <td>15</td>\n",
       "      <td>2.890701e+03</td>\n",
       "      <td>2.890701e+03</td>\n",
       "      <td>OPTIMAL</td>\n",
       "    </tr>\n",
       "    <tr>\n",
       "      <th>12</th>\n",
       "      <td>16</td>\n",
       "      <td>1.011766e+04</td>\n",
       "      <td>1.011766e+04</td>\n",
       "      <td>OPTIMAL</td>\n",
       "    </tr>\n",
       "    <tr>\n",
       "      <th>13</th>\n",
       "      <td>17</td>\n",
       "      <td>1.110799e+04</td>\n",
       "      <td>1.110799e+04</td>\n",
       "      <td>OPTIMAL</td>\n",
       "    </tr>\n",
       "  </tbody>\n",
       "</table>\n",
       "</div>"
      ],
      "text/plain": [
       "     i         value      objvalue    status\n",
       "0    0  4.405050e+05  4.405050e+05  FEASIBLE\n",
       "1    1  1.439140e+05  1.439140e+05  FEASIBLE\n",
       "2    2  1.736413e+05  1.736413e+05  FEASIBLE\n",
       "3    3  1.260019e+05  1.260019e+05  FEASIBLE\n",
       "4    4  1.287558e+06  1.287558e+06  FEASIBLE\n",
       "5    5  7.724917e+05  7.724917e+05  FEASIBLE\n",
       "6    7  6.290782e+05  6.290782e+05  FEASIBLE\n",
       "7   10  9.242748e+05  9.242748e+05  FEASIBLE\n",
       "8   11  1.973185e+06  1.973185e+06  FEASIBLE\n",
       "9   12  3.322294e+06  3.322294e+06  FEASIBLE\n",
       "10  14  3.171057e+06  3.171057e+06  FEASIBLE\n",
       "11  15  2.890701e+03  2.890701e+03   OPTIMAL\n",
       "12  16  1.011766e+04  1.011766e+04   OPTIMAL\n",
       "13  17  1.110799e+04  1.110799e+04   OPTIMAL"
      ]
     },
     "execution_count": 8,
     "metadata": {},
     "output_type": "execute_result"
    }
   ],
   "source": [
    "pd.DataFrame(sum_info)"
   ]
  },
  {
   "cell_type": "markdown",
   "id": "3c72e216",
   "metadata": {},
   "source": [
    "### Train dataset"
   ]
  },
  {
   "cell_type": "code",
   "execution_count": 6,
   "id": "a455109e",
   "metadata": {},
   "outputs": [
    {
     "name": "stderr",
     "output_type": "stream",
     "text": [
      "100%|██████████| 100/100 [00:36<00:00,  2.74it/s]\n"
     ]
    }
   ],
   "source": [
    "dataset_train = read_fatahi_dataset(\"../data/train_data.xlsx\")"
   ]
  },
  {
   "cell_type": "code",
   "execution_count": 9,
   "id": "41bbdcc1",
   "metadata": {},
   "outputs": [],
   "source": [
    "def train_problem(i, problem):\n",
    "    delta, gamma, status, value = mip_solve(problem)\n",
    "\n",
    "    if status.name == 'OPTIMAL':\n",
    "        np.save(f'./train_solutions/delta_{i}_op.npy', delta)\n",
    "        np.save(f'./train_solutions/gamma_{i}_op.npy', gamma)\n",
    "        return {'i':i,\n",
    "                'value': value,\n",
    "                'objvalue': objvalue(problem, gamma, delta),\n",
    "                'status': status.name}\n",
    "    if status.name == 'FEASIBLE':\n",
    "        np.save(f'./train_solutions/delta_{i}_fb.npy', delta)\n",
    "        np.save(f'./train_solutions/gamma_{i}_fb.npy', gamma)\n",
    "        return {'i':i,\n",
    "                'value': value,\n",
    "                'objvalue': objvalue(problem, gamma, delta),\n",
    "                'status': status.name}\n",
    "    print(i,\" wasn't solved\")\n",
    "    return None"
   ]
  },
  {
   "cell_type": "code",
   "execution_count": 10,
   "id": "5f803272",
   "metadata": {},
   "outputs": [
    {
     "name": "stderr",
     "output_type": "stream",
     "text": []
    },
    {
     "ename": "KeyboardInterrupt",
     "evalue": "",
     "output_type": "error",
     "traceback": [
      "\u001b[1;31m---------------------------------------------------------------------------\u001b[0m",
      "\u001b[1;31mKeyboardInterrupt\u001b[0m                         Traceback (most recent call last)",
      "Cell \u001b[1;32mIn[10], line 1\u001b[0m\n\u001b[1;32m----> 1\u001b[0m sum_info_train \u001b[38;5;241m=\u001b[39m \u001b[43mParallel\u001b[49m\u001b[43m(\u001b[49m\u001b[43mn_jobs\u001b[49m\u001b[38;5;241;43m=\u001b[39;49m\u001b[38;5;241;43m-\u001b[39;49m\u001b[38;5;241;43m1\u001b[39;49m\u001b[43m)\u001b[49m\u001b[43m(\u001b[49m\n\u001b[0;32m      2\u001b[0m \u001b[43m    \u001b[49m\u001b[43mdelayed\u001b[49m\u001b[43m(\u001b[49m\u001b[43mtrain_problem\u001b[49m\u001b[43m)\u001b[49m\u001b[43m(\u001b[49m\u001b[43mi\u001b[49m\u001b[43m,\u001b[49m\u001b[43m \u001b[49m\u001b[43mdataset_train\u001b[49m\u001b[43m[\u001b[49m\u001b[43mi\u001b[49m\u001b[43m]\u001b[49m\u001b[43m)\u001b[49m\u001b[43m \u001b[49m\u001b[38;5;28;43;01mfor\u001b[39;49;00m\u001b[43m \u001b[49m\u001b[43mi\u001b[49m\u001b[43m \u001b[49m\u001b[38;5;129;43;01min\u001b[39;49;00m\u001b[43m \u001b[49m\u001b[43mtrange\u001b[49m\u001b[43m(\u001b[49m\u001b[38;5;28;43mlen\u001b[39;49m\u001b[43m(\u001b[49m\u001b[43mdataset_train\u001b[49m\u001b[43m)\u001b[49m\u001b[43m)\u001b[49m\n\u001b[0;32m      3\u001b[0m \u001b[43m)\u001b[49m\n\u001b[0;32m      4\u001b[0m sum_info_train \u001b[38;5;241m=\u001b[39m [info \u001b[38;5;28;01mfor\u001b[39;00m info \u001b[38;5;129;01min\u001b[39;00m sum_info_train \u001b[38;5;28;01mif\u001b[39;00m info \u001b[38;5;129;01mis\u001b[39;00m \u001b[38;5;129;01mnot\u001b[39;00m \u001b[38;5;28;01mNone\u001b[39;00m]\n\u001b[0;32m      6\u001b[0m pd\u001b[38;5;241m.\u001b[39mDataFrame(sum_info_train)\u001b[38;5;241m.\u001b[39mto_csv(\u001b[38;5;124m'\u001b[39m\u001b[38;5;124mtrain_info.csv\u001b[39m\u001b[38;5;124m'\u001b[39m, index\u001b[38;5;241m=\u001b[39m\u001b[38;5;28;01mFalse\u001b[39;00m)\n",
      "File \u001b[1;32mc:\\Users\\z004w9ze\\AppData\\Local\\miniconda3\\envs\\graph\\lib\\site-packages\\joblib\\parallel.py:2007\u001b[0m, in \u001b[0;36mParallel.__call__\u001b[1;34m(self, iterable)\u001b[0m\n\u001b[0;32m   2001\u001b[0m \u001b[38;5;66;03m# The first item from the output is blank, but it makes the interpreter\u001b[39;00m\n\u001b[0;32m   2002\u001b[0m \u001b[38;5;66;03m# progress until it enters the Try/Except block of the generator and\u001b[39;00m\n\u001b[0;32m   2003\u001b[0m \u001b[38;5;66;03m# reaches the first `yield` statement. This starts the asynchronous\u001b[39;00m\n\u001b[0;32m   2004\u001b[0m \u001b[38;5;66;03m# dispatch of the tasks to the workers.\u001b[39;00m\n\u001b[0;32m   2005\u001b[0m \u001b[38;5;28mnext\u001b[39m(output)\n\u001b[1;32m-> 2007\u001b[0m \u001b[38;5;28;01mreturn\u001b[39;00m output \u001b[38;5;28;01mif\u001b[39;00m \u001b[38;5;28mself\u001b[39m\u001b[38;5;241m.\u001b[39mreturn_generator \u001b[38;5;28;01melse\u001b[39;00m \u001b[38;5;28;43mlist\u001b[39;49m\u001b[43m(\u001b[49m\u001b[43moutput\u001b[49m\u001b[43m)\u001b[49m\n",
      "File \u001b[1;32mc:\\Users\\z004w9ze\\AppData\\Local\\miniconda3\\envs\\graph\\lib\\site-packages\\joblib\\parallel.py:1650\u001b[0m, in \u001b[0;36mParallel._get_outputs\u001b[1;34m(self, iterator, pre_dispatch)\u001b[0m\n\u001b[0;32m   1647\u001b[0m     \u001b[38;5;28;01myield\u001b[39;00m\n\u001b[0;32m   1649\u001b[0m     \u001b[38;5;28;01mwith\u001b[39;00m \u001b[38;5;28mself\u001b[39m\u001b[38;5;241m.\u001b[39m_backend\u001b[38;5;241m.\u001b[39mretrieval_context():\n\u001b[1;32m-> 1650\u001b[0m         \u001b[38;5;28;01myield from\u001b[39;00m \u001b[38;5;28mself\u001b[39m\u001b[38;5;241m.\u001b[39m_retrieve()\n\u001b[0;32m   1652\u001b[0m \u001b[38;5;28;01mexcept\u001b[39;00m \u001b[38;5;167;01mGeneratorExit\u001b[39;00m:\n\u001b[0;32m   1653\u001b[0m     \u001b[38;5;66;03m# The generator has been garbage collected before being fully\u001b[39;00m\n\u001b[0;32m   1654\u001b[0m     \u001b[38;5;66;03m# consumed. This aborts the remaining tasks if possible and warn\u001b[39;00m\n\u001b[0;32m   1655\u001b[0m     \u001b[38;5;66;03m# the user if necessary.\u001b[39;00m\n\u001b[0;32m   1656\u001b[0m     \u001b[38;5;28mself\u001b[39m\u001b[38;5;241m.\u001b[39m_exception \u001b[38;5;241m=\u001b[39m \u001b[38;5;28;01mTrue\u001b[39;00m\n",
      "File \u001b[1;32mc:\\Users\\z004w9ze\\AppData\\Local\\miniconda3\\envs\\graph\\lib\\site-packages\\joblib\\parallel.py:1762\u001b[0m, in \u001b[0;36mParallel._retrieve\u001b[1;34m(self)\u001b[0m\n\u001b[0;32m   1757\u001b[0m \u001b[38;5;66;03m# If the next job is not ready for retrieval yet, we just wait for\u001b[39;00m\n\u001b[0;32m   1758\u001b[0m \u001b[38;5;66;03m# async callbacks to progress.\u001b[39;00m\n\u001b[0;32m   1759\u001b[0m \u001b[38;5;28;01mif\u001b[39;00m ((\u001b[38;5;28mlen\u001b[39m(\u001b[38;5;28mself\u001b[39m\u001b[38;5;241m.\u001b[39m_jobs) \u001b[38;5;241m==\u001b[39m \u001b[38;5;241m0\u001b[39m) \u001b[38;5;129;01mor\u001b[39;00m\n\u001b[0;32m   1760\u001b[0m     (\u001b[38;5;28mself\u001b[39m\u001b[38;5;241m.\u001b[39m_jobs[\u001b[38;5;241m0\u001b[39m]\u001b[38;5;241m.\u001b[39mget_status(\n\u001b[0;32m   1761\u001b[0m         timeout\u001b[38;5;241m=\u001b[39m\u001b[38;5;28mself\u001b[39m\u001b[38;5;241m.\u001b[39mtimeout) \u001b[38;5;241m==\u001b[39m TASK_PENDING)):\n\u001b[1;32m-> 1762\u001b[0m     \u001b[43mtime\u001b[49m\u001b[38;5;241;43m.\u001b[39;49m\u001b[43msleep\u001b[49m\u001b[43m(\u001b[49m\u001b[38;5;241;43m0.01\u001b[39;49m\u001b[43m)\u001b[49m\n\u001b[0;32m   1763\u001b[0m     \u001b[38;5;28;01mcontinue\u001b[39;00m\n\u001b[0;32m   1765\u001b[0m \u001b[38;5;66;03m# We need to be careful: the job list can be filling up as\u001b[39;00m\n\u001b[0;32m   1766\u001b[0m \u001b[38;5;66;03m# we empty it and Python list are not thread-safe by\u001b[39;00m\n\u001b[0;32m   1767\u001b[0m \u001b[38;5;66;03m# default hence the use of the lock\u001b[39;00m\n",
      "\u001b[1;31mKeyboardInterrupt\u001b[0m: "
     ]
    }
   ],
   "source": [
    "sum_info_train = Parallel(n_jobs=-1)(\n",
    "    delayed(train_problem)(i, dataset_train[i]) for i in trange(len(dataset_train))\n",
    ")\n",
    "sum_info_train = [info for info in sum_info_train if info is not None]\n",
    "\n",
    "pd.DataFrame(sum_info_train).to_csv('train_info.csv', index=False)"
   ]
  },
  {
   "cell_type": "markdown",
   "id": "b463c0a3",
   "metadata": {},
   "source": [
    "#### Data generation"
   ]
  },
  {
   "cell_type": "code",
   "execution_count": 1,
   "id": "2dad9590",
   "metadata": {},
   "outputs": [],
   "source": [
    "import random\n",
    "import openpyxl\n",
    "from cloudmanufacturing.data_generation import create_excel_table\n",
    "random.seed(42)"
   ]
  },
  {
   "cell_type": "code",
   "execution_count": 2,
   "id": "081a7515",
   "metadata": {},
   "outputs": [],
   "source": [
    "N = 100\n",
    "stop_count = 100"
   ]
  },
  {
   "cell_type": "code",
   "execution_count": 3,
   "id": "7540407f",
   "metadata": {},
   "outputs": [],
   "source": [
    "file_path = '../data/train_data.xlsx'\n",
    "\n",
    "trios = []\n",
    "for i in range(N):\n",
    "    trios.append(tuple((random.randint(5,10),random.randint(10,15),random.randint(10,15))))\n",
    "trios.sort()\n",
    "\n",
    "wb = openpyxl.Workbook()\n",
    "del wb['Sheet']\n",
    "\n",
    "for n_operations, n_suboperations, n_cities in trios:\n",
    "    wb = create_excel_table(wb, n_operations, n_suboperations, n_cities, n_problem=1)\n",
    "\n",
    "wb.save(file_path)"
   ]
  },
  {
   "cell_type": "markdown",
   "id": "9e2283fa",
   "metadata": {},
   "source": [
    "### junk"
   ]
  },
  {
   "cell_type": "code",
   "execution_count": null,
   "id": "955cc1de",
   "metadata": {},
   "outputs": [],
   "source": [
    "# sum_info = []\n",
    "# for i in trange(len(dataset)):\n",
    "#     problem = dataset[i]\n",
    "#     delta, gamma, status, value = mip_solve(problem)\n",
    "#     if status.name == 'OPTIMAL':\n",
    "#         np.save(f'./mip_solutions/delta_{i}_opt.npy', delta)\n",
    "#         np.save(f'./mip_solutions/gamma_{i}_opt.npy', gamma)\n",
    "#         sum_info.append({'value':value,\n",
    "#                         'objvalue':objvalue(problem, gamma, delta),\n",
    "#                         'status':status\n",
    "#                         })\n",
    "#     if status.name == 'FEASIBLE':\n",
    "#         np.save(f'./mip_solutions/delta_{i}_opt.npy', delta)\n",
    "#         np.save(f'./mip_solutions/gamma_{i}_opt.npy', gamma)\n",
    "#         sum_info.append({'value':value,\n",
    "#                         'objvalue':objvalue(problem, gamma, delta),\n",
    "#                         'status':status\n",
    "#                         })\n",
    "# pd.DataFrame(sum_info).to_csv('./mip_solutions/info.csv',index=False)"
   ]
  }
 ],
 "metadata": {
  "kernelspec": {
   "display_name": "Python 3 (ipykernel)",
   "language": "python",
   "name": "python3"
  },
  "language_info": {
   "codemirror_mode": {
    "name": "ipython",
    "version": 3
   },
   "file_extension": ".py",
   "mimetype": "text/x-python",
   "name": "python",
   "nbconvert_exporter": "python",
   "pygments_lexer": "ipython3",
   "version": "3.9.19"
  }
 },
 "nbformat": 4,
 "nbformat_minor": 5
}
