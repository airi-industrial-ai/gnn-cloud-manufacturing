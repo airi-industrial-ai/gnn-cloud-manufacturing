{
 "cells": [
  {
   "cell_type": "code",
   "execution_count": 2,
   "id": "fb6de5b1",
   "metadata": {},
   "outputs": [],
   "source": [
    "from cloudmanufacturing.data import read_fatahi_dataset\n",
    "from cloudmanufacturing.solvers.mip_solver import mip_solve\n",
    "from cloudmanufacturing.validation import construct_delta, objvalue"
   ]
  },
  {
   "cell_type": "code",
   "execution_count": 3,
   "id": "8152f915",
   "metadata": {
    "scrolled": false
   },
   "outputs": [
    {
     "name": "stderr",
     "output_type": "stream",
     "text": [
      "  0%|          | 0/18 [00:00<?, ?it/s]"
     ]
    },
    {
     "name": "stderr",
     "output_type": "stream",
     "text": [
      "100%|██████████| 18/18 [00:05<00:00,  3.48it/s]"
     ]
    },
    {
     "name": "stdout",
     "output_type": "stream",
     "text": [
      "Problem: 5,10,10-1\n",
      "Problem: 5,10,10-2\n",
      "Problem: 5,10,10-3\n",
      "Problem: 10,10,10-1\n",
      "Problem: 10,10,10-2\n",
      "Problem: 10,10,10-3\n",
      "Problem: 5,10,20-1\n",
      "Problem: 5,10,20-2\n",
      "Problem: 5,10,20-3\n",
      "Problem: 5,20,10-1\n",
      "Problem: 5,20,10-2\n",
      "Problem: 5,20,10-3\n",
      "Problem: 5,20,20-1\n",
      "Problem: 5,20,20-2\n",
      "Problem: 5,20,20-3\n",
      "Problem: 5,5,5-1\n",
      "Problem: 5,5,5-2\n",
      "Problem: 5,5,5-3\n"
     ]
    },
    {
     "name": "stderr",
     "output_type": "stream",
     "text": [
      "\n"
     ]
    }
   ],
   "source": [
    "dataset = read_fatahi_dataset(\"../data/fatahi.xlsx\")\n",
    "for problem in dataset:\n",
    "    print(f'Problem: {problem[\"name\"]}')"
   ]
  },
  {
   "cell_type": "code",
   "execution_count": 4,
   "id": "2afc3247",
   "metadata": {
    "scrolled": false
   },
   "outputs": [
    {
     "name": "stdout",
     "output_type": "stream",
     "text": [
      "Problem 5,10,10-1: 5086.08, OptimizationStatus.OPTIMAL\n"
     ]
    }
   ],
   "source": [
    "problem = dataset[0]\n",
    "delta, gamma, status, value = mip_solve(problem)\n",
    "print(f'Problem {problem[\"name\"]}: {value:.2f}, {status}')"
   ]
  },
  {
   "cell_type": "code",
   "execution_count": 5,
   "id": "2e4db0a3",
   "metadata": {},
   "outputs": [
    {
     "name": "stdout",
     "output_type": "stream",
     "text": [
      "[[99.    3.79  6.28  6.53  5.19  4.38  6.76 99.    4.76  3.38]\n",
      " [99.   99.    3.18  3.16  4.91  6.4   4.28  4.27 99.    3.27]\n",
      " [ 3.63 99.   99.    4.38  6.83  6.28  5.53 99.    5.93  5.65]\n",
      " [99.    5.43 99.    3.23  6.98  3.81  6.5   4.22  5.75  6.9 ]\n",
      " [ 6.16 99.    6.39  3.49  3.93  3.59 99.   99.   99.   99.  ]\n",
      " [ 3.49  3.71  6.79 99.    5.45  5.49 99.    4.75  4.43  3.65]\n",
      " [ 4.39  5.11  6.72  6.47  5.23 99.    5.74  3.98  6.79  5.84]\n",
      " [ 5.73 99.    4.96  4.59  6.23  4.7   3.69  4.26  6.77  5.35]\n",
      " [99.    6.96  6.28 99.    6.55  5.93  3.75  6.08  4.9   3.06]\n",
      " [99.   99.    3.86  3.17  6.77  4.12  4.29  5.37  5.84  4.69]]\n"
     ]
    }
   ],
   "source": [
    "print(problem[\"time_cost\"].round(2))"
   ]
  },
  {
   "cell_type": "code",
   "execution_count": 6,
   "id": "4da4f40d",
   "metadata": {},
   "outputs": [
    {
     "data": {
      "text/plain": [
       "5086.083142240974"
      ]
     },
     "execution_count": 6,
     "metadata": {},
     "output_type": "execute_result"
    }
   ],
   "source": [
    "objvalue(problem, gamma, delta)"
   ]
  },
  {
   "cell_type": "code",
   "execution_count": 7,
   "id": "7f0e64e9",
   "metadata": {},
   "outputs": [
    {
     "data": {
      "text/plain": [
       "5086.083142240974"
      ]
     },
     "execution_count": 7,
     "metadata": {},
     "output_type": "execute_result"
    }
   ],
   "source": [
    "objvalue(problem, gamma, construct_delta(problem, gamma))"
   ]
  },
  {
   "cell_type": "code",
   "execution_count": 19,
   "metadata": {},
   "outputs": [],
   "source": [
    "import numpy as np"
   ]
  },
  {
   "cell_type": "code",
   "execution_count": 59,
   "id": "c844a772",
   "metadata": {},
   "outputs": [],
   "source": [
    "def find_path(operation):\n",
    "    data = []\n",
    "    path = []\n",
    "    for i in range(len(gamma)):\n",
    "        sub_operation = gamma[i][operation]\n",
    "        if len(np.nonzero(sub_operation)[0] > 0):\n",
    "            path.append(np.nonzero(sub_operation)[0][0])\n",
    "        data.append(sub_operation.tolist())\n",
    "    return path, data"
   ]
  },
  {
   "cell_type": "code",
   "execution_count": 70,
   "metadata": {},
   "outputs": [
    {
     "data": {
      "text/plain": [
       "[1, 1, 1, 1]"
      ]
     },
     "execution_count": 70,
     "metadata": {},
     "output_type": "execute_result"
    }
   ],
   "source": [
    "path,data = find_path(1)\n",
    "path"
   ]
  }
 ],
 "metadata": {
  "kernelspec": {
   "display_name": "Python 3 (ipykernel)",
   "language": "python",
   "name": "python3"
  },
  "language_info": {
   "codemirror_mode": {
    "name": "ipython",
    "version": 3
   },
   "file_extension": ".py",
   "mimetype": "text/x-python",
   "name": "python",
   "nbconvert_exporter": "python",
   "pygments_lexer": "ipython3",
   "version": "3.11.5"
  }
 },
 "nbformat": 4,
 "nbformat_minor": 5
}
