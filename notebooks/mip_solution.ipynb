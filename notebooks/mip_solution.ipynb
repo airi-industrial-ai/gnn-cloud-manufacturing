{
 "cells": [
  {
   "cell_type": "code",
   "execution_count": 1,
   "id": "fb6de5b1",
   "metadata": {
    "metadata": {}
   },
   "outputs": [],
   "source": [
    "from cloudmanufacturing.data import read_fatahi_dataset\n",
    "from cloudmanufacturing.solvers.mip_solver import mip_solve\n",
    "from cloudmanufacturing.validation import construct_delta, objvalue"
   ]
  },
  {
   "cell_type": "code",
   "execution_count": 2,
   "id": "8152f915",
   "metadata": {
    "metadata": {},
    "scrolled": false
   },
   "outputs": [
    {
     "data": {
      "application/vnd.jupyter.widget-view+json": {
       "model_id": "074431e168ac408d9a574dd18049864e",
       "version_major": 2,
       "version_minor": 0
      },
      "text/plain": [
       "  0%|          | 0/18 [00:00<?, ?it/s]"
      ]
     },
     "metadata": {},
     "output_type": "display_data"
    },
    {
     "name": "stdout",
     "output_type": "stream",
     "text": [
      "Problem: 5,10,10-1\n",
      "Problem: 5,10,10-2\n",
      "Problem: 5,10,10-3\n",
      "Problem: 10,10,10-1\n",
      "Problem: 10,10,10-2\n",
      "Problem: 10,10,10-3\n",
      "Problem: 5,10,20-1\n",
      "Problem: 5,10,20-2\n",
      "Problem: 5,10,20-3\n",
      "Problem: 5,20,10-1\n",
      "Problem: 5,20,10-2\n",
      "Problem: 5,20,10-3\n",
      "Problem: 5,20,20-1\n",
      "Problem: 5,20,20-2\n",
      "Problem: 5,20,20-3\n",
      "Problem: 5,5,5-1\n",
      "Problem: 5,5,5-2\n",
      "Problem: 5,5,5-3\n"
     ]
    }
   ],
   "source": [
    "dataset = read_fatahi_dataset(\"../data/fatahi.xlsx\")\n",
    "for problem in dataset:\n",
    "    print(f'Problem: {problem[\"name\"]}')"
   ]
  },
  {
   "cell_type": "code",
   "execution_count": 3,
   "id": "2afc3247",
   "metadata": {
    "metadata": {},
    "scrolled": false
   },
   "outputs": [
    {
     "name": "stdout",
     "output_type": "stream",
     "text": [
      "Problem 5,10,10-3: 5999.73, OptimizationStatus.OPTIMAL\n"
     ]
    }
   ],
   "source": [
    "problem = dataset[2]\n",
    "delta, gamma, status, value = mip_solve(problem)\n",
    "print(f'Problem {problem[\"name\"]}: {value:.2f}, {status}')"
   ]
  },
  {
   "cell_type": "code",
   "execution_count": 4,
   "id": "4da4f40d",
   "metadata": {
    "metadata": {}
   },
   "outputs": [
    {
     "data": {
      "text/plain": [
       "5999.7296396179645"
      ]
     },
     "execution_count": 4,
     "metadata": {},
     "output_type": "execute_result"
    }
   ],
   "source": [
    "objvalue(problem, gamma, delta)"
   ]
  },
  {
   "cell_type": "code",
   "execution_count": 5,
   "id": "7f0e64e9",
   "metadata": {
    "metadata": {}
   },
   "outputs": [
    {
     "data": {
      "text/plain": [
       "6699.211856623964"
      ]
     },
     "execution_count": 5,
     "metadata": {},
     "output_type": "execute_result"
    }
   ],
   "source": [
    "objvalue(problem, gamma, construct_delta(problem, gamma))"
   ]
  },
  {
   "cell_type": "markdown",
   "id": "abae1778",
   "metadata": {},
   "source": [
    "## Running all problems"
   ]
  },
  {
   "cell_type": "code",
   "execution_count": 6,
   "id": "f6f97777",
   "metadata": {},
   "outputs": [],
   "source": [
    "import pandas as pd\n",
    "from tqdm import trange\n",
    "import numpy as np"
   ]
  },
  {
   "cell_type": "code",
   "execution_count": 8,
   "id": "955cc1de",
   "metadata": {},
   "outputs": [
    {
     "name": "stderr",
     "output_type": "stream",
     "text": [
      " 33%|███▎      | 6/18 [32:44<1:05:28, 327.39s/it]\n"
     ]
    },
    {
     "ename": "KeyboardInterrupt",
     "evalue": "",
     "output_type": "error",
     "traceback": [
      "\u001b[0;31m---------------------------------------------------------------------------\u001b[0m",
      "\u001b[0;31mKeyboardInterrupt\u001b[0m                         Traceback (most recent call last)",
      "Cell \u001b[0;32mIn[8], line 4\u001b[0m\n\u001b[1;32m      2\u001b[0m \u001b[38;5;28;01mfor\u001b[39;00m i \u001b[38;5;129;01min\u001b[39;00m trange(\u001b[38;5;28mlen\u001b[39m(dataset)):\n\u001b[1;32m      3\u001b[0m     problem \u001b[38;5;241m=\u001b[39m dataset[i]\n\u001b[0;32m----> 4\u001b[0m     delta, gamma, status, value \u001b[38;5;241m=\u001b[39m \u001b[43mmip_solve\u001b[49m\u001b[43m(\u001b[49m\u001b[43mproblem\u001b[49m\u001b[43m)\u001b[49m\n\u001b[1;32m      5\u001b[0m     \u001b[38;5;66;03m#print(f'Problem {problem[\"name\"]}: {value:.2f}, {status} \\n')\u001b[39;00m\n\u001b[1;32m      7\u001b[0m     np\u001b[38;5;241m.\u001b[39msave(\u001b[38;5;124mf\u001b[39m\u001b[38;5;124m'\u001b[39m\u001b[38;5;124m./mip_solutions/delta_\u001b[39m\u001b[38;5;132;01m{\u001b[39;00mi\u001b[38;5;132;01m}\u001b[39;00m\u001b[38;5;124m.npy\u001b[39m\u001b[38;5;124m'\u001b[39m, delta)\n",
      "File \u001b[0;32m~/Documents/Github/gnn-cloud-manufacturing/cloudmanufacturing/solvers/mip_solver.py:58\u001b[0m, in \u001b[0;36mmip_solve\u001b[0;34m(problem)\u001b[0m\n\u001b[1;32m     54\u001b[0m         \u001b[38;5;28;01mif\u001b[39;00m m \u001b[38;5;241m!=\u001b[39m m_:\n\u001b[1;32m     55\u001b[0m             model \u001b[38;5;241m+\u001b[39m\u001b[38;5;241m=\u001b[39m gamma[i, k, m] \u001b[38;5;241m+\u001b[39m gamma[i \u001b[38;5;241m+\u001b[39m seq[\u001b[38;5;241m1\u001b[39m], k, m_] \u001b[38;5;241m-\u001b[39m \u001b[38;5;241m1\u001b[39m \u001b[38;5;241m<\u001b[39m\u001b[38;5;241m=\u001b[39m xsum(\n\u001b[1;32m     56\u001b[0m                 delta[:, m, m_, i \u001b[38;5;241m+\u001b[39m seq[\u001b[38;5;241m1\u001b[39m], k]\n\u001b[1;32m     57\u001b[0m             )\n\u001b[0;32m---> 58\u001b[0m model \u001b[38;5;241m+\u001b[39m\u001b[38;5;241m=\u001b[39m \u001b[43mnp\u001b[49m\u001b[38;5;241;43m.\u001b[39;49m\u001b[43msum\u001b[49m\u001b[43m(\u001b[49m\u001b[43mdelta\u001b[49m\u001b[43m)\u001b[49m \u001b[38;5;241m<\u001b[39m\u001b[38;5;241m=\u001b[39m np\u001b[38;5;241m.\u001b[39msum(gamma)\n\u001b[1;32m     60\u001b[0m total_op_cost \u001b[38;5;241m=\u001b[39m np\u001b[38;5;241m.\u001b[39msum(\n\u001b[1;32m     61\u001b[0m     (time_cost \u001b[38;5;241m*\u001b[39m op_cost \u001b[38;5;241m/\u001b[39m productivity)[:, \u001b[38;5;28;01mNone\u001b[39;00m, :] \u001b[38;5;241m*\u001b[39m gamma\n\u001b[1;32m     62\u001b[0m )\n\u001b[1;32m     64\u001b[0m total_logistic_cost \u001b[38;5;241m=\u001b[39m np\u001b[38;5;241m.\u001b[39msum(\n\u001b[1;32m     65\u001b[0m     (transportation_cost \u001b[38;5;241m*\u001b[39m dist[\u001b[38;5;28;01mNone\u001b[39;00m, \u001b[38;5;241m.\u001b[39m\u001b[38;5;241m.\u001b[39m\u001b[38;5;241m.\u001b[39m])[\u001b[38;5;241m.\u001b[39m\u001b[38;5;241m.\u001b[39m\u001b[38;5;241m.\u001b[39m, \u001b[38;5;28;01mNone\u001b[39;00m, \u001b[38;5;28;01mNone\u001b[39;00m] \u001b[38;5;241m*\u001b[39m delta\n\u001b[1;32m     66\u001b[0m )\n",
      "File \u001b[0;32m~/miniconda3/envs/graph/lib/python3.11/site-packages/numpy/core/fromnumeric.py:2313\u001b[0m, in \u001b[0;36msum\u001b[0;34m(a, axis, dtype, out, keepdims, initial, where)\u001b[0m\n\u001b[1;32m   2310\u001b[0m         \u001b[38;5;28;01mreturn\u001b[39;00m out\n\u001b[1;32m   2311\u001b[0m     \u001b[38;5;28;01mreturn\u001b[39;00m res\n\u001b[0;32m-> 2313\u001b[0m \u001b[38;5;28;01mreturn\u001b[39;00m \u001b[43m_wrapreduction\u001b[49m\u001b[43m(\u001b[49m\u001b[43ma\u001b[49m\u001b[43m,\u001b[49m\u001b[43m \u001b[49m\u001b[43mnp\u001b[49m\u001b[38;5;241;43m.\u001b[39;49m\u001b[43madd\u001b[49m\u001b[43m,\u001b[49m\u001b[43m \u001b[49m\u001b[38;5;124;43m'\u001b[39;49m\u001b[38;5;124;43msum\u001b[39;49m\u001b[38;5;124;43m'\u001b[39;49m\u001b[43m,\u001b[49m\u001b[43m \u001b[49m\u001b[43maxis\u001b[49m\u001b[43m,\u001b[49m\u001b[43m \u001b[49m\u001b[43mdtype\u001b[49m\u001b[43m,\u001b[49m\u001b[43m \u001b[49m\u001b[43mout\u001b[49m\u001b[43m,\u001b[49m\u001b[43m \u001b[49m\u001b[43mkeepdims\u001b[49m\u001b[38;5;241;43m=\u001b[39;49m\u001b[43mkeepdims\u001b[49m\u001b[43m,\u001b[49m\n\u001b[1;32m   2314\u001b[0m \u001b[43m                      \u001b[49m\u001b[43minitial\u001b[49m\u001b[38;5;241;43m=\u001b[39;49m\u001b[43minitial\u001b[49m\u001b[43m,\u001b[49m\u001b[43m \u001b[49m\u001b[43mwhere\u001b[49m\u001b[38;5;241;43m=\u001b[39;49m\u001b[43mwhere\u001b[49m\u001b[43m)\u001b[49m\n",
      "File \u001b[0;32m~/miniconda3/envs/graph/lib/python3.11/site-packages/numpy/core/fromnumeric.py:86\u001b[0m, in \u001b[0;36m_wrapreduction\u001b[0;34m(obj, ufunc, method, axis, dtype, out, **kwargs)\u001b[0m\n\u001b[1;32m     84\u001b[0m             \u001b[38;5;28;01mreturn\u001b[39;00m reduction(axis\u001b[38;5;241m=\u001b[39maxis, dtype\u001b[38;5;241m=\u001b[39mdtype, out\u001b[38;5;241m=\u001b[39mout, \u001b[38;5;241m*\u001b[39m\u001b[38;5;241m*\u001b[39mpasskwargs)\n\u001b[1;32m     85\u001b[0m         \u001b[38;5;28;01melse\u001b[39;00m:\n\u001b[0;32m---> 86\u001b[0m             \u001b[38;5;28;01mreturn\u001b[39;00m \u001b[43mreduction\u001b[49m\u001b[43m(\u001b[49m\u001b[43maxis\u001b[49m\u001b[38;5;241;43m=\u001b[39;49m\u001b[43maxis\u001b[49m\u001b[43m,\u001b[49m\u001b[43m \u001b[49m\u001b[43mout\u001b[49m\u001b[38;5;241;43m=\u001b[39;49m\u001b[43mout\u001b[49m\u001b[43m,\u001b[49m\u001b[43m \u001b[49m\u001b[38;5;241;43m*\u001b[39;49m\u001b[38;5;241;43m*\u001b[39;49m\u001b[43mpasskwargs\u001b[49m\u001b[43m)\u001b[49m\n\u001b[1;32m     88\u001b[0m \u001b[38;5;28;01mreturn\u001b[39;00m ufunc\u001b[38;5;241m.\u001b[39mreduce(obj, axis, dtype, out, \u001b[38;5;241m*\u001b[39m\u001b[38;5;241m*\u001b[39mpasskwargs)\n",
      "File \u001b[0;32m~/miniconda3/envs/graph/lib/python3.11/site-packages/numpy/core/_methods.py:49\u001b[0m, in \u001b[0;36m_sum\u001b[0;34m(a, axis, dtype, out, keepdims, initial, where)\u001b[0m\n\u001b[1;32m     47\u001b[0m \u001b[38;5;28;01mdef\u001b[39;00m \u001b[38;5;21m_sum\u001b[39m(a, axis\u001b[38;5;241m=\u001b[39m\u001b[38;5;28;01mNone\u001b[39;00m, dtype\u001b[38;5;241m=\u001b[39m\u001b[38;5;28;01mNone\u001b[39;00m, out\u001b[38;5;241m=\u001b[39m\u001b[38;5;28;01mNone\u001b[39;00m, keepdims\u001b[38;5;241m=\u001b[39m\u001b[38;5;28;01mFalse\u001b[39;00m,\n\u001b[1;32m     48\u001b[0m          initial\u001b[38;5;241m=\u001b[39m_NoValue, where\u001b[38;5;241m=\u001b[39m\u001b[38;5;28;01mTrue\u001b[39;00m):\n\u001b[0;32m---> 49\u001b[0m     \u001b[38;5;28;01mreturn\u001b[39;00m umr_sum(a, axis, dtype, out, keepdims, initial, where)\n",
      "File \u001b[0;32m~/miniconda3/envs/graph/lib/python3.11/site-packages/mip/entities.py:97\u001b[0m, in \u001b[0;36mLinExpr.__add__\u001b[0;34m(self, other)\u001b[0m\n\u001b[1;32m     94\u001b[0m     \u001b[38;5;28;01melif\u001b[39;00m expr \u001b[38;5;129;01mis\u001b[39;00m \u001b[38;5;129;01mnot\u001b[39;00m \u001b[38;5;28;01mNone\u001b[39;00m:\n\u001b[1;32m     95\u001b[0m         \u001b[38;5;28mself\u001b[39m\u001b[38;5;241m.\u001b[39m__expr \u001b[38;5;241m=\u001b[39m expr\u001b[38;5;241m.\u001b[39mcopy()\n\u001b[0;32m---> 97\u001b[0m \u001b[38;5;28;01mdef\u001b[39;00m \u001b[38;5;21m__add__\u001b[39m(\n\u001b[1;32m     98\u001b[0m     \u001b[38;5;28mself\u001b[39m,\n\u001b[1;32m     99\u001b[0m     other: Union[\u001b[38;5;124m\"\u001b[39m\u001b[38;5;124mmip.Var\u001b[39m\u001b[38;5;124m\"\u001b[39m, \u001b[38;5;124m\"\u001b[39m\u001b[38;5;124mmip.LinExpr\u001b[39m\u001b[38;5;124m\"\u001b[39m, numbers\u001b[38;5;241m.\u001b[39mReal],\n\u001b[1;32m    100\u001b[0m ) \u001b[38;5;241m-\u001b[39m\u001b[38;5;241m>\u001b[39m \u001b[38;5;124m\"\u001b[39m\u001b[38;5;124mmip.LinExpr\u001b[39m\u001b[38;5;124m\"\u001b[39m:\n\u001b[1;32m    101\u001b[0m     \u001b[38;5;28;01mif\u001b[39;00m \u001b[38;5;28misinstance\u001b[39m(other, numbers\u001b[38;5;241m.\u001b[39mReal) \u001b[38;5;129;01mand\u001b[39;00m fabs(other) \u001b[38;5;241m<\u001b[39m mip\u001b[38;5;241m.\u001b[39mEPS:\n\u001b[1;32m    102\u001b[0m         \u001b[38;5;28;01mreturn\u001b[39;00m \u001b[38;5;28mself\u001b[39m\n",
      "\u001b[0;31mKeyboardInterrupt\u001b[0m: "
     ]
    }
   ],
   "source": [
    "sum_info = []\n",
    "for i in trange(len(dataset)):\n",
    "    problem = dataset[i]\n",
    "    delta, gamma, status, value = mip_solve(problem)\n",
    "    #print(f'Problem {problem[\"name\"]}: {value:.2f}, {status} \\n')\n",
    "    \n",
    "    np.save(f'./mip_solutions/delta_{i}.npy', delta)\n",
    "    np.save(f'./mip_solutions/gamma_{i}.npy', gamma)\n",
    "    sum_info.append({'value':value,\n",
    "                     'objvalue':objvalue(problem, gamma, delta),\n",
    "                     'status':status\n",
    "                     })\n",
    "pd.DataFrame(sum_info).to_csv('./mip_solutions/info.csv',index=False)"
   ]
  },
  {
   "cell_type": "code",
   "execution_count": null,
   "id": "c81e4543",
   "metadata": {},
   "outputs": [],
   "source": []
  }
 ],
 "metadata": {
  "kernelspec": {
   "display_name": "Python 3 (ipykernel)",
   "language": "python",
   "name": "python3"
  },
  "language_info": {
   "codemirror_mode": {
    "name": "ipython",
    "version": 3
   },
   "file_extension": ".py",
   "mimetype": "text/x-python",
   "name": "python",
   "nbconvert_exporter": "python",
   "pygments_lexer": "ipython3",
   "version": "3.11.5"
  }
 },
 "nbformat": 4,
 "nbformat_minor": 5
}
