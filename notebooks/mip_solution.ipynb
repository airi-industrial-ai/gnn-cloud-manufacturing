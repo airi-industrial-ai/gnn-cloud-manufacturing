{
 "cells": [
  {
   "cell_type": "code",
   "execution_count": 1,
   "id": "fb6de5b1",
   "metadata": {
    "metadata": {}
   },
   "outputs": [
    {
     "name": "stderr",
     "output_type": "stream",
     "text": [
      "c:\\Users\\dmitrii\\miniconda3\\envs\\graph\\lib\\site-packages\\tqdm\\auto.py:21: TqdmWarning: IProgress not found. Please update jupyter and ipywidgets. See https://ipywidgets.readthedocs.io/en/stable/user_install.html\n",
      "  from .autonotebook import tqdm as notebook_tqdm\n"
     ]
    }
   ],
   "source": [
    "from cloudmanufacturing.data import read_fatahi_dataset\n",
    "from cloudmanufacturing.solvers.mip_solver import mip_solve\n",
    "from cloudmanufacturing.validation import construct_delta, objvalue\n",
    "\n",
    "from joblib import Parallel, delayed\n",
    "from tqdm import trange\n",
    "import pandas as pd\n",
    "import numpy as np\n",
    "import random\n",
    "import openpyxl\n",
    "from cloudmanufacturing.data_generation import create_excel_table\n",
    "random.seed(42)"
   ]
  },
  {
   "cell_type": "markdown",
   "id": "0ae359cb",
   "metadata": {},
   "source": [
    "#### Data generation"
   ]
  },
  {
   "cell_type": "code",
   "execution_count": 2,
   "id": "7540407f",
   "metadata": {},
   "outputs": [],
   "source": [
    "N = 500\n",
    "file_path = '../data/train_data.xlsx'\n",
    "\n",
    "trios = []\n",
    "for i in range(N):\n",
    "    trios.append(tuple((random.randint(5,15),random.randint(5, 20),random.randint(5,15))))\n",
    "trios.sort()\n",
    "\n",
    "wb = openpyxl.Workbook()\n",
    "del wb['Sheet']\n",
    "\n",
    "for n_operations, n_suboperations, n_cities in trios:\n",
    "    wb = create_excel_table(wb, n_operations, n_suboperations, n_cities, n_problem=1)\n",
    "\n",
    "wb.save(file_path)"
   ]
  },
  {
   "cell_type": "markdown",
   "id": "abae1778",
   "metadata": {},
   "source": [
    "#### Fatahi"
   ]
  },
  {
   "cell_type": "code",
   "execution_count": 11,
   "id": "c6a88056",
   "metadata": {},
   "outputs": [
    {
     "name": "stderr",
     "output_type": "stream",
     "text": [
      "100%|██████████| 18/18 [00:00<00:00, 247.84it/s]\n"
     ]
    }
   ],
   "source": [
    "dataset = read_fatahi_dataset(\"../data/fatahi.xlsx\")"
   ]
  },
  {
   "cell_type": "code",
   "execution_count": 12,
   "id": "7a8f3c03",
   "metadata": {},
   "outputs": [],
   "source": [
    "def fatahi_problem(i, problem):\n",
    "    print(problem['n_operations'])\n",
    "    print(problem['n_suboperations'])\n",
    "    print(problem['n_cities'])\n",
    "    delta, gamma, status, value = mip_solve(problem)\n",
    "\n",
    "    if status.name == 'OPTIMAL':\n",
    "        np.save(f'./fatahi_solutions/delta_{i}_op.npy', delta)\n",
    "        np.save(f'./fatahi_solutions/gamma_{i}_op.npy', gamma)\n",
    "        return {'i':i,\n",
    "                'value': value,\n",
    "                'objvalue': objvalue(problem, gamma, delta),\n",
    "                'status': status.name}\n",
    "    if status.name == 'FEASIBLE':\n",
    "        np.save(f'./fatahi_solutions/delta_{i}_fb.npy', delta)\n",
    "        np.save(f'./fatahi_solutions/gamma_{i}_fb.npy', gamma)\n",
    "        return {'i':i,\n",
    "                'value': value,\n",
    "                'objvalue': objvalue(problem, gamma, delta),\n",
    "                'status': status.name}\n",
    "    print(i,\" wasn't solved\")\n",
    "    return None"
   ]
  },
  {
   "cell_type": "code",
   "execution_count": 13,
   "id": "2261a60a",
   "metadata": {},
   "outputs": [
    {
     "name": "stderr",
     "output_type": "stream",
     "text": [
      "100%|██████████| 18/18 [00:00<?, ?it/s]\n"
     ]
    }
   ],
   "source": [
    "sum_info = Parallel(n_jobs=-1)(\n",
    "    delayed(fatahi_problem)(i, dataset[i]) for i in trange(len(dataset))\n",
    ")\n",
    "sum_info = [info for info in sum_info if info is not None]"
   ]
  },
  {
   "cell_type": "markdown",
   "id": "3c72e216",
   "metadata": {},
   "source": [
    "### Train dataset"
   ]
  },
  {
   "cell_type": "code",
   "execution_count": 5,
   "id": "a455109e",
   "metadata": {},
   "outputs": [
    {
     "name": "stderr",
     "output_type": "stream",
     "text": [
      "100%|██████████| 500/500 [04:11<00:00,  1.99it/s]\n"
     ]
    }
   ],
   "source": [
    "dataset_train = read_fatahi_dataset(\"../data/train_data.xlsx\")"
   ]
  },
  {
   "cell_type": "code",
   "execution_count": 6,
   "id": "41bbdcc1",
   "metadata": {},
   "outputs": [],
   "source": [
    "def train_problem(i, problem):\n",
    "    delta, gamma, status, value = mip_solve(problem)\n",
    "\n",
    "    if status.name == 'OPTIMAL':\n",
    "        np.save(f'./train_solutions/delta_{i}_op.npy', delta)\n",
    "        np.save(f'./train_solutions/gamma_{i}_op.npy', gamma)\n",
    "        return {'i':i,\n",
    "                'value': value,\n",
    "                'objvalue': objvalue(problem, gamma, delta),\n",
    "                'status': status.name}\n",
    "    if status.name == 'FEASIBLE':\n",
    "        np.save(f'./train_solutions/delta_{i}_fb.npy', delta)\n",
    "        np.save(f'./train_solutions/gamma_{i}_fb.npy', gamma)\n",
    "        return {'i':i,\n",
    "                'value': value,\n",
    "                'objvalue': objvalue(problem, gamma, delta),\n",
    "                'status': status.name}\n",
    "    print(i,\" wasn't solved\")\n",
    "    return None"
   ]
  },
  {
   "cell_type": "code",
   "execution_count": 7,
   "id": "5f803272",
   "metadata": {},
   "outputs": [
    {
     "name": "stderr",
     "output_type": "stream",
     "text": [
      " 10%|▉         | 48/500 [00:14<02:38,  2.85it/s]c:\\Users\\dmitrii\\miniconda3\\envs\\graph\\lib\\site-packages\\joblib\\externals\\loky\\process_executor.py:752: UserWarning: A worker stopped while some jobs were given to the executor. This can be caused by a too short worker timeout or by a memory leak.\n",
      "  warnings.warn(\n",
      "100%|██████████| 500/500 [1:30:57<00:00, 10.91s/it]\n"
     ]
    }
   ],
   "source": [
    "sum_info_train = Parallel(n_jobs=-1)(\n",
    "    delayed(train_problem)(i, dataset_train[i]) for i in trange(len(dataset_train))\n",
    ")\n",
    "sum_info_train = [info for info in sum_info_train if info is not None]"
   ]
  },
  {
   "cell_type": "code",
   "execution_count": 16,
   "id": "671fc964",
   "metadata": {},
   "outputs": [
    {
     "name": "stdout",
     "output_type": "stream",
     "text": [
      "a\n",
      "ap\n",
      "app\n",
      "appl\n",
      "apple\n",
      "p\n",
      "pp\n",
      "ppl\n",
      "pple\n",
      "p\n",
      "pl\n",
      "ple\n",
      "l\n",
      "le\n",
      "e\n",
      "a\n",
      "ap\n",
      "app\n",
      "appe\n",
      "appea\n",
      "appeal\n",
      "p\n",
      "pp\n",
      "ppe\n",
      "ppea\n",
      "ppeal\n",
      "p\n",
      "pe\n",
      "pea\n",
      "peal\n",
      "e\n",
      "ea\n",
      "eal\n",
      "a\n",
      "al\n",
      "l\n",
      "a\n",
      "ap\n",
      "app\n",
      "appl\n",
      "appli\n",
      "applic\n",
      "applica\n",
      "applicat\n",
      "applicati\n",
      "applicatio\n",
      "application\n",
      "p\n",
      "pp\n",
      "ppl\n",
      "ppli\n",
      "pplic\n",
      "pplica\n",
      "pplicat\n",
      "pplicati\n",
      "pplicatio\n",
      "pplication\n",
      "p\n",
      "pl\n",
      "pli\n",
      "plic\n",
      "plica\n",
      "plicat\n",
      "plicati\n",
      "plicatio\n",
      "plication\n",
      "l\n",
      "li\n",
      "lic\n",
      "lica\n",
      "licat\n",
      "licati\n",
      "licatio\n",
      "lication\n",
      "i\n",
      "ic\n",
      "ica\n",
      "icat\n",
      "icati\n",
      "icatio\n",
      "ication\n",
      "c\n",
      "ca\n",
      "cat\n",
      "cati\n",
      "catio\n",
      "cation\n",
      "a\n",
      "at\n",
      "ati\n",
      "atio\n",
      "ation\n",
      "t\n",
      "ti\n",
      "tio\n",
      "tion\n",
      "i\n",
      "io\n",
      "ion\n",
      "o\n",
      "on\n",
      "n\n",
      "('app', 3)\n"
     ]
    }
   ],
   "source": [
    "from collections import defaultdict\n",
    "\n",
    "def generate_substrings(s):\n",
    "    substrings = set()\n",
    "    for i in range(len(s)):\n",
    "        for j in range(i + 1, len(s) + 1):\n",
    "            substrings.add(s[i:j])\n",
    "    return substrings\n",
    "\n",
    "def most_common_substring(strings):\n",
    "    substring_count = defaultdict(int)\n",
    "    for s in strings:\n",
    "        substrings = generate_substrings(s)\n",
    "        for substring in substrings:\n",
    "            substring_count[substring] += 1\n",
    "    \n",
    "    most_common = max(substring_count, key=substring_count.get)\n",
    "    return most_common, substring_count[most_common]\n",
    "\n",
    "# Example usage\n",
    "strings = [\"apple\", \"appeal\", \"application\"]\n",
    "result = most_common_substring(strings)\n",
    "print(result)  # Output will be the most common substring and its count\n"
   ]
  },
  {
   "cell_type": "code",
   "execution_count": null,
   "id": "047479ad",
   "metadata": {},
   "outputs": [],
   "source": []
  }
 ],
 "metadata": {
  "kernelspec": {
   "display_name": "Python 3 (ipykernel)",
   "language": "python",
   "name": "python3"
  },
  "language_info": {
   "codemirror_mode": {
    "name": "ipython",
    "version": 3
   },
   "file_extension": ".py",
   "mimetype": "text/x-python",
   "name": "python",
   "nbconvert_exporter": "python",
   "pygments_lexer": "ipython3",
   "version": "3.9.19"
  }
 },
 "nbformat": 4,
 "nbformat_minor": 5
}
