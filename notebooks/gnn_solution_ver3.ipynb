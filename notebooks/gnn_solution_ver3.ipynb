{
 "cells": [
  {
   "cell_type": "code",
   "execution_count": 1,
   "id": "e6192340",
   "metadata": {},
   "outputs": [],
   "source": [
    "from gnncloudmanufacturing.data import read_fatahi_dataset\n",
    "from gnncloudmanufacturing.random_solution import random_solve\n",
    "from gnncloudmanufacturing.validation import total_cost_from_graph, check_feasibility, total_cost_from_gamma\n",
    "from gnncloudmanufacturing.utils import delta_from_gamma, graph_from_problem, gamma_from_target, delta_from_gamma\n",
    "from gnncloudmanufacturing.graph_model import GNN, os_type, ss_type\n",
    "\n",
    "import numpy as np\n",
    "from tqdm.auto import trange, tqdm\n",
    "from time import time\n",
    "import pandas as pd\n",
    "import torch"
   ]
  },
  {
   "cell_type": "code",
   "execution_count": 2,
   "id": "6fc3453a",
   "metadata": {},
   "outputs": [
    {
     "data": {
      "application/vnd.jupyter.widget-view+json": {
       "model_id": "5f450f99bd37445780886c86460173b4",
       "version_major": 2,
       "version_minor": 0
      },
      "text/plain": [
       "  0%|          | 0/18 [00:00<?, ?it/s]"
      ]
     },
     "metadata": {},
     "output_type": "display_data"
    },
    {
     "name": "stdout",
     "output_type": "stream",
     "text": [
      "Problem: 5,10,10-1\n",
      "Problem: 5,10,10-2\n",
      "Problem: 5,10,10-3\n",
      "Problem: 10,10,10-1\n",
      "Problem: 10,10,10-2\n",
      "Problem: 10,10,10-3\n",
      "Problem: 5,10,20-1\n",
      "Problem: 5,10,20-2\n",
      "Problem: 5,10,20-3\n",
      "Problem: 5,20,10-1\n",
      "Problem: 5,20,10-2\n",
      "Problem: 5,20,10-3\n",
      "Problem: 5,20,20-1\n",
      "Problem: 5,20,20-2\n",
      "Problem: 5,20,20-3\n",
      "Problem: 5,5,5-1\n",
      "Problem: 5,5,5-2\n",
      "Problem: 5,5,5-3\n"
     ]
    }
   ],
   "source": [
    "dataset = read_fatahi_dataset('../data/fatahi.xlsx')\n",
    "for problem in dataset:\n",
    "    print(f'Problem: {problem[\"name\"]}')"
   ]
  },
  {
   "cell_type": "code",
   "execution_count": 3,
   "id": "fca6c9ed",
   "metadata": {},
   "outputs": [
    {
     "data": {
      "text/plain": [
       "GNN(\n",
       "  (convs): ModuleList(\n",
       "    (0): AttnConvLayer(\n",
       "      (W_s): Linear(in_features=1, out_features=32, bias=True)\n",
       "      (W_os): Linear(in_features=3, out_features=32, bias=True)\n",
       "      (W_ss): Linear(in_features=2, out_features=32, bias=True)\n",
       "      (attn): Linear(in_features=64, out_features=1, bias=True)\n",
       "      (W_in): Linear(in_features=1, out_features=32, bias=True)\n",
       "      (W_self): Linear(in_features=1, out_features=32, bias=True)\n",
       "      (W_out): Linear(in_features=1, out_features=32, bias=True)\n",
       "      (W_o): Linear(in_features=96, out_features=32, bias=True)\n",
       "    )\n",
       "    (1): AttnConvLayer(\n",
       "      (W_s): Linear(in_features=32, out_features=32, bias=True)\n",
       "      (W_os): Linear(in_features=34, out_features=32, bias=True)\n",
       "      (W_ss): Linear(in_features=33, out_features=32, bias=True)\n",
       "      (attn): Linear(in_features=64, out_features=1, bias=True)\n",
       "      (W_in): Linear(in_features=32, out_features=32, bias=True)\n",
       "      (W_self): Linear(in_features=32, out_features=32, bias=True)\n",
       "      (W_out): Linear(in_features=32, out_features=32, bias=True)\n",
       "      (W_o): Linear(in_features=96, out_features=32, bias=True)\n",
       "    )\n",
       "  )\n",
       "  (dropout): Dropout(p=0.2, inplace=False)\n",
       "  (dec): DotProductDecoder()\n",
       ")"
      ]
     },
     "execution_count": 3,
     "metadata": {},
     "output_type": "execute_result"
    }
   ],
   "source": [
    "model = GNN.load_from_checkpoint(\n",
    "    checkpoint_path=\"gnn_ver3.ckpt\",\n",
    "    ins_dim=1,\n",
    "    ino_dim=1,\n",
    "    out_dim=32,\n",
    "    n_layers=2,\n",
    "    lr=0.001,\n",
    "    dropout_rate=0.2,\n",
    ")\n",
    "model.eval()"
   ]
  },
  {
   "cell_type": "code",
   "execution_count": 4,
   "id": "0486cc61",
   "metadata": {},
   "outputs": [
    {
     "data": {
      "application/vnd.jupyter.widget-view+json": {
       "model_id": "79433d785b7741559a4a8c9fd30c98d6",
       "version_major": 2,
       "version_minor": 0
      },
      "text/plain": [
       "  0%|          | 0/18 [00:00<?, ?it/s]"
      ]
     },
     "metadata": {},
     "output_type": "display_data"
    }
   ],
   "source": [
    "problem_name = []\n",
    "total_cost = []\n",
    "comp_time = []\n",
    "for problem in tqdm(dataset):\n",
    "    start = time()\n",
    "    total = np.inf\n",
    "    for i in range(5):\n",
    "        graph = graph_from_problem(problem)\n",
    "        graph.edata['feat'][os_type][:, 0] /= 10\n",
    "        graph.edata['feat'][ss_type][:] /= 100\n",
    "        pred = model.predict(graph)\n",
    "        gamma = gamma_from_target(pred, graph, problem)\n",
    "        delta = delta_from_gamma(problem, gamma)\n",
    "        check_feasibility(gamma, delta, problem)\n",
    "        _total = total_cost_from_gamma(problem, gamma, delta).item()\n",
    "        if total > _total:\n",
    "            total = _total\n",
    "    total_cost.append(total)\n",
    "    problem_name.append(problem['name'])\n",
    "    comp_time.append(time() - start)"
   ]
  },
  {
   "cell_type": "code",
   "execution_count": 5,
   "id": "cd0cb0d4",
   "metadata": {},
   "outputs": [
    {
     "data": {
      "text/html": [
       "<div>\n",
       "<style scoped>\n",
       "    .dataframe tbody tr th:only-of-type {\n",
       "        vertical-align: middle;\n",
       "    }\n",
       "\n",
       "    .dataframe tbody tr th {\n",
       "        vertical-align: top;\n",
       "    }\n",
       "\n",
       "    .dataframe thead th {\n",
       "        text-align: right;\n",
       "    }\n",
       "</style>\n",
       "<table border=\"1\" class=\"dataframe\">\n",
       "  <thead>\n",
       "    <tr style=\"text-align: right;\">\n",
       "      <th></th>\n",
       "      <th>problem_name</th>\n",
       "      <th>total_cost</th>\n",
       "      <th>comp_time</th>\n",
       "    </tr>\n",
       "  </thead>\n",
       "  <tbody>\n",
       "    <tr>\n",
       "      <th>0</th>\n",
       "      <td>5,10,10-1</td>\n",
       "      <td>10204.93</td>\n",
       "      <td>0.12</td>\n",
       "    </tr>\n",
       "    <tr>\n",
       "      <th>1</th>\n",
       "      <td>5,10,10-2</td>\n",
       "      <td>11919.25</td>\n",
       "      <td>0.09</td>\n",
       "    </tr>\n",
       "    <tr>\n",
       "      <th>2</th>\n",
       "      <td>5,10,10-3</td>\n",
       "      <td>12240.94</td>\n",
       "      <td>0.09</td>\n",
       "    </tr>\n",
       "    <tr>\n",
       "      <th>3</th>\n",
       "      <td>10,10,10-1</td>\n",
       "      <td>21072.84</td>\n",
       "      <td>0.12</td>\n",
       "    </tr>\n",
       "    <tr>\n",
       "      <th>4</th>\n",
       "      <td>10,10,10-2</td>\n",
       "      <td>24110.72</td>\n",
       "      <td>0.13</td>\n",
       "    </tr>\n",
       "    <tr>\n",
       "      <th>5</th>\n",
       "      <td>10,10,10-3</td>\n",
       "      <td>27794.10</td>\n",
       "      <td>0.13</td>\n",
       "    </tr>\n",
       "    <tr>\n",
       "      <th>6</th>\n",
       "      <td>5,10,20-1</td>\n",
       "      <td>10795.78</td>\n",
       "      <td>0.19</td>\n",
       "    </tr>\n",
       "    <tr>\n",
       "      <th>7</th>\n",
       "      <td>5,10,20-2</td>\n",
       "      <td>11582.40</td>\n",
       "      <td>0.21</td>\n",
       "    </tr>\n",
       "    <tr>\n",
       "      <th>8</th>\n",
       "      <td>5,10,20-3</td>\n",
       "      <td>16155.77</td>\n",
       "      <td>0.22</td>\n",
       "    </tr>\n",
       "    <tr>\n",
       "      <th>9</th>\n",
       "      <td>5,20,10-1</td>\n",
       "      <td>27459.17</td>\n",
       "      <td>0.13</td>\n",
       "    </tr>\n",
       "    <tr>\n",
       "      <th>10</th>\n",
       "      <td>5,20,10-2</td>\n",
       "      <td>30106.40</td>\n",
       "      <td>0.13</td>\n",
       "    </tr>\n",
       "    <tr>\n",
       "      <th>11</th>\n",
       "      <td>5,20,10-3</td>\n",
       "      <td>37112.92</td>\n",
       "      <td>0.14</td>\n",
       "    </tr>\n",
       "    <tr>\n",
       "      <th>12</th>\n",
       "      <td>5,20,20-1</td>\n",
       "      <td>27617.93</td>\n",
       "      <td>0.40</td>\n",
       "    </tr>\n",
       "    <tr>\n",
       "      <th>13</th>\n",
       "      <td>5,20,20-2</td>\n",
       "      <td>33151.25</td>\n",
       "      <td>0.42</td>\n",
       "    </tr>\n",
       "    <tr>\n",
       "      <th>14</th>\n",
       "      <td>5,20,20-3</td>\n",
       "      <td>38626.52</td>\n",
       "      <td>0.43</td>\n",
       "    </tr>\n",
       "    <tr>\n",
       "      <th>15</th>\n",
       "      <td>5,5,5-1</td>\n",
       "      <td>5362.55</td>\n",
       "      <td>0.04</td>\n",
       "    </tr>\n",
       "    <tr>\n",
       "      <th>16</th>\n",
       "      <td>5,5,5-2</td>\n",
       "      <td>11243.61</td>\n",
       "      <td>0.04</td>\n",
       "    </tr>\n",
       "    <tr>\n",
       "      <th>17</th>\n",
       "      <td>5,5,5-3</td>\n",
       "      <td>12947.20</td>\n",
       "      <td>0.04</td>\n",
       "    </tr>\n",
       "  </tbody>\n",
       "</table>\n",
       "</div>"
      ],
      "text/plain": [
       "   problem_name  total_cost  comp_time\n",
       "0     5,10,10-1    10204.93       0.12\n",
       "1     5,10,10-2    11919.25       0.09\n",
       "2     5,10,10-3    12240.94       0.09\n",
       "3    10,10,10-1    21072.84       0.12\n",
       "4    10,10,10-2    24110.72       0.13\n",
       "5    10,10,10-3    27794.10       0.13\n",
       "6     5,10,20-1    10795.78       0.19\n",
       "7     5,10,20-2    11582.40       0.21\n",
       "8     5,10,20-3    16155.77       0.22\n",
       "9     5,20,10-1    27459.17       0.13\n",
       "10    5,20,10-2    30106.40       0.13\n",
       "11    5,20,10-3    37112.92       0.14\n",
       "12    5,20,20-1    27617.93       0.40\n",
       "13    5,20,20-2    33151.25       0.42\n",
       "14    5,20,20-3    38626.52       0.43\n",
       "15      5,5,5-1     5362.55       0.04\n",
       "16      5,5,5-2    11243.61       0.04\n",
       "17      5,5,5-3    12947.20       0.04"
      ]
     },
     "execution_count": 5,
     "metadata": {},
     "output_type": "execute_result"
    }
   ],
   "source": [
    "pd.DataFrame({'problem_name': problem_name, 'total_cost': total_cost, 'comp_time': comp_time}).round(2)"
   ]
  },
  {
   "cell_type": "code",
   "execution_count": null,
   "id": "ce7f8cc0",
   "metadata": {},
   "outputs": [],
   "source": []
  }
 ],
 "metadata": {
  "kernelspec": {
   "display_name": "Python 3 (ipykernel)",
   "language": "python",
   "name": "python3"
  },
  "language_info": {
   "codemirror_mode": {
    "name": "ipython",
    "version": 3
   },
   "file_extension": ".py",
   "mimetype": "text/x-python",
   "name": "python",
   "nbconvert_exporter": "python",
   "pygments_lexer": "ipython3",
   "version": "3.10.14"
  }
 },
 "nbformat": 4,
 "nbformat_minor": 5
}
