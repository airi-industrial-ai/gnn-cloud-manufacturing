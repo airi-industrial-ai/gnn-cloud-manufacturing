{
 "cells": [
  {
   "cell_type": "code",
   "execution_count": 1,
   "id": "d08e4a93",
   "metadata": {
    "metadata": {}
   },
   "outputs": [
    {
     "name": "stderr",
     "output_type": "stream",
     "text": [
      "c:\\Users\\dmitrii\\miniconda3\\envs\\graph\\lib\\site-packages\\tqdm\\auto.py:21: TqdmWarning: IProgress not found. Please update jupyter and ipywidgets. See https://ipywidgets.readthedocs.io/en/stable/user_install.html\n",
      "  from .autonotebook import tqdm as notebook_tqdm\n"
     ]
    },
    {
     "data": {
      "text/plain": [
       "device(type='cuda')"
      ]
     },
     "execution_count": 1,
     "metadata": {},
     "output_type": "execute_result"
    }
   ],
   "source": [
    "import matplotlib.pyplot as plt\n",
    "import numpy as np\n",
    "import torch\n",
    "\n",
    "from cloudmanufacturing.data import read_fatahi_dataset\n",
    "from exp_validation import validate_optimal, validate_greedy\n",
    "\n",
    "from training import Trainer\n",
    "from data_preparation import create_info_file, create_graph_dataset, create_dataloader\n",
    "import wandb\n",
    "torch.device('cuda' if torch.cuda.is_available() else 'cpu')"
   ]
  },
  {
   "cell_type": "code",
   "execution_count": 2,
   "id": "ca03e536",
   "metadata": {
    "metadata": {}
   },
   "outputs": [],
   "source": [
    "train_problems = read_fatahi_dataset(\"../../data/train_data.xlsx\")"
   ]
  },
  {
   "cell_type": "code",
   "execution_count": 3,
   "id": "7f177a07",
   "metadata": {},
   "outputs": [],
   "source": [
    "info_file = create_info_file('../../data/train_solutions', train_problems)"
   ]
  },
  {
   "cell_type": "code",
   "execution_count": 4,
   "id": "6c193920",
   "metadata": {},
   "outputs": [],
   "source": [
    "# info_file_single = {i:info_file[i] for i in info_file.keys() if i < 2}"
   ]
  },
  {
   "cell_type": "code",
   "execution_count": 5,
   "id": "0b9eddc7",
   "metadata": {},
   "outputs": [],
   "source": [
    "# train_dataset, test_dataset = create_graph_dataset(info_file_single)\n",
    "\n",
    "# def update_metrics(**to_update):\n",
    "#     wandb.log(to_update)\n",
    "\n",
    "# wandb_init_params = dict(\n",
    "#     name=f'Optimal_SG',\n",
    "#     project=\"MIPT_thesis\",\n",
    "#     dir = './logs/'\n",
    "# )\n",
    "# run = wandb.init(**wandb_init_params, config={})\n",
    "# train_val = validate_optimal(train_dataset, 'train')\n",
    "# test_val = validate_optimal(test_dataset, 'test')\n",
    "# for i in range(1000):\n",
    "#     update_metrics(\n",
    "#                 **train_val,\n",
    "#                 **test_val,\n",
    "#                 epoch=i\n",
    "#                 )\n",
    "# wandb.finish()\n",
    "\n",
    "# wandb_init_params = dict(\n",
    "#     name=f'Greedy_SG',\n",
    "#     project=\"MIPT_thesis\",\n",
    "#     dir = './logs/'\n",
    "# )\n",
    "\n",
    "# run = wandb.init(**wandb_init_params, config={})\n",
    "# train_val = validate_greedy(train_dataset, 'train')\n",
    "# test_val = validate_greedy(test_dataset, 'test')\n",
    "# for i in range(1000):\n",
    "#     update_metrics(\n",
    "#                 **train_val,\n",
    "#                 **test_val,\n",
    "#                 epoch=i\n",
    "#                 )\n",
    "# wandb.finish()"
   ]
  },
  {
   "cell_type": "code",
   "execution_count": 6,
   "id": "8b2f27ea",
   "metadata": {},
   "outputs": [
    {
     "name": "stderr",
     "output_type": "stream",
     "text": [
      "Failed to detect the name of this notebook, you can set it manually with the WANDB_NOTEBOOK_NAME environment variable to enable code saving.\n",
      "\u001b[34m\u001b[1mwandb\u001b[0m: Currently logged in as: \u001b[33mdmitrii_fomin\u001b[0m (\u001b[33mdmitrii_fomin_uga\u001b[0m). Use \u001b[1m`wandb login --relogin`\u001b[0m to force relogin\n",
      "\u001b[34m\u001b[1mwandb\u001b[0m: \u001b[33mWARNING\u001b[0m Path ./logs/wandb\\ wasn't writable, using system temp directory.\n"
     ]
    },
    {
     "data": {
      "text/html": [
       "wandb version 0.17.2 is available!  To upgrade, please run:\n",
       " $ pip install wandb --upgrade"
      ],
      "text/plain": [
       "<IPython.core.display.HTML object>"
      ]
     },
     "metadata": {},
     "output_type": "display_data"
    },
    {
     "data": {
      "text/html": [
       "Tracking run with wandb version 0.17.1"
      ],
      "text/plain": [
       "<IPython.core.display.HTML object>"
      ]
     },
     "metadata": {},
     "output_type": "display_data"
    },
    {
     "data": {
      "text/html": [
       "Run data is saved locally in <code>C:\\Users\\dmitrii\\AppData\\Local\\Temp\\wandb\\run-20240619_162228-5lq8oazu</code>"
      ],
      "text/plain": [
       "<IPython.core.display.HTML object>"
      ]
     },
     "metadata": {},
     "output_type": "display_data"
    },
    {
     "data": {
      "text/html": [
       "Syncing run <strong><a href='https://wandb.ai/dmitrii_fomin_uga/MIPT_thesis/runs/5lq8oazu' target=\"_blank\">BL_d16-lr0.01-lay1_sh</a></strong> to <a href='https://wandb.ai/dmitrii_fomin_uga/MIPT_thesis' target=\"_blank\">Weights & Biases</a> (<a href='https://wandb.me/run' target=\"_blank\">docs</a>)<br/>"
      ],
      "text/plain": [
       "<IPython.core.display.HTML object>"
      ]
     },
     "metadata": {},
     "output_type": "display_data"
    },
    {
     "data": {
      "text/html": [
       " View project at <a href='https://wandb.ai/dmitrii_fomin_uga/MIPT_thesis' target=\"_blank\">https://wandb.ai/dmitrii_fomin_uga/MIPT_thesis</a>"
      ],
      "text/plain": [
       "<IPython.core.display.HTML object>"
      ]
     },
     "metadata": {},
     "output_type": "display_data"
    },
    {
     "data": {
      "text/html": [
       " View run at <a href='https://wandb.ai/dmitrii_fomin_uga/MIPT_thesis/runs/5lq8oazu' target=\"_blank\">https://wandb.ai/dmitrii_fomin_uga/MIPT_thesis/runs/5lq8oazu</a>"
      ],
      "text/plain": [
       "<IPython.core.display.HTML object>"
      ]
     },
     "metadata": {},
     "output_type": "display_data"
    },
    {
     "name": "stdout",
     "output_type": "stream",
     "text": [
      "train size:  309\n",
      "test size:  78\n"
     ]
    },
    {
     "name": "stderr",
     "output_type": "stream",
     "text": [
      "100%|██████████| 1000/1000 [1:10:21<00:00,  4.22s/it]\n"
     ]
    },
    {
     "data": {
      "text/html": [
       "Finishing last run (ID:5lq8oazu) before initializing another..."
      ],
      "text/plain": [
       "<IPython.core.display.HTML object>"
      ]
     },
     "metadata": {},
     "output_type": "display_data"
    },
    {
     "data": {
      "text/html": [
       "<style>\n",
       "    table.wandb td:nth-child(1) { padding: 0 10px; text-align: left ; width: auto;} td:nth-child(2) {text-align: left ; width: 100%}\n",
       "    .wandb-row { display: flex; flex-direction: row; flex-wrap: wrap; justify-content: flex-start; width: 100% }\n",
       "    .wandb-col { display: flex; flex-direction: column; flex-basis: 100%; flex: 1; padding: 10px; }\n",
       "    </style>\n",
       "<div class=\"wandb-row\"><div class=\"wandb-col\"><h3>Run history:</h3><br/><table class=\"wandb\"><tr><td>epoch</td><td>▁▂▂▃▃▄▄▅▅▆▆▇▇██</td></tr><tr><td>lr</td><td>█▇▇▆▆▅▄▄▃▃▂▂▂▁▁</td></tr><tr><td>objective test</td><td>█▃▃▃▂▂▁▁▁▂▂▂▁▁▂</td></tr><tr><td>objective train</td><td>█▃▃▃▂▂▁▂▁▂▂▁▁▁▁</td></tr><tr><td>test_loss</td><td>█▂▂▁▂▁▁▁▁▁▁▁▁▂▁</td></tr><tr><td>train_loss</td><td>█▂▂▂▂▂▁▁▁▂▁▂▁▁▁</td></tr></table><br/></div><div class=\"wandb-col\"><h3>Run summary:</h3><br/><table class=\"wandb\"><tr><td>epoch</td><td>999</td></tr><tr><td>lr</td><td>0.00668</td></tr><tr><td>objective test</td><td>25593.21185</td></tr><tr><td>objective train</td><td>26816.80211</td></tr><tr><td>test_loss</td><td>1.52342</td></tr><tr><td>train_loss</td><td>1.46194</td></tr></table><br/></div></div>"
      ],
      "text/plain": [
       "<IPython.core.display.HTML object>"
      ]
     },
     "metadata": {},
     "output_type": "display_data"
    },
    {
     "data": {
      "text/html": [
       " View run <strong style=\"color:#cdcd00\">BL_d16-lr0.01-lay1_sh</strong> at: <a href='https://wandb.ai/dmitrii_fomin_uga/MIPT_thesis/runs/5lq8oazu' target=\"_blank\">https://wandb.ai/dmitrii_fomin_uga/MIPT_thesis/runs/5lq8oazu</a><br/> View project at: <a href='https://wandb.ai/dmitrii_fomin_uga/MIPT_thesis' target=\"_blank\">https://wandb.ai/dmitrii_fomin_uga/MIPT_thesis</a><br/>Synced 6 W&B file(s), 0 media file(s), 0 artifact file(s) and 0 other file(s)"
      ],
      "text/plain": [
       "<IPython.core.display.HTML object>"
      ]
     },
     "metadata": {},
     "output_type": "display_data"
    },
    {
     "data": {
      "text/html": [
       "Find logs at: <code>C:\\Users\\dmitrii\\AppData\\Local\\Temp\\wandb\\run-20240619_162228-5lq8oazu\\logs</code>"
      ],
      "text/plain": [
       "<IPython.core.display.HTML object>"
      ]
     },
     "metadata": {},
     "output_type": "display_data"
    },
    {
     "data": {
      "text/html": [
       "Successfully finished last run (ID:5lq8oazu). Initializing new run:<br/>"
      ],
      "text/plain": [
       "<IPython.core.display.HTML object>"
      ]
     },
     "metadata": {},
     "output_type": "display_data"
    },
    {
     "data": {
      "text/html": [
       "wandb version 0.17.2 is available!  To upgrade, please run:\n",
       " $ pip install wandb --upgrade"
      ],
      "text/plain": [
       "<IPython.core.display.HTML object>"
      ]
     },
     "metadata": {},
     "output_type": "display_data"
    },
    {
     "data": {
      "text/html": [
       "Tracking run with wandb version 0.17.1"
      ],
      "text/plain": [
       "<IPython.core.display.HTML object>"
      ]
     },
     "metadata": {},
     "output_type": "display_data"
    },
    {
     "data": {
      "text/html": [
       "Run data is saved locally in <code>C:\\Users\\dmitrii\\AppData\\Local\\Temp\\wandb\\run-20240619_173253-jkfkz6qk</code>"
      ],
      "text/plain": [
       "<IPython.core.display.HTML object>"
      ]
     },
     "metadata": {},
     "output_type": "display_data"
    },
    {
     "data": {
      "text/html": [
       "Syncing run <strong><a href='https://wandb.ai/dmitrii_fomin_uga/MIPT_thesis/runs/jkfkz6qk' target=\"_blank\">BL_d16-lr0.001-lay1_sh</a></strong> to <a href='https://wandb.ai/dmitrii_fomin_uga/MIPT_thesis' target=\"_blank\">Weights & Biases</a> (<a href='https://wandb.me/run' target=\"_blank\">docs</a>)<br/>"
      ],
      "text/plain": [
       "<IPython.core.display.HTML object>"
      ]
     },
     "metadata": {},
     "output_type": "display_data"
    },
    {
     "data": {
      "text/html": [
       " View project at <a href='https://wandb.ai/dmitrii_fomin_uga/MIPT_thesis' target=\"_blank\">https://wandb.ai/dmitrii_fomin_uga/MIPT_thesis</a>"
      ],
      "text/plain": [
       "<IPython.core.display.HTML object>"
      ]
     },
     "metadata": {},
     "output_type": "display_data"
    },
    {
     "data": {
      "text/html": [
       " View run at <a href='https://wandb.ai/dmitrii_fomin_uga/MIPT_thesis/runs/jkfkz6qk' target=\"_blank\">https://wandb.ai/dmitrii_fomin_uga/MIPT_thesis/runs/jkfkz6qk</a>"
      ],
      "text/plain": [
       "<IPython.core.display.HTML object>"
      ]
     },
     "metadata": {},
     "output_type": "display_data"
    },
    {
     "name": "stdout",
     "output_type": "stream",
     "text": [
      "train size:  309\n",
      "test size:  78\n"
     ]
    },
    {
     "name": "stderr",
     "output_type": "stream",
     "text": [
      " 35%|███▌      | 351/1000 [24:29<41:20,  3.82s/it]  "
     ]
    }
   ],
   "source": [
    "for dim in [16, 32, 64, 128]:\n",
    "    for lay in [1, 2]:\n",
    "        for lr in [1e-2, 1e-3]:\n",
    "            wandb_init_params = dict(\n",
    "                name=f'BL_d{dim}-lr{lr}-lay{lay}_sh',\n",
    "                project=\"MIPT_thesis\",\n",
    "                dir = './logs/'\n",
    "            )\n",
    "            model = Trainer(wandb_init_params)\n",
    "            model.create_dataloader(info_file)\n",
    "            model.create_model(dim, lr, lay,\n",
    "                               sheduler=True)\n",
    "            model.run_experiment(scheduler_rate=50)"
   ]
  }
 ],
 "metadata": {
  "kernelspec": {
   "display_name": "Python 3 (ipykernel)",
   "language": "python",
   "name": "python3"
  },
  "language_info": {
   "codemirror_mode": {
    "name": "ipython",
    "version": 3
   },
   "file_extension": ".py",
   "mimetype": "text/x-python",
   "name": "python",
   "nbconvert_exporter": "python",
   "pygments_lexer": "ipython3",
   "version": "3.9.19"
  }
 },
 "nbformat": 4,
 "nbformat_minor": 5
}
