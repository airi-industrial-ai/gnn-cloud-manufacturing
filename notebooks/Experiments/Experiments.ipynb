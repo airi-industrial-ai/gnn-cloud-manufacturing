{
 "cells": [
  {
   "cell_type": "code",
   "execution_count": 1,
   "id": "d08e4a93",
   "metadata": {
    "metadata": {}
   },
   "outputs": [
    {
     "name": "stderr",
     "output_type": "stream",
     "text": [
      "c:\\Users\\z004w9ze\\AppData\\Local\\miniconda3\\envs\\graph\\lib\\site-packages\\tqdm\\auto.py:21: TqdmWarning: IProgress not found. Please update jupyter and ipywidgets. See https://ipywidgets.readthedocs.io/en/stable/user_install.html\n",
      "  from .autonotebook import tqdm as notebook_tqdm\n"
     ]
    },
    {
     "data": {
      "text/plain": [
       "device(type='cpu')"
      ]
     },
     "execution_count": 1,
     "metadata": {},
     "output_type": "execute_result"
    }
   ],
   "source": [
    "import matplotlib.pyplot as plt\n",
    "import numpy as np\n",
    "import torch\n",
    "\n",
    "from cloudmanufacturing.data import read_fatahi_dataset\n",
    "from exp_validation import validate_optimal, validate_greedy\n",
    "\n",
    "from training import Trainer\n",
    "from data_preparation import create_info_file, create_graph_dataset, create_dataloader\n",
    "import wandb\n",
    "torch.device('cuda' if torch.cuda.is_available() else 'cpu')"
   ]
  },
  {
   "cell_type": "code",
   "execution_count": 2,
   "id": "ca03e536",
   "metadata": {
    "metadata": {}
   },
   "outputs": [],
   "source": [
    "train_problems = read_fatahi_dataset(\"../../data/train_data.xlsx\")"
   ]
  },
  {
   "cell_type": "code",
   "execution_count": 3,
   "id": "7f177a07",
   "metadata": {},
   "outputs": [],
   "source": [
    "info_file = create_info_file('../../data/train_solutions', train_problems)"
   ]
  },
  {
   "cell_type": "code",
   "execution_count": 4,
   "id": "6c193920",
   "metadata": {},
   "outputs": [],
   "source": [
    "# info_file_single = {i:info_file[i] for i in info_file.keys() if i in [0,2]}"
   ]
  },
  {
   "cell_type": "code",
   "execution_count": 5,
   "id": "0b9eddc7",
   "metadata": {},
   "outputs": [],
   "source": [
    "# train_dataset, test_dataset = create_graph_dataset(info_file_single)\n",
    "\n",
    "# def update_metrics(**to_update):\n",
    "#     wandb.log(to_update)\n",
    "\n",
    "# wandb_init_params = dict(\n",
    "#     name=f'Optimal_SG',\n",
    "#     project=\"MIPT_thesis\",\n",
    "#     dir = './logs/'\n",
    "# )\n",
    "# run = wandb.init(**wandb_init_params, config={})\n",
    "# train_val = validate_optimal(train_dataset, 'train')\n",
    "# test_val = validate_optimal(test_dataset, 'test')\n",
    "# for i in range(1000):\n",
    "#     update_metrics(\n",
    "#                 **train_val,\n",
    "#                 **test_val,\n",
    "#                 epoch=i\n",
    "#                 )\n",
    "# wandb.finish()\n",
    "\n",
    "# wandb_init_params = dict(\n",
    "#     name=f'Greedy_SG',\n",
    "#     project=\"MIPT_thesis\",\n",
    "#     dir = './logs/'\n",
    "# )\n",
    "\n",
    "# run = wandb.init(**wandb_init_params, config={})\n",
    "# train_val = validate_greedy(train_dataset, 'train')\n",
    "# test_val = validate_greedy(test_dataset, 'test')\n",
    "# for i in range(1000):\n",
    "#     update_metrics(\n",
    "#                 **train_val,\n",
    "#                 **test_val,\n",
    "#                 epoch=i\n",
    "#                 )\n",
    "# wandb.finish()"
   ]
  },
  {
   "cell_type": "code",
   "execution_count": 4,
   "id": "8b2f27ea",
   "metadata": {},
   "outputs": [
    {
     "name": "stderr",
     "output_type": "stream",
     "text": [
      "Failed to detect the name of this notebook, you can set it manually with the WANDB_NOTEBOOK_NAME environment variable to enable code saving.\n",
      "\u001b[34m\u001b[1mwandb\u001b[0m: Currently logged in as: \u001b[33mdmitrii_fomin\u001b[0m (\u001b[33mdmitrii_fomin_uga\u001b[0m). Use \u001b[1m`wandb login --relogin`\u001b[0m to force relogin\n",
      "\u001b[34m\u001b[1mwandb\u001b[0m: \u001b[33mWARNING\u001b[0m Path ./logs/wandb\\ wasn't writable, using system temp directory.\n"
     ]
    },
    {
     "data": {
      "text/html": [
       "wandb version 0.17.2 is available!  To upgrade, please run:\n",
       " $ pip install wandb --upgrade"
      ],
      "text/plain": [
       "<IPython.core.display.HTML object>"
      ]
     },
     "metadata": {},
     "output_type": "display_data"
    },
    {
     "data": {
      "text/html": [
       "Tracking run with wandb version 0.17.1"
      ],
      "text/plain": [
       "<IPython.core.display.HTML object>"
      ]
     },
     "metadata": {},
     "output_type": "display_data"
    },
    {
     "data": {
      "text/html": [
       "Run data is saved locally in <code>C:\\Users\\z004w9ze\\AppData\\Local\\Temp\\wandb\\run-20240619_223156-k8v3j7r4</code>"
      ],
      "text/plain": [
       "<IPython.core.display.HTML object>"
      ]
     },
     "metadata": {},
     "output_type": "display_data"
    },
    {
     "data": {
      "text/html": [
       "Syncing run <strong><a href='https://wandb.ai/dmitrii_fomin_uga/MIPT_thesis/runs/k8v3j7r4' target=\"_blank\">SC_d8-lr0.01-lay1</a></strong> to <a href='https://wandb.ai/dmitrii_fomin_uga/MIPT_thesis' target=\"_blank\">Weights & Biases</a> (<a href='https://wandb.me/run' target=\"_blank\">docs</a>)<br/>"
      ],
      "text/plain": [
       "<IPython.core.display.HTML object>"
      ]
     },
     "metadata": {},
     "output_type": "display_data"
    },
    {
     "data": {
      "text/html": [
       " View project at <a href='https://wandb.ai/dmitrii_fomin_uga/MIPT_thesis' target=\"_blank\">https://wandb.ai/dmitrii_fomin_uga/MIPT_thesis</a>"
      ],
      "text/plain": [
       "<IPython.core.display.HTML object>"
      ]
     },
     "metadata": {},
     "output_type": "display_data"
    },
    {
     "data": {
      "text/html": [
       " View run at <a href='https://wandb.ai/dmitrii_fomin_uga/MIPT_thesis/runs/k8v3j7r4' target=\"_blank\">https://wandb.ai/dmitrii_fomin_uga/MIPT_thesis/runs/k8v3j7r4</a>"
      ],
      "text/plain": [
       "<IPython.core.display.HTML object>"
      ]
     },
     "metadata": {},
     "output_type": "display_data"
    },
    {
     "name": "stdout",
     "output_type": "stream",
     "text": [
      "train size:  309\n",
      "test size:  78\n"
     ]
    },
    {
     "name": "stderr",
     "output_type": "stream",
     "text": [
      "  1%|          | 11/1000 [03:24<5:06:35, 18.60s/it] \n"
     ]
    },
    {
     "ename": "KeyboardInterrupt",
     "evalue": "",
     "output_type": "error",
     "traceback": [
      "\u001b[1;31m---------------------------------------------------------------------------\u001b[0m",
      "\u001b[1;31mKeyboardInterrupt\u001b[0m                         Traceback (most recent call last)",
      "Cell \u001b[1;32mIn[4], line 13\u001b[0m\n\u001b[0;32m     10\u001b[0m model\u001b[38;5;241m.\u001b[39mcreate_dataloader(info_file)\n\u001b[0;32m     11\u001b[0m model\u001b[38;5;241m.\u001b[39mcreate_model(dim, lr, lay,\n\u001b[0;32m     12\u001b[0m                    sheduler\u001b[38;5;241m=\u001b[39m\u001b[38;5;28;01mFalse\u001b[39;00m)\n\u001b[1;32m---> 13\u001b[0m \u001b[43mmodel\u001b[49m\u001b[38;5;241;43m.\u001b[39;49m\u001b[43mrun_experiment\u001b[49m\u001b[43m(\u001b[49m\u001b[43mscheduler_rate\u001b[49m\u001b[38;5;241;43m=\u001b[39;49m\u001b[38;5;241;43m50\u001b[39;49m\u001b[43m)\u001b[49m\n",
      "File \u001b[1;32mc:\\Users\\z004w9ze\\OneDrive - Siemens AG\\Desktop\\gnn-cloud-manufacturing\\notebooks\\Experiments\\training.py:126\u001b[0m, in \u001b[0;36mTrainer.run_experiment\u001b[1;34m(self, num_epoch, validation_rate, service_rate, scheduler_rate)\u001b[0m\n\u001b[0;32m    119\u001b[0m wandb\u001b[38;5;241m.\u001b[39mconfig\u001b[38;5;241m.\u001b[39mupdate({\n\u001b[0;32m    120\u001b[0m     \u001b[38;5;124m'\u001b[39m\u001b[38;5;124mnum_epoch\u001b[39m\u001b[38;5;124m'\u001b[39m:num_epoch,\n\u001b[0;32m    121\u001b[0m     \u001b[38;5;124m'\u001b[39m\u001b[38;5;124mvalidation_rate\u001b[39m\u001b[38;5;124m'\u001b[39m:validation_rate,\n\u001b[0;32m    122\u001b[0m     \u001b[38;5;124m'\u001b[39m\u001b[38;5;124mscheduler_rate\u001b[39m\u001b[38;5;124m'\u001b[39m:scheduler_rate,\n\u001b[0;32m    123\u001b[0m     \u001b[38;5;124m'\u001b[39m\u001b[38;5;124mservice_rate\u001b[39m\u001b[38;5;124m'\u001b[39m:service_rate,\n\u001b[0;32m    124\u001b[0m })\n\u001b[0;32m    125\u001b[0m \u001b[38;5;28;01mfor\u001b[39;00m epoch \u001b[38;5;129;01min\u001b[39;00m trange(num_epoch):\n\u001b[1;32m--> 126\u001b[0m     train_update \u001b[38;5;241m=\u001b[39m \u001b[38;5;28;43mself\u001b[39;49m\u001b[38;5;241;43m.\u001b[39;49m\u001b[43mtrain_epoch\u001b[49m\u001b[43m(\u001b[49m\u001b[43mservice_rate\u001b[49m\u001b[38;5;241;43m=\u001b[39;49m\u001b[43mservice_rate\u001b[49m\u001b[43m)\u001b[49m\n\u001b[0;32m    127\u001b[0m     test_update \u001b[38;5;241m=\u001b[39m \u001b[38;5;28mself\u001b[39m\u001b[38;5;241m.\u001b[39mtest_epoch(service_rate\u001b[38;5;241m=\u001b[39mservice_rate)\n\u001b[0;32m    128\u001b[0m     \u001b[38;5;66;03m# collect validation info\u001b[39;00m\n",
      "File \u001b[1;32mc:\\Users\\z004w9ze\\OneDrive - Siemens AG\\Desktop\\gnn-cloud-manufacturing\\notebooks\\Experiments\\training.py:84\u001b[0m, in \u001b[0;36mTrainer.train_epoch\u001b[1;34m(self, service_rate)\u001b[0m\n\u001b[0;32m     82\u001b[0m \u001b[38;5;28;01mdef\u001b[39;00m \u001b[38;5;21mtrain_epoch\u001b[39m(\u001b[38;5;28mself\u001b[39m, service_rate):\n\u001b[0;32m     83\u001b[0m     train_loss \u001b[38;5;241m=\u001b[39m []\n\u001b[1;32m---> 84\u001b[0m     \u001b[38;5;28;01mfor\u001b[39;00m graph \u001b[38;5;129;01min\u001b[39;00m \u001b[38;5;28mself\u001b[39m\u001b[38;5;241m.\u001b[39mtrain_loader:\n\u001b[0;32m     85\u001b[0m         \u001b[38;5;28mself\u001b[39m\u001b[38;5;241m.\u001b[39moptim\u001b[38;5;241m.\u001b[39mzero_grad()\n\u001b[0;32m     86\u001b[0m         gamma_target \u001b[38;5;241m=\u001b[39m graph\u001b[38;5;241m.\u001b[39medata[\u001b[38;5;124m\"\u001b[39m\u001b[38;5;124mtarget\u001b[39m\u001b[38;5;124m\"\u001b[39m][os_type]\n",
      "File \u001b[1;32mc:\\Users\\z004w9ze\\AppData\\Local\\miniconda3\\envs\\graph\\lib\\site-packages\\torch\\utils\\data\\dataloader.py:631\u001b[0m, in \u001b[0;36m_BaseDataLoaderIter.__next__\u001b[1;34m(self)\u001b[0m\n\u001b[0;32m    628\u001b[0m \u001b[38;5;28;01mif\u001b[39;00m \u001b[38;5;28mself\u001b[39m\u001b[38;5;241m.\u001b[39m_sampler_iter \u001b[38;5;129;01mis\u001b[39;00m \u001b[38;5;28;01mNone\u001b[39;00m:\n\u001b[0;32m    629\u001b[0m     \u001b[38;5;66;03m# TODO(https://github.com/pytorch/pytorch/issues/76750)\u001b[39;00m\n\u001b[0;32m    630\u001b[0m     \u001b[38;5;28mself\u001b[39m\u001b[38;5;241m.\u001b[39m_reset()  \u001b[38;5;66;03m# type: ignore[call-arg]\u001b[39;00m\n\u001b[1;32m--> 631\u001b[0m data \u001b[38;5;241m=\u001b[39m \u001b[38;5;28;43mself\u001b[39;49m\u001b[38;5;241;43m.\u001b[39;49m\u001b[43m_next_data\u001b[49m\u001b[43m(\u001b[49m\u001b[43m)\u001b[49m\n\u001b[0;32m    632\u001b[0m \u001b[38;5;28mself\u001b[39m\u001b[38;5;241m.\u001b[39m_num_yielded \u001b[38;5;241m+\u001b[39m\u001b[38;5;241m=\u001b[39m \u001b[38;5;241m1\u001b[39m\n\u001b[0;32m    633\u001b[0m \u001b[38;5;28;01mif\u001b[39;00m \u001b[38;5;28mself\u001b[39m\u001b[38;5;241m.\u001b[39m_dataset_kind \u001b[38;5;241m==\u001b[39m _DatasetKind\u001b[38;5;241m.\u001b[39mIterable \u001b[38;5;129;01mand\u001b[39;00m \\\n\u001b[0;32m    634\u001b[0m         \u001b[38;5;28mself\u001b[39m\u001b[38;5;241m.\u001b[39m_IterableDataset_len_called \u001b[38;5;129;01mis\u001b[39;00m \u001b[38;5;129;01mnot\u001b[39;00m \u001b[38;5;28;01mNone\u001b[39;00m \u001b[38;5;129;01mand\u001b[39;00m \\\n\u001b[0;32m    635\u001b[0m         \u001b[38;5;28mself\u001b[39m\u001b[38;5;241m.\u001b[39m_num_yielded \u001b[38;5;241m>\u001b[39m \u001b[38;5;28mself\u001b[39m\u001b[38;5;241m.\u001b[39m_IterableDataset_len_called:\n",
      "File \u001b[1;32mc:\\Users\\z004w9ze\\AppData\\Local\\miniconda3\\envs\\graph\\lib\\site-packages\\torch\\utils\\data\\dataloader.py:675\u001b[0m, in \u001b[0;36m_SingleProcessDataLoaderIter._next_data\u001b[1;34m(self)\u001b[0m\n\u001b[0;32m    673\u001b[0m \u001b[38;5;28;01mdef\u001b[39;00m \u001b[38;5;21m_next_data\u001b[39m(\u001b[38;5;28mself\u001b[39m):\n\u001b[0;32m    674\u001b[0m     index \u001b[38;5;241m=\u001b[39m \u001b[38;5;28mself\u001b[39m\u001b[38;5;241m.\u001b[39m_next_index()  \u001b[38;5;66;03m# may raise StopIteration\u001b[39;00m\n\u001b[1;32m--> 675\u001b[0m     data \u001b[38;5;241m=\u001b[39m \u001b[38;5;28;43mself\u001b[39;49m\u001b[38;5;241;43m.\u001b[39;49m\u001b[43m_dataset_fetcher\u001b[49m\u001b[38;5;241;43m.\u001b[39;49m\u001b[43mfetch\u001b[49m\u001b[43m(\u001b[49m\u001b[43mindex\u001b[49m\u001b[43m)\u001b[49m  \u001b[38;5;66;03m# may raise StopIteration\u001b[39;00m\n\u001b[0;32m    676\u001b[0m     \u001b[38;5;28;01mif\u001b[39;00m \u001b[38;5;28mself\u001b[39m\u001b[38;5;241m.\u001b[39m_pin_memory:\n\u001b[0;32m    677\u001b[0m         data \u001b[38;5;241m=\u001b[39m _utils\u001b[38;5;241m.\u001b[39mpin_memory\u001b[38;5;241m.\u001b[39mpin_memory(data, \u001b[38;5;28mself\u001b[39m\u001b[38;5;241m.\u001b[39m_pin_memory_device)\n",
      "File \u001b[1;32mc:\\Users\\z004w9ze\\AppData\\Local\\miniconda3\\envs\\graph\\lib\\site-packages\\torch\\utils\\data\\_utils\\fetch.py:51\u001b[0m, in \u001b[0;36m_MapDatasetFetcher.fetch\u001b[1;34m(self, possibly_batched_index)\u001b[0m\n\u001b[0;32m     49\u001b[0m         data \u001b[38;5;241m=\u001b[39m \u001b[38;5;28mself\u001b[39m\u001b[38;5;241m.\u001b[39mdataset\u001b[38;5;241m.\u001b[39m__getitems__(possibly_batched_index)\n\u001b[0;32m     50\u001b[0m     \u001b[38;5;28;01melse\u001b[39;00m:\n\u001b[1;32m---> 51\u001b[0m         data \u001b[38;5;241m=\u001b[39m [\u001b[38;5;28mself\u001b[39m\u001b[38;5;241m.\u001b[39mdataset[idx] \u001b[38;5;28;01mfor\u001b[39;00m idx \u001b[38;5;129;01min\u001b[39;00m possibly_batched_index]\n\u001b[0;32m     52\u001b[0m \u001b[38;5;28;01melse\u001b[39;00m:\n\u001b[0;32m     53\u001b[0m     data \u001b[38;5;241m=\u001b[39m \u001b[38;5;28mself\u001b[39m\u001b[38;5;241m.\u001b[39mdataset[possibly_batched_index]\n",
      "File \u001b[1;32mc:\\Users\\z004w9ze\\AppData\\Local\\miniconda3\\envs\\graph\\lib\\site-packages\\torch\\utils\\data\\_utils\\fetch.py:51\u001b[0m, in \u001b[0;36m<listcomp>\u001b[1;34m(.0)\u001b[0m\n\u001b[0;32m     49\u001b[0m         data \u001b[38;5;241m=\u001b[39m \u001b[38;5;28mself\u001b[39m\u001b[38;5;241m.\u001b[39mdataset\u001b[38;5;241m.\u001b[39m__getitems__(possibly_batched_index)\n\u001b[0;32m     50\u001b[0m     \u001b[38;5;28;01melse\u001b[39;00m:\n\u001b[1;32m---> 51\u001b[0m         data \u001b[38;5;241m=\u001b[39m [\u001b[38;5;28;43mself\u001b[39;49m\u001b[38;5;241;43m.\u001b[39;49m\u001b[43mdataset\u001b[49m\u001b[43m[\u001b[49m\u001b[43midx\u001b[49m\u001b[43m]\u001b[49m \u001b[38;5;28;01mfor\u001b[39;00m idx \u001b[38;5;129;01min\u001b[39;00m possibly_batched_index]\n\u001b[0;32m     52\u001b[0m \u001b[38;5;28;01melse\u001b[39;00m:\n\u001b[0;32m     53\u001b[0m     data \u001b[38;5;241m=\u001b[39m \u001b[38;5;28mself\u001b[39m\u001b[38;5;241m.\u001b[39mdataset[possibly_batched_index]\n",
      "File \u001b[1;32mc:\\Users\\z004w9ze\\OneDrive - Siemens AG\\Desktop\\gnn-cloud-manufacturing\\notebooks\\Experiments\\data_preparation.py:38\u001b[0m, in \u001b[0;36mGraphDataset.__getitem__\u001b[1;34m(self, idx)\u001b[0m\n\u001b[0;32m     36\u001b[0m gamma \u001b[38;5;241m=\u001b[39m \u001b[38;5;28mself\u001b[39m\u001b[38;5;241m.\u001b[39mgammas[idx]\n\u001b[0;32m     37\u001b[0m delta \u001b[38;5;241m=\u001b[39m \u001b[38;5;28mself\u001b[39m\u001b[38;5;241m.\u001b[39mdeltas[idx]\n\u001b[1;32m---> 38\u001b[0m graph \u001b[38;5;241m=\u001b[39m \u001b[43mdglgraph\u001b[49m\u001b[43m(\u001b[49m\u001b[43mproblem\u001b[49m\u001b[43m,\u001b[49m\u001b[43m \u001b[49m\u001b[43mgamma\u001b[49m\u001b[43m,\u001b[49m\u001b[43m \u001b[49m\u001b[43mdelta\u001b[49m\u001b[43m)\u001b[49m\n\u001b[0;32m     39\u001b[0m graph \u001b[38;5;241m=\u001b[39m dglgraph_fixed(graph)\n\u001b[0;32m     40\u001b[0m \u001b[38;5;28;01mreturn\u001b[39;00m graph\u001b[38;5;241m.\u001b[39mto(device)\n",
      "File \u001b[1;32m~\\OneDrive - Siemens AG\\Desktop\\gnn-cloud-manufacturing\\cloudmanufacturing\\graph.py:87\u001b[0m, in \u001b[0;36mdglgraph\u001b[1;34m(problem, gamma, delta)\u001b[0m\n\u001b[0;32m     79\u001b[0m graph_data \u001b[38;5;241m=\u001b[39m {\n\u001b[0;32m     80\u001b[0m     ss_type: np\u001b[38;5;241m.\u001b[39mwhere(dist \u001b[38;5;241m>\u001b[39m \u001b[38;5;241m0\u001b[39m),\n\u001b[0;32m     81\u001b[0m     os_type: np\u001b[38;5;241m.\u001b[39mwhere(full_op_cost \u001b[38;5;241m<\u001b[39m \u001b[38;5;241m999\u001b[39m),\n\u001b[1;32m   (...)\u001b[0m\n\u001b[0;32m     84\u001b[0m     (\u001b[38;5;124m'\u001b[39m\u001b[38;5;124mo\u001b[39m\u001b[38;5;124m'\u001b[39m, \u001b[38;5;124m'\u001b[39m\u001b[38;5;124mbackward\u001b[39m\u001b[38;5;124m'\u001b[39m, \u001b[38;5;124m'\u001b[39m\u001b[38;5;124mo\u001b[39m\u001b[38;5;124m'\u001b[39m): np\u001b[38;5;241m.\u001b[39mwhere(adj_operation \u001b[38;5;241m>\u001b[39m \u001b[38;5;241m0\u001b[39m)[::\u001b[38;5;241m-\u001b[39m\u001b[38;5;241m1\u001b[39m],\n\u001b[0;32m     85\u001b[0m }\n\u001b[0;32m     86\u001b[0m g \u001b[38;5;241m=\u001b[39m dgl\u001b[38;5;241m.\u001b[39mheterograph(graph_data)\n\u001b[1;32m---> 87\u001b[0m g \u001b[38;5;241m=\u001b[39m \u001b[43mdgl\u001b[49m\u001b[38;5;241;43m.\u001b[39;49m\u001b[43madd_self_loop\u001b[49m\u001b[43m(\u001b[49m\u001b[43mg\u001b[49m\u001b[43m,\u001b[49m\u001b[43m \u001b[49m\u001b[43metype\u001b[49m\u001b[38;5;241;43m=\u001b[39;49m\u001b[38;5;124;43m'\u001b[39;49m\u001b[38;5;124;43mss\u001b[39;49m\u001b[38;5;124;43m'\u001b[39;49m\u001b[43m)\u001b[49m\n\u001b[0;32m     89\u001b[0m op_feat \u001b[38;5;241m=\u001b[39m OneHotEncoder()\u001b[38;5;241m.\u001b[39mfit_transform(\n\u001b[0;32m     90\u001b[0m     operation_index[g\u001b[38;5;241m.\u001b[39mnodes(\u001b[38;5;124m'\u001b[39m\u001b[38;5;124mo\u001b[39m\u001b[38;5;124m'\u001b[39m)\u001b[38;5;241m.\u001b[39mnumpy()][:, [\u001b[38;5;241m1\u001b[39m]]\n\u001b[0;32m     91\u001b[0m )\u001b[38;5;241m.\u001b[39mtoarray()\n\u001b[0;32m     92\u001b[0m g\u001b[38;5;241m.\u001b[39mndata[\u001b[38;5;124m'\u001b[39m\u001b[38;5;124mfeat\u001b[39m\u001b[38;5;124m'\u001b[39m] \u001b[38;5;241m=\u001b[39m {\n\u001b[0;32m     93\u001b[0m     \u001b[38;5;124m'\u001b[39m\u001b[38;5;124mo\u001b[39m\u001b[38;5;124m'\u001b[39m: torch\u001b[38;5;241m.\u001b[39mFloatTensor(op_feat),\n\u001b[0;32m     94\u001b[0m     \u001b[38;5;124m'\u001b[39m\u001b[38;5;124ms\u001b[39m\u001b[38;5;124m'\u001b[39m: torch\u001b[38;5;241m.\u001b[39mFloatTensor(productivity\u001b[38;5;241m.\u001b[39mT)\n\u001b[0;32m     95\u001b[0m }\n",
      "File \u001b[1;32mc:\\Users\\z004w9ze\\AppData\\Local\\miniconda3\\envs\\graph\\lib\\site-packages\\dgl\\transforms\\functional.py:2036\u001b[0m, in \u001b[0;36madd_self_loop\u001b[1;34m(g, edge_feat_names, fill_data, etype)\u001b[0m\n\u001b[0;32m   2029\u001b[0m             g\u001b[38;5;241m.\u001b[39mupdate_all(\n\u001b[0;32m   2030\u001b[0m                 function\u001b[38;5;241m.\u001b[39mcopy_e(feat_name, \u001b[38;5;124m\"\u001b[39m\u001b[38;5;124mh\u001b[39m\u001b[38;5;124m\"\u001b[39m),\n\u001b[0;32m   2031\u001b[0m                 reducer(\u001b[38;5;124m\"\u001b[39m\u001b[38;5;124mh\u001b[39m\u001b[38;5;124m\"\u001b[39m, \u001b[38;5;124m\"\u001b[39m\u001b[38;5;124mh\u001b[39m\u001b[38;5;124m\"\u001b[39m),\n\u001b[0;32m   2032\u001b[0m                 etype\u001b[38;5;241m=\u001b[39metype,\n\u001b[0;32m   2033\u001b[0m             )\n\u001b[0;32m   2034\u001b[0m             data[feat_name] \u001b[38;5;241m=\u001b[39m g\u001b[38;5;241m.\u001b[39mnodes[etype[\u001b[38;5;241m0\u001b[39m]]\u001b[38;5;241m.\u001b[39mdata[\u001b[38;5;124m\"\u001b[39m\u001b[38;5;124mh\u001b[39m\u001b[38;5;124m\"\u001b[39m]\n\u001b[1;32m-> 2036\u001b[0m nodes \u001b[38;5;241m=\u001b[39m \u001b[43mg\u001b[49m\u001b[38;5;241;43m.\u001b[39;49m\u001b[43mnodes\u001b[49m\u001b[43m(\u001b[49m\u001b[43metype\u001b[49m\u001b[43m[\u001b[49m\u001b[38;5;241;43m0\u001b[39;49m\u001b[43m]\u001b[49m\u001b[43m)\u001b[49m\n\u001b[0;32m   2037\u001b[0m \u001b[38;5;28;01mif\u001b[39;00m \u001b[38;5;28mlen\u001b[39m(data):\n\u001b[0;32m   2038\u001b[0m     new_g \u001b[38;5;241m=\u001b[39m add_edges(g, nodes, nodes, data\u001b[38;5;241m=\u001b[39mdata, etype\u001b[38;5;241m=\u001b[39metype)\n",
      "File \u001b[1;32mc:\\Users\\z004w9ze\\AppData\\Local\\miniconda3\\envs\\graph\\lib\\site-packages\\dgl\\view.py:52\u001b[0m, in \u001b[0;36mHeteroNodeView.__call__\u001b[1;34m(self, ntype)\u001b[0m\n\u001b[0;32m     47\u001b[0m \u001b[38;5;250m\u001b[39m\u001b[38;5;124;03m\"\"\"Return the nodes.\"\"\"\u001b[39;00m\n\u001b[0;32m     48\u001b[0m ntid \u001b[38;5;241m=\u001b[39m \u001b[38;5;28mself\u001b[39m\u001b[38;5;241m.\u001b[39m_typeid_getter(ntype)\n\u001b[0;32m     49\u001b[0m ret \u001b[38;5;241m=\u001b[39m F\u001b[38;5;241m.\u001b[39marange(\n\u001b[0;32m     50\u001b[0m     \u001b[38;5;241m0\u001b[39m,\n\u001b[0;32m     51\u001b[0m     \u001b[38;5;28mself\u001b[39m\u001b[38;5;241m.\u001b[39m_graph\u001b[38;5;241m.\u001b[39m_graph\u001b[38;5;241m.\u001b[39mnum_nodes(ntid),\n\u001b[1;32m---> 52\u001b[0m     dtype\u001b[38;5;241m=\u001b[39m\u001b[38;5;28;43mself\u001b[39;49m\u001b[38;5;241;43m.\u001b[39;49m\u001b[43m_graph\u001b[49m\u001b[38;5;241;43m.\u001b[39;49m\u001b[43midtype\u001b[49m,\n\u001b[0;32m     53\u001b[0m     ctx\u001b[38;5;241m=\u001b[39m\u001b[38;5;28mself\u001b[39m\u001b[38;5;241m.\u001b[39m_graph\u001b[38;5;241m.\u001b[39mdevice,\n\u001b[0;32m     54\u001b[0m )\n\u001b[0;32m     55\u001b[0m \u001b[38;5;28;01mreturn\u001b[39;00m ret\n",
      "File \u001b[1;32mc:\\Users\\z004w9ze\\AppData\\Local\\miniconda3\\envs\\graph\\lib\\site-packages\\dgl\\heterograph.py:2863\u001b[0m, in \u001b[0;36mDGLGraph.idtype\u001b[1;34m(self)\u001b[0m\n\u001b[0;32m   2831\u001b[0m \u001b[38;5;129m@property\u001b[39m\n\u001b[0;32m   2832\u001b[0m \u001b[38;5;28;01mdef\u001b[39;00m \u001b[38;5;21midtype\u001b[39m(\u001b[38;5;28mself\u001b[39m):\n\u001b[0;32m   2833\u001b[0m \u001b[38;5;250m    \u001b[39m\u001b[38;5;124;03m\"\"\"The data type for storing the structure-related graph information\u001b[39;00m\n\u001b[0;32m   2834\u001b[0m \u001b[38;5;124;03m    such as node and edge IDs.\u001b[39;00m\n\u001b[0;32m   2835\u001b[0m \n\u001b[1;32m   (...)\u001b[0m\n\u001b[0;32m   2861\u001b[0m \u001b[38;5;124;03m    int\u001b[39;00m\n\u001b[0;32m   2862\u001b[0m \u001b[38;5;124;03m    \"\"\"\u001b[39;00m\n\u001b[1;32m-> 2863\u001b[0m     \u001b[38;5;28;01mreturn\u001b[39;00m \u001b[38;5;28mgetattr\u001b[39m(F, \u001b[38;5;28;43mself\u001b[39;49m\u001b[38;5;241;43m.\u001b[39;49m\u001b[43m_graph\u001b[49m\u001b[38;5;241;43m.\u001b[39;49m\u001b[43mdtype\u001b[49m)\n",
      "File \u001b[1;32mc:\\Users\\z004w9ze\\AppData\\Local\\miniconda3\\envs\\graph\\lib\\site-packages\\dgl\\heterograph_index.py:187\u001b[0m, in \u001b[0;36mHeteroGraphIndex.dtype\u001b[1;34m(self)\u001b[0m\n\u001b[0;32m    178\u001b[0m \u001b[38;5;129m@property\u001b[39m\n\u001b[0;32m    179\u001b[0m \u001b[38;5;28;01mdef\u001b[39;00m \u001b[38;5;21mdtype\u001b[39m(\u001b[38;5;28mself\u001b[39m):\n\u001b[0;32m    180\u001b[0m \u001b[38;5;250m    \u001b[39m\u001b[38;5;124;03m\"\"\"Return the data type of this graph index.\u001b[39;00m\n\u001b[0;32m    181\u001b[0m \n\u001b[0;32m    182\u001b[0m \u001b[38;5;124;03m    Returns\u001b[39;00m\n\u001b[1;32m   (...)\u001b[0m\n\u001b[0;32m    185\u001b[0m \u001b[38;5;124;03m        The data type of the graph.\u001b[39;00m\n\u001b[0;32m    186\u001b[0m \u001b[38;5;124;03m    \"\"\"\u001b[39;00m\n\u001b[1;32m--> 187\u001b[0m     \u001b[38;5;28;01mreturn\u001b[39;00m \u001b[43m_CAPI_DGLHeteroDataType\u001b[49m\u001b[43m(\u001b[49m\u001b[38;5;28;43mself\u001b[39;49m\u001b[43m)\u001b[49m\n",
      "File \u001b[1;32mc:\\Users\\z004w9ze\\AppData\\Local\\miniconda3\\envs\\graph\\lib\\site-packages\\dgl\\_ffi\\_ctypes\\function.py:213\u001b[0m, in \u001b[0;36mFunctionBase.__call__\u001b[1;34m(self, *args)\u001b[0m\n\u001b[0;32m    210\u001b[0m ret_val \u001b[38;5;241m=\u001b[39m DGLValue()\n\u001b[0;32m    211\u001b[0m ret_tcode \u001b[38;5;241m=\u001b[39m ctypes\u001b[38;5;241m.\u001b[39mc_int()\n\u001b[0;32m    212\u001b[0m check_call(\n\u001b[1;32m--> 213\u001b[0m     \u001b[43m_LIB\u001b[49m\u001b[38;5;241;43m.\u001b[39;49m\u001b[43mDGLFuncCall\u001b[49m\u001b[43m(\u001b[49m\n\u001b[0;32m    214\u001b[0m \u001b[43m        \u001b[49m\u001b[38;5;28;43mself\u001b[39;49m\u001b[38;5;241;43m.\u001b[39;49m\u001b[43mhandle\u001b[49m\u001b[43m,\u001b[49m\n\u001b[0;32m    215\u001b[0m \u001b[43m        \u001b[49m\u001b[43mvalues\u001b[49m\u001b[43m,\u001b[49m\n\u001b[0;32m    216\u001b[0m \u001b[43m        \u001b[49m\u001b[43mtcodes\u001b[49m\u001b[43m,\u001b[49m\n\u001b[0;32m    217\u001b[0m \u001b[43m        \u001b[49m\u001b[43mctypes\u001b[49m\u001b[38;5;241;43m.\u001b[39;49m\u001b[43mc_int\u001b[49m\u001b[43m(\u001b[49m\u001b[43mnum_args\u001b[49m\u001b[43m)\u001b[49m\u001b[43m,\u001b[49m\n\u001b[0;32m    218\u001b[0m \u001b[43m        \u001b[49m\u001b[43mctypes\u001b[49m\u001b[38;5;241;43m.\u001b[39;49m\u001b[43mbyref\u001b[49m\u001b[43m(\u001b[49m\u001b[43mret_val\u001b[49m\u001b[43m)\u001b[49m\u001b[43m,\u001b[49m\n\u001b[0;32m    219\u001b[0m \u001b[43m        \u001b[49m\u001b[43mctypes\u001b[49m\u001b[38;5;241;43m.\u001b[39;49m\u001b[43mbyref\u001b[49m\u001b[43m(\u001b[49m\u001b[43mret_tcode\u001b[49m\u001b[43m)\u001b[49m\u001b[43m,\u001b[49m\n\u001b[0;32m    220\u001b[0m \u001b[43m    \u001b[49m\u001b[43m)\u001b[49m\n\u001b[0;32m    221\u001b[0m )\n\u001b[0;32m    222\u001b[0m _ \u001b[38;5;241m=\u001b[39m temp_args\n\u001b[0;32m    223\u001b[0m _ \u001b[38;5;241m=\u001b[39m args\n",
      "\u001b[1;31mKeyboardInterrupt\u001b[0m: "
     ]
    }
   ],
   "source": [
    "for dim in [8, 16, 32, 64]:\n",
    "    for lay in [1, 2]:\n",
    "        for lr in [1e-2, 1e-3]:\n",
    "            wandb_init_params = dict(\n",
    "                name=f'SC_d{dim}-lr{lr}-lay{lay}',\n",
    "                project=\"MIPT_thesis\",\n",
    "                dir = './logs/'\n",
    "            )\n",
    "            model = Trainer(wandb_init_params)\n",
    "            model.create_dataloader(info_file)\n",
    "            model.create_model(dim, lr, lay,\n",
    "                               sheduler=True, att_model=False)\n",
    "            model.run_experiment(scheduler_rate=50)"
   ]
  }
 ],
 "metadata": {
  "kernelspec": {
   "display_name": "Python 3 (ipykernel)",
   "language": "python",
   "name": "python3"
  },
  "language_info": {
   "codemirror_mode": {
    "name": "ipython",
    "version": 3
   },
   "file_extension": ".py",
   "mimetype": "text/x-python",
   "name": "python",
   "nbconvert_exporter": "python",
   "pygments_lexer": "ipython3",
   "version": "3.9.19"
  }
 },
 "nbformat": 4,
 "nbformat_minor": 5
}
